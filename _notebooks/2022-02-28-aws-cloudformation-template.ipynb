{
 "cells": [
  {
   "cell_type": "markdown",
   "metadata": {},
   "source": [
    "# AWS CloudFormation Template, Functions, and Commands\n",
    "> Some useful notes on AWS CloudFormation template sections, intrinsic functions, and other tips.\n",
    "\n",
    "- toc: true \n",
    "- badges: false\n",
    "- comments: true\n",
    "- categories: [aws]\n",
    "- keyword: [aws, cloudformation, template, intrinsic functions]\n",
    "- image: images/copied_from_nb/images/2022-02-28-aws-cloudformation-template.jpeg"
   ]
  },
  {
   "cell_type": "markdown",
   "metadata": {},
   "source": [
    "![](images/2022-02-28-aws-cloudformation-template.jpeg)"
   ]
  },
  {
   "cell_type": "markdown",
   "metadata": {},
   "source": [
    "# About\n",
    "This post is a collection of useful notes on various sections of AWS CloudFormation template, and intrinsic functions. Knowledge about them is often tested in AWS certifications. \n",
    "For more details on this subject refer to its user guide (https://docs.aws.amazon.com/AWSCloudFormation/latest/UserGuide/Welcome.html)"
   ]
  },
  {
   "cell_type": "markdown",
   "metadata": {},
   "source": [
    "# Template Anatomy"
   ]
  },
  {
   "cell_type": "markdown",
   "metadata": {},
   "source": [
    "The following is an example of AWS CloudFormation template and its sections in YAML format. There is no sequence to writing these sections besides that if there is a **Description** section then it must be put after **AWSTemplateFormatVersion**.  "
   ]
  },
  {
   "cell_type": "markdown",
   "metadata": {},
   "source": [
    "```yaml\n",
    "AWSTemplateFormatVersion: \"version date\"\n",
    "\n",
    "Description:\n",
    "  String\n",
    "\n",
    "Metadata:\n",
    "  template metadata\n",
    "\n",
    "Parameters:\n",
    "  set of parameters\n",
    "\n",
    "Rules:\n",
    "  set of rules\n",
    "\n",
    "Mappings:\n",
    "  set of mappings\n",
    "\n",
    "Conditions:\n",
    "  set of conditions\n",
    "\n",
    "Transform:\n",
    "  set of transforms\n",
    "\n",
    "Resources:\n",
    "  set of resources\n",
    "\n",
    "Outputs:\n",
    "  set of outputs\n",
    "\n",
    "```"
   ]
  },
  {
   "cell_type": "markdown",
   "metadata": {},
   "source": [
    "# Template Sections"
   ]
  },
  {
   "cell_type": "markdown",
   "metadata": {},
   "source": [
    "## [AWSTemplateFormatVersion (optional)](https://docs.aws.amazon.com/AWSCloudFormation/latest/UserGuide/format-version-structure.html)"
   ]
  },
  {
   "cell_type": "markdown",
   "metadata": {},
   "source": [
    "The AWS CloudFormation template version that the template conforms to.\n",
    "### Syntax\n",
    "```yaml\n",
    "AWSTemplateFormatVersion: \"2010-09-09\"\n",
    "```"
   ]
  },
  {
   "cell_type": "markdown",
   "metadata": {},
   "source": [
    "## [Description (optional)](https://docs.aws.amazon.com/AWSCloudFormation/latest/UserGuide/template-description-structure.html)"
   ]
  },
  {
   "cell_type": "markdown",
   "metadata": {},
   "source": [
    "A text string that describes the template. This section must always follow the template format version section.\n",
    "### Syntax\n",
    "```yaml\n",
    "Description: >\n",
    "  Here are some\n",
    "  details about\n",
    "  the template.\n",
    "```"
   ]
  },
  {
   "cell_type": "markdown",
   "metadata": {},
   "source": [
    "## [Metadata (optional)](https://docs.aws.amazon.com/AWSCloudFormation/latest/UserGuide/metadata-section-structure.html)"
   ]
  },
  {
   "cell_type": "markdown",
   "metadata": {},
   "source": [
    "Objects that provide additional information about the template.\n",
    "\n",
    "* Difference between **Metadata** and **Description** is that some cloudformation features can refer to the objects that are defined in Metadata section. For example, you can use a metadata key `AWS::CloudFormation::Interface` to define how parameters are grouped and sorted on AWS cloudformation console. By default, cloudformation console alphbetically sorts the parameters by their logical ID.\n",
    "* AWS strongly recommends not to use this section for storing sensitive information such as passwords or secrets.\n",
    "\n",
    "### Syntax\n",
    "```yaml\n",
    "Metadata:\n",
    "  Instances:\n",
    "    Description: \"Information about the instances\"\n",
    "  Databases: \n",
    "    Description: \"Information about the databases\"\n",
    "```"
   ]
  },
  {
   "cell_type": "markdown",
   "metadata": {},
   "source": [
    "## [Parameters (optional)](https://docs.aws.amazon.com/AWSCloudFormation/latest/UserGuide/parameters-section-structure.html)"
   ]
  },
  {
   "cell_type": "markdown",
   "metadata": {},
   "source": [
    "Parameters enable you to input custom values to your template each time you create or update a stack. You can refer to parameters from the **Resources** and **Outputs** sections of the template using **Ref** intrinsic function."
   ]
  },
  {
   "cell_type": "markdown",
   "metadata": {},
   "source": [
    "CloudFormation currently supports the following parameter types\n",
    "\n",
    "* String – A literal string\n",
    "* Number – An integer or float\n",
    "* ```List<Number>``` – An array of integers or floats\n",
    "* CommaDelimitedList – An array of literal strings that are separated by commas\n",
    "* ```AWS::EC2::KeyPair::KeyName``` – An Amazon EC2 key pair name\n",
    "* ```AWS::EC2::SecurityGroup::Id``` – A security group ID\n",
    "* ```AWS::EC2::Subnet::Id``` – A subnet ID\n",
    "* ```AWS::EC2::VPC::Id``` – A VPC ID\n",
    "* ```List<AWS::EC2::VPC::Id>``` – An array of VPC IDs\n",
    "* ```List<AWS::EC2::SecurityGroup::Id>``` – An array of security group IDs\n",
    "* ```List<AWS::EC2::Subnet::Id>``` – An array of subnet IDs"
   ]
  },
  {
   "cell_type": "markdown",
   "metadata": {},
   "source": [
    "### Syntax\n",
    "The following example declares a parameter named `InstanceTypeParameter`. This parameter lets you specify the Amazon EC2 instance type for the stack to use when you create or update the stack.\n",
    "\n",
    "Note that `InstanceTypeParameter` has a default value of `t2.micro`. This is the value that AWS CloudFormation will use to provision the stack unless another value is provided.\n",
    "\n",
    "```yaml\n",
    "Parameters:\n",
    "  InstanceTypeParameter:\n",
    "    Type: String\n",
    "    Default: t2.micro\n",
    "    AllowedValues:\n",
    "      - t2.micro\n",
    "      - m1.small\n",
    "      - m1.large\n",
    "    Description: Enter t2.micro, m1.small, or m1.large. Default is t2.micro.\n",
    "```\n",
    "\n",
    "#### **Referencing a parameter in template (`Ref function`)**\n",
    "In the following example, the `InstanceType` property of the EC2 instance resource references the `InstanceTypeParameter` parameter value.\n",
    "```yaml\n",
    "Ec2Instance:\n",
    "  Type: AWS::EC2::Instance\n",
    "  Properties:\n",
    "    InstanceType:\n",
    "      Ref: InstanceTypeParameter\n",
    "    ImageId: ami-0ff8a91507f77f867\n",
    "```"
   ]
  },
  {
   "cell_type": "markdown",
   "metadata": {},
   "source": [
    "## [Rules (optional)](https://docs.aws.amazon.com/AWSCloudFormation/latest/UserGuide/rules-section-structure.html)"
   ]
  },
  {
   "cell_type": "markdown",
   "metadata": {},
   "source": [
    "Validates a parameter or a combination of parameters that are passed to a template during a stack creation or stack update.\n",
    "\n",
    "You can use the following rule-specific intrinsic functions to define rule conditions and assertions:\n",
    "* [Fn::And](https://docs.aws.amazon.com/AWSCloudFormation/latest/UserGuide/intrinsic-function-reference-rules.html#fn-and)\n",
    "* [Fn::Contains](https://docs.aws.amazon.com/AWSCloudFormation/latest/UserGuide/intrinsic-function-reference-rules.html#fn-Contains)\n",
    "* [Fn::EachMemberEquals](https://docs.aws.amazon.com/AWSCloudFormation/latest/UserGuide/intrinsic-function-reference-rules.html#fn-EachMemberEquals)\n",
    "* [Fn::EachMemberIn](https://docs.aws.amazon.com/AWSCloudFormation/latest/UserGuide/intrinsic-function-reference-rules.html#fn-EachMemberIn)\n",
    "* [Fn::Equals](https://docs.aws.amazon.com/AWSCloudFormation/latest/UserGuide/intrinsic-function-reference-rules.html#fn-equals)\n",
    "* [Fn::If](https://docs.aws.amazon.com/AWSCloudFormation/latest/UserGuide/intrinsic-function-reference-rules.html#fn-if)\n",
    "* [Fn::Not](https://docs.aws.amazon.com/AWSCloudFormation/latest/UserGuide/intrinsic-function-reference-rules.html#fn-not)\n",
    "* [Fn::Or](https://docs.aws.amazon.com/AWSCloudFormation/latest/UserGuide/intrinsic-function-reference-rules.html#fn-or)\n",
    "* [Fn::RefAll](https://docs.aws.amazon.com/AWSCloudFormation/latest/UserGuide/intrinsic-function-reference-rules.html#fn-refall)\n",
    "* [Fn::ValueOf](https://docs.aws.amazon.com/AWSCloudFormation/latest/UserGuide/intrinsic-function-reference-rules.html#fn-valueof)\n",
    "* [Fn::ValueOfAll](https://docs.aws.amazon.com/AWSCloudFormation/latest/UserGuide/intrinsic-function-reference-rules.html#fn-valueofall)"
   ]
  },
  {
   "cell_type": "markdown",
   "metadata": {},
   "source": [
    "### Syntax\n",
    "In the following example, the rule checks the value of the `InstanceType` parameter. The user must specify `a1.medium`, if the value of the environment parameter is `test`.\n",
    "\n",
    "```yaml\n",
    "Rules:\n",
    "  testInstanceType:\n",
    "    RuleCondition: !Equals \n",
    "      - !Ref Environment\n",
    "      - test\n",
    "    Assertions:\n",
    "      - Assert:\n",
    "          'Fn::Contains':\n",
    "            - - a1.medium\n",
    "            - !Ref InstanceType\n",
    "        AssertDescription: 'For a test environment, the instance type must be a1.medium'\n",
    "```"
   ]
  },
  {
   "cell_type": "markdown",
   "metadata": {},
   "source": [
    "## [Mappings (optional)](https://docs.aws.amazon.com/AWSCloudFormation/latest/UserGuide/mappings-section-structure.html)"
   ]
  },
  {
   "cell_type": "markdown",
   "metadata": {},
   "source": [
    "The optional Mappings section matches a key to a corresponding set of named values similar to a lookup table. For example, if you want to set values based on a region, you can create a mapping that uses the region name as a key and contains the values you want to specify for each specific region. You use the `Fn::FindInMap` intrinsic function in the **Resources** and **Outputs** to retrieve values in a map. Note that you can't include parameters, pseudo parameters, or intrinsic functions in the Mappings section."
   ]
  },
  {
   "cell_type": "markdown",
   "metadata": {},
   "source": [
    "#### [Fn::FindInMap](https://docs.aws.amazon.com/AWSCloudFormation/latest/UserGuide/intrinsic-function-reference-findinmap.html)\n",
    "\n",
    "The intrinsic function `Fn::FindInMap` returns the value corresponding to keys in a two-level map that's declared in the Mappings section.\n",
    "\n",
    "Syntax for the short form:\n",
    "```yaml \n",
    "!FindInMap [ MapName, TopLevelKey, SecondLevelKey ] \n",
    "```\n",
    "\n",
    "**Parameters**\n",
    "* MapName\n",
    "  * The logical name of a mapping declared in the Mappings section that contains the keys and values.\n",
    "* TopLevelKey\n",
    "  * The top-level key name. Its value is a list of key-value pairs.\n",
    "* SecondLevelKey\n",
    "  * The second-level key name, which is set to one of the keys from the list assigned to TopLevelKey.\n",
    "\n",
    "A more concrete example\n",
    "\n",
    "```yaml\n",
    "Mappings: \n",
    "  RegionMap: \n",
    "    us-east-1: \n",
    "      HVM64: \"ami-0ff8a91507f77f867\"\n",
    "      HVMG2: \"ami-0a584ac55a7631c0c\"\n",
    "Resources: \n",
    "  myEC2Instance: \n",
    "    Type: \"AWS::EC2::Instance\"\n",
    "    Properties: \n",
    "      ImageId: !FindInMap\n",
    "        - RegionMap\n",
    "        - !Ref 'AWS::Region' # us-east-1\n",
    "        - HVM64\n",
    "      InstanceType: m1.small\n",
    "  ```"
   ]
  },
  {
   "cell_type": "markdown",
   "metadata": {},
   "source": [
    "## [Conditions (optional)](https://docs.aws.amazon.com/AWSCloudFormation/latest/UserGuide/conditions-section-structure.html)"
   ]
  },
  {
   "cell_type": "markdown",
   "metadata": {},
   "source": [
    "Conditions that control whether certain resources are created or whether certain resource properties are assigned a value during stack creation or update. For example, you could conditionally create a resource that depends on whether the stack is for a production or test environment.\n",
    "\n",
    "Conditions are defined in `Conditions` section, and are then applied in following sections.\n",
    "* Parameters\n",
    "* Resources\n",
    "* Outputs"
   ]
  },
  {
   "cell_type": "markdown",
   "metadata": {},
   "source": [
    "You can use following intrinsic functions to define your conditions\n",
    "* Fn::And\n",
    "* Fn::Equals\n",
    "* Fn::If\n",
    "* Fn::Not\n",
    "* Fn::Or"
   ]
  },
  {
   "cell_type": "markdown",
   "metadata": {},
   "source": [
    "### Syntax\n",
    "```yaml\n",
    "Conditions:\n",
    "  Logical ID:\n",
    "    Intrinsic function\n",
    "```\n",
    "A more concrete example\n",
    "\n",
    "```yaml\n",
    "AWSTemplateFormatVersion: 2010-09-09\n",
    "Parameters:\n",
    "  EnvType:\n",
    "    Description: Environment type.\n",
    "    Default: test\n",
    "    Type: String\n",
    "    AllowedValues:\n",
    "      - prod\n",
    "      - test\n",
    "    ConstraintDescription: must specify prod or test.\n",
    "Conditions:\n",
    "  CreateProdResources: !Equals \n",
    "    - !Ref EnvType\n",
    "    - prod\n",
    "Resources:\n",
    "  EC2Instance:\n",
    "    Type: 'AWS::EC2::Instance'\n",
    "    Properties:\n",
    "      ImageId: ami-0ff8a91507f77f867\n",
    "  MountPoint:\n",
    "    Type: 'AWS::EC2::VolumeAttachment'\n",
    "    Condition: CreateProdResources\n",
    "    Properties:\n",
    "      InstanceId: !Ref EC2Instance\n",
    "      VolumeId: !Ref NewVolume\n",
    "      Device: /dev/sdh\n",
    "  NewVolume:\n",
    "    Type: 'AWS::EC2::Volume'\n",
    "    Condition: CreateProdResources\n",
    "    Properties:\n",
    "      Size: 100\n",
    "      AvailabilityZone: !GetAtt \n",
    "        - EC2Instance\n",
    "        - AvailabilityZone\n",
    "```"
   ]
  },
  {
   "cell_type": "markdown",
   "metadata": {},
   "source": [
    "### Difference between Rules and Conditions usage?\n",
    "* Rules are used to evaluate the input given by the user in Parameters\n",
    "* Conditions turn come after all rules have been evaluated\n",
    "* Conditions are not limited to Parameters and can also work with Resources and Outputs"
   ]
  },
  {
   "cell_type": "markdown",
   "metadata": {},
   "source": [
    "## [Transform (optional)](https://docs.aws.amazon.com/AWSCloudFormation/latest/UserGuide/transform-section-structure.html)"
   ]
  },
  {
   "cell_type": "markdown",
   "metadata": {},
   "source": [
    "For [serverless applications](https://docs.aws.amazon.com/lambda/latest/dg/deploying-lambda-apps.html) (also referred to as Lambda-based applications), specifies the version of the [AWS Serverless Application Model (AWS SAM)](https://github.com/awslabs/serverless-application-specification) to use. When you specify a transform, you can use AWS SAM syntax to declare resources in your template. The model defines the syntax that you can use and how it&#39;s processed.\n",
    "\n",
    "You can also use [AWS::Include](https://docs.aws.amazon.com/AWSCloudFormation/latest/UserGuide/create-reusable-transform-function-snippets-and-add-to-your-template-with-aws-include-transform.html) transforms to work with template snippets that are stored separately from the main AWS CloudFormation template. You can store your snippet files in an Amazon S3 bucket and then reuse the functions across multiple templates."
   ]
  },
  {
   "cell_type": "markdown",
   "metadata": {},
   "source": [
    "### Syntax\n",
    "\n",
    "```yaml\n",
    "Transform:\n",
    "  - MyMacro\n",
    "  - 'AWS::Serverless'\n",
    "```"
   ]
  },
  {
   "cell_type": "markdown",
   "metadata": {},
   "source": [
    "#### **AWS::Include transform**\n",
    "Use the AWS::Include transform, which is a macro hosted by AWS CloudFormation, to insert boilerplate content into your templates. The `AWS::Include` transform lets you create a reference to a template snippet in an Amazon S3 bucket. The `AWS::Include` function behaves similarly to an include, copy, or import directive in programming languages.\n",
    "\n",
    "##### Example\n",
    "```yaml\n",
    "Transform:\n",
    "  Name: 'AWS::Include'\n",
    "  Parameters:\n",
    "    Location: 's3://MyAmazonS3BucketName/MyFileName.yaml'\n",
    "```"
   ]
  },
  {
   "cell_type": "markdown",
   "metadata": {},
   "source": [
    "## [Resources (required)](https://docs.aws.amazon.com/AWSCloudFormation/latest/UserGuide/resources-section-structure.html)"
   ]
  },
  {
   "cell_type": "markdown",
   "metadata": {},
   "source": [
    "Specifies the stack resources and their properties, such as an Amazon Elastic Compute Cloud instance or an Amazon Simple Storage Service bucket. You can refer to resources in the Resources and Outputs sections of the template."
   ]
  },
  {
   "cell_type": "markdown",
   "metadata": {},
   "source": [
    "### Syntax\n",
    "```yaml\n",
    "Resources:\n",
    "  Logical ID:\n",
    "    Type: Resource type\n",
    "    Properties:\n",
    "      Set of properties\n",
    "\n",
    "```\n",
    "\n",
    "A more concrete example\n",
    "\n",
    "```yaml\n",
    "Resources:\n",
    "  MyEC2Instance:\n",
    "    Type: \"AWS::EC2::Instance\"\n",
    "    Properties:\n",
    "      ImageId: \"ami-0ff8a91507f77f867\"\n",
    "\n",
    "```"
   ]
  },
  {
   "cell_type": "markdown",
   "metadata": {},
   "source": [
    "## [Outputs (optional)](https://docs.aws.amazon.com/AWSCloudFormation/latest/UserGuide/outputs-section-structure.html)"
   ]
  },
  {
   "cell_type": "markdown",
   "metadata": {},
   "source": [
    "The optional Outputs section declares output values that you can [import into other stacks](https://docs.aws.amazon.com/AWSCloudFormation/latest/UserGuide/intrinsic-function-reference-importvalue.html) (to [create cross-stack references](https://docs.aws.amazon.com/AWSCloudFormation/latest/UserGuide/walkthrough-crossstackref.html)), return in response (to describe stack calls), or [view on the AWS CloudFormation console](https://docs.aws.amazon.com/AWSCloudFormation/latest/UserGuide/cfn-console-view-stack-data-resources.html). For example, you can output the S3 bucket name from a stack to make the bucket easier to find."
   ]
  },
  {
   "cell_type": "markdown",
   "metadata": {},
   "source": [
    "Notes\n",
    "* You can declare a maximum of 200 outputs in a template.\n",
    "* AWS strongly recommend you don't use this section to output sensitive information, such as passwords or secrets\n",
    "* Output values are available after the stack operation is complete. Stack output values aren't available when a stack status is in any of the IN_PROGRESS status.\n",
    "* AWS also does not recommend establishing dependencies between a service runtime and the stack output value because output values might not be available at all times."
   ]
  },
  {
   "cell_type": "markdown",
   "metadata": {},
   "source": [
    "### Syntax\n",
    "```yaml\n",
    "Outputs:\n",
    "  Logical ID:\n",
    "    Description: Information about the value\n",
    "    Value: Value to return\n",
    "    Export:\n",
    "      Name: Name of resource to export\n",
    "```\n",
    "\n",
    "A more concrete example where certain values are shown as output at the end of stack creation.\n",
    "\n",
    "```yaml\n",
    "Outputs:\n",
    "  BackupLoadBalancerDNSName:\n",
    "    Description: The DNSName of the backup load balancer\n",
    "    Value: !GetAtt BackupLoadBalancer.DNSName\n",
    "    Condition: CreateProdResources\n",
    "  InstanceID:\n",
    "    Description: The Instance ID\n",
    "    Value: !Ref EC2Instance\n",
    "```\n",
    "\n",
    "For Cross-Stack output use **Export** tag. Values outputed with \"Export\" tag can be imported in other stacks \"in the same region\". Then, use the `Fn::ImportValue` intrinsic function to import the value in another stack \"in the same region\".\n",
    "\n",
    "```yaml\n",
    "Outputs:\n",
    "  StackVPC:\n",
    "    Description: The ID of the VPC\n",
    "    Value: !Ref MyVPC\n",
    "    Export:\n",
    "      Name: !Sub \"${AWS::StackName}-VPCID\"\n",
    "```"
   ]
  },
  {
   "cell_type": "markdown",
   "metadata": {},
   "source": [
    "# Some other important Intrinsic Functions"
   ]
  },
  {
   "cell_type": "markdown",
   "metadata": {},
   "source": [
    "## Fn::GetAtt"
   ]
  },
  {
   "cell_type": "markdown",
   "metadata": {},
   "source": [
    "The `Fn::GetAtt` intrinsic function returns the value of an attribute from a resource in the template.\n",
    "\n",
    "### Syntax\n",
    "`!GetAtt logicalNameOfResource.attributeName`\n",
    "\n",
    "* logicalNameOfResource\n",
    "  * The logical name (also called logical ID) of the resource that contains the attribute that you want.\n",
    "* attributeName\n",
    "  * The name of the resource-specific attribute whose value you want. See the resource's reference page for details about the attributes available for that resource type.\n",
    "* Return value\n",
    "  * The attribute value.\n",
    "\n",
    "A more concrete example\n",
    "\n",
    "`!GetAtt myELB.DNSName`"
   ]
  },
  {
   "cell_type": "markdown",
   "metadata": {},
   "source": [
    "Notes:\n",
    "* For the `Fn::GetAtt` logical resource name, you can't use functions. You must specify a string that's a resource's logical ID.\n",
    "* For the `Fn::GetAtt` attribute name, you can use the `Ref function`."
   ]
  },
  {
   "cell_type": "markdown",
   "metadata": {},
   "source": [
    "## Fn::ImportValue"
   ]
  },
  {
   "cell_type": "markdown",
   "metadata": {},
   "source": [
    "The intrinsic function `Fn::ImportValue` returns the value of an output exported by another stack. You typically use this function to create cross-stack references. "
   ]
  },
  {
   "cell_type": "markdown",
   "metadata": {},
   "source": [
    "Notes:\n",
    "* For each AWS account, Export names must be unique within a region.\n",
    "* You can't create cross-stack references across regions. You can use the intrinsic function `Fn::ImportValue` to import only values that have been exported within the same region.\n",
    "* You can't delete a stack if another stack references one of its outputs.\n",
    "* You can't modify or remove an output value that is referenced by another stack."
   ]
  },
  {
   "cell_type": "markdown",
   "metadata": {},
   "source": [
    "### Syntax\n",
    "\n",
    "`!ImportValue sharedValueToImport`\n",
    "\n",
    "A more concrete example.\n",
    "\n",
    "```yaml\n",
    "Fn::ImportValue:\n",
    "  !Sub \"${NetworkStackName}-SecurityGroupID\"\n",
    "```"
   ]
  },
  {
   "cell_type": "markdown",
   "metadata": {},
   "source": [
    "## Fn::Sub\n",
    "\n",
    "The intrinsic function `Fn::Sub` substitutes variables in an input string with values that you specify. In your templates, you can use this function to construct commands or outputs that include values that aren't available until you create or update a stack.\n",
    "\n",
    "### Syntax\n",
    "```yaml\n",
    "!Sub\n",
    "  - String\n",
    "  - VarName: VarValue\n",
    "```\n",
    "#### Parameters\n",
    "* String\n",
    "  * A string with variables that AWS CloudFormation substitutes with their associated values at runtime. Write variables as `${MyVarName}`. Variables can be template parameter names, resource logical IDs, resource attributes, or a variable in a key-value map.\n",
    "* VarName\n",
    "  * The name of a variable that you included in the `String` parameter.\n",
    "* VarValue\n",
    "  * The value that CloudFormation substitutes for the associated variable name at runtime.\n",
    "\n",
    "A more concrete example. The following example uses a mapping to substitute the `${Domain}` variable with the resulting value from the `Ref` function.\n",
    "\n",
    "```yaml\n",
    "Name: !Sub \n",
    "  - 'www.${Domain}'\n",
    "  - Domain: !Ref RootDomainName\n",
    "```"
   ]
  },
  {
   "cell_type": "markdown",
   "metadata": {},
   "source": [
    "# Important CloudFormation CLI Commands"
   ]
  },
  {
   "cell_type": "markdown",
   "metadata": {},
   "source": [
    "* Package a template using `aws cloudformation package` command\n",
    "* Validate a CloudFormation template using `aws cloudformation validate-template` command\n",
    "* Deploy a template using the `aws cloudformation deploy` command"
   ]
  }
 ],
 "metadata": {
  "kernelspec": {
   "display_name": "Python 3",
   "language": "python",
   "name": "python3"
  },
  "language_info": {
   "codemirror_mode": {
    "name": "ipython",
    "version": 3
   },
   "file_extension": ".py",
   "mimetype": "text/x-python",
   "name": "python",
   "nbconvert_exporter": "python",
   "pygments_lexer": "ipython3",
   "version": "3.8.5"
  },
  "varInspector": {
   "cols": {
    "lenName": 16,
    "lenType": 16,
    "lenVar": 40
   },
   "kernels_config": {
    "python": {
     "delete_cmd_postfix": "",
     "delete_cmd_prefix": "del ",
     "library": "var_list.py",
     "varRefreshCmd": "print(var_dic_list())"
    },
    "r": {
     "delete_cmd_postfix": ") ",
     "delete_cmd_prefix": "rm(",
     "library": "var_list.r",
     "varRefreshCmd": "cat(var_dic_list()) "
    }
   },
   "types_to_exclude": [
    "module",
    "function",
    "builtin_function_or_method",
    "instance",
    "_Feature"
   ],
   "window_display": false
  }
 },
 "nbformat": 4,
 "nbformat_minor": 4
}
