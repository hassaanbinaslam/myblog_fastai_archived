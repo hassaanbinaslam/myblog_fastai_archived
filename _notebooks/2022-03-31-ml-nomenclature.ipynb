{
 "cells": [
  {
   "cell_type": "markdown",
   "metadata": {},
   "source": [
    "# Machine Learning Nomenclature\n",
    "> A collection of machine learning terminologies\n",
    "\n",
    "- toc: true \n",
    "- badges: false\n",
    "- comments: true\n",
    "- categories: [ml]\n",
    "- keywords: [ml]"
   ]
  },
  {
   "cell_type": "markdown",
   "metadata": {},
   "source": [
    "# About\n",
    "This post is a collection of commonly used machine learning (ML) terminologies."
   ]
  },
  {
   "cell_type": "markdown",
   "metadata": {},
   "source": [
    "## Dataset\n",
    "The data we use in ML is usually defined as dataset, and datasets are a collection of data. The dataset contains the features and target to predict.\n",
    "\n",
    "It has other names\n",
    "* data\n",
    "* input data\n",
    "* train and test data"
   ]
  },
  {
   "cell_type": "markdown",
   "metadata": {},
   "source": [
    "## Instance\n",
    "An instance is a row in the dataset. \n",
    "\n",
    "Is has other names\n",
    "* row\n",
    "* observation\n",
    "* sample\n",
    "* (data) point"
   ]
  },
  {
   "cell_type": "markdown",
   "metadata": {},
   "source": [
    "## Feature\n",
    "\n",
    "Feature is a column in the dataset. It is used as an input used for prediction or classification. Features are commonly represented by `x` variable.\n",
    "\n",
    "It has other names\n",
    "* column\n",
    "* attribute\n",
    "* (input) variable\n",
    "\n",
    "Features are of two types\n",
    "* Categorical or qualitative\n",
    "* Numerical or quantitative"
   ]
  },
  {
   "cell_type": "markdown",
   "metadata": {},
   "source": [
    "## Target\n",
    "It is the information a machine learning algorithm learns to predict. Target is commonly represented by `y` variable.\n",
    "\n",
    "It has other names\n",
    "* label\n",
    "* output"
   ]
  },
  {
   "cell_type": "markdown",
   "metadata": {},
   "source": [
    "## Labeled Data\n",
    "A data that has both the feature and target attributes defined\n",
    "\n",
    "## Unlabeled Data\n",
    "A data that has the features defined but has no target attribute."
   ]
  },
  {
   "cell_type": "markdown",
   "metadata": {},
   "source": [
    "## Categorical Feature\n",
    "A feature that is not measureable and has discrete set of values like gender, family retionships, movie categories etc. We commonly use bar charts and pie graphs for categorical features.\n",
    "\n",
    "It has other names\n",
    "* qualitative feature\n",
    "\n",
    "Categorical features are of two types\n",
    "* Nominal\n",
    "* Ordinal\n",
    "\n",
    "## Nominal feature\n",
    "Nominal (categorical) feature is one that can not be measured and has no order assgined to it e.g. eye colors, gender etc.\n",
    "\n",
    "## Ordinal feature\n",
    "Ordinal (categorical) feature is one that can not be measured but has some order assgined to it like movie ratings, military ranks etc.\n",
    "\n",
    "## Numerical feature\n",
    "Numerical features are those that can be measured or counted and have some ascending or descending order assigned to them.\n",
    "\n",
    "It has other names\n",
    "* Continious feature\n",
    "* Quantitative feature\n",
    "\n",
    "Numerical features can be of two types\n",
    "* Discrete\n",
    "* Continous\n",
    "\n",
    "## Discrete feature\n",
    "Discrete (numerical) feature is one that has specified values and are usually counted e.g. number of facebook like, number of tickets sold etc.\n",
    "\n",
    "## Continous feature\n",
    "Continous (numerical) feature is one that can have any value assigned to it, and is usually measured e.g. temperature, wind speed etc.\n",
    "\n",
    "```\n",
    "Data\n",
    "├── Categorical / Qualitative\n",
    "│   ├── Nominal\n",
    "│   └── Ordinal\n",
    "└── Numerical / Quantitative\n",
    "    ├── Discrete\n",
    "    └── Continous\n",
    "```"
   ]
  },
  {
   "cell_type": "markdown",
   "metadata": {},
   "source": [
    "## Classification\n",
    "If the target feature is categorical then the ML task is called classification.\n",
    "\n",
    "## Regression\n",
    "If the target feature is numerical then the ML task is called regression."
   ]
  },
  {
   "cell_type": "markdown",
   "metadata": {},
   "source": [
    "## Positive class\n",
    "In binary classification the output class is usually labelled as positive or negative. The positive class is the thing we are testing for. For example, positive class for an email classifier is 'spam', and positive class for a medical test can be 'tumor'.\n",
    "\n",
    "## Negative class\n",
    "Negative class is the opposite to positive class. For example, negative class for an email classifier is 'not spam', and a negative class for a medical test can be 'not tumor'.\n",
    "\n",
    "## True positive (TP)\n",
    "Model correctly predicted the positve class\n",
    "\n",
    "## True negative (TN)\n",
    "Model correctly predicted the negative class\n",
    "\n",
    "## False positive (FP)\n",
    "Model incorrectly predicted the positive class. Actual class is negative.\n",
    "It has other names\n",
    "* Type I error\n",
    "\n",
    "## False negative (FN)\n",
    "Model incorrectly predicted the negative class. Actual class is positive.\n",
    "It has other names\n",
    "* Type II error\n",
    "\n",
    "## Accuracy \n",
    "Accuracy = (TP + TN) / (TP + TN + FP + FN)\n",
    "\n",
    "## Precision\n",
    "It tells how accurate the positive predictions are.\n",
    "\n",
    "Precision = TP / (TP + FP)\n",
    "\n",
    "It is a good metric when cost of false positives is high.\n",
    "\n",
    "## True Positive Rate (TPR)\n",
    "TPR = TP / (TP + FN)\n",
    "\n",
    "It is the probability that an actual positive class will test positive.\n",
    "\n",
    "It has other names\n",
    "* Recall\n",
    "* Sensitivity\n",
    "\n",
    "True positive is the y-axis in an ROC curve. It is a good metric when cost of false negatives is high.\n",
    "\n",
    "## False Positive Rate (FPR)\n",
    "FPR = FP / (FP + TN)\n",
    "\n",
    "It has other names\n",
    "* 1 - specificity\n",
    "\n",
    "It is x-axis on ROC curve.\n",
    "\n",
    "## ROC Curve\n",
    "Receiver Operating Characteristic (ROC) is a curve of TPR vs FPR at different classification thresholds.\n",
    "\n",
    "## True Negative Rate (TNR)\n",
    "TNR = TN / (TN + FP)\n",
    "\n",
    "It is the probability of a negative class to test negative.\n",
    "\n",
    "It has other names\n",
    "* Specificity"
   ]
  }
 ],
 "metadata": {
  "interpreter": {
   "hash": "592d70e68660334c1e2b3db2d131a28b3e4c5aef0ad9ff036ec5b5af6e985aa1"
  },
  "kernelspec": {
   "display_name": "Python 3.8.8 ('sc_mlflow')",
   "language": "python",
   "name": "python3"
  },
  "language_info": {
   "codemirror_mode": {
    "name": "ipython",
    "version": 3
   },
   "file_extension": ".py",
   "mimetype": "text/x-python",
   "name": "python",
   "nbconvert_exporter": "python",
   "pygments_lexer": "ipython3",
   "version": "3.8.8"
  },
  "orig_nbformat": 4
 },
 "nbformat": 4,
 "nbformat_minor": 2
}
