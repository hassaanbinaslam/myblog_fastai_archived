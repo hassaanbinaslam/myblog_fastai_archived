{
 "cells": [
  {
   "cell_type": "markdown",
   "metadata": {},
   "source": [
    "# Data Preparation with SageMaker Data Wrangler\n",
    "> A detailed guide on AWS SageMaker Data Wrangler to prepare data for machine learning models. This is a five parts series where we will prepare, import, explore, process, and export data using AWS Data Wrangler. You are reading Part 1: Prepare synthetic data and place it on multiple sources.\n",
    "\n",
    "- toc: true \n",
    "- badges: false\n",
    "- comments: true\n",
    "- categories: [aws, ml, sagemaker]\n",
    "- keyword: [aws, ml, sagemaker, wrangler]"
   ]
  },
  {
   "cell_type": "markdown",
   "metadata": {},
   "source": [
    "# Enviornment\n",
    "\n",
    "This notebook is prepared with Amazon SageMaker Studio using `Python 3 (Data Science)` Kernel and `ml.t3.medium` instance."
   ]
  },
  {
   "cell_type": "markdown",
   "metadata": {},
   "source": [
    "# About\n",
    "This is a detailed guide on using **AWS SageMaker Data Wrangler** service to prepare data for machine learning models. SageMaker Data Wrangler is a multipurpose tool with which you can\n",
    "* import data from multiple sources\n",
    "* explore data with visualizations\n",
    "* apply transformations\n",
    "* export data for ml training\n",
    "\n",
    "There will be five parts if the post\n",
    "* **Part 1: Prepare synthetic data and place it on multiple sources (You are here now)**\n",
    "* Part 2: Import data from multiple sources using Data Wrangler\n",
    "* Part 3: Explore data with Data Wrangler visualizations\n",
    "* Part 4: Preprocess data using Data Wrangler\n",
    "* Part 5: Export data for ML training"
   ]
  },
  {
   "cell_type": "markdown",
   "metadata": {},
   "source": [
    "# Credits\n",
    "[Getting Started with Amazon SageMaker Studio](https://www.packtpub.com/product/getting-started-with-amazon-sagemaker-studio/9781801070157) book by Michael Hsieh. Michael Hsieh is a senior AI/machine learning (ML) solutions architect at Amazon Web Services. He creates and evangelizes for ML solutions centered around Amazon SageMaker. He also works with enterprise customers to advance their ML journeys."
   ]
  },
  {
   "cell_type": "markdown",
   "metadata": {},
   "source": [
    "# Part 1: Prepare synthetic data and place it on multiple sources\n",
    "\n",
    "Let's prepare some dataset and place it on the S3 bucket and AWS Glue tables. Then we will use Data Wrangler to pull and join data from these two sources. The idea is to simulate some real project challenges where data is not coming from a single source but is distributed in multiple stores, and is in different formats. It is usually the preprocessing pipeline job to get data from these sources and join and preprocess it. \n",
    "\n",
    "## Data\n",
    "Mobile operators have historical records on which customers ultimately ended up churning and which continued using the service. We can use this historical information to construct an ML model of one mobile operator’s churn using a process called training. After training the model, we can pass the profile information of an arbitrary customer (the same profile information that we used to train the model) to the model, and have the model predict whether this customer is going to churn. Of course, we expect the model to make mistakes. After all, predicting the future is a tricky business! But we’ll learn how to deal with prediction errors.\n",
    "\n",
    "The dataset we use is publicly available and was mentioned in the book [Discovering Knowledge in Data](https://www.amazon.com/dp/0470908742/) by Daniel T. Larose.  It is attributed by the author to the [University of California Irvine Repository of Machine Learning Datasets](https://archive.ics.uci.edu/ml/datasets/Iranian+Churn+Dataset) (Jafari-Marandi, R., Denton, J., Idris, A., Smith, B. K., & Keramati, A. (2020)."
   ]
  },
  {
   "cell_type": "markdown",
   "metadata": {},
   "source": [
    "## Preparation"
   ]
  },
  {
   "cell_type": "code",
   "execution_count": 1,
   "metadata": {},
   "outputs": [
    {
     "name": "stdout",
     "output_type": "stream",
     "text": [
      "\u001b[33mWARNING: Running pip as the 'root' user can result in broken permissions and conflicting behaviour with the system package manager. It is recommended to use a virtual environment instead: https://pip.pypa.io/warnings/venv\u001b[0m\u001b[33m\n",
      "\u001b[0m\u001b[33mWARNING: You are using pip version 22.0.4; however, version 22.1 is available.\n",
      "You should consider upgrading via the '/opt/conda/bin/python -m pip install --upgrade pip' command.\u001b[0m\u001b[33m\n",
      "\u001b[0m"
     ]
    }
   ],
   "source": [
    "##\n",
    "# install aws data wrangler package\n",
    "# restart kernel after installation\n",
    "# more on this package later in the notebook.\n",
    "!pip install -q awswrangler"
   ]
  },
  {
   "cell_type": "code",
   "execution_count": 1,
   "metadata": {},
   "outputs": [],
   "source": [
    "## import required libraries\n",
    "import pandas as pd\n",
    "#import numpy as np\n",
    "#import boto3\n",
    "import sagemaker\n",
    "\n",
    "sess = sagemaker.Session()\n",
    "prefix = 'myblog/demo-customer-churn'"
   ]
  },
  {
   "cell_type": "code",
   "execution_count": 2,
   "metadata": {},
   "outputs": [
    {
     "name": "stdout",
     "output_type": "stream",
     "text": [
      "download: s3://sagemaker-sample-files/datasets/tabular/synthetic/churn.txt to ./churn.txt\n"
     ]
    }
   ],
   "source": [
    "!aws s3 cp s3://sagemaker-sample-files/datasets/tabular/synthetic/churn.txt ./"
   ]
  },
  {
   "cell_type": "code",
   "execution_count": 3,
   "metadata": {},
   "outputs": [
    {
     "data": {
      "text/html": [
       "<div>\n",
       "<style scoped>\n",
       "    .dataframe tbody tr th:only-of-type {\n",
       "        vertical-align: middle;\n",
       "    }\n",
       "\n",
       "    .dataframe tbody tr th {\n",
       "        vertical-align: top;\n",
       "    }\n",
       "\n",
       "    .dataframe thead th {\n",
       "        text-align: right;\n",
       "    }\n",
       "</style>\n",
       "<table border=\"1\" class=\"dataframe\">\n",
       "  <thead>\n",
       "    <tr style=\"text-align: right;\">\n",
       "      <th></th>\n",
       "      <th>State</th>\n",
       "      <th>Account Length</th>\n",
       "      <th>Area Code</th>\n",
       "      <th>Phone</th>\n",
       "      <th>Int'l Plan</th>\n",
       "      <th>VMail Plan</th>\n",
       "      <th>VMail Message</th>\n",
       "      <th>Day Mins</th>\n",
       "      <th>Day Calls</th>\n",
       "      <th>Day Charge</th>\n",
       "      <th>Eve Mins</th>\n",
       "      <th>Eve Calls</th>\n",
       "      <th>Eve Charge</th>\n",
       "      <th>Night Mins</th>\n",
       "      <th>Night Calls</th>\n",
       "      <th>Night Charge</th>\n",
       "      <th>Intl Mins</th>\n",
       "      <th>Intl Calls</th>\n",
       "      <th>Intl Charge</th>\n",
       "      <th>CustServ Calls</th>\n",
       "      <th>Churn?</th>\n",
       "      <th>CustomerID</th>\n",
       "    </tr>\n",
       "  </thead>\n",
       "  <tbody>\n",
       "    <tr>\n",
       "      <th>0</th>\n",
       "      <td>PA</td>\n",
       "      <td>163</td>\n",
       "      <td>806</td>\n",
       "      <td>403-2562</td>\n",
       "      <td>no</td>\n",
       "      <td>yes</td>\n",
       "      <td>300</td>\n",
       "      <td>8.162204</td>\n",
       "      <td>3</td>\n",
       "      <td>7.579174</td>\n",
       "      <td>3.933035</td>\n",
       "      <td>4</td>\n",
       "      <td>6.508639</td>\n",
       "      <td>4.065759</td>\n",
       "      <td>100</td>\n",
       "      <td>5.111624</td>\n",
       "      <td>4.928160</td>\n",
       "      <td>6</td>\n",
       "      <td>5.673203</td>\n",
       "      <td>3</td>\n",
       "      <td>True.</td>\n",
       "      <td>0</td>\n",
       "    </tr>\n",
       "    <tr>\n",
       "      <th>1</th>\n",
       "      <td>SC</td>\n",
       "      <td>15</td>\n",
       "      <td>836</td>\n",
       "      <td>158-8416</td>\n",
       "      <td>yes</td>\n",
       "      <td>no</td>\n",
       "      <td>0</td>\n",
       "      <td>10.018993</td>\n",
       "      <td>4</td>\n",
       "      <td>4.226289</td>\n",
       "      <td>2.325005</td>\n",
       "      <td>0</td>\n",
       "      <td>9.972592</td>\n",
       "      <td>7.141040</td>\n",
       "      <td>200</td>\n",
       "      <td>6.436188</td>\n",
       "      <td>3.221748</td>\n",
       "      <td>6</td>\n",
       "      <td>2.559749</td>\n",
       "      <td>8</td>\n",
       "      <td>False.</td>\n",
       "      <td>1</td>\n",
       "    </tr>\n",
       "    <tr>\n",
       "      <th>2</th>\n",
       "      <td>MO</td>\n",
       "      <td>131</td>\n",
       "      <td>777</td>\n",
       "      <td>896-6253</td>\n",
       "      <td>no</td>\n",
       "      <td>yes</td>\n",
       "      <td>300</td>\n",
       "      <td>4.708490</td>\n",
       "      <td>3</td>\n",
       "      <td>4.768160</td>\n",
       "      <td>4.537466</td>\n",
       "      <td>3</td>\n",
       "      <td>4.566715</td>\n",
       "      <td>5.363235</td>\n",
       "      <td>100</td>\n",
       "      <td>5.142451</td>\n",
       "      <td>7.139023</td>\n",
       "      <td>2</td>\n",
       "      <td>6.254157</td>\n",
       "      <td>4</td>\n",
       "      <td>False.</td>\n",
       "      <td>2</td>\n",
       "    </tr>\n",
       "    <tr>\n",
       "      <th>3</th>\n",
       "      <td>WY</td>\n",
       "      <td>75</td>\n",
       "      <td>878</td>\n",
       "      <td>817-5729</td>\n",
       "      <td>yes</td>\n",
       "      <td>yes</td>\n",
       "      <td>700</td>\n",
       "      <td>1.268734</td>\n",
       "      <td>3</td>\n",
       "      <td>2.567642</td>\n",
       "      <td>2.528748</td>\n",
       "      <td>5</td>\n",
       "      <td>2.333624</td>\n",
       "      <td>3.773586</td>\n",
       "      <td>450</td>\n",
       "      <td>3.814413</td>\n",
       "      <td>2.245779</td>\n",
       "      <td>6</td>\n",
       "      <td>1.080692</td>\n",
       "      <td>6</td>\n",
       "      <td>False.</td>\n",
       "      <td>3</td>\n",
       "    </tr>\n",
       "    <tr>\n",
       "      <th>4</th>\n",
       "      <td>WY</td>\n",
       "      <td>146</td>\n",
       "      <td>878</td>\n",
       "      <td>450-4942</td>\n",
       "      <td>yes</td>\n",
       "      <td>no</td>\n",
       "      <td>0</td>\n",
       "      <td>2.696177</td>\n",
       "      <td>3</td>\n",
       "      <td>5.908916</td>\n",
       "      <td>6.015337</td>\n",
       "      <td>3</td>\n",
       "      <td>3.670408</td>\n",
       "      <td>3.751673</td>\n",
       "      <td>250</td>\n",
       "      <td>2.796812</td>\n",
       "      <td>6.905545</td>\n",
       "      <td>4</td>\n",
       "      <td>7.134343</td>\n",
       "      <td>6</td>\n",
       "      <td>True.</td>\n",
       "      <td>4</td>\n",
       "    </tr>\n",
       "    <tr>\n",
       "      <th>5</th>\n",
       "      <td>VA</td>\n",
       "      <td>83</td>\n",
       "      <td>866</td>\n",
       "      <td>454-9110</td>\n",
       "      <td>no</td>\n",
       "      <td>no</td>\n",
       "      <td>0</td>\n",
       "      <td>3.634776</td>\n",
       "      <td>7</td>\n",
       "      <td>4.804892</td>\n",
       "      <td>6.051944</td>\n",
       "      <td>5</td>\n",
       "      <td>5.278437</td>\n",
       "      <td>2.937880</td>\n",
       "      <td>300</td>\n",
       "      <td>4.817958</td>\n",
       "      <td>4.948816</td>\n",
       "      <td>4</td>\n",
       "      <td>5.135323</td>\n",
       "      <td>5</td>\n",
       "      <td>False.</td>\n",
       "      <td>5</td>\n",
       "    </tr>\n",
       "    <tr>\n",
       "      <th>6</th>\n",
       "      <td>IN</td>\n",
       "      <td>140</td>\n",
       "      <td>737</td>\n",
       "      <td>331-5751</td>\n",
       "      <td>yes</td>\n",
       "      <td>no</td>\n",
       "      <td>0</td>\n",
       "      <td>3.229420</td>\n",
       "      <td>4</td>\n",
       "      <td>3.165082</td>\n",
       "      <td>2.440153</td>\n",
       "      <td>8</td>\n",
       "      <td>0.264543</td>\n",
       "      <td>2.352274</td>\n",
       "      <td>300</td>\n",
       "      <td>3.869176</td>\n",
       "      <td>5.393439</td>\n",
       "      <td>4</td>\n",
       "      <td>1.784765</td>\n",
       "      <td>4</td>\n",
       "      <td>False.</td>\n",
       "      <td>6</td>\n",
       "    </tr>\n",
       "    <tr>\n",
       "      <th>7</th>\n",
       "      <td>LA</td>\n",
       "      <td>54</td>\n",
       "      <td>766</td>\n",
       "      <td>871-3612</td>\n",
       "      <td>no</td>\n",
       "      <td>no</td>\n",
       "      <td>0</td>\n",
       "      <td>0.567920</td>\n",
       "      <td>6</td>\n",
       "      <td>1.950098</td>\n",
       "      <td>4.507027</td>\n",
       "      <td>0</td>\n",
       "      <td>4.473086</td>\n",
       "      <td>0.688785</td>\n",
       "      <td>400</td>\n",
       "      <td>6.132137</td>\n",
       "      <td>5.012747</td>\n",
       "      <td>5</td>\n",
       "      <td>0.417421</td>\n",
       "      <td>8</td>\n",
       "      <td>False.</td>\n",
       "      <td>7</td>\n",
       "    </tr>\n",
       "    <tr>\n",
       "      <th>8</th>\n",
       "      <td>MO</td>\n",
       "      <td>195</td>\n",
       "      <td>777</td>\n",
       "      <td>249-5723</td>\n",
       "      <td>yes</td>\n",
       "      <td>no</td>\n",
       "      <td>0</td>\n",
       "      <td>5.811116</td>\n",
       "      <td>6</td>\n",
       "      <td>4.331065</td>\n",
       "      <td>8.104126</td>\n",
       "      <td>2</td>\n",
       "      <td>4.475034</td>\n",
       "      <td>4.208352</td>\n",
       "      <td>250</td>\n",
       "      <td>5.974575</td>\n",
       "      <td>4.750153</td>\n",
       "      <td>7</td>\n",
       "      <td>3.320311</td>\n",
       "      <td>7</td>\n",
       "      <td>True.</td>\n",
       "      <td>8</td>\n",
       "    </tr>\n",
       "    <tr>\n",
       "      <th>9</th>\n",
       "      <td>AL</td>\n",
       "      <td>104</td>\n",
       "      <td>657</td>\n",
       "      <td>767-7682</td>\n",
       "      <td>yes</td>\n",
       "      <td>no</td>\n",
       "      <td>0</td>\n",
       "      <td>2.714430</td>\n",
       "      <td>7</td>\n",
       "      <td>5.138669</td>\n",
       "      <td>8.529944</td>\n",
       "      <td>6</td>\n",
       "      <td>3.321121</td>\n",
       "      <td>2.342177</td>\n",
       "      <td>300</td>\n",
       "      <td>4.328966</td>\n",
       "      <td>3.433554</td>\n",
       "      <td>5</td>\n",
       "      <td>5.677058</td>\n",
       "      <td>4</td>\n",
       "      <td>False.</td>\n",
       "      <td>9</td>\n",
       "    </tr>\n",
       "  </tbody>\n",
       "</table>\n",
       "</div>"
      ],
      "text/plain": [
       "  State  Account Length  Area Code     Phone Int'l Plan VMail Plan  \\\n",
       "0    PA             163        806  403-2562         no        yes   \n",
       "1    SC              15        836  158-8416        yes         no   \n",
       "2    MO             131        777  896-6253         no        yes   \n",
       "3    WY              75        878  817-5729        yes        yes   \n",
       "4    WY             146        878  450-4942        yes         no   \n",
       "5    VA              83        866  454-9110         no         no   \n",
       "6    IN             140        737  331-5751        yes         no   \n",
       "7    LA              54        766  871-3612         no         no   \n",
       "8    MO             195        777  249-5723        yes         no   \n",
       "9    AL             104        657  767-7682        yes         no   \n",
       "\n",
       "   VMail Message   Day Mins  Day Calls  Day Charge  Eve Mins  Eve Calls  \\\n",
       "0            300   8.162204          3    7.579174  3.933035          4   \n",
       "1              0  10.018993          4    4.226289  2.325005          0   \n",
       "2            300   4.708490          3    4.768160  4.537466          3   \n",
       "3            700   1.268734          3    2.567642  2.528748          5   \n",
       "4              0   2.696177          3    5.908916  6.015337          3   \n",
       "5              0   3.634776          7    4.804892  6.051944          5   \n",
       "6              0   3.229420          4    3.165082  2.440153          8   \n",
       "7              0   0.567920          6    1.950098  4.507027          0   \n",
       "8              0   5.811116          6    4.331065  8.104126          2   \n",
       "9              0   2.714430          7    5.138669  8.529944          6   \n",
       "\n",
       "   Eve Charge  Night Mins  Night Calls  Night Charge  Intl Mins  Intl Calls  \\\n",
       "0    6.508639    4.065759          100      5.111624   4.928160           6   \n",
       "1    9.972592    7.141040          200      6.436188   3.221748           6   \n",
       "2    4.566715    5.363235          100      5.142451   7.139023           2   \n",
       "3    2.333624    3.773586          450      3.814413   2.245779           6   \n",
       "4    3.670408    3.751673          250      2.796812   6.905545           4   \n",
       "5    5.278437    2.937880          300      4.817958   4.948816           4   \n",
       "6    0.264543    2.352274          300      3.869176   5.393439           4   \n",
       "7    4.473086    0.688785          400      6.132137   5.012747           5   \n",
       "8    4.475034    4.208352          250      5.974575   4.750153           7   \n",
       "9    3.321121    2.342177          300      4.328966   3.433554           5   \n",
       "\n",
       "   Intl Charge  CustServ Calls  Churn?  CustomerID  \n",
       "0     5.673203               3   True.           0  \n",
       "1     2.559749               8  False.           1  \n",
       "2     6.254157               4  False.           2  \n",
       "3     1.080692               6  False.           3  \n",
       "4     7.134343               6   True.           4  \n",
       "5     5.135323               5  False.           5  \n",
       "6     1.784765               4  False.           6  \n",
       "7     0.417421               8  False.           7  \n",
       "8     3.320311               7   True.           8  \n",
       "9     5.677058               4  False.           9  "
      ]
     },
     "execution_count": 3,
     "metadata": {},
     "output_type": "execute_result"
    }
   ],
   "source": [
    "df = pd.read_csv(\"./churn.txt\")\n",
    "\n",
    "# make 'CustomerID' column from the index\n",
    "df['CustomerID']=df.index\n",
    "\n",
    "pd.set_option(\"display.max_columns\", 500)\n",
    "df.head(10)"
   ]
  },
  {
   "cell_type": "code",
   "execution_count": 4,
   "metadata": {},
   "outputs": [
    {
     "data": {
      "text/plain": [
       "(5000, 22)"
      ]
     },
     "execution_count": 4,
     "metadata": {},
     "output_type": "execute_result"
    }
   ],
   "source": [
    "df.shape"
   ]
  },
  {
   "cell_type": "markdown",
   "metadata": {},
   "source": [
    "By modern standards, it’s a relatively small dataset, with only 5,000 records, where each record uses 21 attributes to describe the profile of a customer of an unknown US mobile operator. The attributes are:\n",
    "\n",
    "* `State`: the US state in which the customer resides, indicated by a two-letter abbreviation; for example, OH or NJ\n",
    "* `Account Length`: the number of days that this account has been active\n",
    "* `Area Code`: the three-digit area code of the corresponding customer’s phone number\n",
    "* `Phone`: the remaining seven-digit phone number\n",
    "* `Int’l Plan`: whether the customer has an international calling plan: yes/no\n",
    "* `VMail Plan`: whether the customer has a voice mail feature: yes/no\n",
    "* `VMail Message`: the average number of voice mail messages per month\n",
    "* `Day Mins`: the total number of calling minutes used during the day\n",
    "* `Day Calls`: the total number of calls placed during the day\n",
    "* `Day Charge`: the billed cost of daytime calls\n",
    "* `Eve Mins, Eve Calls, Eve Charge`: the billed cost for calls placed during the evening\n",
    "* `Night Mins, Night Calls, Night Charge`: the billed cost for calls placed during nighttime\n",
    "* `Intl Mins, Intl Calls, Intl Charge`: the billed cost for international calls\n",
    "* `CustServ Calls`: the number of calls placed to Customer Service\n",
    "* `Churn?`: whether the customer left the service: true/false\n",
    "\n",
    "The last attribute, **Churn?**, is known as the target attribute: the attribute that we want the ML model to predict. Because the target attribute is binary, our model will be performing binary prediction, also known as binary classification.\n",
    "\n",
    "We have our dataset. Now we will split this dataset into three subsets\n",
    "* `customer`: customer data, and place it as a CSV file on the S3 bucket\n",
    "* `account`: accounts data, and place it as CSV on the same S3 bucket\n",
    "* `utility`: utility data, and place it as Glue tables"
   ]
  },
  {
   "cell_type": "code",
   "execution_count": 5,
   "metadata": {},
   "outputs": [],
   "source": [
    "customer_columns = ['CustomerID', 'State', 'Area Code', 'Phone']\n",
    "account_columns = ['CustomerID', 'Account Length', \"Int'l Plan\", 'VMail Plan', 'Churn?']\n",
    "utility_columns = ['CustomerID', 'VMail Message', 'Day Mins', 'Day Calls', 'Day Charge', \n",
    "                   'Eve Mins', 'Eve Calls', 'Eve Charge', 'Night Mins', 'Night Calls', \n",
    "                   'Night Charge', 'Intl Mins', 'Intl Calls', 'Intl Charge', 'CustServ Calls']"
   ]
  },
  {
   "cell_type": "markdown",
   "metadata": {},
   "source": [
    "We will use the default bucket associated with our SageMaker session. You may use any other bucket with proper access permissions."
   ]
  },
  {
   "cell_type": "code",
   "execution_count": 6,
   "metadata": {},
   "outputs": [
    {
     "data": {
      "text/plain": [
       "'sagemaker-us-east-1-801598032724'"
      ]
     },
     "execution_count": 6,
     "metadata": {},
     "output_type": "execute_result"
    }
   ],
   "source": [
    "bucket = sess.default_bucket()\n",
    "bucket"
   ]
  },
  {
   "cell_type": "markdown",
   "metadata": {},
   "source": [
    "Next, we will use AWS Data Wrangler Python package (`awswrangler`) to create an AWS Glue database.\n",
    "\n",
    "**awswrangler** is an open source Python library maintained by AWS team, as is defined as\n",
    "\n",
    "> An AWS Professional Service open source python initiative that extends the power of Pandas library to AWS connecting DataFrames and AWS data related services. Easy integration with Athena, Glue, Redshift, Timestream, OpenSearch, Neptune, QuickSight, Chime, CloudWatchLogs, DynamoDB, EMR, SecretManager, PostgreSQL, MySQL, SQLServer and S3 (Parquet, CSV, JSON and EXCEL).\n",
    "\n",
    "You may read more about this library here\n",
    "* Documentation: https://aws-data-wrangler.readthedocs.io/en/stable/what.html\n",
    "* Github repo: https://github.com/awslabs/aws-data-wrangler"
   ]
  },
  {
   "cell_type": "code",
   "execution_count": 7,
   "metadata": {},
   "outputs": [],
   "source": [
    "##\n",
    "# define the Glue DB name\n",
    "db_name = 'telco_db'"
   ]
  },
  {
   "cell_type": "code",
   "execution_count": 8,
   "metadata": {},
   "outputs": [
    {
     "name": "stdout",
     "output_type": "stream",
     "text": [
      "*** existing databases ***\n",
      "\n",
      "                  Database Description\n",
      "0  sagemaker_data_wrangler            \n",
      "1     sagemaker_processing            \n",
      "\n",
      "*** existing + new databases ***\n",
      "\n",
      "                  Database                      Description\n",
      "0  sagemaker_data_wrangler                                 \n",
      "1     sagemaker_processing                                 \n",
      "2                 telco_db  Demo DB for telco churn dataset\n"
     ]
    }
   ],
   "source": [
    "##\n",
    "import awswrangler as wr\n",
    "\n",
    "# get all the existing Glue db list\n",
    "databases = wr.catalog.databases()\n",
    "\n",
    "# print existing db names\n",
    "print(\"*** existing databases ***\\n\")\n",
    "print(databases)\n",
    "\n",
    "# if our db does not exist then create it\n",
    "if db_name not in databases.values:\n",
    "    wr.catalog.create_database(db_name, description = 'Demo DB for telco churn dataset')\n",
    "    print(\"\\n*** existing + new databases ***\\n\")\n",
    "    print(wr.catalog.databases())\n",
    "else:\n",
    "    print(f\"Database {db_name} already exists\")"
   ]
  },
  {
   "cell_type": "code",
   "execution_count": 9,
   "metadata": {},
   "outputs": [],
   "source": [
    "##\n",
    "# in case you want to delete a database using this notebook\n",
    "# wr.catalog.delete_database(db_name)"
   ]
  },
  {
   "cell_type": "markdown",
   "metadata": {},
   "source": [
    "Similarly you can go to AWS Glue console to see that the new database has been created.\n",
    "\n",
    "![aws-glue-database](images/2022-05-17-aws-sagemaker-wrangler-p1/aws-glue-database.png) "
   ]
  },
  {
   "cell_type": "markdown",
   "metadata": {},
   "source": [
    "Now we will place the three data subsets into their respective locations."
   ]
  },
  {
   "cell_type": "code",
   "execution_count": 10,
   "metadata": {},
   "outputs": [
    {
     "name": "stdout",
     "output_type": "stream",
     "text": [
      "\n",
      "*** working on customer_info***\n",
      "filename: telco_churn_customer_info\n",
      "output path: s3://sagemaker-us-east-1-801598032724/myblog/demo-customer-churn/data/telco_churn_customer_info\n",
      "\n",
      "*** working on account_info***\n",
      "filename: telco_churn_account_info\n",
      "output path: s3://sagemaker-us-east-1-801598032724/myblog/demo-customer-churn/data/telco_churn_account_info\n",
      "\n",
      "*** working on utility***\n",
      "filename: telco_churn_utility\n",
      "output path: s3://sagemaker-us-east-1-801598032724/myblog/demo-customer-churn/data/telco_churn_utility\n"
     ]
    }
   ],
   "source": [
    "suffix = ['customer_info', 'account_info', 'utility']\n",
    "for i, columns in enumerate([customer_columns, account_columns, utility_columns]):\n",
    "    \n",
    "    # get the data subset\n",
    "    df_tmp = df[columns]\n",
    "\n",
    "    # prepare filename and output path\n",
    "    fname = 'telco_churn_%s' % suffix[i]\n",
    "    outputpath = f's3://{bucket}/{prefix}/data/{fname}'\n",
    "    \n",
    "    print(f\"\\n*** working on {suffix[i]}***\")\n",
    "    print(f\"filename: {fname}\")\n",
    "    print(f\"output path: {outputpath}\")\n",
    "    \n",
    "    if i > 1: # for utility\n",
    "        wr.s3.to_csv(\n",
    "            df=df_tmp,\n",
    "            path=outputpath,\n",
    "            dataset=True,\n",
    "            database=db_name,  # Athena/Glue database\n",
    "            table=fname,  # Athena/Glue table\n",
    "            index=False,\n",
    "            mode='overwrite')\n",
    "    else: # for customer and account\n",
    "        wr.s3.to_csv(\n",
    "            df=df_tmp,\n",
    "            path=f'{outputpath}.csv',\n",
    "            index=False)"
   ]
  },
  {
   "cell_type": "markdown",
   "metadata": {},
   "source": [
    "We can verify the uploaded data from the S3 bucket.\n",
    "\n",
    "![aws-s3-churn-data](images/2022-05-17-aws-sagemaker-wrangler-p1/aws-s3-churn-data.png) \n",
    "\n",
    "Similarly, from Glue console we can verify that the utility table has been created.\n",
    "\n",
    "![aws-glue-churn-data](images/2022-05-17-aws-sagemaker-wrangler-p1/aws-glue-churn-data.png) "
   ]
  },
  {
   "cell_type": "markdown",
   "metadata": {},
   "source": [
    "If you want to remain within the notebook and do the verification then that can also be done."
   ]
  },
  {
   "cell_type": "code",
   "execution_count": 11,
   "metadata": {},
   "outputs": [
    {
     "data": {
      "text/plain": [
       "['s3://sagemaker-us-east-1-801598032724/myblog/demo-customer-churn/data/telco_churn_account_info.csv',\n",
       " 's3://sagemaker-us-east-1-801598032724/myblog/demo-customer-churn/data/telco_churn_customer_info.csv',\n",
       " 's3://sagemaker-us-east-1-801598032724/myblog/demo-customer-churn/data/telco_churn_utility/b4003acdf33e48ce989401e92146923c.csv']"
      ]
     },
     "execution_count": 11,
     "metadata": {},
     "output_type": "execute_result"
    }
   ],
   "source": [
    "##\n",
    "# list s3 objects\n",
    "wr.s3.list_objects('s3://sagemaker-us-east-1-801598032724/myblog/demo-customer-churn/data/')"
   ]
  },
  {
   "cell_type": "code",
   "execution_count": 13,
   "metadata": {},
   "outputs": [
    {
     "data": {
      "text/html": [
       "<div>\n",
       "<style scoped>\n",
       "    .dataframe tbody tr th:only-of-type {\n",
       "        vertical-align: middle;\n",
       "    }\n",
       "\n",
       "    .dataframe tbody tr th {\n",
       "        vertical-align: top;\n",
       "    }\n",
       "\n",
       "    .dataframe thead th {\n",
       "        text-align: right;\n",
       "    }\n",
       "</style>\n",
       "<table border=\"1\" class=\"dataframe\">\n",
       "  <thead>\n",
       "    <tr style=\"text-align: right;\">\n",
       "      <th></th>\n",
       "      <th>Database</th>\n",
       "      <th>Table</th>\n",
       "      <th>Description</th>\n",
       "      <th>TableType</th>\n",
       "      <th>Columns</th>\n",
       "      <th>Partitions</th>\n",
       "    </tr>\n",
       "  </thead>\n",
       "  <tbody>\n",
       "    <tr>\n",
       "      <th>0</th>\n",
       "      <td>telco_db</td>\n",
       "      <td>telco_churn_utility</td>\n",
       "      <td></td>\n",
       "      <td>EXTERNAL_TABLE</td>\n",
       "      <td>customerid, vmail_message, day_mins, day_calls...</td>\n",
       "      <td></td>\n",
       "    </tr>\n",
       "  </tbody>\n",
       "</table>\n",
       "</div>"
      ],
      "text/plain": [
       "   Database                Table Description       TableType  \\\n",
       "0  telco_db  telco_churn_utility              EXTERNAL_TABLE   \n",
       "\n",
       "                                             Columns Partitions  \n",
       "0  customerid, vmail_message, day_mins, day_calls...             "
      ]
     },
     "execution_count": 13,
     "metadata": {},
     "output_type": "execute_result"
    }
   ],
   "source": [
    "##\n",
    "# list glue catalog tables\n",
    "wr.catalog.tables()"
   ]
  }
 ],
 "metadata": {
  "instance_type": "ml.t3.medium",
  "kernelspec": {
   "display_name": "Python 3 (Data Science)",
   "language": "python",
   "name": "python3__SAGEMAKER_INTERNAL__arn:aws:sagemaker:us-east-1:081325390199:image/datascience-1.0"
  },
  "language_info": {
   "codemirror_mode": {
    "name": "ipython",
    "version": 3
   },
   "file_extension": ".py",
   "mimetype": "text/x-python",
   "name": "python",
   "nbconvert_exporter": "python",
   "pygments_lexer": "ipython3",
   "version": "3.7.10"
  },
  "varInspector": {
   "cols": {
    "lenName": 16,
    "lenType": 16,
    "lenVar": 40
   },
   "kernels_config": {
    "python": {
     "delete_cmd_postfix": "",
     "delete_cmd_prefix": "del ",
     "library": "var_list.py",
     "varRefreshCmd": "print(var_dic_list())"
    },
    "r": {
     "delete_cmd_postfix": ") ",
     "delete_cmd_prefix": "rm(",
     "library": "var_list.r",
     "varRefreshCmd": "cat(var_dic_list()) "
    }
   },
   "types_to_exclude": [
    "module",
    "function",
    "builtin_function_or_method",
    "instance",
    "_Feature"
   ],
   "window_display": false
  }
 },
 "nbformat": 4,
 "nbformat_minor": 4
}
