{
 "cells": [
  {
   "cell_type": "markdown",
   "metadata": {},
   "source": [
    "# AWS DNS Records - A, CNAME, ALIAS, & MX\n",
    "> A summary of differences between AWS Route53 DNS Records\n",
    "\n",
    "- toc: true \n",
    "- badges: false\n",
    "- comments: true\n",
    "- categories: [aws]\n",
    "- keywords: [aws, dns, cname, alias, mx, aaaa]"
   ]
  },
  {
   "cell_type": "markdown",
   "metadata": {},
   "source": [
    "# About\n",
    "\n",
    "This post summarizes the differences between AWS Route53 DNS records namely A record, CNAME, ALIAS, and MX. Knowledge about these differences is commonly checked in AWS certifications."
   ]
  },
  {
   "cell_type": "markdown",
   "metadata": {},
   "source": [
    "# Credits\n",
    "\n",
    "This post takes help from a few other really good articles. Please refer to them if need more details on this subject\n",
    "\n",
    "  - > “Demystifying DNS Records – A, CNAME, ALIAS, MX & AAAA” from **Whizlabs (**[<span class=\"underline\">https://www.whizlabs.com/blog/dns-records/</span>](https://www.whizlabs.com/blog/dns-records/))\n",
    "\n",
    "  - > “Why a domain’s root can’t be a CNAME — and other tidbits about the DNS” from **freeCodeCamp (**[<span class=\"underline\">https://www.freecodecamp.org/news/why-cant-a-domain-s-root-be-a-cname-8cbab38e5f5c/</span>](https://www.freecodecamp.org/news/why-cant-a-domain-s-root-be-a-cname-8cbab38e5f5c/))"
   ]
  },
  {
   "cell_type": "markdown",
   "metadata": {},
   "source": [
    "# A Record\n",
    "\n",
    "A record (or an address record) always points to an IP address. This IP address should be static like AWS Elastic IP Addresses (EIP)\n",
    "\n",
    "## Example use cases\n",
    "\n",
    "  - > You can point your root domain name (also known as domain apex or naked domain) **example.com** to an Elastic IP Address **192.0.2.23**\n",
    "\n",
    "  - > We can also map EC2 instances IPv4 Public IP Address to an A record. But this is not recommended as EC2 instances public IP addresses change when you stop/start your server. We should always use Elastic IP addresses instead."
   ]
  },
  {
   "cell_type": "markdown",
   "metadata": {},
   "source": [
    "# AAAA Record\n",
    "\n",
    "AAAA record is similar to A record but for **IPv6 addresses**.\n",
    "\n",
    "  - > It always points to an IPv6 address\n",
    "\n",
    "  - > Note that AWS currently does not support EIP for IPv6 ([<span class=\"underline\">https://docs.aws.amazon.com/AWSEC2/latest/UserGuide/elastic-ip-addresses-eip.html</span>](https://docs.aws.amazon.com/AWSEC2/latest/UserGuide/elastic-ip-addresses-eip.html))"
   ]
  },
  {
   "cell_type": "markdown",
   "metadata": {},
   "source": [
    "# MX Record\n",
    "\n",
    "MX records (Mail Exchange records) are used for setting up **email servers**."
   ]
  },
  {
   "cell_type": "markdown",
   "metadata": {},
   "source": [
    "# CNAME Record\n",
    "\n",
    "CNAME records must always point to another domain name, never directly to an IP address. Since it does not point to an IP address, it is commonly used along with an A record.\n",
    "\n",
    "One can, for example, point ***ftp.example.com*** and/or ***www.example.com*** to the DNS entry ***example.com***, which in turn has an **A record** that points to the IP address. Then, if the IP address ever changes, one only has to record the change in one place within the network: in the DNS A record for ***example.com***.\n",
    "\n",
    "## Example use cases\n",
    "\n",
    "| NAME            | TYPE  | VALUE       |\n",
    "| --------------- | ----- | ----------- |\n",
    "| www.example.com | CNAME | example.com |\n",
    "| example.com     | A     | 192.0.2.23  |\n",
    "\n",
    "  - > An **A record** for ***example.com*** (root domain) points to server IP address\n",
    "\n",
    "  - > A **CNAME record** points ***www.example.com*** to ***example.com***\n",
    "\n",
    "Now if the IP address of your server has changed you will have to update it only at one place **A record**. www.example.com and example.com will automatically inherit the changes.\n",
    "\n",
    "**IMPORTANT**\n",
    "\n",
    "  - > ***CNAME entry for the root domain is not allowed***.\n",
    "\n",
    "| NAME            | TYPE  | VALUE           |\n",
    "| --------------- | ----- | --------------- |\n",
    "| example.com     | CNAME | app.example.com |\n",
    "| app.example.com | A     | 192.0.2.23      |"
   ]
  },
  {
   "cell_type": "markdown",
   "metadata": {},
   "source": [
    "# Alias Record\n",
    "\n",
    "It is AWS Route 53 specific and only works with it. Alias works similar to CNAME but they are created by AWS to solve their specific problems discussed next.\n",
    "\n",
    "AWS S3 buckets, Elastic Load Balancers, Elastic Beanstalk, and CloudFront offer you DNS names only and no IP addresses. e.g. when you create an S3 bucket you will get its DNS name **bucket\\_name.s3.amazonaws.com**. Now if you want to map your root domain **example.com** to S3 bucket DNS then we don’t have any options left as\n",
    "\n",
    "  - > A record points to IP addresses only\n",
    "\n",
    "  - > CNAME cannot be used for root domain name\n",
    "\n",
    "For this AWS came up with an Alias record in Route 53. With Alias record, you can point your domain root to another DNS name entry.\n",
    "\n",
    "| NAME            | TYPE  | VALUE                         |\n",
    "| --------------- | ----- | ----------------------------- |\n",
    "| www.example.com | CNAME | example.com                   |\n",
    "| example.com     | Alias | bucket\\_name.s3.amazonaws.com |\n"
   ]
  }
 ],
 "metadata": {
  "kernelspec": {
   "display_name": "visualization-curriculum-gF8wUgMm",
   "language": "python",
   "name": "visualization-curriculum-gf8wugmm"
  },
  "language_info": {
   "codemirror_mode": {
    "name": "ipython",
    "version": 3
   },
   "file_extension": ".py",
   "mimetype": "text/x-python",
   "name": "python",
   "nbconvert_exporter": "python",
   "pygments_lexer": "ipython3",
   "version": "3.6.7"
  },
  "varInspector": {
   "cols": {
    "lenName": 16,
    "lenType": 16,
    "lenVar": 40
   },
   "kernels_config": {
    "python": {
     "delete_cmd_postfix": "",
     "delete_cmd_prefix": "del ",
     "library": "var_list.py",
     "varRefreshCmd": "print(var_dic_list())"
    },
    "r": {
     "delete_cmd_postfix": ") ",
     "delete_cmd_prefix": "rm(",
     "library": "var_list.r",
     "varRefreshCmd": "cat(var_dic_list()) "
    }
   },
   "types_to_exclude": [
    "module",
    "function",
    "builtin_function_or_method",
    "instance",
    "_Feature"
   ],
   "window_display": false
  }
 },
 "nbformat": 4,
 "nbformat_minor": 4
}
