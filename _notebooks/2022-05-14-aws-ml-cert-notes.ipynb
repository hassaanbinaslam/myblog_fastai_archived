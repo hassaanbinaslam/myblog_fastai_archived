{
 "cells": [
  {
   "cell_type": "markdown",
   "metadata": {},
   "source": [
    "# AWS Machine Learning Certification Notes (MLS-C01)\n",
    "> My notes for the AWS ML speciality exam passed on May 14, 2022.\n",
    "\n",
    "- toc: true \n",
    "- badges: false\n",
    "- comments: true\n",
    "- categories: [aws, ml]\n",
    "- keyword: [aws, ml, certification, mlsc01]\n",
    "- image: images/2022-02-11-python-traceback.png"
   ]
  },
  {
   "cell_type": "markdown",
   "metadata": {},
   "source": [
    "# About\n",
    "This post is a compilation of important notes and references for AWS Machine Learning Certification MLSC01."
   ]
  },
  {
   "cell_type": "markdown",
   "metadata": {},
   "source": [
    "# Notes"
   ]
  },
  {
   "cell_type": "markdown",
   "metadata": {},
   "source": [
    "## Amazon Comprehend\n",
    "\n",
    "Amazon Comprehend is a natural-language processing (NLP) service that uses machine learning to uncover valuable insights and connections in text.\n",
    "\n",
    "**References**\n",
    "\n",
    "https://aws.amazon.com/comprehend/"
   ]
  },
  {
   "cell_type": "markdown",
   "metadata": {},
   "source": [
    "## Amazon Rekognition\n",
    "Amazon Rekognition offers pre-trained and customizable computer vision (CV) capabilities to extract information and insights from your images and videos.\n",
    "\n",
    "**References**\n",
    "\n",
    "https://aws.amazon.com/rekognition/"
   ]
  },
  {
   "cell_type": "markdown",
   "metadata": {},
   "source": [
    "## Amazon Polly\n",
    "Amazon Polly is a service that turns text into lifelike speech, allowing you to create applications that talk, and build entirely new categories of speech-enabled products.\n",
    "\n",
    "**References**\n",
    "\n",
    "https://aws.amazon.com/polly/"
   ]
  },
  {
   "cell_type": "markdown",
   "metadata": {},
   "source": [
    "## Amazon Lex\n",
    "Amazon Lex is a fully managed artificial intelligence (AI) service with advanced natural language models to design, build, test, and deploy conversational interfaces in applications (chat bots).\n",
    "\n",
    "**References**\n",
    "\n",
    "https://aws.amazon.com/lex/"
   ]
  },
  {
   "cell_type": "markdown",
   "metadata": {},
   "source": [
    "## Amazon Transcribe\n",
    "Amazon Transcribe is an automatic speech recognition service that makes it easy to add speech to text capabilities to any application. Transcribe’s features enable you to ingest audio input, produce easy to read and review transcripts, improve accuracy with customization, and filter content to ensure customer privacy.\n",
    "\n",
    "**References**\n",
    "\n",
    "https://aws.amazon.com/transcribe/"
   ]
  },
  {
   "cell_type": "markdown",
   "metadata": {},
   "source": [
    "## Latent Dirichlet Allocation (LDA) Algorithm\n",
    "* It is a topic modeling technique to generate abstract topics based on word frequency from a set of documents\n",
    "* It is similar to **unsupervised** classification of documents\n",
    "* It is useful for automatically organizing, summerizing, understanding and searching large electronic archives. It can help in\n",
    "  * discovering hidden themes in the collection\n",
    "  * classifying document into dicoverable themes\n",
    "  * organize/summerize/search the documents\n",
    "\n",
    "**References**\n",
    "\n",
    "https://towardsdatascience.com/latent-dirichlet-allocation-lda-9d1cd064ffa2"
   ]
  },
  {
   "cell_type": "markdown",
   "metadata": {},
   "source": [
    "## Multinomial Logistic Regression Algorithm\n",
    "\n",
    "Multinomial Logistic Regression is an extension of logistic regression (**supervised**) that allows more than two discrete outcomes (multiclass).\n",
    "\n",
    "**References**\n",
    "\n",
    "https://en.wikipedia.org/wiki/Multinomial_logistic_regression"
   ]
  },
  {
   "cell_type": "markdown",
   "metadata": {},
   "source": [
    "## Factorization Machines Algorithm\n",
    "\n",
    "The Factorization Machines algorithm is a general-purpose **supervised** learning algorithm that you can use for both classification and regression tasks. It is an extension of a linear model that is designed to capture interactions between features within high dimensional sparse datasets economically. For example, in a click prediction system, the Factorization Machines model can capture click rate patterns observed when ads from a certain ad-category are placed on pages from a certain page-category. Factorization machines are a good choice for tasks dealing with high dimensional sparse datasets, such as click prediction and item recommendation.\n",
    "\n",
    "**References**\n",
    "\n",
    "https://docs.aws.amazon.com/sagemaker/latest/dg/fact-machines.html"
   ]
  },
  {
   "cell_type": "markdown",
   "metadata": {},
   "source": [
    "## Sequence to Sequence (seq2seq) Algorithm\n",
    "Amazon SageMaker Sequence to Sequence is a supervised learning algorithm where the input is a sequence of tokens (for example, text, audio) and the output generated is another sequence of tokens. Example applications include\n",
    "* machine translation (input a sentence from one language and predict what that sentence would be in another language)\n",
    "* text summarization (input a longer string of words and predict a shorter string of words that is a summary)\n",
    "* speech-to-text (audio clips converted into output sentences in tokens)\n",
    "\n",
    "Problems in this domain have been successfully modeled with deep neural networks that show a significant performance boost over previous methodologies. Amazon SageMaker seq2seq uses Recurrent Neural Networks (RNNs) and Convolutional Neural Network (CNN) models with attention as encoder-decoder architectures.\n",
    "\n",
    "**References**\n",
    "\n",
    "https://docs.aws.amazon.com/sagemaker/latest/dg/seq-2-seq.html"
   ]
  },
  {
   "cell_type": "markdown",
   "metadata": {},
   "source": [
    "## Term frequency-inverse document frequency Algorithm\n",
    "\n",
    "TF-IDF (term frequency-inverse document frequency) is a statistical measure that evaluates how relevant a word is to a document in a collection of documents.\n",
    "\n",
    "This is done by multiplying two metrics: how many times a word appears in a document (frequency), and the inverse document frequency of the word across a set of documents.\n",
    "\n",
    "* The term **frequency** of a word in a document. There are several ways of calculating this frequency, with the simplest being a raw count of instances a word appears in a document. \n",
    "* The **inverse document frequency** of the word across a set of documents. This means, how common or rare a word is in the entire document set. The closer it is to 0, the more common a word is. This metric can be calculated by taking the total number of documents, dividing it by the number of documents that contain a word, and calculating the logarithm. So, if the word is very common and appears in many documents, this number will approach 0. Otherwise, it will approach 1\n",
    "\n",
    "It has many uses, most importantly in automated text analysis, and is very useful for scoring words in machine learning algorithms for Natural Language Processing (NLP).\n",
    "\n",
    "**References**\n",
    "\n",
    "https://monkeylearn.com/blog/what-is-tf-idf"
   ]
  },
  {
   "cell_type": "markdown",
   "metadata": {},
   "source": [
    "## BlazingText Algorithm\n",
    "\n",
    "The Amazon SageMaker BlazingText algorithm provides highly optimized implementations of the Word2vec and text classification algorithms. The Word2vec algorithm is useful for many downstream natural language processing (NLP) tasks, such as sentiment analysis, named entity recognition, machine translation, etc. Text classification is an important task for applications that perform web searches, information retrieval, ranking, and document classification.\n",
    "\n",
    "The Word2vec algorithm maps words to high-quality distributed vectors. The resulting vector representation of a word is called a word embedding. Words that are semantically similar correspond to vectors that are close together. That way, word embeddings capture the semantic relationships between words.\n",
    "\n",
    "**References**\n",
    "\n",
    "https://docs.aws.amazon.com/sagemaker/latest/dg/blazingtext.html"
   ]
  },
  {
   "cell_type": "markdown",
   "metadata": {},
   "source": [
    "## Amazon SageMaker Batch Transform\n",
    "\n",
    "Use batch transform when you need to do the following:\n",
    "\n",
    "* Preprocess datasets to remove noise or bias that interferes with training or inference from your dataset.\n",
    "* Get inferences from large datasets.\n",
    "* Run inference when you don't need a persistent endpoint.\n",
    "* Associate input records with inferences to assist the interpretation of results.\n",
    "\n",
    "**References**\n",
    "\n",
    "https://docs.aws.amazon.com/sagemaker/latest/dg/batch-transform.html"
   ]
  },
  {
   "cell_type": "markdown",
   "metadata": {},
   "source": [
    "## Amazon SageMaker Real-time inference / Hosting Services\n",
    "\n",
    "Real-time inference is ideal for inference workloads where you have real-time, interactive, low latency requirements. You can deploy your model to SageMaker hosting services and get an endpoint that can be used for inference. These endpoints are fully managed and support autoscaling.\n",
    "\n",
    "**References**\n",
    "\n",
    "https://docs.aws.amazon.com/sagemaker/latest/dg/realtime-endpoints.html"
   ]
  },
  {
   "cell_type": "markdown",
   "metadata": {},
   "source": [
    "## Amazon SageMaker Inference Pipeline\n",
    "\n",
    "An inference pipeline is a Amazon SageMaker model that is composed of a linear sequence of two to fifteen containers that process requests for inferences on data. You use an inference pipeline to define and deploy any combination of pretrained SageMaker built-in algorithms and your own custom algorithms packaged in Docker containers. You can use an inference pipeline to combine preprocessing, predictions, and post-processing data science tasks. Inference pipelines are fully managed.\n",
    "\n",
    "Within an inference pipeline model, SageMaker handles invocations as a sequence of HTTP requests. The first container in the pipeline handles the initial request, then the intermediate response is sent as a request to the second container, and so on, for each container in the pipeline. SageMaker returns the final response to the client.\n",
    "\n",
    "When you deploy the pipeline model, SageMaker installs and runs all of the containers on each Amazon Elastic Compute Cloud (Amazon EC2) instance in the endpoint or transform job. Feature processing and inferences run with low latency because the containers are co-located on the same EC2 instances.\n",
    "\n",
    "**References**\n",
    "\n",
    "https://docs.aws.amazon.com/sagemaker/latest/dg/inference-pipelines.html"
   ]
  },
  {
   "cell_type": "markdown",
   "metadata": {},
   "source": [
    "## Amazon SageMaker Neo\n",
    "Amazon SageMaker Neo automatically optimizes machine learning models for inference on cloud instances and edge devices to run faster with no loss in accuracy. You start with a machine learning model already built with DarkNet, Keras, MXNet, PyTorch, TensorFlow, TensorFlow-Lite, ONNX, or XGBoost and trained in Amazon SageMaker or anywhere else. Then you choose your target hardware platform, which can be a SageMaker hosting instance or an edge device based on processors from Ambarella, Apple, ARM, Intel, MediaTek, Nvidia, NXP, Qualcomm, RockChip, Texas Instruments, or Xilinx. With a single click, SageMaker Neo optimizes the trained model and compiles it into an executable. The compiler uses a machine learning model to apply the performance optimizations that extract the best available performance for your model on the cloud instance or edge device. You then deploy the model as a SageMaker endpoint or on supported edge devices and start making predictions.\n",
    "\n",
    "**References**\n",
    "\n",
    "https://aws.amazon.com/sagemaker/neo/"
   ]
  },
  {
   "cell_type": "markdown",
   "metadata": {},
   "source": [
    "## LSTM / Long Short-Term Memory\n",
    "\n",
    "LSTM is an artificial recurrent neural network (RNN) architecture used in the field of deep learning. Unlike standard feedforward neural networks, LSTM has feedback connections. It can process not only single data points (such as images), but also entire sequences of data (such as speech or video).\n",
    "\n",
    "LSTM networks are well-suited to classifying, processing and making predictions based on time series data, since there can be lags of unknown duration between important events in a time series. LSTM is applicable to tasks such as anomaly detection in network traffic or IDSs (intrusion detection systems)\n",
    "\n",
    "**References**\n",
    "\n",
    "https://en.wikipedia.org/wiki/Long_short-term_memory"
   ]
  },
  {
   "cell_type": "markdown",
   "metadata": {},
   "source": [
    "## Semantic Segmentation Algorithm\n",
    "\n",
    "The SageMaker semantic segmentation algorithm provides a fine-grained, pixel-level approach to developing computer vision applications. It tags every pixel in an image with a class label from a predefined set of classes. Tagging is fundamental for understanding scenes, which is critical to an increasing number of computer vision applications, such as self-driving vehicles, medical imaging diagnostics, and robot sensing.\n",
    "\n",
    "For comparison, the SageMaker Image Classification Algorithm is a supervised learning algorithm that analyzes only whole images, classifying them into one of multiple output categories. The Object Detection Algorithm is a supervised learning algorithm that detects and classifies all instances of an object in an image. It indicates the location and scale of each object in the image with a rectangular bounding box.\n",
    "\n",
    "Because the semantic segmentation algorithm classifies every pixel in an image, it also provides information about the shapes of the objects contained in the image. The segmentation output is represented as a grayscale image, called a segmentation mask. A segmentation mask is a grayscale image with the same shape as the input image.\n",
    "\n",
    "The SageMaker semantic segmentation algorithm is built using the MXNet Gluon framework and the Gluon CV toolkit. \n",
    "\n",
    "**References**\n",
    "* https://docs.aws.amazon.com/sagemaker/latest/dg/semantic-segmentation.html"
   ]
  },
  {
   "cell_type": "markdown",
   "metadata": {},
   "source": [
    "## Accuracy\n",
    "Accuracy measures the fraction of correct predictions. The range is 0 to 1.\n",
    "\n",
    "Accuracy = (TP + TN) / (TP + FP + TN + FN)\n",
    "\n",
    "## Precision\n",
    "Precision measures the fraction of actual positives among those examples that are predicted as positive. The range is 0 to 1. This formula tells us that the larger value of FP (False Positives), the lower the Precision.\n",
    "\n",
    "Precision = TP / (TP + FP)\n",
    "\n",
    "For maximun precision there should be no FP. FP are also called Type 1 error.\n",
    "\n",
    "## Recall\n",
    "The Recall measures the fraction of actual positives that are predicted as positive. The range is 0 to 1. This formula tells us that the larger value of FN (False Negatives), the lower the Recall.\n",
    "\n",
    "Recall = TP / (TP + FN)\n",
    "\n",
    "For maximun recall there should be no FN. FN are also called Type 2 error.\n",
    "\n",
    "Note: Precision and Recall are inversely proportional to eachother.\n",
    "\n",
    "**References**\n",
    "\n",
    "https://towardsdatascience.com/model-evaluation-i-precision-and-recall-166ddb257c7b"
   ]
  },
  {
   "cell_type": "markdown",
   "metadata": {},
   "source": [
    "## L1 regularization\n",
    "\n",
    "L1 regularization, also known as L1 norm or Lasso (in regression problems), combats overfitting by shrinking the parameters towards 0. This makes some features obsolete.\n",
    "\n",
    "It’s a form of feature selection, because when we assign a feature with a 0 weight, we’re multiplying the feature values by 0 which returns 0, eradicating the significance of that feature. If the input features of our model have weights closer to 0, our L1 norm would be sparse. A selection of the input features would have weights equal to zero, and the rest would be non-zero. \n",
    "\n",
    "## L2 regularization\n",
    "L2 regularization, or the L2 norm, or Ridge (in regression problems), combats overfitting by forcing weights to be small, but not making them exactly 0. This regularization returns a non-sparse solution since the weights will be non-zero (although some may be close to 0). A major snag to consider when using L2 regularization is that it’s not robust to outliers. \n",
    "\n",
    "**References**\n",
    "\n",
    "https://neptune.ai/blog/fighting-overfitting-with-l1-or-l2-regularization"
   ]
  },
  {
   "cell_type": "markdown",
   "metadata": {},
   "source": [
    "## K-means\n",
    "\n",
    "K-means is a **clustering algorithm** that tries to partition a set of points into K sets (clusters) such that the points in each cluster tend to be near each other. It is **unsupervised** because the points have no external classification.\n",
    "\n",
    "## K-nearest neighbors\n",
    "K-nearest neighbors is a **classification (or regression)** algorithm that in order to determine the classification of a point, combines the classification of the K nearest points. It is **supervised** because you are trying to classify a point based on the known classification of other points."
   ]
  },
  {
   "cell_type": "markdown",
   "metadata": {},
   "source": [
    "# Courses\n",
    "\n",
    "## Exam Readiness: AWS Certified Machine Learning - Specialty\n",
    "https://explore.skillbuilder.aws/learn/course/27/play/54/exam-readiness-aws-certified-machine-learning-specialty\n",
    "\n",
    "This is overall a very good short course that can help you identify your strengths and weaknesses in each exam domain so you know where to focus when studying for the exam.\n",
    "\n",
    "## ACloudGuru AWS Certified Machine Learning - Specialty 2020\n",
    "https://acloudguru.com/course/aws-certified-machine-learning-specialty\n",
    "\n",
    "This is a good detailed course on the topics covered in the exam. But this course lacks on \"Modeling\" domain and hands on labs. Beside taking this course you should have a good knowledge and working experience in data science and machine learning domain. I already have AI/ML backgorund so it was not a issue for me. Some people have recommended to take [Machine Learning, Data Science and Deep Learning with Python](https://www.udemy.com/course/data-science-and-machine-learning-with-python-hands-on/) from Frank Kane on Udemy if you don't have ML backgound but I am not sure about it's worth. "
   ]
  },
  {
   "cell_type": "markdown",
   "metadata": {},
   "source": [
    "# Practice Projects\n",
    "Beside preparing for the exam you should definity do some projects to build a good hands-on knowledge. For this you can use How-To Guides from AWS Getting Started Resource Center ([Link Here](https://aws.amazon.com/getting-started/hands-on/?awsf.getting-started-category=category%23machine-learning&awsf.getting-started-content-type=content-type%23hands-on&getting-started-all.sort-by=item.additionalFields.sortOrder&getting-started-all.sort-order=asc&awsf.getting-started-level=level%23200%7Clevel%23300)). Some of my favorite projects are\n",
    "* [Build, train, deploy, and monitor a machine learning model with Amazon SageMaker Studio](https://aws.amazon.com/getting-started/hands-on/build-train-deploy-monitor-machine-learning-model-sagemaker-studio/)\n",
    "* [Optimizing and Scaling Machine Learning Training with Managed Spot Training for Amazon SageMaker](https://aws.amazon.com/getting-started/hands-on/managed-spot-training-sagemaker/)"
   ]
  },
  {
   "cell_type": "markdown",
   "metadata": {},
   "source": [
    "# Practice Dumps\n",
    "For exam practice tests I have used Jon Bonso Udemy course [AWS Certified Machine Learning Specialty Practice Exams](https://www.udemy.com/course/aws-certified-machine-learning-specialty-practice-exams-amazon/)"
   ]
  },
  {
   "cell_type": "markdown",
   "metadata": {},
   "source": [
    "# Other Tips\n",
    "About a week before your exam date start checking [Reddit Communities](https://www.reddit.com/r/AWSCertifications/). From time to time people post about their achivements and experiences on taking the exam. People also mention about the services or topics that they were asked about during the exam. Keep a close eye on such post and try to find any topic that you have not covered before."
   ]
  }
 ],
 "metadata": {
  "kernelspec": {
   "display_name": "Python 3",
   "language": "python",
   "name": "python3"
  },
  "language_info": {
   "codemirror_mode": {
    "name": "ipython",
    "version": 3
   },
   "file_extension": ".py",
   "mimetype": "text/x-python",
   "name": "python",
   "nbconvert_exporter": "python",
   "pygments_lexer": "ipython3",
   "version": "3.8.5"
  },
  "varInspector": {
   "cols": {
    "lenName": 16,
    "lenType": 16,
    "lenVar": 40
   },
   "kernels_config": {
    "python": {
     "delete_cmd_postfix": "",
     "delete_cmd_prefix": "del ",
     "library": "var_list.py",
     "varRefreshCmd": "print(var_dic_list())"
    },
    "r": {
     "delete_cmd_postfix": ") ",
     "delete_cmd_prefix": "rm(",
     "library": "var_list.r",
     "varRefreshCmd": "cat(var_dic_list()) "
    }
   },
   "types_to_exclude": [
    "module",
    "function",
    "builtin_function_or_method",
    "instance",
    "_Feature"
   ],
   "window_display": false
  }
 },
 "nbformat": 4,
 "nbformat_minor": 4
}
