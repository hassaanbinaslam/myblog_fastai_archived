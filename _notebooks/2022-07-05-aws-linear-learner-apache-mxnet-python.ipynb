{
 "cells": [
  {
   "cell_type": "markdown",
   "metadata": {},
   "source": [
    "# Loading SageMaker Linear Learner Model with Apache MXNet in Python\n",
    "> How to load SageMaker Linear Learner model with Apache MXNet in Python.\n",
    "\n",
    "- toc: true \n",
    "- badges: true\n",
    "- comments: true\n",
    "- categories: [aws, ml, sagemaker]\n",
    "- keyword: [aws, ml, sagemaker, apache, mxnet, gluon]\n",
    "- image: images/copied_from_nb/images/2022-07-05-aws-linear-learner-apache-mxnet-python.jpeg"
   ]
  },
  {
   "cell_type": "markdown",
   "metadata": {},
   "source": [
    "![](images/2022-07-05-aws-linear-learner-apache-mxnet-python.jpeg)"
   ]
  },
  {
   "cell_type": "markdown",
   "metadata": {},
   "source": [
    "# About\n",
    "\n",
    "You have trained a model with Amazon SageMaker builtin algorithm [Linear Learner](https://docs.aws.amazon.com/sagemaker/latest/dg/linear-learner.html). You can test this model by deploying it on a SageMaker endpoint. But you want to test this model in your local environment. In this post we will learn to use Apache MXNet and Gluon API to load the model, extract its parameters, and perform predictions locally."
   ]
  },
  {
   "cell_type": "markdown",
   "metadata": {},
   "source": [
    "# Introdcution\n",
    "Apache MXNet is a fully featured, flexibly programmable, and ultra-scalable deep learning framework supporting state of the art in deep learning models, including convolutional neural networks (CNNs) and long short-term memory networks (LSTMs). Amazon has also selected MXNet as their deep learning framework of choice (see [Werner Vogels blog post](https://www.allthingsdistributed.com/2016/11/mxnet-default-framework-deep-learning-aws.html)). When you train a model using Amazon SageMaker builtin algorithm then there are high chances that the model has been trained and saved using MXNet framework. If a model has been saved with MXNet then we can use the same library to load and extract information from that model in a local environmenet.\n",
    "\n",
    "In my last post I had used SageMaker builtin Linear Learner algorithm to train a model on Boton housing dataset. One the training was complete the trained model artifacts were stored on the S3 bucket at the following location\n",
    "\n",
    "```\n",
    "s3://sagemaker-us-east-1-801598032724/2022-06-08-sagemaker-training-overview/output/linear-learner-2022-06-16-09-04-57-576/output/model.tar.gz\n",
    "```\n",
    "\n",
    "We will use MXNet Gluon API to load this model in our local environment, extract parameters, and make some predictions. "
   ]
  },
  {
   "cell_type": "markdown",
   "metadata": {},
   "source": [
    "# Environment\n",
    "This notebook is prepared with Amazon SageMaker Studio using Python 3 (Data Science) Kernel and ml.t3.medium instance."
   ]
  },
  {
   "cell_type": "markdown",
   "metadata": {},
   "source": [
    "# Loading a SageMaker Linear Learner model with Apache MXNet in Python"
   ]
  }
 ],
 "metadata": {
  "instance_type": "ml.t3.medium",
  "kernelspec": {
   "display_name": "Python 3.8.8 ('myblog')",
   "language": "python",
   "name": "python3"
  },
  "language_info": {
   "codemirror_mode": {
    "name": "ipython",
    "version": 3
   },
   "file_extension": ".py",
   "mimetype": "text/x-python",
   "name": "python",
   "nbconvert_exporter": "python",
   "pygments_lexer": "ipython3",
   "version": "3.8.8"
  },
  "varInspector": {
   "cols": {
    "lenName": 16,
    "lenType": 16,
    "lenVar": 40
   },
   "kernels_config": {
    "python": {
     "delete_cmd_postfix": "",
     "delete_cmd_prefix": "del ",
     "library": "var_list.py",
     "varRefreshCmd": "print(var_dic_list())"
    },
    "r": {
     "delete_cmd_postfix": ") ",
     "delete_cmd_prefix": "rm(",
     "library": "var_list.r",
     "varRefreshCmd": "cat(var_dic_list()) "
    }
   },
   "types_to_exclude": [
    "module",
    "function",
    "builtin_function_or_method",
    "instance",
    "_Feature"
   ],
   "window_display": false
  },
  "vscode": {
   "interpreter": {
    "hash": "bbac80ad2bfd54975e0c0f7ddf300156d5b24b5126f35dc262fa887f22fb28f1"
   }
  }
 },
 "nbformat": 4,
 "nbformat_minor": 4
}
