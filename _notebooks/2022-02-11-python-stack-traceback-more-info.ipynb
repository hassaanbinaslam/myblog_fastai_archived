{
 "cells": [
  {
   "cell_type": "markdown",
   "metadata": {},
   "source": [
    "# Python - Getting more information from Tracebacks\n",
    "> A tutorial to get more information from Python exception stack traceback.\n",
    "\n",
    "- toc: true \n",
    "- badges: true\n",
    "- comments: true\n",
    "- categories: [python]\n",
    "- keywords: [python, traceback, exception, frame]\n",
    "- image: images/2022-02-11-python-traceback.png"
   ]
  },
  {
   "cell_type": "markdown",
   "metadata": {},
   "source": [
    "## About\n",
    "This notebook demonstrates what the Python Traceback object is, and how can we get more information out of it to better diagnose exception messages.\n",
    "\n",
    "### Credit\n",
    "This blog post is based on an article originally written in `Python Cookbook` published by `O'Reilly Media, Inc.` and released July 2002. In book's chapter 15, there is a section with the title `Getting More Information from Tracebacks` written by `Bryn Keller`. An online version of this article is available at https://www.oreilly.com/library/view/python-cookbook/0596001673/ch14s05.html.\n",
    "\n",
    "The original article uses Python 2.2, but I have adapted it for Python 3.8. Also, I have added some commentary to give more insights on Python Traceback object."
   ]
  },
  {
   "cell_type": "markdown",
   "metadata": {},
   "source": [
    "### Environment Details "
   ]
  },
  {
   "cell_type": "code",
   "execution_count": 1,
   "metadata": {},
   "outputs": [
    {
     "name": "stdout",
     "output_type": "stream",
     "text": [
      "python==3.8.5\n"
     ]
    }
   ],
   "source": [
    "#collapse-hide\n",
    "from platform import python_version\n",
    "\n",
    "print(\"python==\" + python_version())"
   ]
  },
  {
   "cell_type": "markdown",
   "metadata": {},
   "source": [
    "## Discussion"
   ]
  },
  {
   "cell_type": "markdown",
   "metadata": {},
   "source": [
    "Consider the following toy example where we are getting some data from an external source (an API call, a DB call, etc.), and we need to find the length of individual items provided in the list. We know that items in the list will be of type `str` so we have used a `len()` function on it.\n",
    "\n",
    "We got an exception when we ran our function on received data, and now we are trying to investigate what caused the error."
   ]
  },
  {
   "cell_type": "code",
   "execution_count": 2,
   "metadata": {},
   "outputs": [],
   "source": [
    "#collapse-hide\n",
    "# this is intentionally hidden as we don't know about the data received from an external source. \n",
    "data = [\"1\", \"22\", 333, \"4444\"]"
   ]
  },
  {
   "cell_type": "code",
   "execution_count": 3,
   "metadata": {},
   "outputs": [],
   "source": [
    "##\n",
    "# our toy example function.\n",
    "import sys, traceback\n",
    "\n",
    "def get_items_len(items: list) -> list:\n",
    "    \"\"\"\n",
    "    this function returns the length of items received in a list.\n",
    "    \"\"\"\n",
    "    items_len = []\n",
    "    for i in items:\n",
    "        items_len.append(len(i))\n",
    "    \n",
    "    return items_len"
   ]
  },
  {
   "cell_type": "code",
   "execution_count": 4,
   "metadata": {},
   "outputs": [
    {
     "name": "stdout",
     "output_type": "stream",
     "text": [
      "None\n"
     ]
    },
    {
     "name": "stderr",
     "output_type": "stream",
     "text": [
      "Traceback (most recent call last):\n",
      "  File \"<ipython-input-4-42cd486e1858>\", line 4, in <module>\n",
      "    get_items_len(data)\n",
      "  File \"<ipython-input-3-8421f841ba77>\", line 11, in get_items_len\n",
      "    items_len.append(len(i))\n",
      "TypeError: object of type 'int' has no len()\n"
     ]
    }
   ],
   "source": [
    "##\n",
    "# let's run our function on \"data\" received from an external source\n",
    "try:\n",
    "    get_items_len(data)\n",
    "except Exception as e:\n",
    "    print(traceback.print_exc())"
   ]
  },
  {
   "cell_type": "markdown",
   "metadata": {},
   "source": [
    "We got an exception while data processing and the `Traceback` message gives us some details. It tells us that we have received some data of type _integer_ instead of _string_, and we are trying to call _len()_ function on it. But we don't know the actual data value that caused the exception, and we don't know the _index_ of the item in the list that caused this error. Depending on the use case, information about the local variables, or input data that caused the error can be crucial in diagnosing the root cause of an error.\n",
    "\n",
    "Fortunately, all this information is already available to us in the Traceback object, but there are no built-in methods that give this information directly. Let us try some of the built-in methods on the Traceback object to see the kind of information we could get from them."
   ]
  },
  {
   "cell_type": "code",
   "execution_count": 5,
   "metadata": {},
   "outputs": [
    {
     "name": "stdout",
     "output_type": "stream",
     "text": [
      "***** Exception *****\n",
      "object of type 'int' has no len()\n",
      "\n",
      "***** print_tb *****\n",
      "  File \"<ipython-input-5-73d5b316a567>\", line 4, in <module>\n",
      "    get_items_len(data)\n",
      "\n",
      "***** print_exception *****\n",
      "Traceback (most recent call last):\n",
      "  File \"<ipython-input-5-73d5b316a567>\", line 4, in <module>\n",
      "    get_items_len(data)\n",
      "  File \"<ipython-input-3-8421f841ba77>\", line 11, in get_items_len\n",
      "    items_len.append(len(i))\n",
      "TypeError: object of type 'int' has no len()\n",
      "\n",
      "***** print_exc *****\n",
      "Traceback (most recent call last):\n",
      "  File \"<ipython-input-5-73d5b316a567>\", line 4, in <module>\n",
      "    get_items_len(data)\n",
      "  File \"<ipython-input-3-8421f841ba77>\", line 11, in get_items_len\n",
      "    items_len.append(len(i))\n",
      "TypeError: object of type 'int' has no len()\n",
      "\n",
      "***** format_exc, first and last line *****\n",
      "Traceback (most recent call last):\n",
      "TypeError: object of type 'int' has no len()\n",
      "\n",
      "***** format_exception *****\n",
      "['Traceback (most recent call last):\\n', '  File \"<ipython-input-5-73d5b316a567>\", line 4, in <module>\\n    get_items_len(data)\\n', '  File \"<ipython-input-3-8421f841ba77>\", line 11, in get_items_len\\n    items_len.append(len(i))\\n', \"TypeError: object of type 'int' has no len()\\n\"]\n",
      "\n",
      "***** extract_tb *****\n",
      "[<FrameSummary file <ipython-input-5-73d5b316a567>, line 4 in <module>>, <FrameSummary file <ipython-input-3-8421f841ba77>, line 11 in get_items_len>]\n",
      "\n",
      "***** format_tb *****\n",
      "['  File \"<ipython-input-5-73d5b316a567>\", line 4, in <module>\\n    get_items_len(data)\\n', '  File \"<ipython-input-3-8421f841ba77>\", line 11, in get_items_len\\n    items_len.append(len(i))\\n']\n",
      "\n",
      "***** tb_lineno ***** 4\n"
     ]
    }
   ],
   "source": [
    "#collapse-output\n",
    "# calling traceback module built-in methods\n",
    "try:\n",
    "    get_items_len(data)\n",
    "except Exception as e:\n",
    "    print(\"***** Exception *****\")\n",
    "    print(e)\n",
    "\n",
    "    exc_type, exc_value, exc_traceback = sys.exc_info()\n",
    "    print(\"\\n***** print_tb *****\")\n",
    "    traceback.print_tb(exc_traceback, limit=1, file=sys.stdout)\n",
    "\n",
    "    print(\"\\n***** print_exception *****\")\n",
    "    # exc_type below is ignored on 3.5 and later\n",
    "    traceback.print_exception(exc_type, exc_value, exc_traceback,\n",
    "                                limit=2, file=sys.stdout)\n",
    "    \n",
    "    print(\"\\n***** print_exc *****\")\n",
    "    traceback.print_exc(limit=2, file=sys.stdout)\n",
    "\n",
    "    print(\"\\n***** format_exc, first and last line *****\")\n",
    "    formatted_lines = traceback.format_exc().splitlines()\n",
    "    print(formatted_lines[0])\n",
    "    print(formatted_lines[-1])\n",
    "\n",
    "    print(\"\\n***** format_exception *****\")\n",
    "    # exc_type below is ignored on 3.5 and later\n",
    "    print(repr(traceback.format_exception(exc_type, exc_value,\n",
    "                                            exc_traceback)))\n",
    "                                            \n",
    "    print(\"\\n***** extract_tb *****\")\n",
    "    print(repr(traceback.extract_tb(exc_traceback)))\n",
    "\n",
    "    print(\"\\n***** format_tb *****\")\n",
    "    print(repr(traceback.format_tb(exc_traceback)))\n",
    "\n",
    "    print(\"\\n***** tb_lineno *****\", exc_traceback.tb_lineno)"
   ]
  },
  {
   "cell_type": "markdown",
   "metadata": {},
   "source": [
    "All these methods are useful but we are still short on information about the state of local variables when the system crashed. Before writing our custom function to get the variables state at the time of exception, let us spend some time to understand the working of Traceback object."
   ]
  },
  {
   "cell_type": "markdown",
   "metadata": {},
   "source": [
    "### Traceback Module\n",
    "> https://docs.python.org/3/library/traceback.html <br>\n",
    "\n",
    "This module provides an easy-to-use interface to work with `traceback objects`. It provides multiple functions that we can use to extract the required information from traceback. So far, we have used methods from this module in the above examples."
   ]
  },
  {
   "cell_type": "markdown",
   "metadata": {},
   "source": [
    "\n",
    "### Traceback Objects\n",
    "> https://docs.python.org/3/reference/datamodel.html <br>\n",
    "> On this page search for term \"Traceback objects\"\n",
    "\n",
    "Traceback objects represent a stack trace of an exception. A traceback object is implicitly created when an exception occurs and may also be explicitly created by initializing an instance of class `types.TracebackType`. _traceback_ object is also an instance of _types.TracebackType_ class. When an exception occurs, a traceback object is initialized for us, and we can obtain it from any of the following two methods. \n",
    "1. It is available as a third item of the tuple returned by sys.exc_info() \"`(type, value, traceback)`\"\n",
    "2. It is available as the `__traceback__` object of the caught exception. \"`Exception.__traceback__`\"\n",
    "\n",
    "A traceback object is a linked list of nodes, where each node is a `Frame object`. Frame objects form their own linked list but in the opposite direction of traceback objects. Together they work like a doubly-linked list, and we can use them to move back and forth in the stack trace history. It is the frame objects that hold all the stack's important information. traceback object has some special attributes\n",
    "* `tb_next` point to the next level in the stack trace (towards the frame where the exception occurred), or `None` if there is no next level\n",
    "* `tb_frame` points to the execution frame of the current level\n",
    "* `tb_lineno` gives the line number where the exception occurred"
   ]
  },
  {
   "cell_type": "code",
   "execution_count": 6,
   "metadata": {},
   "outputs": [
    {
     "name": "stdout",
     "output_type": "stream",
     "text": [
      "<traceback object at 0x7f5c6c60e9c0>\n"
     ]
    }
   ],
   "source": [
    "##\n",
    "# method 1: get traceback object using sys.exc_info()\n",
    "try:\n",
    "    get_items_len(data)\n",
    "except Exception as e:\n",
    "    print(sys.exc_info()[2])"
   ]
  },
  {
   "cell_type": "code",
   "execution_count": 7,
   "metadata": {},
   "outputs": [
    {
     "name": "stdout",
     "output_type": "stream",
     "text": [
      "<traceback object at 0x7f5c6c5c0180>\n"
     ]
    }
   ],
   "source": [
    "##\n",
    "# method 2: get traceback object using Exception.__traceback__\n",
    "try:\n",
    "    get_items_len(data)\n",
    "except Exception as e:\n",
    "    print(e.__traceback__ )"
   ]
  },
  {
   "cell_type": "markdown",
   "metadata": {},
   "source": [
    "If there is no exception in the system, then calling sys.exc_info() will only return `None` values."
   ]
  },
  {
   "cell_type": "code",
   "execution_count": 8,
   "metadata": {},
   "outputs": [],
   "source": [
    "##\n",
    "# no exception is generated so sys.exc_info() will return None values.\n",
    "try:\n",
    "    get_items_len(['1','2','3','4'])\n",
    "except Exception as e:\n",
    "    print(sys.exc_info()[2])"
   ]
  },
  {
   "cell_type": "markdown",
   "metadata": {},
   "source": [
    "### Frame Objects\n",
    "> https://docs.python.org/3/reference/datamodel.html <br>\n",
    "> On this page search for term \"Frame objects\"\n",
    "\n",
    "Frame objects represent execution frames. It has some special attributes\n",
    "* `f_back` is a reference to the previous stack frame (towards the caller), or None if this is the bottom stack frame\n",
    "* `f_code` is the code object being executed in this frame. We will discuss `Code Objects` in next the section\n",
    "* `f_lineno` is the current line number of the frame — writing to this from within a trace function jumps to the given line (only for the bottom-most frame). A debugger can implement a Jump command (aka Set Next Statement) by writing to f_lineno. This attribute will give you the line number in the code on which exception occurred\n",
    "* `f_locals` is a dictionary used to lookup local variables. From this dictionary we can get all the local variables and their state at the time of exception\n",
    "* `f_globals` is a dictionary for global varaibles"
   ]
  },
  {
   "cell_type": "markdown",
   "metadata": {},
   "source": [
    "### Code Objects\n",
    "> https://docs.python.org/3/reference/datamodel.html <br>\n",
    "> On this page search for term \"Code Objects\"\n",
    "\n",
    "Code objects represent byte-compiled executable Python code or bytecode. Some of its attributes include\n",
    "* `co_name` gives the function name being executed\n",
    "* `co_filename` gives the filename from which the code was compiled\n",
    "\n",
    "There are many other helpful attributes in this object, and you may read about them from the docs."
   ]
  },
  {
   "cell_type": "markdown",
   "metadata": {},
   "source": [
    "### Visual representation of Traceback, Frame and Code Objects\n",
    "![](images/2022-02-11-python-traceback.png) \n",
    "\n",
    "*<center>figure 1: Visual representation of Traceback, Frame and Code Objects</center>*"
   ]
  },
  {
   "cell_type": "markdown",
   "metadata": {},
   "source": [
    "### Custom fuction for additional exception info\n",
    "Now with this additional information on stack trace objects, let us create a function to get variables state at the time of exception."
   ]
  },
  {
   "cell_type": "code",
   "execution_count": 9,
   "metadata": {},
   "outputs": [],
   "source": [
    "#collapse-show\n",
    "def exc_info_plus():\n",
    "    \"\"\"\n",
    "    Provides the usual traceback information, followed by a listing of all the\n",
    "    local variables in each frame.\n",
    "    \"\"\"\n",
    "    tb = sys.exc_info()[2]\n",
    "\n",
    "    # iterate forward to the last (most recent) traceback object.\n",
    "    while 1:\n",
    "        if not tb.tb_next:\n",
    "            break\n",
    "        tb = tb.tb_next\n",
    "    stack = []\n",
    "\n",
    "    # get the most recent traceback frame\n",
    "    f = tb.tb_frame\n",
    "\n",
    "    # iterate backwards from recent to oldest traceback frame \n",
    "    while f:\n",
    "        stack.append(f)\n",
    "        f = f.f_back\n",
    "    \n",
    "    # stack.reverse() # uncomment to get innermost (most recent) frame at the last\n",
    "\n",
    "    # get exception information and stack trace entries from most recent traceback object\n",
    "    exc_msg = traceback.format_exc()\n",
    "\n",
    "    exc_msg += \"\\n*** Locals by frame, innermost first ***\"\n",
    "    for frame in stack:\n",
    "        exc_msg += f\"\\nFrame {frame.f_code.co_name} in {frame.f_code.co_filename} at line {frame.f_lineno}\"\n",
    "        for key, value in frame.f_locals.items():\n",
    "            exc_msg += f\"\\n\\t {key:20} = \"\n",
    "            try:\n",
    "                data = str(value)\n",
    "                # limit variable's output to a certain number. You can adjust it as per your requirement.\n",
    "                # But not to remove it as output from large objects (e.g. Pandas DataFrame) can be troublesome. \n",
    "                output_limit = 50\n",
    "                exc_msg += (data[:output_limit] + \"...\") if len(data) > output_limit else data\n",
    "            except:\n",
    "                exc_msg += \"<ERROR WHILE PRINTING VALUE>\"\n",
    "\n",
    "    return exc_msg"
   ]
  },
  {
   "cell_type": "code",
   "execution_count": 10,
   "metadata": {},
   "outputs": [
    {
     "name": "stdout",
     "output_type": "stream",
     "text": [
      "Traceback (most recent call last):\n",
      "  File \"<ipython-input-10-01264d9e470a>\", line 4, in <module>\n",
      "    get_items_len(data)\n",
      "  File \"<ipython-input-3-8421f841ba77>\", line 11, in get_items_len\n",
      "    items_len.append(len(i))\n",
      "TypeError: object of type 'int' has no len()\n",
      "\n",
      "*** Locals by frame, innermost first ***\n",
      "Frame get_items_len in <ipython-input-3-8421f841ba77> at line 11\n",
      "\t items                = ['1', '22', 333, '4444']\n",
      "\t items_len            = [1, 2]\n",
      "\t i                    = 333\n",
      "Frame <module> in <ipython-input-10-01264d9e470a> at line 6\n",
      "\t __name__             = __main__\n",
      "\t __doc__              = Automatically created module for IPython interacti...\n",
      "\t __package__          = None\n",
      "\t __loader__           = None\n",
      "\t __spec__             = None\n",
      "\t __builtin__          = <module 'builtins' (built-in)>\n",
      "\t __builtins__         = <module 'builtins' (built-in)>\n",
      "\t _ih                  = ['', '#collapse-hide\\nfrom platform import python_...\n",
      "\t _oh                  = {}\n",
      "\t _dh                  = ['/data/_notebooks']\n",
      "\t In                   = ['', '#collapse-hide\\nfrom platform import python_...\n",
      "\t Out                  = {}\n",
      "\t get_ipython          = <bound method InteractiveShell.get_ipython of <ipy...\n",
      "\t exit                 = <IPython.core.autocall.ZMQExitAutocall object at 0...\n",
      "\t quit                 = <IPython.core.autocall.ZMQExitAutocall object at 0...\n",
      "\t _                    = \n",
      "\t __                   = \n",
      "\t ___                  = \n",
      "\t _i                   = #collapse-show\n",
      "def exc_info_plus():\n",
      "    \"\"\"\n",
      "    Pr...\n",
      "\t _ii                  = ##\n",
      "# no exception is generated so sys.exc_info() w...\n",
      "\t _iii                 = ##\n",
      "# method 2: get traceback object using Exceptio...\n",
      "\t _i1                  = #collapse-hide\n",
      "from platform import python_version...\n",
      "\t python_version       = <function python_version at 0x7f5c72dbc430>\n",
      "\t _i2                  = #collapse-hide\n",
      "# this is intentionally hidden as w...\n",
      "\t data                 = ['1', '22', 333, '4444']\n",
      "\t _i3                  = ##\n",
      "# our toy example function.\n",
      "import sys, traceba...\n",
      "\t sys                  = <module 'sys' (built-in)>\n",
      "\t traceback            = <module 'traceback' from '/usr/lib/python3.8/trace...\n",
      "\t get_items_len        = <function get_items_len at 0x7f5c6c62c790>\n",
      "\t _i4                  = ##\n",
      "# let's run our function on \"data\" received fro...\n",
      "\t _i5                  = #collapse-output\n",
      "# calling traceback module built-...\n",
      "\t exc_type             = <class 'TypeError'>\n",
      "\t exc_value            = object of type 'int' has no len()\n",
      "\t exc_traceback        = <traceback object at 0x7f5c6c5cf700>\n",
      "\t formatted_lines      = ['Traceback (most recent call last):', '  File \"<i...\n",
      "\t _i6                  = ##\n",
      "# method 1: get traceback object using sys.exc_...\n",
      "\t _i7                  = ##\n",
      "# method 2: get traceback object using Exceptio...\n",
      "\t _i8                  = ##\n",
      "# no exception is generated so sys.exc_info() w...\n",
      "\t _i9                  = #collapse-show\n",
      "def exc_info_plus():\n",
      "    \"\"\"\n",
      "    Pr...\n",
      "\t exc_info_plus        = <function exc_info_plus at 0x7f5c6c62cc10>\n",
      "\t _i10                 = #collapse-output\n",
      "#now let us try our custom except...\n",
      "\t e                    = object of type 'int' has no len()\n",
      "Frame run_code in /usr/local/lib/python3.8/dist-packages/IPython/core/interactiveshell.py at line 3418\n",
      "\t self                 = <ipykernel.zmqshell.ZMQInteractiveShell object at ...\n",
      "\t code_obj             = <code object <module> at 0x7f5c6c62eea0, file \"<ip...\n",
      "\t result               = <ExecutionResult object at 7f5c6c5c88e0, execution...\n",
      "\t async_               = False\n",
      "\t __tracebackhide__    = __ipython_bottom__\n",
      "\t old_excepthook       = <bound method IPKernelApp.excepthook of <ipykernel...\n",
      "\t outflag              = True\n",
      "Frame run_ast_nodes in /usr/local/lib/python3.8/dist-packages/IPython/core/interactiveshell.py at line 3338\n",
      "\t self                 = <ipykernel.zmqshell.ZMQInteractiveShell object at ...\n",
      "\t nodelist             = [<_ast.Try object at 0x7f5c6c5c8850>]\n",
      "\t cell_name            = <ipython-input-10-01264d9e470a>\n",
      "\t interactivity        = none\n",
      "\t compiler             = <IPython.core.compilerop.CachingCompiler object at...\n",
      "\t result               = <ExecutionResult object at 7f5c6c5c88e0, execution...\n",
      "\t to_run_exec          = [<_ast.Try object at 0x7f5c6c5c8850>]\n",
      "\t to_run_interactive   = []\n",
      "\t mod                  = <_ast.Module object at 0x7f5c6c5c8430>\n",
      "\t compare              = <function InteractiveShell.run_ast_nodes.<locals>....\n",
      "\t to_run               = [(<_ast.Try object at 0x7f5c6c5c8850>, 'exec')]\n",
      "\t node                 = <_ast.Try object at 0x7f5c6c5c8850>\n",
      "\t mode                 = exec\n",
      "\t code                 = <code object <module> at 0x7f5c6c62eea0, file \"<ip...\n",
      "\t asy                  = False\n",
      "\t _async               = False\n",
      "Frame run_cell_async in /usr/local/lib/python3.8/dist-packages/IPython/core/interactiveshell.py at line 3146\n",
      "\t raw_cell             = #collapse-output\n",
      "#now let us try our custom except...\n",
      "\t silent               = False\n",
      "\t shell_futures        = True\n",
      "\t transformed_cell     = #collapse-output\n",
      "#now let us try our custom except...\n",
      "\t preprocessing_exc_tuple = None\n",
      "\t info                 = <ExecutionInfo object at 7f5c6c5c8be0, raw_cell=\"#...\n",
      "\t error_before_exec    = <function InteractiveShell.run_cell_async.<locals>...\n",
      "\t cell                 = #collapse-output\n",
      "#now let us try our custom except...\n",
      "\t compiler             = <IPython.core.compilerop.CachingCompiler object at...\n",
      "\t _run_async           = False\n",
      "\t cell_name            = <ipython-input-10-01264d9e470a>\n",
      "\t code_ast             = <_ast.Module object at 0x7f5c6c5c85e0>\n",
      "\t interactivity        = last_expr\n",
      "\t result               = <ExecutionResult object at 7f5c6c5c88e0, execution...\n",
      "\t self                 = <ipykernel.zmqshell.ZMQInteractiveShell object at ...\n",
      "\t store_history        = True\n",
      "Frame _pseudo_sync_runner in /usr/local/lib/python3.8/dist-packages/IPython/core/async_helpers.py at line 68\n",
      "\t coro                 = <coroutine object InteractiveShell.run_cell_async ...\n",
      "Frame _run_cell in /usr/local/lib/python3.8/dist-packages/IPython/core/interactiveshell.py at line 2923\n",
      "\t self                 = <ipykernel.zmqshell.ZMQInteractiveShell object at ...\n",
      "\t raw_cell             = #collapse-output\n",
      "#now let us try our custom except...\n",
      "\t store_history        = True\n",
      "\t silent               = False\n",
      "\t shell_futures        = True\n",
      "\t preprocessing_exc_tuple = None\n",
      "\t transformed_cell     = #collapse-output\n",
      "#now let us try our custom except...\n",
      "\t coro                 = <coroutine object InteractiveShell.run_cell_async ...\n",
      "\t runner               = <function _pseudo_sync_runner at 0x7f5c724ba040>\n",
      "Frame run_cell in /usr/local/lib/python3.8/dist-packages/IPython/core/interactiveshell.py at line 2877\n",
      "\t self                 = <ipykernel.zmqshell.ZMQInteractiveShell object at ...\n",
      "\t raw_cell             = #collapse-output\n",
      "#now let us try our custom except...\n",
      "\t store_history        = True\n",
      "\t silent               = False\n",
      "\t shell_futures        = True\n",
      "\t result               = None\n",
      "Frame run_cell in /usr/local/lib/python3.8/dist-packages/ipykernel/zmqshell.py at line 539\n",
      "\t self                 = <ipykernel.zmqshell.ZMQInteractiveShell object at ...\n",
      "\t args                 = ('#collapse-output\\n#now let us try our custom exc...\n",
      "\t kwargs               = {'store_history': True, 'silent': False}\n",
      "\t __class__            = <class 'ipykernel.zmqshell.ZMQInteractiveShell'>\n",
      "Frame do_execute in /usr/local/lib/python3.8/dist-packages/ipykernel/ipkernel.py at line 302\n",
      "\t self                 = <ipykernel.ipkernel.IPythonKernel object at 0x7f5c...\n",
      "\t code                 = #collapse-output\n",
      "#now let us try our custom except...\n",
      "\t silent               = False\n",
      "\t store_history        = True\n",
      "\t user_expressions     = {}\n",
      "\t allow_stdin          = True\n",
      "\t reply_content        = {}\n",
      "\t run_cell             = <bound method InteractiveShell.run_cell_async of <...\n",
      "\t should_run_async     = <bound method InteractiveShell.should_run_async of...\n",
      "\t shell                = <ipykernel.zmqshell.ZMQInteractiveShell object at ...\n",
      "Frame wrapper in /usr/local/lib/python3.8/dist-packages/tornado/gen.py at line 234\n",
      "\t args                 = (<ipykernel.ipkernel.IPythonKernel object at 0x7f5...\n",
      "\t kwargs               = {}\n",
      "\t future               = <Future pending>\n",
      "\t ctx_run              = <built-in method run of Context object at 0x7f5c6c...\n",
      "\t result               = <generator object IPythonKernel.do_execute at 0x7f...\n",
      "\t func                 = <function IPythonKernel.do_execute at 0x7f5c6f6978...\n",
      "Frame execute_request in /usr/local/lib/python3.8/dist-packages/ipykernel/kernelbase.py at line 540\n",
      "\t self                 = <ipykernel.ipkernel.IPythonKernel object at 0x7f5c...\n",
      "\t stream               = <zmq.eventloop.zmqstream.ZMQStream object at 0x7f5...\n",
      "\t ident                = [b'e2e3826d25fb4c63876268cdc5a787ad']\n",
      "\t parent               = {'header': {'msg_id': '218114cb9837444cbd29466d87b...\n",
      "\t content              = {'code': '#collapse-output\\n#now let us try our cu...\n",
      "\t code                 = #collapse-output\n",
      "#now let us try our custom except...\n",
      "\t silent               = False\n",
      "\t store_history        = True\n",
      "\t user_expressions     = {}\n",
      "\t allow_stdin          = True\n",
      "\t stop_on_error        = True\n",
      "\t metadata             = {'started': datetime.datetime(2022, 2, 14, 9, 30, ...\n",
      "Frame wrapper in /usr/local/lib/python3.8/dist-packages/tornado/gen.py at line 234\n",
      "\t args                 = (<ipykernel.ipkernel.IPythonKernel object at 0x7f5...\n",
      "\t kwargs               = {}\n",
      "\t future               = <Future pending>\n",
      "\t ctx_run              = <built-in method run of Context object at 0x7f5c6c...\n",
      "\t result               = <generator object Kernel.execute_request at 0x7f5c...\n",
      "\t func                 = <function Kernel.execute_request at 0x7f5c6f747f70...\n",
      "Frame dispatch_shell in /usr/local/lib/python3.8/dist-packages/ipykernel/kernelbase.py at line 265\n",
      "\t self                 = <ipykernel.ipkernel.IPythonKernel object at 0x7f5c...\n",
      "\t stream               = <zmq.eventloop.zmqstream.ZMQStream object at 0x7f5...\n",
      "\t msg                  = {'header': {'msg_id': '218114cb9837444cbd29466d87b...\n",
      "\t idents               = [b'e2e3826d25fb4c63876268cdc5a787ad']\n",
      "\t msg_type             = execute_request\n",
      "\t handler              = <bound method Kernel.execute_request of <ipykernel...\n",
      "Frame wrapper in /usr/local/lib/python3.8/dist-packages/tornado/gen.py at line 234\n",
      "\t args                 = (<ipykernel.ipkernel.IPythonKernel object at 0x7f5...\n",
      "\t kwargs               = {}\n",
      "\t future               = <Future pending>\n",
      "\t ctx_run              = <built-in method run of Context object at 0x7f5c6f...\n",
      "\t result               = <generator object Kernel.dispatch_shell at 0x7f5c6...\n",
      "\t func                 = <function Kernel.dispatch_shell at 0x7f5c6f7473a0>\n",
      "Frame process_one in /usr/local/lib/python3.8/dist-packages/ipykernel/kernelbase.py at line 362\n",
      "\t self                 = <ipykernel.ipkernel.IPythonKernel object at 0x7f5c...\n",
      "\t wait                 = True\n",
      "\t priority             = 10\n",
      "\t t                    = 13\n",
      "\t dispatch             = <bound method Kernel.dispatch_shell of <ipykernel....\n",
      "\t args                 = (<zmq.eventloop.zmqstream.ZMQStream object at 0x7f...\n",
      "Frame run in /usr/local/lib/python3.8/dist-packages/tornado/gen.py at line 775\n",
      "\t self                 = <tornado.gen.Runner object at 0x7f5c6c60f8e0>\n",
      "\t future               = None\n",
      "\t exc_info             = None\n",
      "\t value                = (10, 13, <bound method Kernel.dispatch_shell of <i...\n",
      "Frame inner in /usr/local/lib/python3.8/dist-packages/tornado/gen.py at line 814\n",
      "\t f                    = None\n",
      "\t self                 = <tornado.gen.Runner object at 0x7f5c6c60f8e0>\n",
      "Frame _run_callback in /usr/local/lib/python3.8/dist-packages/tornado/ioloop.py at line 741\n",
      "\t self                 = <tornado.platform.asyncio.AsyncIOMainLoop object a...\n",
      "\t callback             = functools.partial(<function Runner.handle_yield.<l...\n",
      "Frame <lambda> in /usr/local/lib/python3.8/dist-packages/tornado/ioloop.py at line 688\n",
      "\t f                    = <Future finished result=(10, 13, <bound method...7...\n",
      "\t callback             = <function Runner.handle_yield.<locals>.inner at 0x...\n",
      "\t future               = <Future finished result=(10, 13, <bound method...7...\n",
      "\t self                 = <tornado.platform.asyncio.AsyncIOMainLoop object a...\n",
      "Frame _run in /usr/lib/python3.8/asyncio/events.py at line 81\n",
      "\t self                 = <Handle IOLoop.add_future.<locals>.<lambda>(<Futur...\n",
      "Frame _run_once in /usr/lib/python3.8/asyncio/base_events.py at line 1859\n",
      "\t self                 = <_UnixSelectorEventLoop running=True closed=False ...\n",
      "\t sched_count          = 0\n",
      "\t handle               = <Handle IOLoop.add_future.<locals>.<lambda>(<Futur...\n",
      "\t timeout              = 0\n",
      "\t event_list           = []\n",
      "\t end_time             = 113697.83311910101\n",
      "\t ntodo                = 2\n",
      "\t i                    = 0\n",
      "Frame run_forever in /usr/lib/python3.8/asyncio/base_events.py at line 570\n",
      "\t self                 = <_UnixSelectorEventLoop running=True closed=False ...\n",
      "\t old_agen_hooks       = asyncgen_hooks(firstiter=None, finalizer=None)\n",
      "Frame start in /usr/local/lib/python3.8/dist-packages/tornado/platform/asyncio.py at line 199\n",
      "\t self                 = <tornado.platform.asyncio.AsyncIOMainLoop object a...\n",
      "\t old_loop             = <_UnixSelectorEventLoop running=True closed=False ...\n",
      "Frame start in /usr/local/lib/python3.8/dist-packages/ipykernel/kernelapp.py at line 612\n",
      "\t self                 = <ipykernel.kernelapp.IPKernelApp object at 0x7f5c7...\n",
      "Frame launch_instance in /usr/local/lib/python3.8/dist-packages/traitlets/config/application.py at line 845\n",
      "\t cls                  = <class 'ipykernel.kernelapp.IPKernelApp'>\n",
      "\t argv                 = None\n",
      "\t kwargs               = {}\n",
      "\t app                  = <ipykernel.kernelapp.IPKernelApp object at 0x7f5c7...\n",
      "Frame <module> in /usr/local/lib/python3.8/dist-packages/ipykernel_launcher.py at line 16\n",
      "\t __name__             = __main__\n",
      "\t __doc__              = Entry point for launching an IPython kernel.\n",
      "\n",
      "This...\n",
      "\t __package__          = \n",
      "\t __loader__           = <_frozen_importlib_external.SourceFileLoader objec...\n",
      "\t __spec__             = ModuleSpec(name='ipykernel_launcher', loader=<_fro...\n",
      "\t __annotations__      = {}\n",
      "\t __builtins__         = <module 'builtins' (built-in)>\n",
      "\t __file__             = /usr/local/lib/python3.8/dist-packages/ipykernel_l...\n",
      "\t __cached__           = /usr/local/lib/python3.8/dist-packages/__pycache__...\n",
      "\t sys                  = <module 'sys' (built-in)>\n",
      "\t app                  = <module 'ipykernel.kernelapp' from '/usr/local/lib...\n",
      "Frame _run_code in /usr/lib/python3.8/runpy.py at line 87\n",
      "\t code                 = <code object <module> at 0x7f5c7317e030, file \"/us...\n",
      "\t run_globals          = {'__name__': '__main__', '__doc__': 'Entry point f...\n",
      "\t init_globals         = None\n",
      "\t mod_name             = __main__\n",
      "\t mod_spec             = ModuleSpec(name='ipykernel_launcher', loader=<_fro...\n",
      "\t pkg_name             = \n",
      "\t script_name          = None\n",
      "\t loader               = <_frozen_importlib_external.SourceFileLoader objec...\n",
      "\t fname                = /usr/local/lib/python3.8/dist-packages/ipykernel_l...\n",
      "\t cached               = /usr/local/lib/python3.8/dist-packages/__pycache__...\n",
      "Frame _run_module_as_main in /usr/lib/python3.8/runpy.py at line 194\n",
      "\t mod_name             = ipykernel_launcher\n",
      "\t alter_argv           = 1\n",
      "\t mod_spec             = ModuleSpec(name='ipykernel_launcher', loader=<_fro...\n",
      "\t code                 = <code object <module> at 0x7f5c7317e030, file \"/us...\n",
      "\t main_globals         = {'__name__': '__main__', '__doc__': 'Entry point f...\n"
     ]
    }
   ],
   "source": [
    "#collapse-output\n",
    "#now let us try our custom exception function and see the ouput\n",
    "try:\n",
    "    get_items_len(data)\n",
    "except Exception as e:\n",
    "    print(exc_info_plus())"
   ]
  },
  {
   "cell_type": "markdown",
   "metadata": {},
   "source": [
    "Note the output from the first stack frame in the above stack trace. It is easy now to see (_items_) that we received in our function. The item at index _i_ is also available (333) on which our function crashed. Using our custom function unexpected errors are logged in a format that makes it a lot easier to find and fix the errors. Let's fix our function to handle unexpected integer values."
   ]
  },
  {
   "cell_type": "code",
   "execution_count": 11,
   "metadata": {},
   "outputs": [
    {
     "data": {
      "text/plain": [
       "[1, 2, 3, 4]"
      ]
     },
     "execution_count": 11,
     "metadata": {},
     "output_type": "execute_result"
    }
   ],
   "source": [
    "##\n",
    "# let's fix our function to handle unexpected 'int' items by converting them to 'str'\n",
    "def get_items_len(items: list) -> list:\n",
    "    \"\"\"\n",
    "    this function returns the length of items received in a list.\n",
    "    \"\"\"\n",
    "    items_len = []\n",
    "    for i in map(str, items):\n",
    "        items_len.append(len(i))\n",
    "    \n",
    "    return items_len\n",
    "\n",
    "# test it again\n",
    "get_items_len(data)"
   ]
  },
  {
   "cell_type": "code",
   "execution_count": null,
   "metadata": {},
   "outputs": [],
   "source": []
  }
 ],
 "metadata": {
  "interpreter": {
   "hash": "1e915f0a29dc84041eaeb02b7b1a21c440e37a87b61d44d5e84a515737dc82bc"
  },
  "kernelspec": {
   "display_name": "Python 3",
   "language": "python",
   "name": "python3"
  },
  "language_info": {
   "codemirror_mode": {
    "name": "ipython",
    "version": 3
   },
   "file_extension": ".py",
   "mimetype": "text/x-python",
   "name": "python",
   "nbconvert_exporter": "python",
   "pygments_lexer": "ipython3",
   "version": "3.9.7"
  }
 },
 "nbformat": 4,
 "nbformat_minor": 2
}
