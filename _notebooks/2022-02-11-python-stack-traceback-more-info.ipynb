{
 "cells": [
  {
   "cell_type": "markdown",
   "metadata": {},
   "source": [
    "# Python - Getting more information from Tracebacks\n",
    "> A tutorial to get more information from Python exception stack traceback.\n",
    "\n",
    "- toc: true \n",
    "- badges: true\n",
    "- comments: true\n",
    "- categories: [python]"
   ]
  },
  {
   "cell_type": "markdown",
   "metadata": {},
   "source": [
    "## About\n",
    "This notebook demonstrates what Python Traceback object is, and how can we get more information out of it to better diagnose exception messages.\n",
    "\n",
    "### Credit\n",
    "This blog post is adapted from an article that was originally written in `Python Cookbook` published by `O'Reilly Media, Inc.` and released July 2002. In this book under chapter 15 there is a section with title `Getting More Information from Tracebacks` written by `Bryn Keller`. An online version of this article can be found at https://www.oreilly.com/library/view/python-cookbook/0596001673/ch14s05.html.\n",
    "\n",
    "Original article uses Python 2.2, but I have adapted it for Python 3.8. Also, I have added some commentory to give more insights on Python Traceback object."
   ]
  },
  {
   "cell_type": "markdown",
   "metadata": {},
   "source": [
    "### Environment Details "
   ]
  },
  {
   "cell_type": "code",
   "execution_count": 1,
   "metadata": {},
   "outputs": [
    {
     "name": "stdout",
     "output_type": "stream",
     "text": [
      "python==3.9.7\n"
     ]
    }
   ],
   "source": [
    "#collapse-hide\n",
    "from platform import python_version\n",
    "\n",
    "print(\"python==\" + python_version())"
   ]
  },
  {
   "cell_type": "markdown",
   "metadata": {},
   "source": [
    "## Discussion"
   ]
  },
  {
   "cell_type": "markdown",
   "metadata": {},
   "source": [
    "Consider a following toy example where we are getting some data from an external source (could be an API call, or a DB call), and we need to find the length of individual items provided in the list. We know that items in the list will be of type `str` so we have used a `len()` function on it.\n",
    "\n",
    "Once we ran our function on received data we got an exception, and now we are trying to investigate what caused the error."
   ]
  },
  {
   "cell_type": "code",
   "execution_count": 2,
   "metadata": {},
   "outputs": [],
   "source": [
    "#collapse-hide\n",
    "# this is intentionally hidden as we don't know about the data received from external source. \n",
    "data = [\"1\", \"22\", 333, \"4444\"]"
   ]
  },
  {
   "cell_type": "code",
   "execution_count": 3,
   "metadata": {},
   "outputs": [],
   "source": [
    "##\n",
    "# our toy example function.\n",
    "import sys, traceback\n",
    "\n",
    "def get_items_len(items: list) -> list:\n",
    "    \"\"\"\n",
    "    this function returns the length of items received in a list.\n",
    "    \"\"\"\n",
    "    items_len = []\n",
    "    for i in items:\n",
    "        items_len.append(len(i))\n",
    "    \n",
    "    return items_len"
   ]
  },
  {
   "cell_type": "code",
   "execution_count": 4,
   "metadata": {},
   "outputs": [
    {
     "name": "stdout",
     "output_type": "stream",
     "text": [
      "None\n"
     ]
    },
    {
     "name": "stderr",
     "output_type": "stream",
     "text": [
      "Traceback (most recent call last):\n",
      "  File \"C:\\Users\\HP\\AppData\\Local\\Temp/ipykernel_13208/4026001270.py\", line 4, in <module>\n",
      "    get_items_len(data)\n",
      "  File \"C:\\Users\\HP\\AppData\\Local\\Temp/ipykernel_13208/3663053895.py\", line 11, in get_items_len\n",
      "    items_len.append(len(i))\n",
      "TypeError: object of type 'int' has no len()\n"
     ]
    }
   ],
   "source": [
    "##\n",
    "# lets run our function on \"data\" received from an external source\n",
    "try:\n",
    "    get_items_len(data)\n",
    "except Exception as e:\n",
    "    print(traceback.print_exc())"
   ]
  },
  {
   "cell_type": "markdown",
   "metadata": {},
   "source": [
    "This is not looking good. While processing the data we have got an exception. The `Traceback` message is giving us some details. It tells us that we have received some data of type _integer_ instead of _string_, and we are trying to call _len()_ function on it. But we don't know the actual data value that caused the exception, or we don't know the _index_ of the item in the list that caused this error. Depending on the use case, information about the local variables state, or data that actually caused the error can be crutial in diagnosing the root cause of an  error.\n",
    "\n",
    "Fortunately, all this information is already available to us in 'Traceback' object, but there is no builtin method that can give this information directly. Let us try some of the builtin methods on Traceback object to see the kind of information we could get from it."
   ]
  },
  {
   "cell_type": "code",
   "execution_count": 5,
   "metadata": {},
   "outputs": [
    {
     "name": "stdout",
     "output_type": "stream",
     "text": [
      "***** Exception *****\n",
      "object of type 'int' has no len()\n",
      "\n",
      "***** print_tb *****\n",
      "  File \"C:\\Users\\HP\\AppData\\Local\\Temp/ipykernel_13208/1947054714.py\", line 4, in <module>\n",
      "    get_items_len(data)\n",
      "\n",
      "***** print_exception *****\n",
      "Traceback (most recent call last):\n",
      "  File \"C:\\Users\\HP\\AppData\\Local\\Temp/ipykernel_13208/1947054714.py\", line 4, in <module>\n",
      "    get_items_len(data)\n",
      "  File \"C:\\Users\\HP\\AppData\\Local\\Temp/ipykernel_13208/3663053895.py\", line 11, in get_items_len\n",
      "    items_len.append(len(i))\n",
      "TypeError: object of type 'int' has no len()\n",
      "\n",
      "***** print_exc *****\n",
      "Traceback (most recent call last):\n",
      "  File \"C:\\Users\\HP\\AppData\\Local\\Temp/ipykernel_13208/1947054714.py\", line 4, in <module>\n",
      "    get_items_len(data)\n",
      "  File \"C:\\Users\\HP\\AppData\\Local\\Temp/ipykernel_13208/3663053895.py\", line 11, in get_items_len\n",
      "    items_len.append(len(i))\n",
      "TypeError: object of type 'int' has no len()\n",
      "\n",
      "***** format_exc, first and last line *****\n",
      "Traceback (most recent call last):\n",
      "TypeError: object of type 'int' has no len()\n",
      "\n",
      "***** format_exception *****\n",
      "['Traceback (most recent call last):\\n', '  File \"C:\\\\Users\\\\HP\\\\AppData\\\\Local\\\\Temp/ipykernel_13208/1947054714.py\", line 4, in <module>\\n    get_items_len(data)\\n', '  File \"C:\\\\Users\\\\HP\\\\AppData\\\\Local\\\\Temp/ipykernel_13208/3663053895.py\", line 11, in get_items_len\\n    items_len.append(len(i))\\n', \"TypeError: object of type 'int' has no len()\\n\"]\n",
      "\n",
      "***** extract_tb *****\n",
      "[<FrameSummary file C:\\Users\\HP\\AppData\\Local\\Temp/ipykernel_13208/1947054714.py, line 4 in <module>>, <FrameSummary file C:\\Users\\HP\\AppData\\Local\\Temp/ipykernel_13208/3663053895.py, line 11 in get_items_len>]\n",
      "\n",
      "***** format_tb *****\n",
      "['  File \"C:\\\\Users\\\\HP\\\\AppData\\\\Local\\\\Temp/ipykernel_13208/1947054714.py\", line 4, in <module>\\n    get_items_len(data)\\n', '  File \"C:\\\\Users\\\\HP\\\\AppData\\\\Local\\\\Temp/ipykernel_13208/3663053895.py\", line 11, in get_items_len\\n    items_len.append(len(i))\\n']\n",
      "\n",
      "***** tb_lineno ***** 4\n"
     ]
    }
   ],
   "source": [
    "#collapse-output\n",
    "# calling traceback module builtin methods\n",
    "try:\n",
    "    get_items_len(data)\n",
    "except Exception as e:\n",
    "    print(\"***** Exception *****\")\n",
    "    print(e)\n",
    "\n",
    "    exc_type, exc_value, exc_traceback = sys.exc_info()\n",
    "    print(\"\\n***** print_tb *****\")\n",
    "    traceback.print_tb(exc_traceback, limit=1, file=sys.stdout)\n",
    "\n",
    "    print(\"\\n***** print_exception *****\")\n",
    "    # exc_type below is ignored on 3.5 and later\n",
    "    traceback.print_exception(exc_type, exc_value, exc_traceback,\n",
    "                                limit=2, file=sys.stdout)\n",
    "    print(\"\\n***** print_exc *****\")\n",
    "    traceback.print_exc(limit=2, file=sys.stdout)\n",
    "\n",
    "    print(\"\\n***** format_exc, first and last line *****\")\n",
    "    formatted_lines = traceback.format_exc().splitlines()\n",
    "    print(formatted_lines[0])\n",
    "    print(formatted_lines[-1])\n",
    "\n",
    "    print(\"\\n***** format_exception *****\")\n",
    "    # exc_type below is ignored on 3.5 and later\n",
    "    print(repr(traceback.format_exception(exc_type, exc_value,\n",
    "                                            exc_traceback)))\n",
    "                                            \n",
    "    print(\"\\n***** extract_tb *****\")\n",
    "    print(repr(traceback.extract_tb(exc_traceback)))\n",
    "\n",
    "    print(\"\\n***** format_tb *****\")\n",
    "    print(repr(traceback.format_tb(exc_traceback)))\n",
    "\n",
    "    print(\"\\n***** tb_lineno *****\", exc_traceback.tb_lineno)"
   ]
  },
  {
   "cell_type": "markdown",
   "metadata": {},
   "source": [
    "All these methods are useful but we are still short on information about the state of local variables when the system crashed.\n",
    "\n",
    "Before writing our custom function to get variable state, let us spend some time to understand the working of Python Traceback object."
   ]
  },
  {
   "cell_type": "markdown",
   "metadata": {},
   "source": [
    "### Traceback Module\n",
    "> https://docs.python.org/3/library/traceback.html\n",
    "\n",
    "This module provides an easy to use interface to work with `traceback objects`. It provides multiple functions that we can use extract required information from traceback. So far we have used methods from this module in above examples."
   ]
  },
  {
   "cell_type": "markdown",
   "metadata": {},
   "source": [
    "\n",
    "### Traceback Objects\n",
    "> https://docs.python.org/3/reference/datamodel.html <br>\n",
    "> On this page search for term \"Traceback objects\"\n",
    "\n",
    "Traceback objects represent a stack trace of an exception. A traceback object is implicitly created when an exception occurs, and may also be explicitly created by initializing an instance of class `types.TracebackType`. _traceback_ object is also an instance of _types.TracebackType_ class. When an exception occurs traceback object is initialized for us, and we can obtain it from any of the following two methods. \n",
    "1. It is available as a third item of the tuple returned by sys.exc_info() \"`(type, value, traceback)`\"\n",
    "2. It is available as the `__traceback__` object of the caught exception. \"`Exception.__traceback__`\"\n",
    "\n",
    "A traceback object is basically a linked list of nodes, where each node is a `Frame object`. Frame objects form their own linked list but in opposite direction of traceback objects. Together they work like a doubly linked list, and we can use them to move back and forth in the stack trace history. It is the frame objects that hold all the stack important information. traceback object has some special attributes\n",
    "* `tb_next` point to the next level in the stack trace (towards the frame where the exception occurred), or None if there is no next levela\n",
    "* `tb_frame` points to the execution frame of the current level\n",
    "* `tb_lineno` gives the line number where the exception occurred"
   ]
  },
  {
   "cell_type": "code",
   "execution_count": 6,
   "metadata": {},
   "outputs": [
    {
     "name": "stdout",
     "output_type": "stream",
     "text": [
      "<traceback object at 0x00000183900E2740>\n"
     ]
    }
   ],
   "source": [
    "##\n",
    "# method 1: get traceback object using sys.exc_info()\n",
    "try:\n",
    "    get_items_len(data)\n",
    "except Exception as e:\n",
    "    print(sys.exc_info()[2])"
   ]
  },
  {
   "cell_type": "code",
   "execution_count": 7,
   "metadata": {},
   "outputs": [
    {
     "name": "stdout",
     "output_type": "stream",
     "text": [
      "<traceback object at 0x0000018390049500>\n"
     ]
    }
   ],
   "source": [
    "##\n",
    "# method 2: get traceback object using Exception.__traceback__\n",
    "try:\n",
    "    get_items_len(data)\n",
    "except Exception as e:\n",
    "    print(e.__traceback__ )"
   ]
  },
  {
   "cell_type": "markdown",
   "metadata": {},
   "source": [
    "If there is no exception in the system, then calling sys.exc_info() will only return `None` values."
   ]
  },
  {
   "cell_type": "code",
   "execution_count": 8,
   "metadata": {},
   "outputs": [],
   "source": [
    "##\n",
    "# no exception generated so sys.exc_info() will return None values.\n",
    "try:\n",
    "    get_items_len(['1','2','3','4'])\n",
    "except Exception as e:\n",
    "    print(sys.exc_info()[2])"
   ]
  },
  {
   "cell_type": "markdown",
   "metadata": {},
   "source": [
    "### Frame Objects\n",
    "> https://docs.python.org/3/reference/datamodel.html <br>\n",
    "> On this page search for term \"Frame objects\"\n",
    "\n",
    "Frame objects represents execution frames. It has some special attributes\n",
    "* `f_back` It is reference to the previous stack frame (towards the caller), or None if this is the bottom stack frame\n",
    "* `f_code` It is the code object being executed in this frame. We will discuss `Code Objects` in next section\n",
    "* `f_lineno` It is the current line number of the frame — writing to this from within a trace function jumps to the given line (only for the bottom-most frame). A debugger can implement a Jump command (aka Set Next Statement) by writing to f_lineno. This attribute will give you the line number in code at which exception occured\n",
    "* `f_locals` A dictionary used to lookup local variables. From this dictionary we can get all the local variables and their state at the time of exception\n",
    "* `f_globals` A dictionary for global varaibles"
   ]
  },
  {
   "cell_type": "markdown",
   "metadata": {},
   "source": [
    "### Code Objects\n",
    "> https://docs.python.org/3/reference/datamodel.html <br>\n",
    "> On this page search for term \"Code Objects\"\n",
    "\n",
    "Code objects represent byte-compiled executable Python code, or bytecode. It has some very helpful attributes\n",
    "* `co_name` It gives the function name being executed\n",
    "* `co_filename` It gives the filename from which the code was compiled\n",
    "\n",
    "There are many other very special attributes in this object but we are not interested in them for now. You may read about them from the docs."
   ]
  },
  {
   "cell_type": "markdown",
   "metadata": {},
   "source": [
    "### Visual Representation of Traceback, Frame and Code Objects\n",
    "![](..\\images\\2022\\2022-02-11-python-traceback.png)"
   ]
  },
  {
   "cell_type": "markdown",
   "metadata": {},
   "source": [
    "### Custom fuction for additional exception info\n",
    "Now with some addition information about stack trace internal objects, lets create a function to get variables state at the time of exception."
   ]
  },
  {
   "cell_type": "code",
   "execution_count": 9,
   "metadata": {},
   "outputs": [],
   "source": [
    "#collapse-show\n",
    "def exc_info_plus():\n",
    "    \"\"\"\n",
    "    Provides the usual traceback information, followed by a listing of all the\n",
    "    local variables in each frame.\n",
    "    \"\"\"\n",
    "    tb = sys.exc_info()[2]\n",
    "\n",
    "    # iterate forward to the last (most recent) traceback object.\n",
    "    while 1:\n",
    "        if not tb.tb_next:\n",
    "            break\n",
    "        tb = tb.tb_next\n",
    "    stack = []\n",
    "\n",
    "    # get the traceback frame\n",
    "    f = tb.tb_frame\n",
    "\n",
    "    # iterate backwards from recent to oldest traceback frame \n",
    "    while f:\n",
    "        stack.append(f)\n",
    "        f = f.f_back\n",
    "    \n",
    "    # oldest frame is at the top. reverse it to get the recent frame at the top.\n",
    "    stack.reverse()\n",
    "\n",
    "    # get exception information and stack trace entries from most recent traceback object\n",
    "    exc_msg = traceback.format_exc()\n",
    "\n",
    "    exc_msg += \"\\n*** Locals by frame, innermost last ***\"\n",
    "    for frame in stack:\n",
    "        exc_msg += f\"\\nFrame {frame.f_code.co_name} in {frame.f_code.co_filename} at line {frame.f_lineno}\"\n",
    "        for key, value in frame.f_locals.items():\n",
    "            exc_msg += f\"\\n\\t {key:20} = \"\n",
    "            try:\n",
    "                data = str(value)\n",
    "                # limit variable output to a certain number. But you can adjust it as per your requirement.\n",
    "                # Better to have an upper limit. If removed then large objects (e.g. Pandas DataFrame) can be troublesome. \n",
    "                output_limit = 50\n",
    "                exc_msg += (data[:output_limit] + \"...\") if len(data) > output_limit else data\n",
    "            except:\n",
    "                exc_msg += \"<ERROR WHILE PRINTING VALUE>\"\n",
    "\n",
    "    return exc_msg"
   ]
  },
  {
   "cell_type": "code",
   "execution_count": 10,
   "metadata": {},
   "outputs": [
    {
     "name": "stdout",
     "output_type": "stream",
     "text": [
      "Traceback (most recent call last):\n",
      "  File \"C:\\Users\\HP\\AppData\\Local\\Temp/ipykernel_13208/1949264869.py\", line 4, in <module>\n",
      "    get_items_len(data)\n",
      "  File \"C:\\Users\\HP\\AppData\\Local\\Temp/ipykernel_13208/3663053895.py\", line 11, in get_items_len\n",
      "    items_len.append(len(i))\n",
      "TypeError: object of type 'int' has no len()\n",
      "\n",
      "*** Locals by frame, innermost last ***\n",
      "Frame _run_module_as_main in C:\\Users\\HP\\anaconda3\\lib\\runpy.py at line 197\n",
      "\t mod_name             = ipykernel_launcher\n",
      "\t alter_argv           = True\n",
      "\t mod_spec             = ModuleSpec(name='ipykernel_launcher', loader=<_fro...\n",
      "\t code                 = <code object <module> at 0x0000018389A6CDF0, file ...\n",
      "\t main_globals         = {'__name__': '__main__', '__doc__': 'Entry point f...\n",
      "Frame _run_code in C:\\Users\\HP\\anaconda3\\lib\\runpy.py at line 87\n",
      "\t code                 = <code object <module> at 0x0000018389A6CDF0, file ...\n",
      "\t run_globals          = {'__name__': '__main__', '__doc__': 'Entry point f...\n",
      "\t init_globals         = None\n",
      "\t mod_name             = __main__\n",
      "\t mod_spec             = ModuleSpec(name='ipykernel_launcher', loader=<_fro...\n",
      "\t pkg_name             = \n",
      "\t script_name          = None\n",
      "\t loader               = <_frozen_importlib_external.SourceFileLoader objec...\n",
      "\t fname                = C:\\Users\\HP\\anaconda3\\lib\\site-packages\\ipykernel_...\n",
      "\t cached               = C:\\Users\\HP\\anaconda3\\lib\\site-packages\\__pycache_...\n",
      "Frame <module> in C:\\Users\\HP\\anaconda3\\lib\\site-packages\\ipykernel_launcher.py at line 16\n",
      "\t __name__             = __main__\n",
      "\t __doc__              = Entry point for launching an IPython kernel.\n",
      "\n",
      "This...\n",
      "\t __package__          = \n",
      "\t __loader__           = <_frozen_importlib_external.SourceFileLoader objec...\n",
      "\t __spec__             = ModuleSpec(name='ipykernel_launcher', loader=<_fro...\n",
      "\t __annotations__      = {}\n",
      "\t __builtins__         = <module 'builtins' (built-in)>\n",
      "\t __file__             = C:\\Users\\HP\\anaconda3\\lib\\site-packages\\ipykernel_...\n",
      "\t __cached__           = C:\\Users\\HP\\anaconda3\\lib\\site-packages\\__pycache_...\n",
      "\t sys                  = <module 'sys' (built-in)>\n",
      "\t app                  = <module 'ipykernel.kernelapp' from 'C:\\\\Users\\\\HP\\...\n",
      "Frame launch_instance in C:\\Users\\HP\\anaconda3\\lib\\site-packages\\traitlets\\config\\application.py at line 846\n",
      "\t cls                  = <class 'ipykernel.kernelapp.IPKernelApp'>\n",
      "\t argv                 = None\n",
      "\t kwargs               = {}\n",
      "\t app                  = <ipykernel.kernelapp.IPKernelApp object at 0x00000...\n",
      "Frame start in C:\\Users\\HP\\anaconda3\\lib\\site-packages\\ipykernel\\kernelapp.py at line 677\n",
      "\t self                 = <ipykernel.kernelapp.IPKernelApp object at 0x00000...\n",
      "Frame start in C:\\Users\\HP\\anaconda3\\lib\\site-packages\\tornado\\platform\\asyncio.py at line 199\n",
      "\t self                 = <tornado.platform.asyncio.AsyncIOMainLoop object a...\n",
      "\t old_loop             = <_WindowsSelectorEventLoop running=True closed=Fal...\n",
      "Frame run_forever in C:\\Users\\HP\\anaconda3\\lib\\asyncio\\base_events.py at line 596\n",
      "\t self                 = <_WindowsSelectorEventLoop running=True closed=Fal...\n",
      "\t old_agen_hooks       = asyncgen_hooks(firstiter=None, finalizer=None)\n",
      "Frame _run_once in C:\\Users\\HP\\anaconda3\\lib\\asyncio\\base_events.py at line 1890\n",
      "\t self                 = <_WindowsSelectorEventLoop running=True closed=Fal...\n",
      "\t sched_count          = 0\n",
      "\t handle               = <Handle <TaskWakeupMethWrapper object at 0x0000018...\n",
      "\t timeout              = 0\n",
      "\t event_list           = []\n",
      "\t end_time             = 968658.218625\n",
      "\t ntodo                = 2\n",
      "\t i                    = 0\n",
      "Frame _run in C:\\Users\\HP\\anaconda3\\lib\\asyncio\\events.py at line 80\n",
      "\t self                 = <Handle <TaskWakeupMethWrapper object at 0x0000018...\n",
      "Frame dispatch_queue in C:\\Users\\HP\\anaconda3\\lib\\site-packages\\ipykernel\\kernelbase.py at line 457\n",
      "\t self                 = <ipykernel.ipkernel.IPythonKernel object at 0x0000...\n",
      "Frame process_one in C:\\Users\\HP\\anaconda3\\lib\\site-packages\\ipykernel\\kernelbase.py at line 446\n",
      "\t self                 = <ipykernel.ipkernel.IPythonKernel object at 0x0000...\n",
      "\t wait                 = True\n",
      "\t t                    = 15\n",
      "\t dispatch             = <bound method Kernel.dispatch_shell of <ipykernel....\n",
      "\t args                 = ([<zmq.sugar.frame.Frame object at 0x000001838E0D2...\n",
      "Frame dispatch_shell in C:\\Users\\HP\\anaconda3\\lib\\site-packages\\ipykernel\\kernelbase.py at line 353\n",
      "\t self                 = <ipykernel.ipkernel.IPythonKernel object at 0x0000...\n",
      "\t msg                  = {'header': {'date': datetime.datetime(2022, 2, 13,...\n",
      "\t idents               = [b'3e64e5d5-ea5b-41a5-a856-7736d729df46']\n",
      "\t msg_type             = execute_request\n",
      "\t handler              = <bound method Kernel.execute_request of <ipykernel...\n",
      "\t result               = <coroutine object Kernel.execute_request at 0x0000...\n",
      "Frame execute_request in C:\\Users\\HP\\anaconda3\\lib\\site-packages\\ipykernel\\kernelbase.py at line 648\n",
      "\t self                 = <ipykernel.ipkernel.IPythonKernel object at 0x0000...\n",
      "\t stream               = <zmq.eventloop.zmqstream.ZMQStream object at 0x000...\n",
      "\t ident                = [b'3e64e5d5-ea5b-41a5-a856-7736d729df46']\n",
      "\t parent               = {'header': {'date': datetime.datetime(2022, 2, 13,...\n",
      "\t content              = {'silent': False, 'store_history': True, 'user_exp...\n",
      "\t code                 = #collapse-output\n",
      "#now lets try our custom exceptio...\n",
      "\t silent               = False\n",
      "\t store_history        = True\n",
      "\t user_expressions     = {}\n",
      "\t allow_stdin          = True\n",
      "\t stop_on_error        = False\n",
      "\t metadata             = {'started': datetime.datetime(2022, 2, 13, 17, 41,...\n",
      "\t reply_content        = <coroutine object IPythonKernel.do_execute at 0x00...\n",
      "Frame do_execute in C:\\Users\\HP\\anaconda3\\lib\\site-packages\\ipykernel\\ipkernel.py at line 353\n",
      "\t self                 = <ipykernel.ipkernel.IPythonKernel object at 0x0000...\n",
      "\t code                 = #collapse-output\n",
      "#now lets try our custom exceptio...\n",
      "\t silent               = False\n",
      "\t store_history        = True\n",
      "\t user_expressions     = {}\n",
      "\t allow_stdin          = True\n",
      "\t reply_content        = {}\n",
      "\t run_cell             = <bound method InteractiveShell.run_cell_async of <...\n",
      "\t should_run_async     = <bound method InteractiveShell.should_run_async of...\n",
      "\t preprocessing_exc_tuple = None\n",
      "\t transformed_cell     = #collapse-output\n",
      "#now lets try our custom exceptio...\n",
      "\t shell                = <ipykernel.zmqshell.ZMQInteractiveShell object at ...\n",
      "Frame run_cell in C:\\Users\\HP\\anaconda3\\lib\\site-packages\\ipykernel\\zmqshell.py at line 533\n",
      "\t self                 = <ipykernel.zmqshell.ZMQInteractiveShell object at ...\n",
      "\t args                 = ('#collapse-output\\n#now lets try our custom excep...\n",
      "\t kwargs               = {'store_history': True, 'silent': False}\n",
      "\t __class__            = <class 'ipykernel.zmqshell.ZMQInteractiveShell'>\n",
      "Frame run_cell in C:\\Users\\HP\\anaconda3\\lib\\site-packages\\IPython\\core\\interactiveshell.py at line 2901\n",
      "\t self                 = <ipykernel.zmqshell.ZMQInteractiveShell object at ...\n",
      "\t raw_cell             = #collapse-output\n",
      "#now lets try our custom exceptio...\n",
      "\t store_history        = True\n",
      "\t silent               = False\n",
      "\t shell_futures        = True\n",
      "\t result               = None\n",
      "Frame _run_cell in C:\\Users\\HP\\anaconda3\\lib\\site-packages\\IPython\\core\\interactiveshell.py at line 2947\n",
      "\t self                 = <ipykernel.zmqshell.ZMQInteractiveShell object at ...\n",
      "\t raw_cell             = #collapse-output\n",
      "#now lets try our custom exceptio...\n",
      "\t store_history        = True\n",
      "\t silent               = False\n",
      "\t shell_futures        = True\n",
      "\t preprocessing_exc_tuple = None\n",
      "\t transformed_cell     = #collapse-output\n",
      "#now lets try our custom exceptio...\n",
      "\t coro                 = <coroutine object InteractiveShell.run_cell_async ...\n",
      "\t runner               = <function _pseudo_sync_runner at 0x000001838C686C1...\n",
      "Frame _pseudo_sync_runner in C:\\Users\\HP\\anaconda3\\lib\\site-packages\\IPython\\core\\async_helpers.py at line 68\n",
      "\t coro                 = <coroutine object InteractiveShell.run_cell_async ...\n",
      "Frame run_cell_async in C:\\Users\\HP\\anaconda3\\lib\\site-packages\\IPython\\core\\interactiveshell.py at line 3172\n",
      "\t raw_cell             = #collapse-output\n",
      "#now lets try our custom exceptio...\n",
      "\t silent               = False\n",
      "\t shell_futures        = True\n",
      "\t transformed_cell     = #collapse-output\n",
      "#now lets try our custom exceptio...\n",
      "\t preprocessing_exc_tuple = None\n",
      "\t info                 = <ExecutionInfo object at 18390e8c790, raw_cell=\"#c...\n",
      "\t error_before_exec    = <function InteractiveShell.run_cell_async.<locals>...\n",
      "\t cell                 = #collapse-output\n",
      "#now lets try our custom exceptio...\n",
      "\t compiler             = <ipykernel.compiler.XCachingCompiler object at 0x0...\n",
      "\t _run_async           = False\n",
      "\t cell_name            = C:\\Users\\HP\\AppData\\Local\\Temp/ipykernel_13208/194...\n",
      "\t code_ast             = <ast.Module object at 0x0000018390E8C580>\n",
      "\t interactivity        = last_expr\n",
      "\t result               = <ExecutionResult object at 18390e8c7f0, execution_...\n",
      "\t self                 = <ipykernel.zmqshell.ZMQInteractiveShell object at ...\n",
      "\t store_history        = True\n",
      "Frame run_ast_nodes in C:\\Users\\HP\\anaconda3\\lib\\site-packages\\IPython\\core\\interactiveshell.py at line 3364\n",
      "\t self                 = <ipykernel.zmqshell.ZMQInteractiveShell object at ...\n",
      "\t nodelist             = [<ast.Try object at 0x0000018390E8C5B0>]\n",
      "\t cell_name            = C:\\Users\\HP\\AppData\\Local\\Temp/ipykernel_13208/194...\n",
      "\t interactivity        = none\n",
      "\t compiler             = <ipykernel.compiler.XCachingCompiler object at 0x0...\n",
      "\t result               = <ExecutionResult object at 18390e8c7f0, execution_...\n",
      "\t to_run_exec          = [<ast.Try object at 0x0000018390E8C5B0>]\n",
      "\t to_run_interactive   = []\n",
      "\t mod                  = <ast.Module object at 0x0000018390E8CCA0>\n",
      "\t compare              = <function InteractiveShell.run_ast_nodes.<locals>....\n",
      "\t to_run               = [(<ast.Try object at 0x0000018390E8C5B0>, 'exec')]\n",
      "\t node                 = <ast.Try object at 0x0000018390E8C5B0>\n",
      "\t mode                 = exec\n",
      "\t code                 = <code object <module> at 0x000001838E1A6EA0, file ...\n",
      "\t asy                  = False\n",
      "\t _async               = False\n",
      "Frame run_code in C:\\Users\\HP\\anaconda3\\lib\\site-packages\\IPython\\core\\interactiveshell.py at line 3444\n",
      "\t self                 = <ipykernel.zmqshell.ZMQInteractiveShell object at ...\n",
      "\t code_obj             = <code object <module> at 0x000001838E1A6EA0, file ...\n",
      "\t result               = <ExecutionResult object at 18390e8c7f0, execution_...\n",
      "\t async_               = False\n",
      "\t __tracebackhide__    = __ipython_bottom__\n",
      "\t old_excepthook       = <bound method IPKernelApp.excepthook of <ipykernel...\n",
      "\t outflag              = True\n",
      "Frame <module> in C:\\Users\\HP\\AppData\\Local\\Temp/ipykernel_13208/1949264869.py at line 6\n",
      "\t __name__             = __main__\n",
      "\t __doc__              = Automatically created module for IPython interacti...\n",
      "\t __package__          = None\n",
      "\t __loader__           = None\n",
      "\t __spec__             = None\n",
      "\t __builtin__          = <module 'builtins' (built-in)>\n",
      "\t __builtins__         = <module 'builtins' (built-in)>\n",
      "\t _ih                  = ['', '#collapse-hide\\nfrom platform import python_...\n",
      "\t _oh                  = {}\n",
      "\t _dh                  = ['c:\\\\MyWorkspace\\\\gitrepos\\\\myblog\\\\myblog\\\\_note...\n",
      "\t In                   = ['', '#collapse-hide\\nfrom platform import python_...\n",
      "\t Out                  = {}\n",
      "\t get_ipython          = <bound method InteractiveShell.get_ipython of <ipy...\n",
      "\t exit                 = <IPython.core.autocall.ZMQExitAutocall object at 0...\n",
      "\t quit                 = <IPython.core.autocall.ZMQExitAutocall object at 0...\n",
      "\t _                    = \n",
      "\t __                   = \n",
      "\t ___                  = \n",
      "\t sys                  = <module 'sys' (built-in)>\n",
      "\t site                 = <module 'site' from 'C:\\\\Users\\\\HP\\\\anaconda3\\\\lib...\n",
      "\t os                   = <module 'os' from 'C:\\\\Users\\\\HP\\\\anaconda3\\\\lib\\\\...\n",
      "\t __vsc_ipynb_file__   = c:\\MyWorkspace\\gitrepos\\myblog\\myblog\\_notebooks\\2...\n",
      "\t _i                   = #collapse-show\n",
      "def exc_info_plus():\n",
      "    \"\"\"\n",
      "    Pr...\n",
      "\t _ii                  = ##\n",
      "# no exception generated so sys.exc_info() will...\n",
      "\t _iii                 = ##\n",
      "# method 2: get traceback object using Exceptio...\n",
      "\t _i1                  = #collapse-hide\n",
      "from platform import python_version...\n",
      "\t python_version       = <function python_version at 0x000001838A0D8040>\n",
      "\t _i2                  = #collapse-hide\n",
      "# this is intentionally hidden as w...\n",
      "\t data                 = ['1', '22', 333, '4444']\n",
      "\t _i3                  = ##\n",
      "# our toy example function.\n",
      "import sys, traceba...\n",
      "\t traceback            = <module 'traceback' from 'C:\\\\Users\\\\HP\\\\anaconda3...\n",
      "\t get_items_len        = <function get_items_len at 0x000001838E1C0310>\n",
      "\t _i4                  = ##\n",
      "# lets run our function on \"data\" received from...\n",
      "\t _i5                  = #collapse-output\n",
      "# calling traceback module builti...\n",
      "\t exc_type             = <class 'TypeError'>\n",
      "\t exc_value            = object of type 'int' has no len()\n",
      "\t exc_traceback        = <traceback object at 0x000001838E0BD280>\n",
      "\t formatted_lines      = ['Traceback (most recent call last):', '  File \"C:...\n",
      "\t _i6                  = ##\n",
      "# method 1: get traceback object using sys.exc_...\n",
      "\t _i7                  = ##\n",
      "# method 2: get traceback object using Exceptio...\n",
      "\t _i8                  = ##\n",
      "# no exception generated so sys.exc_info() will...\n",
      "\t _i9                  = #collapse-show\n",
      "def exc_info_plus():\n",
      "    \"\"\"\n",
      "    Pr...\n",
      "\t exc_info_plus        = <function exc_info_plus at 0x00000183900E11F0>\n",
      "\t _i10                 = #collapse-output\n",
      "#now lets try our custom exceptio...\n",
      "\t e                    = object of type 'int' has no len()\n",
      "Frame get_items_len in C:\\Users\\HP\\AppData\\Local\\Temp/ipykernel_13208/3663053895.py at line 11\n",
      "\t items                = ['1', '22', 333, '4444']\n",
      "\t items_len            = [1, 2]\n",
      "\t i                    = 333\n"
     ]
    }
   ],
   "source": [
    "#collapse-output\n",
    "#now lets try our custom exception function\n",
    "try:\n",
    "    get_items_len(data)\n",
    "except Exception as e:\n",
    "    print(exc_info_plus())"
   ]
  },
  {
   "cell_type": "markdown",
   "metadata": {},
   "source": [
    "Note the last three lines in above stack trace. How easy it is to see the input (_items_) that we received in our function. Also the item at index _i_ is 333 is also available on which our function crashed. Using our custom function unexpected errors are logged in a format that makes it a lot easier to find and fix the errors. Finally, we can fix our function to handle unexpected integer values"
   ]
  },
  {
   "cell_type": "code",
   "execution_count": 11,
   "metadata": {},
   "outputs": [
    {
     "data": {
      "text/plain": [
       "[1, 2, 3, 4]"
      ]
     },
     "execution_count": 11,
     "metadata": {},
     "output_type": "execute_result"
    }
   ],
   "source": [
    "##\n",
    "# lets fix our function to handle unexpected 'int' items by converting them to 'str'\n",
    "def get_items_len(items: list) -> list:\n",
    "    \"\"\"\n",
    "    this function returns the length of items received in a list.\n",
    "    \"\"\"\n",
    "    items_len = []\n",
    "    for i in map(str, items):\n",
    "        items_len.append(len(i))\n",
    "    \n",
    "    return items_len\n",
    "\n",
    "# let's test our function again\n",
    "get_items_len(data)"
   ]
  }
 ],
 "metadata": {
  "interpreter": {
   "hash": "1e915f0a29dc84041eaeb02b7b1a21c440e37a87b61d44d5e84a515737dc82bc"
  },
  "kernelspec": {
   "display_name": "Python 3",
   "language": "python",
   "name": "python3"
  },
  "language_info": {
   "codemirror_mode": {
    "name": "ipython",
    "version": 3
   },
   "file_extension": ".py",
   "mimetype": "text/x-python",
   "name": "python",
   "nbconvert_exporter": "python",
   "pygments_lexer": "ipython3",
   "version": "3.9.7"
  }
 },
 "nbformat": 4,
 "nbformat_minor": 2
}
