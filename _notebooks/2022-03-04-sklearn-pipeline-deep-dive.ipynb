{
 "cells": [
  {
   "cell_type": "markdown",
   "metadata": {},
   "source": [
    "# Sklearn Pipeline and Transformers Deep Dive \n",
    "> A detailed tutorial on Sklearn Pipeline, ColumnTransformer, FunctionTransformer, and a custom transformer.\n",
    "\n",
    "- toc: true \n",
    "- badges: true\n",
    "- comments: true\n",
    "- categories: [ml, sklearn]\n",
    "- keywords: [sklearn, transformer, pipeline, ColumnTransformer, FunctionTransformer]\n",
    "- image: images/copied_from_nb/images/2022-03-04-sklearn-pipeline-deep-dive.jpeg"
   ]
  },
  {
   "cell_type": "markdown",
   "metadata": {},
   "source": [
    "![](images/2022-03-04-sklearn-pipeline-deep-dive.jpeg)"
   ]
  },
  {
   "cell_type": "markdown",
   "metadata": {},
   "source": [
    "## About"
   ]
  },
  {
   "cell_type": "markdown",
   "metadata": {},
   "source": [
    "This notebook shows various ways to work with Skearn Pipelines.\n",
    "* We will start with some of the limitations of pipelines and how to overcome them\n",
    "* We will discuss getting a dataframe from a pipeline instead of a NumPy array, and the benefits of this approach\n",
    "* We will learn how to use CustomTransformer and a FunctionTrasformer\n",
    "* We will also build a custom transformer to do some feature engineering\n",
    "* Along the way, we will also see how to avoid common mistakes while creating pipelines"
   ]
  },
  {
   "cell_type": "markdown",
   "metadata": {},
   "source": [
    "## Setup\n",
    "### Environment Details"
   ]
  },
  {
   "cell_type": "code",
   "execution_count": 1,
   "metadata": {},
   "outputs": [
    {
     "name": "stdout",
     "output_type": "stream",
     "text": [
      "python==3.8.8\n",
      "sklearn==1.0.2\n",
      "numpy==1.20.1\n",
      "pandas==1.2.3\n",
      "matplotlib==3.5.1\n"
     ]
    }
   ],
   "source": [
    "#collapse-hide\n",
    "from platform import python_version\n",
    "import sklearn, numpy, matplotlib, pandas\n",
    "\n",
    "print(\"python==\" + python_version())\n",
    "print(\"sklearn==\" + sklearn.__version__)\n",
    "print(\"numpy==\" + numpy.__version__)\n",
    "print(\"pandas==\" + pandas.__version__)\n",
    "print(\"matplotlib==\" + matplotlib.__version__)"
   ]
  },
  {
   "cell_type": "markdown",
   "metadata": {},
   "source": [
    "### Loading Data"
   ]
  },
  {
   "cell_type": "markdown",
   "metadata": {},
   "source": [
    "For this example we will use the original `Titanic` dataset, describing the survival status of individual passengers on the Titanic ship.\n",
    "\n",
    "Some notes from original source:\n",
    "* The variables on our extracted dataset are 'pclass', 'name', 'sex', 'age', 'sibsp', 'parch', 'ticket', 'fare','cabin', 'embarked', 'boat', 'body', and 'home.dest'. \n",
    "* pclass refers to passenger class (1st, 2nd, 3rd), and is a proxy for socio-economic class. \n",
    "* Age is in years, and some infants had fractional values.\n",
    "* sibsp = Number of Siblings/Spouses aboard\n",
    "* parch = Number of Parents/Children aboard\n",
    "* The target is either a person survived or not (1 or 0)\n",
    "\n",
    "**Important note**: The purpose of this notebook is not to train a best model on titanic data, but to understand the working of Sklearn pipeline and transformers. So please be mindful of that."
   ]
  },
  {
   "cell_type": "code",
   "execution_count": 2,
   "metadata": {},
   "outputs": [
    {
     "data": {
      "text/html": [
       "<div>\n",
       "<style scoped>\n",
       "    .dataframe tbody tr th:only-of-type {\n",
       "        vertical-align: middle;\n",
       "    }\n",
       "\n",
       "    .dataframe tbody tr th {\n",
       "        vertical-align: top;\n",
       "    }\n",
       "\n",
       "    .dataframe thead th {\n",
       "        text-align: right;\n",
       "    }\n",
       "</style>\n",
       "<table border=\"1\" class=\"dataframe\">\n",
       "  <thead>\n",
       "    <tr style=\"text-align: right;\">\n",
       "      <th></th>\n",
       "      <th>pclass</th>\n",
       "      <th>name</th>\n",
       "      <th>sex</th>\n",
       "      <th>age</th>\n",
       "      <th>sibsp</th>\n",
       "      <th>parch</th>\n",
       "      <th>ticket</th>\n",
       "      <th>fare</th>\n",
       "      <th>cabin</th>\n",
       "      <th>embarked</th>\n",
       "      <th>boat</th>\n",
       "      <th>body</th>\n",
       "      <th>home.dest</th>\n",
       "    </tr>\n",
       "  </thead>\n",
       "  <tbody>\n",
       "    <tr>\n",
       "      <th>0</th>\n",
       "      <td>1.0</td>\n",
       "      <td>Allen, Miss. Elisabeth Walton</td>\n",
       "      <td>female</td>\n",
       "      <td>29.0000</td>\n",
       "      <td>0.0</td>\n",
       "      <td>0.0</td>\n",
       "      <td>24160</td>\n",
       "      <td>211.3375</td>\n",
       "      <td>B5</td>\n",
       "      <td>S</td>\n",
       "      <td>2</td>\n",
       "      <td>NaN</td>\n",
       "      <td>St Louis, MO</td>\n",
       "    </tr>\n",
       "    <tr>\n",
       "      <th>1</th>\n",
       "      <td>1.0</td>\n",
       "      <td>Allison, Master. Hudson Trevor</td>\n",
       "      <td>male</td>\n",
       "      <td>0.9167</td>\n",
       "      <td>1.0</td>\n",
       "      <td>2.0</td>\n",
       "      <td>113781</td>\n",
       "      <td>151.5500</td>\n",
       "      <td>C22 C26</td>\n",
       "      <td>S</td>\n",
       "      <td>11</td>\n",
       "      <td>NaN</td>\n",
       "      <td>Montreal, PQ / Chesterville, ON</td>\n",
       "    </tr>\n",
       "    <tr>\n",
       "      <th>2</th>\n",
       "      <td>1.0</td>\n",
       "      <td>Allison, Miss. Helen Loraine</td>\n",
       "      <td>female</td>\n",
       "      <td>2.0000</td>\n",
       "      <td>1.0</td>\n",
       "      <td>2.0</td>\n",
       "      <td>113781</td>\n",
       "      <td>151.5500</td>\n",
       "      <td>C22 C26</td>\n",
       "      <td>S</td>\n",
       "      <td>None</td>\n",
       "      <td>NaN</td>\n",
       "      <td>Montreal, PQ / Chesterville, ON</td>\n",
       "    </tr>\n",
       "    <tr>\n",
       "      <th>3</th>\n",
       "      <td>1.0</td>\n",
       "      <td>Allison, Mr. Hudson Joshua Creighton</td>\n",
       "      <td>male</td>\n",
       "      <td>30.0000</td>\n",
       "      <td>1.0</td>\n",
       "      <td>2.0</td>\n",
       "      <td>113781</td>\n",
       "      <td>151.5500</td>\n",
       "      <td>C22 C26</td>\n",
       "      <td>S</td>\n",
       "      <td>None</td>\n",
       "      <td>135.0</td>\n",
       "      <td>Montreal, PQ / Chesterville, ON</td>\n",
       "    </tr>\n",
       "    <tr>\n",
       "      <th>4</th>\n",
       "      <td>1.0</td>\n",
       "      <td>Allison, Mrs. Hudson J C (Bessie Waldo Daniels)</td>\n",
       "      <td>female</td>\n",
       "      <td>25.0000</td>\n",
       "      <td>1.0</td>\n",
       "      <td>2.0</td>\n",
       "      <td>113781</td>\n",
       "      <td>151.5500</td>\n",
       "      <td>C22 C26</td>\n",
       "      <td>S</td>\n",
       "      <td>None</td>\n",
       "      <td>NaN</td>\n",
       "      <td>Montreal, PQ / Chesterville, ON</td>\n",
       "    </tr>\n",
       "  </tbody>\n",
       "</table>\n",
       "</div>"
      ],
      "text/plain": [
       "   pclass                                             name     sex      age  \\\n",
       "0     1.0                    Allen, Miss. Elisabeth Walton  female  29.0000   \n",
       "1     1.0                   Allison, Master. Hudson Trevor    male   0.9167   \n",
       "2     1.0                     Allison, Miss. Helen Loraine  female   2.0000   \n",
       "3     1.0             Allison, Mr. Hudson Joshua Creighton    male  30.0000   \n",
       "4     1.0  Allison, Mrs. Hudson J C (Bessie Waldo Daniels)  female  25.0000   \n",
       "\n",
       "   sibsp  parch  ticket      fare    cabin embarked  boat   body  \\\n",
       "0    0.0    0.0   24160  211.3375       B5        S     2    NaN   \n",
       "1    1.0    2.0  113781  151.5500  C22 C26        S    11    NaN   \n",
       "2    1.0    2.0  113781  151.5500  C22 C26        S  None    NaN   \n",
       "3    1.0    2.0  113781  151.5500  C22 C26        S  None  135.0   \n",
       "4    1.0    2.0  113781  151.5500  C22 C26        S  None    NaN   \n",
       "\n",
       "                         home.dest  \n",
       "0                     St Louis, MO  \n",
       "1  Montreal, PQ / Chesterville, ON  \n",
       "2  Montreal, PQ / Chesterville, ON  \n",
       "3  Montreal, PQ / Chesterville, ON  \n",
       "4  Montreal, PQ / Chesterville, ON  "
      ]
     },
     "execution_count": 2,
     "metadata": {},
     "output_type": "execute_result"
    }
   ],
   "source": [
    "from sklearn.datasets import fetch_openml\n",
    "from sklearn.model_selection import train_test_split\n",
    "import numpy as np\n",
    "\n",
    "np.random.seed(42) # for consistency\n",
    "\n",
    "# Load data from https://www.openml.org/d/40945\n",
    "X, y = fetch_openml(\"titanic\", version=1, as_frame=True, return_X_y=True)\n",
    "\n",
    "X.head()"
   ]
  },
  {
   "cell_type": "code",
   "execution_count": 3,
   "metadata": {},
   "outputs": [
    {
     "data": {
      "text/plain": [
       "body         1188\n",
       "cabin        1014\n",
       "boat          823\n",
       "home.dest     564\n",
       "age           263\n",
       "embarked        2\n",
       "fare            1\n",
       "pclass          0\n",
       "name            0\n",
       "sex             0\n",
       "sibsp           0\n",
       "parch           0\n",
       "ticket          0\n",
       "dtype: int64"
      ]
     },
     "execution_count": 3,
     "metadata": {},
     "output_type": "execute_result"
    }
   ],
   "source": [
    "##\n",
    "# let's check the frequency of missing values in each feature\n",
    "X.isnull().sum().sort_values(ascending=False)"
   ]
  },
  {
   "cell_type": "code",
   "execution_count": 4,
   "metadata": {},
   "outputs": [
    {
     "data": {
      "text/html": [
       "<div>\n",
       "<style scoped>\n",
       "    .dataframe tbody tr th:only-of-type {\n",
       "        vertical-align: middle;\n",
       "    }\n",
       "\n",
       "    .dataframe tbody tr th {\n",
       "        vertical-align: top;\n",
       "    }\n",
       "\n",
       "    .dataframe thead th {\n",
       "        text-align: right;\n",
       "    }\n",
       "</style>\n",
       "<table border=\"1\" class=\"dataframe\">\n",
       "  <thead>\n",
       "    <tr style=\"text-align: right;\">\n",
       "      <th></th>\n",
       "      <th>pclass</th>\n",
       "      <th>name</th>\n",
       "      <th>sex</th>\n",
       "      <th>age</th>\n",
       "      <th>sibsp</th>\n",
       "      <th>parch</th>\n",
       "      <th>ticket</th>\n",
       "      <th>fare</th>\n",
       "      <th>embarked</th>\n",
       "    </tr>\n",
       "  </thead>\n",
       "  <tbody>\n",
       "    <tr>\n",
       "      <th>999</th>\n",
       "      <td>3.0</td>\n",
       "      <td>McCarthy, Miss. Catherine 'Katie'</td>\n",
       "      <td>female</td>\n",
       "      <td>NaN</td>\n",
       "      <td>0.0</td>\n",
       "      <td>0.0</td>\n",
       "      <td>383123</td>\n",
       "      <td>7.7500</td>\n",
       "      <td>Q</td>\n",
       "    </tr>\n",
       "    <tr>\n",
       "      <th>392</th>\n",
       "      <td>2.0</td>\n",
       "      <td>del Carlo, Mrs. Sebastiano (Argenia Genovesi)</td>\n",
       "      <td>female</td>\n",
       "      <td>24.0</td>\n",
       "      <td>1.0</td>\n",
       "      <td>0.0</td>\n",
       "      <td>SC/PARIS 2167</td>\n",
       "      <td>27.7208</td>\n",
       "      <td>C</td>\n",
       "    </tr>\n",
       "    <tr>\n",
       "      <th>628</th>\n",
       "      <td>3.0</td>\n",
       "      <td>Andersson, Miss. Sigrid Elisabeth</td>\n",
       "      <td>female</td>\n",
       "      <td>11.0</td>\n",
       "      <td>4.0</td>\n",
       "      <td>2.0</td>\n",
       "      <td>347082</td>\n",
       "      <td>31.2750</td>\n",
       "      <td>S</td>\n",
       "    </tr>\n",
       "    <tr>\n",
       "      <th>1165</th>\n",
       "      <td>3.0</td>\n",
       "      <td>Saad, Mr. Khalil</td>\n",
       "      <td>male</td>\n",
       "      <td>25.0</td>\n",
       "      <td>0.0</td>\n",
       "      <td>0.0</td>\n",
       "      <td>2672</td>\n",
       "      <td>7.2250</td>\n",
       "      <td>C</td>\n",
       "    </tr>\n",
       "    <tr>\n",
       "      <th>604</th>\n",
       "      <td>3.0</td>\n",
       "      <td>Abelseth, Miss. Karen Marie</td>\n",
       "      <td>female</td>\n",
       "      <td>16.0</td>\n",
       "      <td>0.0</td>\n",
       "      <td>0.0</td>\n",
       "      <td>348125</td>\n",
       "      <td>7.6500</td>\n",
       "      <td>S</td>\n",
       "    </tr>\n",
       "  </tbody>\n",
       "</table>\n",
       "</div>"
      ],
      "text/plain": [
       "      pclass                                           name     sex   age  \\\n",
       "999      3.0              McCarthy, Miss. Catherine 'Katie'  female   NaN   \n",
       "392      2.0  del Carlo, Mrs. Sebastiano (Argenia Genovesi)  female  24.0   \n",
       "628      3.0              Andersson, Miss. Sigrid Elisabeth  female  11.0   \n",
       "1165     3.0                               Saad, Mr. Khalil    male  25.0   \n",
       "604      3.0                    Abelseth, Miss. Karen Marie  female  16.0   \n",
       "\n",
       "      sibsp  parch         ticket     fare embarked  \n",
       "999     0.0    0.0         383123   7.7500        Q  \n",
       "392     1.0    0.0  SC/PARIS 2167  27.7208        C  \n",
       "628     4.0    2.0         347082  31.2750        S  \n",
       "1165    0.0    0.0           2672   7.2250        C  \n",
       "604     0.0    0.0         348125   7.6500        S  "
      ]
     },
     "execution_count": 4,
     "metadata": {},
     "output_type": "execute_result"
    }
   ],
   "source": [
    "##\n",
    "# let's drop top 4 features with highest percentage of missing data\n",
    "# This step is done to make our working with pipeline simpler and easier to understand\n",
    "\n",
    "X.drop(['body', 'cabin', 'boat', 'home.dest'], axis=1, inplace=True)\n",
    "X_train, X_test, y_train, y_test = train_test_split(X, y, stratify=y, test_size=0.2)\n",
    "X_train.head()"
   ]
  },
  {
   "cell_type": "markdown",
   "metadata": {},
   "source": [
    "## Some Terminology First\n",
    "\n",
    "### [Datasets](https://scikit-learn.org/stable/tutorial/statistical_inference/settings.html#datasets)\n",
    "Scikit-learn deals with learning information from one or more datasets that are represented as 2D arrays. They can be understood as a list of multi-dimensional observations. We say that the first axis of these arrays is the **samples axis**, while the second is the **features axis**.\n",
    "> (n_samples, n_features)"
   ]
  },
  {
   "cell_type": "code",
   "execution_count": 5,
   "metadata": {},
   "outputs": [
    {
     "data": {
      "text/plain": [
       "(1309, 9)"
      ]
     },
     "execution_count": 5,
     "metadata": {},
     "output_type": "execute_result"
    }
   ],
   "source": [
    "##\n",
    "# for our titanic dataset:\n",
    "# n_samples = 1309\n",
    "# n_features = 9\n",
    "X.shape"
   ]
  },
  {
   "cell_type": "markdown",
   "metadata": {},
   "source": [
    "### [Estimator](https://scikit-learn.org/stable/tutorial/statistical_inference/settings.html#estimators-objects)\n",
    "An estimator is any object that learns from data; it may be a classification, regression or clustering algorithm or a transformer that extracts/filters useful features from raw data.\n",
    "\n",
    "All estimator objects expose a fit method that takes a dataset (usually a 2-d array)\n",
    "> estimator.fit(data)"
   ]
  },
  {
   "cell_type": "markdown",
   "metadata": {},
   "source": [
    "### [Transformer](https://scikit-learn.org/stable/glossary.html#term-transformer)\n",
    "\n",
    "An estimator supporting `transform` and/or `fit_transform` methods.\n",
    "\n",
    "A transformer, transforms the input, usually only X, into some transformed space. Output is an array or sparse matrix of length n_samples and with the number of columns fixed after **fitting**."
   ]
  },
  {
   "cell_type": "markdown",
   "metadata": {},
   "source": [
    "### [Fit](https://scikit-learn.org/stable/glossary.html#term-fit)\n",
    "\n",
    "The fit method is provided on every estimator. It usually takes some samples X, targets y if the model is supervised, and potentially other sample properties such as sample_weight. \n",
    "\n",
    "It should: \n",
    "* clear any prior attributes stored on the estimator, unless warm_start is used\n",
    "* validate and interpret any parameters, ideally raising an error if invalid\n",
    "* validate the input data\n",
    "* estimate and store model attributes from the estimated parameters and provided data; and\n",
    "* return the now fitted estimator to facilitate method chaining\n",
    "\n",
    "Note: \n",
    "* **Fitting** = Calling `fit` (or `fit_transform`, `fit_predict`) method on an estimator.\n",
    "* **Fitted** = The state of an estimator after fitting."
   ]
  },
  {
   "cell_type": "markdown",
   "metadata": {},
   "source": [
    "## [Sklearn Pipeline](https://scikit-learn.org/stable/modules/generated/sklearn.pipeline.Pipeline.html#sklearn.pipeline.Pipeline)\n",
    "> class sklearn.pipeline.Pipeline(steps, *, memory=None, verbose=False)\n",
    "\n",
    "It is a *pipeline of transformers with a final estimator*.\n",
    "\n",
    "It sequentially applies a list of **transforms** and a final **estimator**. Intermediate steps of the pipeline must be **transforms**, that is, they must implement **fit** and **transform** methods. The final estimator only needs to implement **fit**.\n"
   ]
  },
  {
   "cell_type": "markdown",
   "metadata": {},
   "source": [
    "Lets create a simple pipeline to better understand its componets. Steps in our pipeline will be\n",
    "* replace missing values using the mean along each *numerical feature* column; and\n",
    "* then scale them"
   ]
  },
  {
   "cell_type": "code",
   "execution_count": 6,
   "metadata": {},
   "outputs": [
    {
     "data": {
      "text/plain": [
       "Pipeline(steps=[('imputer', SimpleImputer()), ('scaler', StandardScaler())])"
      ]
     },
     "execution_count": 6,
     "metadata": {},
     "output_type": "execute_result"
    }
   ],
   "source": [
    "from sklearn.pipeline import Pipeline\n",
    "from sklearn.impute import SimpleImputer\n",
    "from sklearn.preprocessing import StandardScaler\n",
    "\n",
    "pipe = Pipeline(steps=[\n",
    "    ('imputer', SimpleImputer()),\n",
    "    ('scaler', StandardScaler())\n",
    "])\n",
    "\n",
    "# our first pipeline has been initialized\n",
    "pipe"
   ]
  },
  {
   "cell_type": "markdown",
   "metadata": {},
   "source": [
    "We can also visualize the pipeline as a diagram. It has two steps: imputer and scaler in sequence."
   ]
  },
  {
   "cell_type": "code",
   "execution_count": 7,
   "metadata": {},
   "outputs": [
    {
     "data": {
      "text/html": [
       "<style>#sk-ff729026-9b6d-4f2d-a23c-337f0fbe40bf {color: black;background-color: white;}#sk-ff729026-9b6d-4f2d-a23c-337f0fbe40bf pre{padding: 0;}#sk-ff729026-9b6d-4f2d-a23c-337f0fbe40bf div.sk-toggleable {background-color: white;}#sk-ff729026-9b6d-4f2d-a23c-337f0fbe40bf label.sk-toggleable__label {cursor: pointer;display: block;width: 100%;margin-bottom: 0;padding: 0.3em;box-sizing: border-box;text-align: center;}#sk-ff729026-9b6d-4f2d-a23c-337f0fbe40bf label.sk-toggleable__label-arrow:before {content: \"▸\";float: left;margin-right: 0.25em;color: #696969;}#sk-ff729026-9b6d-4f2d-a23c-337f0fbe40bf label.sk-toggleable__label-arrow:hover:before {color: black;}#sk-ff729026-9b6d-4f2d-a23c-337f0fbe40bf div.sk-estimator:hover label.sk-toggleable__label-arrow:before {color: black;}#sk-ff729026-9b6d-4f2d-a23c-337f0fbe40bf div.sk-toggleable__content {max-height: 0;max-width: 0;overflow: hidden;text-align: left;background-color: #f0f8ff;}#sk-ff729026-9b6d-4f2d-a23c-337f0fbe40bf div.sk-toggleable__content pre {margin: 0.2em;color: black;border-radius: 0.25em;background-color: #f0f8ff;}#sk-ff729026-9b6d-4f2d-a23c-337f0fbe40bf input.sk-toggleable__control:checked~div.sk-toggleable__content {max-height: 200px;max-width: 100%;overflow: auto;}#sk-ff729026-9b6d-4f2d-a23c-337f0fbe40bf input.sk-toggleable__control:checked~label.sk-toggleable__label-arrow:before {content: \"▾\";}#sk-ff729026-9b6d-4f2d-a23c-337f0fbe40bf div.sk-estimator input.sk-toggleable__control:checked~label.sk-toggleable__label {background-color: #d4ebff;}#sk-ff729026-9b6d-4f2d-a23c-337f0fbe40bf div.sk-label input.sk-toggleable__control:checked~label.sk-toggleable__label {background-color: #d4ebff;}#sk-ff729026-9b6d-4f2d-a23c-337f0fbe40bf input.sk-hidden--visually {border: 0;clip: rect(1px 1px 1px 1px);clip: rect(1px, 1px, 1px, 1px);height: 1px;margin: -1px;overflow: hidden;padding: 0;position: absolute;width: 1px;}#sk-ff729026-9b6d-4f2d-a23c-337f0fbe40bf div.sk-estimator {font-family: monospace;background-color: #f0f8ff;border: 1px dotted black;border-radius: 0.25em;box-sizing: border-box;margin-bottom: 0.5em;}#sk-ff729026-9b6d-4f2d-a23c-337f0fbe40bf div.sk-estimator:hover {background-color: #d4ebff;}#sk-ff729026-9b6d-4f2d-a23c-337f0fbe40bf div.sk-parallel-item::after {content: \"\";width: 100%;border-bottom: 1px solid gray;flex-grow: 1;}#sk-ff729026-9b6d-4f2d-a23c-337f0fbe40bf div.sk-label:hover label.sk-toggleable__label {background-color: #d4ebff;}#sk-ff729026-9b6d-4f2d-a23c-337f0fbe40bf div.sk-serial::before {content: \"\";position: absolute;border-left: 1px solid gray;box-sizing: border-box;top: 2em;bottom: 0;left: 50%;}#sk-ff729026-9b6d-4f2d-a23c-337f0fbe40bf div.sk-serial {display: flex;flex-direction: column;align-items: center;background-color: white;padding-right: 0.2em;padding-left: 0.2em;}#sk-ff729026-9b6d-4f2d-a23c-337f0fbe40bf div.sk-item {z-index: 1;}#sk-ff729026-9b6d-4f2d-a23c-337f0fbe40bf div.sk-parallel {display: flex;align-items: stretch;justify-content: center;background-color: white;}#sk-ff729026-9b6d-4f2d-a23c-337f0fbe40bf div.sk-parallel::before {content: \"\";position: absolute;border-left: 1px solid gray;box-sizing: border-box;top: 2em;bottom: 0;left: 50%;}#sk-ff729026-9b6d-4f2d-a23c-337f0fbe40bf div.sk-parallel-item {display: flex;flex-direction: column;position: relative;background-color: white;}#sk-ff729026-9b6d-4f2d-a23c-337f0fbe40bf div.sk-parallel-item:first-child::after {align-self: flex-end;width: 50%;}#sk-ff729026-9b6d-4f2d-a23c-337f0fbe40bf div.sk-parallel-item:last-child::after {align-self: flex-start;width: 50%;}#sk-ff729026-9b6d-4f2d-a23c-337f0fbe40bf div.sk-parallel-item:only-child::after {width: 0;}#sk-ff729026-9b6d-4f2d-a23c-337f0fbe40bf div.sk-dashed-wrapped {border: 1px dashed gray;margin: 0 0.4em 0.5em 0.4em;box-sizing: border-box;padding-bottom: 0.4em;background-color: white;position: relative;}#sk-ff729026-9b6d-4f2d-a23c-337f0fbe40bf div.sk-label label {font-family: monospace;font-weight: bold;background-color: white;display: inline-block;line-height: 1.2em;}#sk-ff729026-9b6d-4f2d-a23c-337f0fbe40bf div.sk-label-container {position: relative;z-index: 2;text-align: center;}#sk-ff729026-9b6d-4f2d-a23c-337f0fbe40bf div.sk-container {/* jupyter's `normalize.less` sets `[hidden] { display: none; }` but bootstrap.min.css set `[hidden] { display: none !important; }` so we also need the `!important` here to be able to override the default hidden behavior on the sphinx rendered scikit-learn.org. See: https://github.com/scikit-learn/scikit-learn/issues/21755 */display: inline-block !important;position: relative;}#sk-ff729026-9b6d-4f2d-a23c-337f0fbe40bf div.sk-text-repr-fallback {display: none;}</style><div id=\"sk-ff729026-9b6d-4f2d-a23c-337f0fbe40bf\" class=\"sk-top-container\"><div class=\"sk-text-repr-fallback\"><pre>Pipeline(steps=[(&#x27;imputer&#x27;, SimpleImputer()), (&#x27;scaler&#x27;, StandardScaler())])</pre><b>Please rerun this cell to show the HTML repr or trust the notebook.</b></div><div class=\"sk-container\" hidden><div class=\"sk-item sk-dashed-wrapped\"><div class=\"sk-label-container\"><div class=\"sk-label sk-toggleable\"><input class=\"sk-toggleable__control sk-hidden--visually\" id=\"389aae22-0524-4e0c-b66e-f1a4ef5f4e21\" type=\"checkbox\" ><label for=\"389aae22-0524-4e0c-b66e-f1a4ef5f4e21\" class=\"sk-toggleable__label sk-toggleable__label-arrow\">Pipeline</label><div class=\"sk-toggleable__content\"><pre>Pipeline(steps=[(&#x27;imputer&#x27;, SimpleImputer()), (&#x27;scaler&#x27;, StandardScaler())])</pre></div></div></div><div class=\"sk-serial\"><div class=\"sk-item\"><div class=\"sk-estimator sk-toggleable\"><input class=\"sk-toggleable__control sk-hidden--visually\" id=\"2e19aeb3-49b0-4aaa-80df-65cd4ecfe474\" type=\"checkbox\" ><label for=\"2e19aeb3-49b0-4aaa-80df-65cd4ecfe474\" class=\"sk-toggleable__label sk-toggleable__label-arrow\">SimpleImputer</label><div class=\"sk-toggleable__content\"><pre>SimpleImputer()</pre></div></div></div><div class=\"sk-item\"><div class=\"sk-estimator sk-toggleable\"><input class=\"sk-toggleable__control sk-hidden--visually\" id=\"438d0fc7-aaa5-4cc1-a34e-6a7d8c32dba4\" type=\"checkbox\" ><label for=\"438d0fc7-aaa5-4cc1-a34e-6a7d8c32dba4\" class=\"sk-toggleable__label sk-toggleable__label-arrow\">StandardScaler</label><div class=\"sk-toggleable__content\"><pre>StandardScaler()</pre></div></div></div></div></div></div></div>"
      ],
      "text/plain": [
       "Pipeline(steps=[('imputer', SimpleImputer()), ('scaler', StandardScaler())])"
      ]
     },
     "execution_count": 7,
     "metadata": {},
     "output_type": "execute_result"
    }
   ],
   "source": [
    "from sklearn import set_config\n",
    "set_config(display=\"diagram\")\n",
    "\n",
    "pipe"
   ]
  },
  {
   "cell_type": "markdown",
   "metadata": {},
   "source": [
    "now lets call [**fit_transform**](https://scikit-learn.org/stable/modules/generated/sklearn.pipeline.Pipeline.html#sklearn.pipeline.Pipeline.fit_transform) method to run this pipeline, and preprocess our loaded data"
   ]
  },
  {
   "cell_type": "code",
   "execution_count": 8,
   "metadata": {},
   "outputs": [
    {
     "ename": "ValueError",
     "evalue": "Cannot use mean strategy with non-numeric data:\ncould not convert string to float: \"McCarthy, Miss. Catherine 'Katie'\"",
     "output_type": "error",
     "traceback": [
      "\u001b[1;31m---------------------------------------------------------------------------\u001b[0m",
      "\u001b[1;31mValueError\u001b[0m                                Traceback (most recent call last)",
      "Input \u001b[1;32mIn [8]\u001b[0m, in \u001b[0;36m<module>\u001b[1;34m\u001b[0m\n\u001b[0;32m      1\u001b[0m \u001b[38;5;66;03m#collapse-output\u001b[39;00m\n\u001b[1;32m----> 2\u001b[0m \u001b[43mpipe\u001b[49m\u001b[38;5;241;43m.\u001b[39;49m\u001b[43mfit_transform\u001b[49m\u001b[43m(\u001b[49m\u001b[43mX_train\u001b[49m\u001b[43m,\u001b[49m\u001b[43m \u001b[49m\u001b[43my_train\u001b[49m\u001b[43m)\u001b[49m\n",
      "File \u001b[1;32m~\\anaconda3\\envs\\sc_mlflow\\lib\\site-packages\\sklearn\\pipeline.py:426\u001b[0m, in \u001b[0;36mPipeline.fit_transform\u001b[1;34m(self, X, y, **fit_params)\u001b[0m\n\u001b[0;32m    399\u001b[0m \u001b[38;5;124;03m\"\"\"Fit the model and transform with the final estimator.\u001b[39;00m\n\u001b[0;32m    400\u001b[0m \n\u001b[0;32m    401\u001b[0m \u001b[38;5;124;03mFits all the transformers one after the other and transform the\u001b[39;00m\n\u001b[1;32m   (...)\u001b[0m\n\u001b[0;32m    423\u001b[0m \u001b[38;5;124;03m    Transformed samples.\u001b[39;00m\n\u001b[0;32m    424\u001b[0m \u001b[38;5;124;03m\"\"\"\u001b[39;00m\n\u001b[0;32m    425\u001b[0m fit_params_steps \u001b[38;5;241m=\u001b[39m \u001b[38;5;28mself\u001b[39m\u001b[38;5;241m.\u001b[39m_check_fit_params(\u001b[38;5;241m*\u001b[39m\u001b[38;5;241m*\u001b[39mfit_params)\n\u001b[1;32m--> 426\u001b[0m Xt \u001b[38;5;241m=\u001b[39m \u001b[38;5;28;43mself\u001b[39;49m\u001b[38;5;241;43m.\u001b[39;49m\u001b[43m_fit\u001b[49m\u001b[43m(\u001b[49m\u001b[43mX\u001b[49m\u001b[43m,\u001b[49m\u001b[43m \u001b[49m\u001b[43my\u001b[49m\u001b[43m,\u001b[49m\u001b[43m \u001b[49m\u001b[38;5;241;43m*\u001b[39;49m\u001b[38;5;241;43m*\u001b[39;49m\u001b[43mfit_params_steps\u001b[49m\u001b[43m)\u001b[49m\n\u001b[0;32m    428\u001b[0m last_step \u001b[38;5;241m=\u001b[39m \u001b[38;5;28mself\u001b[39m\u001b[38;5;241m.\u001b[39m_final_estimator\n\u001b[0;32m    429\u001b[0m \u001b[38;5;28;01mwith\u001b[39;00m _print_elapsed_time(\u001b[38;5;124m\"\u001b[39m\u001b[38;5;124mPipeline\u001b[39m\u001b[38;5;124m\"\u001b[39m, \u001b[38;5;28mself\u001b[39m\u001b[38;5;241m.\u001b[39m_log_message(\u001b[38;5;28mlen\u001b[39m(\u001b[38;5;28mself\u001b[39m\u001b[38;5;241m.\u001b[39msteps) \u001b[38;5;241m-\u001b[39m \u001b[38;5;241m1\u001b[39m)):\n",
      "File \u001b[1;32m~\\anaconda3\\envs\\sc_mlflow\\lib\\site-packages\\sklearn\\pipeline.py:348\u001b[0m, in \u001b[0;36mPipeline._fit\u001b[1;34m(self, X, y, **fit_params_steps)\u001b[0m\n\u001b[0;32m    346\u001b[0m     cloned_transformer \u001b[38;5;241m=\u001b[39m clone(transformer)\n\u001b[0;32m    347\u001b[0m \u001b[38;5;66;03m# Fit or load from cache the current transformer\u001b[39;00m\n\u001b[1;32m--> 348\u001b[0m X, fitted_transformer \u001b[38;5;241m=\u001b[39m \u001b[43mfit_transform_one_cached\u001b[49m\u001b[43m(\u001b[49m\n\u001b[0;32m    349\u001b[0m \u001b[43m    \u001b[49m\u001b[43mcloned_transformer\u001b[49m\u001b[43m,\u001b[49m\n\u001b[0;32m    350\u001b[0m \u001b[43m    \u001b[49m\u001b[43mX\u001b[49m\u001b[43m,\u001b[49m\n\u001b[0;32m    351\u001b[0m \u001b[43m    \u001b[49m\u001b[43my\u001b[49m\u001b[43m,\u001b[49m\n\u001b[0;32m    352\u001b[0m \u001b[43m    \u001b[49m\u001b[38;5;28;43;01mNone\u001b[39;49;00m\u001b[43m,\u001b[49m\n\u001b[0;32m    353\u001b[0m \u001b[43m    \u001b[49m\u001b[43mmessage_clsname\u001b[49m\u001b[38;5;241;43m=\u001b[39;49m\u001b[38;5;124;43m\"\u001b[39;49m\u001b[38;5;124;43mPipeline\u001b[39;49m\u001b[38;5;124;43m\"\u001b[39;49m\u001b[43m,\u001b[49m\n\u001b[0;32m    354\u001b[0m \u001b[43m    \u001b[49m\u001b[43mmessage\u001b[49m\u001b[38;5;241;43m=\u001b[39;49m\u001b[38;5;28;43mself\u001b[39;49m\u001b[38;5;241;43m.\u001b[39;49m\u001b[43m_log_message\u001b[49m\u001b[43m(\u001b[49m\u001b[43mstep_idx\u001b[49m\u001b[43m)\u001b[49m\u001b[43m,\u001b[49m\n\u001b[0;32m    355\u001b[0m \u001b[43m    \u001b[49m\u001b[38;5;241;43m*\u001b[39;49m\u001b[38;5;241;43m*\u001b[39;49m\u001b[43mfit_params_steps\u001b[49m\u001b[43m[\u001b[49m\u001b[43mname\u001b[49m\u001b[43m]\u001b[49m\u001b[43m,\u001b[49m\n\u001b[0;32m    356\u001b[0m \u001b[43m\u001b[49m\u001b[43m)\u001b[49m\n\u001b[0;32m    357\u001b[0m \u001b[38;5;66;03m# Replace the transformer of the step with the fitted\u001b[39;00m\n\u001b[0;32m    358\u001b[0m \u001b[38;5;66;03m# transformer. This is necessary when loading the transformer\u001b[39;00m\n\u001b[0;32m    359\u001b[0m \u001b[38;5;66;03m# from the cache.\u001b[39;00m\n\u001b[0;32m    360\u001b[0m \u001b[38;5;28mself\u001b[39m\u001b[38;5;241m.\u001b[39msteps[step_idx] \u001b[38;5;241m=\u001b[39m (name, fitted_transformer)\n",
      "File \u001b[1;32m~\\anaconda3\\envs\\sc_mlflow\\lib\\site-packages\\joblib\\memory.py:352\u001b[0m, in \u001b[0;36mNotMemorizedFunc.__call__\u001b[1;34m(self, *args, **kwargs)\u001b[0m\n\u001b[0;32m    351\u001b[0m \u001b[38;5;28;01mdef\u001b[39;00m \u001b[38;5;21m__call__\u001b[39m(\u001b[38;5;28mself\u001b[39m, \u001b[38;5;241m*\u001b[39margs, \u001b[38;5;241m*\u001b[39m\u001b[38;5;241m*\u001b[39mkwargs):\n\u001b[1;32m--> 352\u001b[0m     \u001b[38;5;28;01mreturn\u001b[39;00m \u001b[38;5;28;43mself\u001b[39;49m\u001b[38;5;241;43m.\u001b[39;49m\u001b[43mfunc\u001b[49m\u001b[43m(\u001b[49m\u001b[38;5;241;43m*\u001b[39;49m\u001b[43margs\u001b[49m\u001b[43m,\u001b[49m\u001b[43m \u001b[49m\u001b[38;5;241;43m*\u001b[39;49m\u001b[38;5;241;43m*\u001b[39;49m\u001b[43mkwargs\u001b[49m\u001b[43m)\u001b[49m\n",
      "File \u001b[1;32m~\\anaconda3\\envs\\sc_mlflow\\lib\\site-packages\\sklearn\\pipeline.py:893\u001b[0m, in \u001b[0;36m_fit_transform_one\u001b[1;34m(transformer, X, y, weight, message_clsname, message, **fit_params)\u001b[0m\n\u001b[0;32m    891\u001b[0m \u001b[38;5;28;01mwith\u001b[39;00m _print_elapsed_time(message_clsname, message):\n\u001b[0;32m    892\u001b[0m     \u001b[38;5;28;01mif\u001b[39;00m \u001b[38;5;28mhasattr\u001b[39m(transformer, \u001b[38;5;124m\"\u001b[39m\u001b[38;5;124mfit_transform\u001b[39m\u001b[38;5;124m\"\u001b[39m):\n\u001b[1;32m--> 893\u001b[0m         res \u001b[38;5;241m=\u001b[39m \u001b[43mtransformer\u001b[49m\u001b[38;5;241;43m.\u001b[39;49m\u001b[43mfit_transform\u001b[49m\u001b[43m(\u001b[49m\u001b[43mX\u001b[49m\u001b[43m,\u001b[49m\u001b[43m \u001b[49m\u001b[43my\u001b[49m\u001b[43m,\u001b[49m\u001b[43m \u001b[49m\u001b[38;5;241;43m*\u001b[39;49m\u001b[38;5;241;43m*\u001b[39;49m\u001b[43mfit_params\u001b[49m\u001b[43m)\u001b[49m\n\u001b[0;32m    894\u001b[0m     \u001b[38;5;28;01melse\u001b[39;00m:\n\u001b[0;32m    895\u001b[0m         res \u001b[38;5;241m=\u001b[39m transformer\u001b[38;5;241m.\u001b[39mfit(X, y, \u001b[38;5;241m*\u001b[39m\u001b[38;5;241m*\u001b[39mfit_params)\u001b[38;5;241m.\u001b[39mtransform(X)\n",
      "File \u001b[1;32m~\\anaconda3\\envs\\sc_mlflow\\lib\\site-packages\\sklearn\\base.py:855\u001b[0m, in \u001b[0;36mTransformerMixin.fit_transform\u001b[1;34m(self, X, y, **fit_params)\u001b[0m\n\u001b[0;32m    852\u001b[0m     \u001b[38;5;28;01mreturn\u001b[39;00m \u001b[38;5;28mself\u001b[39m\u001b[38;5;241m.\u001b[39mfit(X, \u001b[38;5;241m*\u001b[39m\u001b[38;5;241m*\u001b[39mfit_params)\u001b[38;5;241m.\u001b[39mtransform(X)\n\u001b[0;32m    853\u001b[0m \u001b[38;5;28;01melse\u001b[39;00m:\n\u001b[0;32m    854\u001b[0m     \u001b[38;5;66;03m# fit method of arity 2 (supervised transformation)\u001b[39;00m\n\u001b[1;32m--> 855\u001b[0m     \u001b[38;5;28;01mreturn\u001b[39;00m \u001b[38;5;28;43mself\u001b[39;49m\u001b[38;5;241;43m.\u001b[39;49m\u001b[43mfit\u001b[49m\u001b[43m(\u001b[49m\u001b[43mX\u001b[49m\u001b[43m,\u001b[49m\u001b[43m \u001b[49m\u001b[43my\u001b[49m\u001b[43m,\u001b[49m\u001b[43m \u001b[49m\u001b[38;5;241;43m*\u001b[39;49m\u001b[38;5;241;43m*\u001b[39;49m\u001b[43mfit_params\u001b[49m\u001b[43m)\u001b[49m\u001b[38;5;241m.\u001b[39mtransform(X)\n",
      "File \u001b[1;32m~\\anaconda3\\envs\\sc_mlflow\\lib\\site-packages\\sklearn\\impute\\_base.py:319\u001b[0m, in \u001b[0;36mSimpleImputer.fit\u001b[1;34m(self, X, y)\u001b[0m\n\u001b[0;32m    302\u001b[0m \u001b[38;5;28;01mdef\u001b[39;00m \u001b[38;5;21mfit\u001b[39m(\u001b[38;5;28mself\u001b[39m, X, y\u001b[38;5;241m=\u001b[39m\u001b[38;5;28;01mNone\u001b[39;00m):\n\u001b[0;32m    303\u001b[0m     \u001b[38;5;124;03m\"\"\"Fit the imputer on `X`.\u001b[39;00m\n\u001b[0;32m    304\u001b[0m \n\u001b[0;32m    305\u001b[0m \u001b[38;5;124;03m    Parameters\u001b[39;00m\n\u001b[1;32m   (...)\u001b[0m\n\u001b[0;32m    317\u001b[0m \u001b[38;5;124;03m        Fitted estimator.\u001b[39;00m\n\u001b[0;32m    318\u001b[0m \u001b[38;5;124;03m    \"\"\"\u001b[39;00m\n\u001b[1;32m--> 319\u001b[0m     X \u001b[38;5;241m=\u001b[39m \u001b[38;5;28;43mself\u001b[39;49m\u001b[38;5;241;43m.\u001b[39;49m\u001b[43m_validate_input\u001b[49m\u001b[43m(\u001b[49m\u001b[43mX\u001b[49m\u001b[43m,\u001b[49m\u001b[43m \u001b[49m\u001b[43min_fit\u001b[49m\u001b[38;5;241;43m=\u001b[39;49m\u001b[38;5;28;43;01mTrue\u001b[39;49;00m\u001b[43m)\u001b[49m\n\u001b[0;32m    321\u001b[0m     \u001b[38;5;66;03m# default fill_value is 0 for numerical input and \"missing_value\"\u001b[39;00m\n\u001b[0;32m    322\u001b[0m     \u001b[38;5;66;03m# otherwise\u001b[39;00m\n\u001b[0;32m    323\u001b[0m     \u001b[38;5;28;01mif\u001b[39;00m \u001b[38;5;28mself\u001b[39m\u001b[38;5;241m.\u001b[39mfill_value \u001b[38;5;129;01mis\u001b[39;00m \u001b[38;5;28;01mNone\u001b[39;00m:\n",
      "File \u001b[1;32m~\\anaconda3\\envs\\sc_mlflow\\lib\\site-packages\\sklearn\\impute\\_base.py:285\u001b[0m, in \u001b[0;36mSimpleImputer._validate_input\u001b[1;34m(self, X, in_fit)\u001b[0m\n\u001b[0;32m    279\u001b[0m \u001b[38;5;28;01mif\u001b[39;00m \u001b[38;5;124m\"\u001b[39m\u001b[38;5;124mcould not convert\u001b[39m\u001b[38;5;124m\"\u001b[39m \u001b[38;5;129;01min\u001b[39;00m \u001b[38;5;28mstr\u001b[39m(ve):\n\u001b[0;32m    280\u001b[0m     new_ve \u001b[38;5;241m=\u001b[39m \u001b[38;5;167;01mValueError\u001b[39;00m(\n\u001b[0;32m    281\u001b[0m         \u001b[38;5;124m\"\u001b[39m\u001b[38;5;124mCannot use \u001b[39m\u001b[38;5;132;01m{}\u001b[39;00m\u001b[38;5;124m strategy with non-numeric data:\u001b[39m\u001b[38;5;130;01m\\n\u001b[39;00m\u001b[38;5;132;01m{}\u001b[39;00m\u001b[38;5;124m\"\u001b[39m\u001b[38;5;241m.\u001b[39mformat(\n\u001b[0;32m    282\u001b[0m             \u001b[38;5;28mself\u001b[39m\u001b[38;5;241m.\u001b[39mstrategy, ve\n\u001b[0;32m    283\u001b[0m         )\n\u001b[0;32m    284\u001b[0m     )\n\u001b[1;32m--> 285\u001b[0m     \u001b[38;5;28;01mraise\u001b[39;00m new_ve \u001b[38;5;28;01mfrom\u001b[39;00m \u001b[38;5;28mNone\u001b[39m\n\u001b[0;32m    286\u001b[0m \u001b[38;5;28;01melse\u001b[39;00m:\n\u001b[0;32m    287\u001b[0m     \u001b[38;5;28;01mraise\u001b[39;00m ve\n",
      "\u001b[1;31mValueError\u001b[0m: Cannot use mean strategy with non-numeric data:\ncould not convert string to float: \"McCarthy, Miss. Catherine 'Katie'\""
     ]
    }
   ],
   "source": [
    "#collapse-output\n",
    "pipe.fit_transform(X_train, y_train)"
   ]
  },
  {
   "cell_type": "markdown",
   "metadata": {},
   "source": [
    "Aaargh! this is not what we intended. Let us try to understand why our pipeline did not work and then fix it. The exception message says: \n",
    "```\n",
    "ValueError: Cannot use mean strategy with non-numeric data: could not convert string to float: \"McCarthy, Miss. Catherine 'Katie'\n",
    "```\n",
    "From the error message we can deduce that Pipeline is trying to apply its transformers on all columns in the dataset. This was not our intention, as we wanted to apply the transformers to numeric data only. Let's limit our simple pipeline to numerical columns and run again."
   ]
  },
  {
   "cell_type": "code",
   "execution_count": 9,
   "metadata": {},
   "outputs": [
    {
     "data": {
      "text/plain": [
       "array([[ 0.        , -0.49963779],\n",
       "       [-0.43641134, -0.09097855],\n",
       "       [-1.44872891, -0.01824953],\n",
       "       ...,\n",
       "       [-0.98150542, -0.49349894],\n",
       "       [-0.82576425, -0.44336498],\n",
       "       [-0.59215251, -0.49349894]])"
      ]
     },
     "execution_count": 9,
     "metadata": {},
     "output_type": "execute_result"
    }
   ],
   "source": [
    "num_cols = ['age', 'fare']\n",
    "pipe.fit_transform(X_train[num_cols], y_train)"
   ]
  },
  {
   "cell_type": "markdown",
   "metadata": {},
   "source": [
    "Alright, our pipeline has run now and we can also observe a few outcomes. \n",
    "* When we apply a pipeline to a dataset it will run transformers to all features in the dataset. \n",
    "* Output from one transformer will be passed on to the next one until we reach the end of the pipeline\n",
    "* If we want to apply different transformers for numerical and categorical features (heterogeneous data) then the pipeline will not work for us. We would have to create separate pipelines for the different feature sets and then join the output.\n",
    "\n",
    "To overcome the limitation of a pipeline for heterogeneous data, Sklearn recommends using `ColumnTransformer`. With ColumnTransformer we can provide column names against the transformers on which we want to apply them."
   ]
  },
  {
   "cell_type": "markdown",
   "metadata": {},
   "source": [
    "## [ColumnTransformer](https://scikit-learn.org/stable/modules/generated/sklearn.compose.ColumnTransformer.html)"
   ]
  },
  {
   "cell_type": "markdown",
   "metadata": {},
   "source": [
    "Let's see our first ColumnTransformer in action."
   ]
  },
  {
   "cell_type": "code",
   "execution_count": 10,
   "metadata": {},
   "outputs": [
    {
     "data": {
      "text/html": [
       "<style>#sk-7a0edb81-5adc-45aa-b695-a59d4edb3d0d {color: black;background-color: white;}#sk-7a0edb81-5adc-45aa-b695-a59d4edb3d0d pre{padding: 0;}#sk-7a0edb81-5adc-45aa-b695-a59d4edb3d0d div.sk-toggleable {background-color: white;}#sk-7a0edb81-5adc-45aa-b695-a59d4edb3d0d label.sk-toggleable__label {cursor: pointer;display: block;width: 100%;margin-bottom: 0;padding: 0.3em;box-sizing: border-box;text-align: center;}#sk-7a0edb81-5adc-45aa-b695-a59d4edb3d0d label.sk-toggleable__label-arrow:before {content: \"▸\";float: left;margin-right: 0.25em;color: #696969;}#sk-7a0edb81-5adc-45aa-b695-a59d4edb3d0d label.sk-toggleable__label-arrow:hover:before {color: black;}#sk-7a0edb81-5adc-45aa-b695-a59d4edb3d0d div.sk-estimator:hover label.sk-toggleable__label-arrow:before {color: black;}#sk-7a0edb81-5adc-45aa-b695-a59d4edb3d0d div.sk-toggleable__content {max-height: 0;max-width: 0;overflow: hidden;text-align: left;background-color: #f0f8ff;}#sk-7a0edb81-5adc-45aa-b695-a59d4edb3d0d div.sk-toggleable__content pre {margin: 0.2em;color: black;border-radius: 0.25em;background-color: #f0f8ff;}#sk-7a0edb81-5adc-45aa-b695-a59d4edb3d0d input.sk-toggleable__control:checked~div.sk-toggleable__content {max-height: 200px;max-width: 100%;overflow: auto;}#sk-7a0edb81-5adc-45aa-b695-a59d4edb3d0d input.sk-toggleable__control:checked~label.sk-toggleable__label-arrow:before {content: \"▾\";}#sk-7a0edb81-5adc-45aa-b695-a59d4edb3d0d div.sk-estimator input.sk-toggleable__control:checked~label.sk-toggleable__label {background-color: #d4ebff;}#sk-7a0edb81-5adc-45aa-b695-a59d4edb3d0d div.sk-label input.sk-toggleable__control:checked~label.sk-toggleable__label {background-color: #d4ebff;}#sk-7a0edb81-5adc-45aa-b695-a59d4edb3d0d input.sk-hidden--visually {border: 0;clip: rect(1px 1px 1px 1px);clip: rect(1px, 1px, 1px, 1px);height: 1px;margin: -1px;overflow: hidden;padding: 0;position: absolute;width: 1px;}#sk-7a0edb81-5adc-45aa-b695-a59d4edb3d0d div.sk-estimator {font-family: monospace;background-color: #f0f8ff;border: 1px dotted black;border-radius: 0.25em;box-sizing: border-box;margin-bottom: 0.5em;}#sk-7a0edb81-5adc-45aa-b695-a59d4edb3d0d div.sk-estimator:hover {background-color: #d4ebff;}#sk-7a0edb81-5adc-45aa-b695-a59d4edb3d0d div.sk-parallel-item::after {content: \"\";width: 100%;border-bottom: 1px solid gray;flex-grow: 1;}#sk-7a0edb81-5adc-45aa-b695-a59d4edb3d0d div.sk-label:hover label.sk-toggleable__label {background-color: #d4ebff;}#sk-7a0edb81-5adc-45aa-b695-a59d4edb3d0d div.sk-serial::before {content: \"\";position: absolute;border-left: 1px solid gray;box-sizing: border-box;top: 2em;bottom: 0;left: 50%;}#sk-7a0edb81-5adc-45aa-b695-a59d4edb3d0d div.sk-serial {display: flex;flex-direction: column;align-items: center;background-color: white;padding-right: 0.2em;padding-left: 0.2em;}#sk-7a0edb81-5adc-45aa-b695-a59d4edb3d0d div.sk-item {z-index: 1;}#sk-7a0edb81-5adc-45aa-b695-a59d4edb3d0d div.sk-parallel {display: flex;align-items: stretch;justify-content: center;background-color: white;}#sk-7a0edb81-5adc-45aa-b695-a59d4edb3d0d div.sk-parallel::before {content: \"\";position: absolute;border-left: 1px solid gray;box-sizing: border-box;top: 2em;bottom: 0;left: 50%;}#sk-7a0edb81-5adc-45aa-b695-a59d4edb3d0d div.sk-parallel-item {display: flex;flex-direction: column;position: relative;background-color: white;}#sk-7a0edb81-5adc-45aa-b695-a59d4edb3d0d div.sk-parallel-item:first-child::after {align-self: flex-end;width: 50%;}#sk-7a0edb81-5adc-45aa-b695-a59d4edb3d0d div.sk-parallel-item:last-child::after {align-self: flex-start;width: 50%;}#sk-7a0edb81-5adc-45aa-b695-a59d4edb3d0d div.sk-parallel-item:only-child::after {width: 0;}#sk-7a0edb81-5adc-45aa-b695-a59d4edb3d0d div.sk-dashed-wrapped {border: 1px dashed gray;margin: 0 0.4em 0.5em 0.4em;box-sizing: border-box;padding-bottom: 0.4em;background-color: white;position: relative;}#sk-7a0edb81-5adc-45aa-b695-a59d4edb3d0d div.sk-label label {font-family: monospace;font-weight: bold;background-color: white;display: inline-block;line-height: 1.2em;}#sk-7a0edb81-5adc-45aa-b695-a59d4edb3d0d div.sk-label-container {position: relative;z-index: 2;text-align: center;}#sk-7a0edb81-5adc-45aa-b695-a59d4edb3d0d div.sk-container {/* jupyter's `normalize.less` sets `[hidden] { display: none; }` but bootstrap.min.css set `[hidden] { display: none !important; }` so we also need the `!important` here to be able to override the default hidden behavior on the sphinx rendered scikit-learn.org. See: https://github.com/scikit-learn/scikit-learn/issues/21755 */display: inline-block !important;position: relative;}#sk-7a0edb81-5adc-45aa-b695-a59d4edb3d0d div.sk-text-repr-fallback {display: none;}</style><div id=\"sk-7a0edb81-5adc-45aa-b695-a59d4edb3d0d\" class=\"sk-top-container\"><div class=\"sk-text-repr-fallback\"><pre>ColumnTransformer(transformers=[(&#x27;standardscaler&#x27;, StandardScaler(),\n",
       "                                 [&#x27;age&#x27;, &#x27;fare&#x27;]),\n",
       "                                (&#x27;onehotencoder&#x27;, OneHotEncoder(), [&#x27;sex&#x27;])])</pre><b>Please rerun this cell to show the HTML repr or trust the notebook.</b></div><div class=\"sk-container\" hidden><div class=\"sk-item sk-dashed-wrapped\"><div class=\"sk-label-container\"><div class=\"sk-label sk-toggleable\"><input class=\"sk-toggleable__control sk-hidden--visually\" id=\"21a9ab6a-cd1c-46d6-805e-5a6f5e959d4a\" type=\"checkbox\" ><label for=\"21a9ab6a-cd1c-46d6-805e-5a6f5e959d4a\" class=\"sk-toggleable__label sk-toggleable__label-arrow\">ColumnTransformer</label><div class=\"sk-toggleable__content\"><pre>ColumnTransformer(transformers=[(&#x27;standardscaler&#x27;, StandardScaler(),\n",
       "                                 [&#x27;age&#x27;, &#x27;fare&#x27;]),\n",
       "                                (&#x27;onehotencoder&#x27;, OneHotEncoder(), [&#x27;sex&#x27;])])</pre></div></div></div><div class=\"sk-parallel\"><div class=\"sk-parallel-item\"><div class=\"sk-item\"><div class=\"sk-label-container\"><div class=\"sk-label sk-toggleable\"><input class=\"sk-toggleable__control sk-hidden--visually\" id=\"462d9f3e-0bfe-4465-97b6-04434fba3f13\" type=\"checkbox\" ><label for=\"462d9f3e-0bfe-4465-97b6-04434fba3f13\" class=\"sk-toggleable__label sk-toggleable__label-arrow\">standardscaler</label><div class=\"sk-toggleable__content\"><pre>[&#x27;age&#x27;, &#x27;fare&#x27;]</pre></div></div></div><div class=\"sk-serial\"><div class=\"sk-item\"><div class=\"sk-estimator sk-toggleable\"><input class=\"sk-toggleable__control sk-hidden--visually\" id=\"d040066d-e670-468f-a54c-a2b680ce0092\" type=\"checkbox\" ><label for=\"d040066d-e670-468f-a54c-a2b680ce0092\" class=\"sk-toggleable__label sk-toggleable__label-arrow\">StandardScaler</label><div class=\"sk-toggleable__content\"><pre>StandardScaler()</pre></div></div></div></div></div></div><div class=\"sk-parallel-item\"><div class=\"sk-item\"><div class=\"sk-label-container\"><div class=\"sk-label sk-toggleable\"><input class=\"sk-toggleable__control sk-hidden--visually\" id=\"63db649c-2bf6-43a1-8f64-4150194536ea\" type=\"checkbox\" ><label for=\"63db649c-2bf6-43a1-8f64-4150194536ea\" class=\"sk-toggleable__label sk-toggleable__label-arrow\">onehotencoder</label><div class=\"sk-toggleable__content\"><pre>[&#x27;sex&#x27;]</pre></div></div></div><div class=\"sk-serial\"><div class=\"sk-item\"><div class=\"sk-estimator sk-toggleable\"><input class=\"sk-toggleable__control sk-hidden--visually\" id=\"2e78c3d5-e5e0-472a-bfc4-975c93357c49\" type=\"checkbox\" ><label for=\"2e78c3d5-e5e0-472a-bfc4-975c93357c49\" class=\"sk-toggleable__label sk-toggleable__label-arrow\">OneHotEncoder</label><div class=\"sk-toggleable__content\"><pre>OneHotEncoder()</pre></div></div></div></div></div></div></div></div></div></div>"
      ],
      "text/plain": [
       "ColumnTransformer(transformers=[('standardscaler', StandardScaler(),\n",
       "                                 ['age', 'fare']),\n",
       "                                ('onehotencoder', OneHotEncoder(), ['sex'])])"
      ]
     },
     "execution_count": 10,
     "metadata": {},
     "output_type": "execute_result"
    }
   ],
   "source": [
    "from sklearn.compose import ColumnTransformer\n",
    "from sklearn.preprocessing import OneHotEncoder\n",
    "\n",
    "# Note the sequence when creating a ColumnTransformer\n",
    "# 1. a name for the transformer\n",
    "# 2. the transformer\n",
    "# 3. the column names\n",
    "\n",
    "pipe = ColumnTransformer([\n",
    "    ('standardscaler', StandardScaler(), ['age', 'fare'] ),\n",
    "    ('onehotencoder', OneHotEncoder(), ['sex'])\n",
    "    ])\n",
    "\n",
    "pipe"
   ]
  },
  {
   "cell_type": "code",
   "execution_count": 11,
   "metadata": {},
   "outputs": [
    {
     "data": {
      "text/plain": [
       "array([[        nan, -0.49939913,  1.        ,  0.        ],\n",
       "       [-0.39043136, -0.09093509,  1.        ,  0.        ],\n",
       "       [-1.2960919 , -0.01824081,  1.        ,  0.        ],\n",
       "       ...,\n",
       "       [-0.87809473, -0.49326321,  0.        ,  1.        ],\n",
       "       [-0.73876234, -0.4431532 ,  0.        ,  1.        ],\n",
       "       [-0.52976375, -0.49326321,  0.        ,  1.        ]])"
      ]
     },
     "execution_count": 11,
     "metadata": {},
     "output_type": "execute_result"
    }
   ],
   "source": [
    "##\n",
    "# Let's execute our pipeline to see the output.\n",
    "pipe.fit_transform(X_train, y_train)"
   ]
  },
  {
   "cell_type": "markdown",
   "metadata": {},
   "source": [
    "#### [get_feature_names_out(input_features=None)](https://scikit-learn.org/stable/modules/generated/sklearn.compose.ColumnTransformer.html#sklearn.compose.ColumnTransformer.get_feature_names_out)\n",
    "\n",
    "At this point I will also introduce a very useful function `get_feature_names_out(input_features=None)`.\n",
    "Using this method we can get output feature names as well."
   ]
  },
  {
   "cell_type": "code",
   "execution_count": 12,
   "metadata": {},
   "outputs": [
    {
     "data": {
      "text/plain": [
       "array(['standardscaler__age', 'standardscaler__fare',\n",
       "       'onehotencoder__sex_female', 'onehotencoder__sex_male'],\n",
       "      dtype=object)"
      ]
     },
     "execution_count": 12,
     "metadata": {},
     "output_type": "execute_result"
    }
   ],
   "source": [
    "pipe.get_feature_names_out()"
   ]
  },
  {
   "cell_type": "markdown",
   "metadata": {},
   "source": [
    "Notice the output\n",
    "* Output feature names appear as `<transformer_name>__<feature_name>`\n",
    "* For OneHotEncoded feature \"sex\", output feature names have the label attached to them"
   ]
  },
  {
   "cell_type": "markdown",
   "metadata": {},
   "source": [
    "#### [make_column_transformer](https://scikit-learn.org/stable/modules/generated/sklearn.compose.make_column_transformer.html)"
   ]
  },
  {
   "cell_type": "markdown",
   "metadata": {},
   "source": [
    "Sklean also provides a wrapper function for `ColumnTransformer` where we don't have to provide names for the transformers."
   ]
  },
  {
   "cell_type": "code",
   "execution_count": 13,
   "metadata": {},
   "outputs": [
    {
     "data": {
      "text/html": [
       "<style>#sk-49b26e74-1e32-4f57-ac80-d53883a6b13e {color: black;background-color: white;}#sk-49b26e74-1e32-4f57-ac80-d53883a6b13e pre{padding: 0;}#sk-49b26e74-1e32-4f57-ac80-d53883a6b13e div.sk-toggleable {background-color: white;}#sk-49b26e74-1e32-4f57-ac80-d53883a6b13e label.sk-toggleable__label {cursor: pointer;display: block;width: 100%;margin-bottom: 0;padding: 0.3em;box-sizing: border-box;text-align: center;}#sk-49b26e74-1e32-4f57-ac80-d53883a6b13e label.sk-toggleable__label-arrow:before {content: \"▸\";float: left;margin-right: 0.25em;color: #696969;}#sk-49b26e74-1e32-4f57-ac80-d53883a6b13e label.sk-toggleable__label-arrow:hover:before {color: black;}#sk-49b26e74-1e32-4f57-ac80-d53883a6b13e div.sk-estimator:hover label.sk-toggleable__label-arrow:before {color: black;}#sk-49b26e74-1e32-4f57-ac80-d53883a6b13e div.sk-toggleable__content {max-height: 0;max-width: 0;overflow: hidden;text-align: left;background-color: #f0f8ff;}#sk-49b26e74-1e32-4f57-ac80-d53883a6b13e div.sk-toggleable__content pre {margin: 0.2em;color: black;border-radius: 0.25em;background-color: #f0f8ff;}#sk-49b26e74-1e32-4f57-ac80-d53883a6b13e input.sk-toggleable__control:checked~div.sk-toggleable__content {max-height: 200px;max-width: 100%;overflow: auto;}#sk-49b26e74-1e32-4f57-ac80-d53883a6b13e input.sk-toggleable__control:checked~label.sk-toggleable__label-arrow:before {content: \"▾\";}#sk-49b26e74-1e32-4f57-ac80-d53883a6b13e div.sk-estimator input.sk-toggleable__control:checked~label.sk-toggleable__label {background-color: #d4ebff;}#sk-49b26e74-1e32-4f57-ac80-d53883a6b13e div.sk-label input.sk-toggleable__control:checked~label.sk-toggleable__label {background-color: #d4ebff;}#sk-49b26e74-1e32-4f57-ac80-d53883a6b13e input.sk-hidden--visually {border: 0;clip: rect(1px 1px 1px 1px);clip: rect(1px, 1px, 1px, 1px);height: 1px;margin: -1px;overflow: hidden;padding: 0;position: absolute;width: 1px;}#sk-49b26e74-1e32-4f57-ac80-d53883a6b13e div.sk-estimator {font-family: monospace;background-color: #f0f8ff;border: 1px dotted black;border-radius: 0.25em;box-sizing: border-box;margin-bottom: 0.5em;}#sk-49b26e74-1e32-4f57-ac80-d53883a6b13e div.sk-estimator:hover {background-color: #d4ebff;}#sk-49b26e74-1e32-4f57-ac80-d53883a6b13e div.sk-parallel-item::after {content: \"\";width: 100%;border-bottom: 1px solid gray;flex-grow: 1;}#sk-49b26e74-1e32-4f57-ac80-d53883a6b13e div.sk-label:hover label.sk-toggleable__label {background-color: #d4ebff;}#sk-49b26e74-1e32-4f57-ac80-d53883a6b13e div.sk-serial::before {content: \"\";position: absolute;border-left: 1px solid gray;box-sizing: border-box;top: 2em;bottom: 0;left: 50%;}#sk-49b26e74-1e32-4f57-ac80-d53883a6b13e div.sk-serial {display: flex;flex-direction: column;align-items: center;background-color: white;padding-right: 0.2em;padding-left: 0.2em;}#sk-49b26e74-1e32-4f57-ac80-d53883a6b13e div.sk-item {z-index: 1;}#sk-49b26e74-1e32-4f57-ac80-d53883a6b13e div.sk-parallel {display: flex;align-items: stretch;justify-content: center;background-color: white;}#sk-49b26e74-1e32-4f57-ac80-d53883a6b13e div.sk-parallel::before {content: \"\";position: absolute;border-left: 1px solid gray;box-sizing: border-box;top: 2em;bottom: 0;left: 50%;}#sk-49b26e74-1e32-4f57-ac80-d53883a6b13e div.sk-parallel-item {display: flex;flex-direction: column;position: relative;background-color: white;}#sk-49b26e74-1e32-4f57-ac80-d53883a6b13e div.sk-parallel-item:first-child::after {align-self: flex-end;width: 50%;}#sk-49b26e74-1e32-4f57-ac80-d53883a6b13e div.sk-parallel-item:last-child::after {align-self: flex-start;width: 50%;}#sk-49b26e74-1e32-4f57-ac80-d53883a6b13e div.sk-parallel-item:only-child::after {width: 0;}#sk-49b26e74-1e32-4f57-ac80-d53883a6b13e div.sk-dashed-wrapped {border: 1px dashed gray;margin: 0 0.4em 0.5em 0.4em;box-sizing: border-box;padding-bottom: 0.4em;background-color: white;position: relative;}#sk-49b26e74-1e32-4f57-ac80-d53883a6b13e div.sk-label label {font-family: monospace;font-weight: bold;background-color: white;display: inline-block;line-height: 1.2em;}#sk-49b26e74-1e32-4f57-ac80-d53883a6b13e div.sk-label-container {position: relative;z-index: 2;text-align: center;}#sk-49b26e74-1e32-4f57-ac80-d53883a6b13e div.sk-container {/* jupyter's `normalize.less` sets `[hidden] { display: none; }` but bootstrap.min.css set `[hidden] { display: none !important; }` so we also need the `!important` here to be able to override the default hidden behavior on the sphinx rendered scikit-learn.org. See: https://github.com/scikit-learn/scikit-learn/issues/21755 */display: inline-block !important;position: relative;}#sk-49b26e74-1e32-4f57-ac80-d53883a6b13e div.sk-text-repr-fallback {display: none;}</style><div id=\"sk-49b26e74-1e32-4f57-ac80-d53883a6b13e\" class=\"sk-top-container\"><div class=\"sk-text-repr-fallback\"><pre>ColumnTransformer(transformers=[(&#x27;standardscaler&#x27;, StandardScaler(),\n",
       "                                 [&#x27;age&#x27;, &#x27;fare&#x27;]),\n",
       "                                (&#x27;onehotencoder&#x27;, OneHotEncoder(), [&#x27;sex&#x27;])],\n",
       "                  verbose_feature_names_out=False)</pre><b>Please rerun this cell to show the HTML repr or trust the notebook.</b></div><div class=\"sk-container\" hidden><div class=\"sk-item sk-dashed-wrapped\"><div class=\"sk-label-container\"><div class=\"sk-label sk-toggleable\"><input class=\"sk-toggleable__control sk-hidden--visually\" id=\"ddaf98b5-df69-409b-86f6-a26fae31b4dd\" type=\"checkbox\" ><label for=\"ddaf98b5-df69-409b-86f6-a26fae31b4dd\" class=\"sk-toggleable__label sk-toggleable__label-arrow\">ColumnTransformer</label><div class=\"sk-toggleable__content\"><pre>ColumnTransformer(transformers=[(&#x27;standardscaler&#x27;, StandardScaler(),\n",
       "                                 [&#x27;age&#x27;, &#x27;fare&#x27;]),\n",
       "                                (&#x27;onehotencoder&#x27;, OneHotEncoder(), [&#x27;sex&#x27;])],\n",
       "                  verbose_feature_names_out=False)</pre></div></div></div><div class=\"sk-parallel\"><div class=\"sk-parallel-item\"><div class=\"sk-item\"><div class=\"sk-label-container\"><div class=\"sk-label sk-toggleable\"><input class=\"sk-toggleable__control sk-hidden--visually\" id=\"bc47c38d-0fbd-4cfc-ae01-bc12ecd46658\" type=\"checkbox\" ><label for=\"bc47c38d-0fbd-4cfc-ae01-bc12ecd46658\" class=\"sk-toggleable__label sk-toggleable__label-arrow\">standardscaler</label><div class=\"sk-toggleable__content\"><pre>[&#x27;age&#x27;, &#x27;fare&#x27;]</pre></div></div></div><div class=\"sk-serial\"><div class=\"sk-item\"><div class=\"sk-estimator sk-toggleable\"><input class=\"sk-toggleable__control sk-hidden--visually\" id=\"8c04b557-0f7c-4228-962d-1e3b3535f7b8\" type=\"checkbox\" ><label for=\"8c04b557-0f7c-4228-962d-1e3b3535f7b8\" class=\"sk-toggleable__label sk-toggleable__label-arrow\">StandardScaler</label><div class=\"sk-toggleable__content\"><pre>StandardScaler()</pre></div></div></div></div></div></div><div class=\"sk-parallel-item\"><div class=\"sk-item\"><div class=\"sk-label-container\"><div class=\"sk-label sk-toggleable\"><input class=\"sk-toggleable__control sk-hidden--visually\" id=\"09d678b6-4e36-4d96-a707-a8074fe889e0\" type=\"checkbox\" ><label for=\"09d678b6-4e36-4d96-a707-a8074fe889e0\" class=\"sk-toggleable__label sk-toggleable__label-arrow\">onehotencoder</label><div class=\"sk-toggleable__content\"><pre>[&#x27;sex&#x27;]</pre></div></div></div><div class=\"sk-serial\"><div class=\"sk-item\"><div class=\"sk-estimator sk-toggleable\"><input class=\"sk-toggleable__control sk-hidden--visually\" id=\"d3cd275c-c821-4111-b8d4-304a90fdbf15\" type=\"checkbox\" ><label for=\"d3cd275c-c821-4111-b8d4-304a90fdbf15\" class=\"sk-toggleable__label sk-toggleable__label-arrow\">OneHotEncoder</label><div class=\"sk-toggleable__content\"><pre>OneHotEncoder()</pre></div></div></div></div></div></div></div></div></div></div>"
      ],
      "text/plain": [
       "ColumnTransformer(transformers=[('standardscaler', StandardScaler(),\n",
       "                                 ['age', 'fare']),\n",
       "                                ('onehotencoder', OneHotEncoder(), ['sex'])],\n",
       "                  verbose_feature_names_out=False)"
      ]
     },
     "execution_count": 13,
     "metadata": {},
     "output_type": "execute_result"
    }
   ],
   "source": [
    "from sklearn.compose import make_column_transformer\n",
    "\n",
    "# Note the sequence when using make_column_transformer\n",
    "# 1. the transformer\n",
    "# 2. the column names\n",
    "\n",
    "pipe = make_column_transformer(\n",
    "    (StandardScaler(), ['age', 'fare']),\n",
    "    (OneHotEncoder(), ['sex'] ),\n",
    "    verbose_feature_names_out=False # to keep output feature names simple\n",
    ")\n",
    "\n",
    "pipe"
   ]
  },
  {
   "cell_type": "code",
   "execution_count": 14,
   "metadata": {},
   "outputs": [
    {
     "data": {
      "text/plain": [
       "array([[        nan, -0.49939913,  1.        ,  0.        ],\n",
       "       [-0.39043136, -0.09093509,  1.        ,  0.        ],\n",
       "       [-1.2960919 , -0.01824081,  1.        ,  0.        ],\n",
       "       ...,\n",
       "       [-0.87809473, -0.49326321,  0.        ,  1.        ],\n",
       "       [-0.73876234, -0.4431532 ,  0.        ,  1.        ],\n",
       "       [-0.52976375, -0.49326321,  0.        ,  1.        ]])"
      ]
     },
     "execution_count": 14,
     "metadata": {},
     "output_type": "execute_result"
    }
   ],
   "source": [
    "##\n",
    "# Let's execute our pipeline.\n",
    "pipe.fit_transform(X_train, y_train)"
   ]
  },
  {
   "cell_type": "code",
   "execution_count": 15,
   "metadata": {},
   "outputs": [
    {
     "data": {
      "text/plain": [
       "array(['age', 'fare', 'sex_female', 'sex_male'], dtype=object)"
      ]
     },
     "execution_count": 15,
     "metadata": {},
     "output_type": "execute_result"
    }
   ],
   "source": [
    "##\n",
    "# notice the feature names this time. they are shorter.\n",
    "# we have used attribute \"verbose_feature_names_out=False\" in our pipeline above.\n",
    "pipe.get_feature_names_out()"
   ]
  },
  {
   "cell_type": "markdown",
   "metadata": {},
   "source": [
    "#### Important difference between Pipeline and ColumnTransformer\n",
    "* Pipeline applies transformer in sequence on all columns\n",
    "* ColumnTranformer applies transformers in parallel to specified columns and then concats the output"
   ]
  },
  {
   "cell_type": "markdown",
   "metadata": {},
   "source": [
    "#### Open questions?"
   ]
  },
  {
   "cell_type": "markdown",
   "metadata": {},
   "source": [
    "So our ColumnTransformer is working. But we have a few more questions to address.\n",
    "* Why is the output from our pipeline or ColumnTransformer not shown as a dataframe with output features nicely separated in different columns?\n",
    "* Our input dataset had more features besides age, fare, and sex. Why are they not present in the output?\n",
    "* What happens if I change the sequence of transformers, and feature names in my ColumnTransformer?\n",
    "\n",
    "In the coming sections, we will try to address these questions."
   ]
  },
  {
   "cell_type": "markdown",
   "metadata": {},
   "source": [
    "##### **Why is the output not a dataframe?**\n",
    "The output from a pipeline or a ColumnTransformer is an nd-array where the first index is the number of samples, and second index are the output features `(n_samples, n_output_features)`. Since we are only getting numpy array as an output, we are losing information about the column names."
   ]
  },
  {
   "cell_type": "code",
   "execution_count": 16,
   "metadata": {},
   "outputs": [
    {
     "name": "stdout",
     "output_type": "stream",
     "text": [
      "<class 'numpy.ndarray'>\n",
      "(1047, 4)\n"
     ]
    }
   ],
   "source": [
    "temp = pipe.fit_transform(X_train, y_train)\n",
    "\n",
    "print(type(temp))\n",
    "print(temp.shape)"
   ]
  },
  {
   "cell_type": "markdown",
   "metadata": {},
   "source": [
    "##### **Can we get the feature names back?**"
   ]
  },
  {
   "cell_type": "markdown",
   "metadata": {},
   "source": [
    "We have already seen that we can get the output feature names using method `get_feature_names_out`. But this time let's try to analyze our ColumnsTransformer more closely. The transformer attributes discussed here also applies to Pipeline object."
   ]
  },
  {
   "cell_type": "code",
   "execution_count": 17,
   "metadata": {},
   "outputs": [
    {
     "data": {
      "text/plain": [
       "ColumnTransformer(transformers=[('standardscaler', StandardScaler(),\n",
       "                                 ['age', 'fare']),\n",
       "                                ('onehotencoder', OneHotEncoder(), ['sex'])],\n",
       "                  verbose_feature_names_out=False)"
      ]
     },
     "execution_count": 17,
     "metadata": {},
     "output_type": "execute_result"
    }
   ],
   "source": [
    "##\n",
    "# print the internals of ColumnTransformer\n",
    "\n",
    "set_config(display='text')\n",
    "pipe"
   ]
  },
  {
   "cell_type": "markdown",
   "metadata": {},
   "source": [
    "ColumnTransformer has an attribute 'transformers' that is keeping a list of all the provided transformers. Let's print it."
   ]
  },
  {
   "cell_type": "code",
   "execution_count": 18,
   "metadata": {},
   "outputs": [
    {
     "data": {
      "text/plain": [
       "[('standardscaler', StandardScaler(), ['age', 'fare']),\n",
       " ('onehotencoder', OneHotEncoder(), ['sex'])]"
      ]
     },
     "execution_count": 18,
     "metadata": {},
     "output_type": "execute_result"
    }
   ],
   "source": [
    "pipe.transformers"
   ]
  },
  {
   "cell_type": "markdown",
   "metadata": {},
   "source": [
    "These are the transformers list at the initialization time. If we want to check the transformers after `fit` function has been called, then we need to print a different attribute `transformers_`."
   ]
  },
  {
   "cell_type": "code",
   "execution_count": 19,
   "metadata": {},
   "outputs": [
    {
     "data": {
      "text/plain": [
       "[('standardscaler', StandardScaler(), ['age', 'fare']),\n",
       " ('onehotencoder', OneHotEncoder(), ['sex']),\n",
       " ('remainder', 'drop', [0, 1, 4, 5, 6, 8])]"
      ]
     },
     "execution_count": 19,
     "metadata": {},
     "output_type": "execute_result"
    }
   ],
   "source": [
    "pipe.transformers_"
   ]
  },
  {
   "cell_type": "markdown",
   "metadata": {},
   "source": [
    "You can see the difference. There is an extra transformer with the name `remainder` at the end. It was not present at the initialization time. What it does is that it drops all remaining columns from the dataset that have not been explicitly used in the ColumnTransformer. Since, at the initialization time, ColumnTransformer does not know about the **other columns** that it needs to drop this transformer is missing. During fit it sees the dataset and knows about the other columns, it then keeps a list of them to drop **(0, 1, 4, 5, 6, 8)**."
   ]
  },
  {
   "cell_type": "markdown",
   "metadata": {},
   "source": [
    "We can also index through the transformers as well to fetch anyone from the list."
   ]
  },
  {
   "cell_type": "code",
   "execution_count": 20,
   "metadata": {},
   "outputs": [
    {
     "data": {
      "text/plain": [
       "('onehotencoder', OneHotEncoder(), ['sex'])"
      ]
     },
     "execution_count": 20,
     "metadata": {},
     "output_type": "execute_result"
    }
   ],
   "source": [
    "##\n",
    "# second transformer from the list\n",
    "pipe.transformers_[1]"
   ]
  },
  {
   "cell_type": "markdown",
   "metadata": {},
   "source": [
    "Notice the tuple sequence.\n",
    "* First is the name\n",
    "* Second is the **transformer**\n",
    "* Third are the column names\n",
    "\n",
    "We can also call `get_feature_names_out` method on a separate transformer from the list."
   ]
  },
  {
   "cell_type": "code",
   "execution_count": 21,
   "metadata": {},
   "outputs": [
    {
     "data": {
      "text/plain": [
       "array(['sex_female', 'sex_male'], dtype=object)"
      ]
     },
     "execution_count": 21,
     "metadata": {},
     "output_type": "execute_result"
    }
   ],
   "source": [
    "##\n",
    "# output features from second tranformer\n",
    "pipe.transformers_[1][1].get_feature_names_out()"
   ]
  },
  {
   "cell_type": "code",
   "execution_count": 22,
   "metadata": {},
   "outputs": [
    {
     "ename": "AttributeError",
     "evalue": "'str' object has no attribute 'get_feature_names_out'",
     "output_type": "error",
     "traceback": [
      "\u001b[1;31m---------------------------------------------------------------------------\u001b[0m",
      "\u001b[1;31mAttributeError\u001b[0m                            Traceback (most recent call last)",
      "Input \u001b[1;32mIn [22]\u001b[0m, in \u001b[0;36m<module>\u001b[1;34m\u001b[0m\n\u001b[0;32m      1\u001b[0m \u001b[38;5;66;03m#collapse-output\u001b[39;00m\n\u001b[0;32m      2\u001b[0m \u001b[38;5;66;03m# output features from last tranformer\u001b[39;00m\n\u001b[1;32m----> 3\u001b[0m \u001b[43mpipe\u001b[49m\u001b[38;5;241;43m.\u001b[39;49m\u001b[43mtransformers_\u001b[49m\u001b[43m[\u001b[49m\u001b[38;5;241;43m-\u001b[39;49m\u001b[38;5;241;43m1\u001b[39;49m\u001b[43m]\u001b[49m\u001b[43m[\u001b[49m\u001b[38;5;241;43m1\u001b[39;49m\u001b[43m]\u001b[49m\u001b[38;5;241;43m.\u001b[39;49m\u001b[43mget_feature_names_out\u001b[49m()\n",
      "\u001b[1;31mAttributeError\u001b[0m: 'str' object has no attribute 'get_feature_names_out'"
     ]
    }
   ],
   "source": [
    "##\n",
    "# output features from last tranformer\n",
    "pipe.transformers_[-1][1].get_feature_names_out()\n",
    "\n",
    "# No. We cannot do this on last transformer (remainder)."
   ]
  },
  {
   "cell_type": "markdown",
   "metadata": {},
   "source": [
    "We now have output feature names, and the output (nd-array). Can we convert them to a DataFrame?"
   ]
  },
  {
   "cell_type": "code",
   "execution_count": 23,
   "metadata": {},
   "outputs": [
    {
     "data": {
      "text/html": [
       "<div>\n",
       "<style scoped>\n",
       "    .dataframe tbody tr th:only-of-type {\n",
       "        vertical-align: middle;\n",
       "    }\n",
       "\n",
       "    .dataframe tbody tr th {\n",
       "        vertical-align: top;\n",
       "    }\n",
       "\n",
       "    .dataframe thead th {\n",
       "        text-align: right;\n",
       "    }\n",
       "</style>\n",
       "<table border=\"1\" class=\"dataframe\">\n",
       "  <thead>\n",
       "    <tr style=\"text-align: right;\">\n",
       "      <th></th>\n",
       "      <th>age</th>\n",
       "      <th>fare</th>\n",
       "      <th>sex_female</th>\n",
       "      <th>sex_male</th>\n",
       "    </tr>\n",
       "  </thead>\n",
       "  <tbody>\n",
       "    <tr>\n",
       "      <th>0</th>\n",
       "      <td>NaN</td>\n",
       "      <td>-0.499399</td>\n",
       "      <td>1.0</td>\n",
       "      <td>0.0</td>\n",
       "    </tr>\n",
       "    <tr>\n",
       "      <th>1</th>\n",
       "      <td>-0.390431</td>\n",
       "      <td>-0.090935</td>\n",
       "      <td>1.0</td>\n",
       "      <td>0.0</td>\n",
       "    </tr>\n",
       "    <tr>\n",
       "      <th>2</th>\n",
       "      <td>-1.296092</td>\n",
       "      <td>-0.018241</td>\n",
       "      <td>1.0</td>\n",
       "      <td>0.0</td>\n",
       "    </tr>\n",
       "    <tr>\n",
       "      <th>3</th>\n",
       "      <td>-0.320765</td>\n",
       "      <td>-0.510137</td>\n",
       "      <td>0.0</td>\n",
       "      <td>1.0</td>\n",
       "    </tr>\n",
       "    <tr>\n",
       "      <th>4</th>\n",
       "      <td>-0.947761</td>\n",
       "      <td>-0.501444</td>\n",
       "      <td>1.0</td>\n",
       "      <td>0.0</td>\n",
       "    </tr>\n",
       "  </tbody>\n",
       "</table>\n",
       "</div>"
      ],
      "text/plain": [
       "        age      fare  sex_female  sex_male\n",
       "0       NaN -0.499399         1.0       0.0\n",
       "1 -0.390431 -0.090935         1.0       0.0\n",
       "2 -1.296092 -0.018241         1.0       0.0\n",
       "3 -0.320765 -0.510137         0.0       1.0\n",
       "4 -0.947761 -0.501444         1.0       0.0"
      ]
     },
     "execution_count": 23,
     "metadata": {},
     "output_type": "execute_result"
    }
   ],
   "source": [
    "import pandas as pd\n",
    "\n",
    "temp = pipe.fit_transform(X_train, y_train)\n",
    "col_names = pipe.get_feature_names_out()\n",
    "\n",
    "output = pd.DataFrame(temp.T, col_names).T\n",
    "output.head()"
   ]
  },
  {
   "cell_type": "markdown",
   "metadata": {},
   "source": [
    "## [FunctionTransformer](https://scikit-learn.org/stable/modules/generated/sklearn.preprocessing.FunctionTransformer.html)"
   ]
  },
  {
   "cell_type": "markdown",
   "metadata": {},
   "source": [
    "We know how to convert the transformer output to a DataFrame. It would be much simpler if we don't have to do an extra step, and can directly get a Dataframe from our fitted ColumnTransformer.\n",
    "\n",
    "For this we can take the help of `FunctionTransformer`\n",
    "> A FunctionTransformer forwards its X (and optionally y) arguments to a user-defined function or function object and returns the result of this function. \n",
    "\n",
    "Let's see a FunctionTransformer in action."
   ]
  },
  {
   "cell_type": "code",
   "execution_count": 24,
   "metadata": {},
   "outputs": [
    {
     "data": {
      "text/html": [
       "<style>#sk-dc5aef48-8c2a-4f33-9085-34090768e983 {color: black;background-color: white;}#sk-dc5aef48-8c2a-4f33-9085-34090768e983 pre{padding: 0;}#sk-dc5aef48-8c2a-4f33-9085-34090768e983 div.sk-toggleable {background-color: white;}#sk-dc5aef48-8c2a-4f33-9085-34090768e983 label.sk-toggleable__label {cursor: pointer;display: block;width: 100%;margin-bottom: 0;padding: 0.3em;box-sizing: border-box;text-align: center;}#sk-dc5aef48-8c2a-4f33-9085-34090768e983 label.sk-toggleable__label-arrow:before {content: \"▸\";float: left;margin-right: 0.25em;color: #696969;}#sk-dc5aef48-8c2a-4f33-9085-34090768e983 label.sk-toggleable__label-arrow:hover:before {color: black;}#sk-dc5aef48-8c2a-4f33-9085-34090768e983 div.sk-estimator:hover label.sk-toggleable__label-arrow:before {color: black;}#sk-dc5aef48-8c2a-4f33-9085-34090768e983 div.sk-toggleable__content {max-height: 0;max-width: 0;overflow: hidden;text-align: left;background-color: #f0f8ff;}#sk-dc5aef48-8c2a-4f33-9085-34090768e983 div.sk-toggleable__content pre {margin: 0.2em;color: black;border-radius: 0.25em;background-color: #f0f8ff;}#sk-dc5aef48-8c2a-4f33-9085-34090768e983 input.sk-toggleable__control:checked~div.sk-toggleable__content {max-height: 200px;max-width: 100%;overflow: auto;}#sk-dc5aef48-8c2a-4f33-9085-34090768e983 input.sk-toggleable__control:checked~label.sk-toggleable__label-arrow:before {content: \"▾\";}#sk-dc5aef48-8c2a-4f33-9085-34090768e983 div.sk-estimator input.sk-toggleable__control:checked~label.sk-toggleable__label {background-color: #d4ebff;}#sk-dc5aef48-8c2a-4f33-9085-34090768e983 div.sk-label input.sk-toggleable__control:checked~label.sk-toggleable__label {background-color: #d4ebff;}#sk-dc5aef48-8c2a-4f33-9085-34090768e983 input.sk-hidden--visually {border: 0;clip: rect(1px 1px 1px 1px);clip: rect(1px, 1px, 1px, 1px);height: 1px;margin: -1px;overflow: hidden;padding: 0;position: absolute;width: 1px;}#sk-dc5aef48-8c2a-4f33-9085-34090768e983 div.sk-estimator {font-family: monospace;background-color: #f0f8ff;border: 1px dotted black;border-radius: 0.25em;box-sizing: border-box;margin-bottom: 0.5em;}#sk-dc5aef48-8c2a-4f33-9085-34090768e983 div.sk-estimator:hover {background-color: #d4ebff;}#sk-dc5aef48-8c2a-4f33-9085-34090768e983 div.sk-parallel-item::after {content: \"\";width: 100%;border-bottom: 1px solid gray;flex-grow: 1;}#sk-dc5aef48-8c2a-4f33-9085-34090768e983 div.sk-label:hover label.sk-toggleable__label {background-color: #d4ebff;}#sk-dc5aef48-8c2a-4f33-9085-34090768e983 div.sk-serial::before {content: \"\";position: absolute;border-left: 1px solid gray;box-sizing: border-box;top: 2em;bottom: 0;left: 50%;}#sk-dc5aef48-8c2a-4f33-9085-34090768e983 div.sk-serial {display: flex;flex-direction: column;align-items: center;background-color: white;padding-right: 0.2em;padding-left: 0.2em;}#sk-dc5aef48-8c2a-4f33-9085-34090768e983 div.sk-item {z-index: 1;}#sk-dc5aef48-8c2a-4f33-9085-34090768e983 div.sk-parallel {display: flex;align-items: stretch;justify-content: center;background-color: white;}#sk-dc5aef48-8c2a-4f33-9085-34090768e983 div.sk-parallel::before {content: \"\";position: absolute;border-left: 1px solid gray;box-sizing: border-box;top: 2em;bottom: 0;left: 50%;}#sk-dc5aef48-8c2a-4f33-9085-34090768e983 div.sk-parallel-item {display: flex;flex-direction: column;position: relative;background-color: white;}#sk-dc5aef48-8c2a-4f33-9085-34090768e983 div.sk-parallel-item:first-child::after {align-self: flex-end;width: 50%;}#sk-dc5aef48-8c2a-4f33-9085-34090768e983 div.sk-parallel-item:last-child::after {align-self: flex-start;width: 50%;}#sk-dc5aef48-8c2a-4f33-9085-34090768e983 div.sk-parallel-item:only-child::after {width: 0;}#sk-dc5aef48-8c2a-4f33-9085-34090768e983 div.sk-dashed-wrapped {border: 1px dashed gray;margin: 0 0.4em 0.5em 0.4em;box-sizing: border-box;padding-bottom: 0.4em;background-color: white;position: relative;}#sk-dc5aef48-8c2a-4f33-9085-34090768e983 div.sk-label label {font-family: monospace;font-weight: bold;background-color: white;display: inline-block;line-height: 1.2em;}#sk-dc5aef48-8c2a-4f33-9085-34090768e983 div.sk-label-container {position: relative;z-index: 2;text-align: center;}#sk-dc5aef48-8c2a-4f33-9085-34090768e983 div.sk-container {/* jupyter's `normalize.less` sets `[hidden] { display: none; }` but bootstrap.min.css set `[hidden] { display: none !important; }` so we also need the `!important` here to be able to override the default hidden behavior on the sphinx rendered scikit-learn.org. See: https://github.com/scikit-learn/scikit-learn/issues/21755 */display: inline-block !important;position: relative;}#sk-dc5aef48-8c2a-4f33-9085-34090768e983 div.sk-text-repr-fallback {display: none;}</style><div id=\"sk-dc5aef48-8c2a-4f33-9085-34090768e983\" class=\"sk-top-container\"><div class=\"sk-text-repr-fallback\"><pre>Pipeline(steps=[(&#x27;preprocess&#x27;,\n",
       "                 ColumnTransformer(transformers=[(&#x27;standardscaler&#x27;,\n",
       "                                                  StandardScaler(),\n",
       "                                                  [&#x27;age&#x27;, &#x27;fare&#x27;]),\n",
       "                                                 (&#x27;onehotencoder&#x27;,\n",
       "                                                  OneHotEncoder(), [&#x27;sex&#x27;])],\n",
       "                                   verbose_feature_names_out=False)),\n",
       "                (&#x27;dataframer&#x27;,\n",
       "                 FunctionTransformer(func=&lt;function &lt;lambda&gt; at 0x0000016196A1B040&gt;))])</pre><b>Please rerun this cell to show the HTML repr or trust the notebook.</b></div><div class=\"sk-container\" hidden><div class=\"sk-item sk-dashed-wrapped\"><div class=\"sk-label-container\"><div class=\"sk-label sk-toggleable\"><input class=\"sk-toggleable__control sk-hidden--visually\" id=\"49d0b146-1bc2-4c8c-b4c2-432107121872\" type=\"checkbox\" ><label for=\"49d0b146-1bc2-4c8c-b4c2-432107121872\" class=\"sk-toggleable__label sk-toggleable__label-arrow\">Pipeline</label><div class=\"sk-toggleable__content\"><pre>Pipeline(steps=[(&#x27;preprocess&#x27;,\n",
       "                 ColumnTransformer(transformers=[(&#x27;standardscaler&#x27;,\n",
       "                                                  StandardScaler(),\n",
       "                                                  [&#x27;age&#x27;, &#x27;fare&#x27;]),\n",
       "                                                 (&#x27;onehotencoder&#x27;,\n",
       "                                                  OneHotEncoder(), [&#x27;sex&#x27;])],\n",
       "                                   verbose_feature_names_out=False)),\n",
       "                (&#x27;dataframer&#x27;,\n",
       "                 FunctionTransformer(func=&lt;function &lt;lambda&gt; at 0x0000016196A1B040&gt;))])</pre></div></div></div><div class=\"sk-serial\"><div class=\"sk-item sk-dashed-wrapped\"><div class=\"sk-label-container\"><div class=\"sk-label sk-toggleable\"><input class=\"sk-toggleable__control sk-hidden--visually\" id=\"b9c9c9fd-6abd-464a-a965-4eee6608e760\" type=\"checkbox\" ><label for=\"b9c9c9fd-6abd-464a-a965-4eee6608e760\" class=\"sk-toggleable__label sk-toggleable__label-arrow\">preprocess: ColumnTransformer</label><div class=\"sk-toggleable__content\"><pre>ColumnTransformer(transformers=[(&#x27;standardscaler&#x27;, StandardScaler(),\n",
       "                                 [&#x27;age&#x27;, &#x27;fare&#x27;]),\n",
       "                                (&#x27;onehotencoder&#x27;, OneHotEncoder(), [&#x27;sex&#x27;])],\n",
       "                  verbose_feature_names_out=False)</pre></div></div></div><div class=\"sk-parallel\"><div class=\"sk-parallel-item\"><div class=\"sk-item\"><div class=\"sk-label-container\"><div class=\"sk-label sk-toggleable\"><input class=\"sk-toggleable__control sk-hidden--visually\" id=\"18e37f3b-5e1e-43a5-bdbc-98386493f20a\" type=\"checkbox\" ><label for=\"18e37f3b-5e1e-43a5-bdbc-98386493f20a\" class=\"sk-toggleable__label sk-toggleable__label-arrow\">standardscaler</label><div class=\"sk-toggleable__content\"><pre>[&#x27;age&#x27;, &#x27;fare&#x27;]</pre></div></div></div><div class=\"sk-serial\"><div class=\"sk-item\"><div class=\"sk-estimator sk-toggleable\"><input class=\"sk-toggleable__control sk-hidden--visually\" id=\"39144de1-a891-4e83-8278-614246a7e0a1\" type=\"checkbox\" ><label for=\"39144de1-a891-4e83-8278-614246a7e0a1\" class=\"sk-toggleable__label sk-toggleable__label-arrow\">StandardScaler</label><div class=\"sk-toggleable__content\"><pre>StandardScaler()</pre></div></div></div></div></div></div><div class=\"sk-parallel-item\"><div class=\"sk-item\"><div class=\"sk-label-container\"><div class=\"sk-label sk-toggleable\"><input class=\"sk-toggleable__control sk-hidden--visually\" id=\"687bb43d-5c04-4da5-adbe-0700e7186fa5\" type=\"checkbox\" ><label for=\"687bb43d-5c04-4da5-adbe-0700e7186fa5\" class=\"sk-toggleable__label sk-toggleable__label-arrow\">onehotencoder</label><div class=\"sk-toggleable__content\"><pre>[&#x27;sex&#x27;]</pre></div></div></div><div class=\"sk-serial\"><div class=\"sk-item\"><div class=\"sk-estimator sk-toggleable\"><input class=\"sk-toggleable__control sk-hidden--visually\" id=\"0378e35b-0d19-4235-81fd-855750059d41\" type=\"checkbox\" ><label for=\"0378e35b-0d19-4235-81fd-855750059d41\" class=\"sk-toggleable__label sk-toggleable__label-arrow\">OneHotEncoder</label><div class=\"sk-toggleable__content\"><pre>OneHotEncoder()</pre></div></div></div></div></div></div></div></div><div class=\"sk-item\"><div class=\"sk-estimator sk-toggleable\"><input class=\"sk-toggleable__control sk-hidden--visually\" id=\"d18eac3c-4f6f-4f6e-8830-e1122927172d\" type=\"checkbox\" ><label for=\"d18eac3c-4f6f-4f6e-8830-e1122927172d\" class=\"sk-toggleable__label sk-toggleable__label-arrow\">FunctionTransformer</label><div class=\"sk-toggleable__content\"><pre>FunctionTransformer(func=&lt;function &lt;lambda&gt; at 0x0000016196A1B040&gt;)</pre></div></div></div></div></div></div></div>"
      ],
      "text/plain": [
       "Pipeline(steps=[('preprocess',\n",
       "                 ColumnTransformer(transformers=[('standardscaler',\n",
       "                                                  StandardScaler(),\n",
       "                                                  ['age', 'fare']),\n",
       "                                                 ('onehotencoder',\n",
       "                                                  OneHotEncoder(), ['sex'])],\n",
       "                                   verbose_feature_names_out=False)),\n",
       "                ('dataframer',\n",
       "                 FunctionTransformer(func=<function <lambda> at 0x0000016196A1B040>))])"
      ]
     },
     "execution_count": 24,
     "metadata": {},
     "output_type": "execute_result"
    }
   ],
   "source": [
    "from sklearn.preprocessing import FunctionTransformer\n",
    "\n",
    "preprocessor = make_column_transformer(\n",
    "    (StandardScaler(), ['age', 'fare']),\n",
    "    (OneHotEncoder(), ['sex'] ),\n",
    "    verbose_feature_names_out=False\n",
    ")\n",
    "\n",
    "pipe = Pipeline([\n",
    "                    (\"preprocess\", preprocessor),\n",
    "                    (\"dataframer\",FunctionTransformer(lambda x: pd.DataFrame(x, columns = preprocessor.get_feature_names_out())))\n",
    "                    ])\n",
    "\n",
    "set_config(display=\"diagram\")\n",
    "pipe"
   ]
  },
  {
   "cell_type": "markdown",
   "metadata": {},
   "source": [
    "Notice that we have applied FunctionTransformer after ColumnTransformer in a Pipeline. When we fit our pipeline on the dataset, ColumnTransformer will be fitted first and then the FunctionTransformer. Since the ColumnTransformer has been fitted first, we will be able to call `get_feature_names_out` on it while passing data to FunctionTransformer."
   ]
  },
  {
   "cell_type": "code",
   "execution_count": 25,
   "metadata": {},
   "outputs": [
    {
     "data": {
      "text/html": [
       "<div>\n",
       "<style scoped>\n",
       "    .dataframe tbody tr th:only-of-type {\n",
       "        vertical-align: middle;\n",
       "    }\n",
       "\n",
       "    .dataframe tbody tr th {\n",
       "        vertical-align: top;\n",
       "    }\n",
       "\n",
       "    .dataframe thead th {\n",
       "        text-align: right;\n",
       "    }\n",
       "</style>\n",
       "<table border=\"1\" class=\"dataframe\">\n",
       "  <thead>\n",
       "    <tr style=\"text-align: right;\">\n",
       "      <th></th>\n",
       "      <th>age</th>\n",
       "      <th>fare</th>\n",
       "      <th>sex_female</th>\n",
       "      <th>sex_male</th>\n",
       "    </tr>\n",
       "  </thead>\n",
       "  <tbody>\n",
       "    <tr>\n",
       "      <th>0</th>\n",
       "      <td>NaN</td>\n",
       "      <td>-0.499399</td>\n",
       "      <td>1.0</td>\n",
       "      <td>0.0</td>\n",
       "    </tr>\n",
       "    <tr>\n",
       "      <th>1</th>\n",
       "      <td>-0.390431</td>\n",
       "      <td>-0.090935</td>\n",
       "      <td>1.0</td>\n",
       "      <td>0.0</td>\n",
       "    </tr>\n",
       "    <tr>\n",
       "      <th>2</th>\n",
       "      <td>-1.296092</td>\n",
       "      <td>-0.018241</td>\n",
       "      <td>1.0</td>\n",
       "      <td>0.0</td>\n",
       "    </tr>\n",
       "    <tr>\n",
       "      <th>3</th>\n",
       "      <td>-0.320765</td>\n",
       "      <td>-0.510137</td>\n",
       "      <td>0.0</td>\n",
       "      <td>1.0</td>\n",
       "    </tr>\n",
       "    <tr>\n",
       "      <th>4</th>\n",
       "      <td>-0.947761</td>\n",
       "      <td>-0.501444</td>\n",
       "      <td>1.0</td>\n",
       "      <td>0.0</td>\n",
       "    </tr>\n",
       "  </tbody>\n",
       "</table>\n",
       "</div>"
      ],
      "text/plain": [
       "        age      fare  sex_female  sex_male\n",
       "0       NaN -0.499399         1.0       0.0\n",
       "1 -0.390431 -0.090935         1.0       0.0\n",
       "2 -1.296092 -0.018241         1.0       0.0\n",
       "3 -0.320765 -0.510137         0.0       1.0\n",
       "4 -0.947761 -0.501444         1.0       0.0"
      ]
     },
     "execution_count": 25,
     "metadata": {},
     "output_type": "execute_result"
    }
   ],
   "source": [
    "##\n",
    "# let's run our pipeline again\n",
    "temp = pipe.fit_transform(X_train, y_train)\n",
    "temp.head()"
   ]
  },
  {
   "cell_type": "markdown",
   "metadata": {},
   "source": [
    "This is looking good. We are now getting back a dataframe directly from the pipeline. With a dataframe it is a lot easier to view and verify the output from the preprocessor.\n",
    "\n",
    "But we have to be very careful with FunctionTransformer. In Sklearn docs, it says\n",
    "\n",
    "**Note: If a lambda is used as the function, then the resulting transformer will not be pickleable.**\n",
    "\n",
    "Huh! that is a very concerning point. We have also used a lambda function, and we will not be able to pickle it. Let's check it first."
   ]
  },
  {
   "cell_type": "code",
   "execution_count": 26,
   "metadata": {},
   "outputs": [
    {
     "ename": "PicklingError",
     "evalue": "Can't pickle <function <lambda> at 0x0000016196A1B040>: attribute lookup <lambda> on __main__ failed",
     "output_type": "error",
     "traceback": [
      "\u001b[1;31m---------------------------------------------------------------------------\u001b[0m",
      "\u001b[1;31mPicklingError\u001b[0m                             Traceback (most recent call last)",
      "Input \u001b[1;32mIn [26]\u001b[0m, in \u001b[0;36m<module>\u001b[1;34m\u001b[0m\n\u001b[0;32m      1\u001b[0m \u001b[38;5;28;01mimport\u001b[39;00m \u001b[38;5;21;01mpickle\u001b[39;00m\n\u001b[0;32m      3\u001b[0m \u001b[38;5;66;03m# save our pipeline\u001b[39;00m\n\u001b[1;32m----> 4\u001b[0m s1 \u001b[38;5;241m=\u001b[39m \u001b[43mpickle\u001b[49m\u001b[38;5;241;43m.\u001b[39;49m\u001b[43mdumps\u001b[49m\u001b[43m(\u001b[49m\u001b[43mpipe\u001b[49m\u001b[43m)\u001b[49m\n\u001b[0;32m      6\u001b[0m \u001b[38;5;66;03m# reload it\u001b[39;00m\n\u001b[0;32m      7\u001b[0m s2 \u001b[38;5;241m=\u001b[39m pickle\u001b[38;5;241m.\u001b[39mloads(s1)\n",
      "\u001b[1;31mPicklingError\u001b[0m: Can't pickle <function <lambda> at 0x0000016196A1B040>: attribute lookup <lambda> on __main__ failed"
     ]
    }
   ],
   "source": [
    "import pickle\n",
    "\n",
    "# save our pipeline\n",
    "s1 = pickle.dumps(pipe)\n",
    "\n",
    "# reload it\n",
    "s2 = pickle.loads(s1)\n",
    "s2"
   ]
  },
  {
   "cell_type": "markdown",
   "metadata": {},
   "source": [
    "The documentation was right about it. We have used a Lambda function in our FunctionTranformer and we got a pickle error. Since, the limitation is said for Lambda function, changing it with a normal function should work. Let's do that."
   ]
  },
  {
   "cell_type": "code",
   "execution_count": 27,
   "metadata": {},
   "outputs": [
    {
     "data": {
      "text/html": [
       "<style>#sk-65ffa3d3-3cf8-409e-8fec-4432dbf9e602 {color: black;background-color: white;}#sk-65ffa3d3-3cf8-409e-8fec-4432dbf9e602 pre{padding: 0;}#sk-65ffa3d3-3cf8-409e-8fec-4432dbf9e602 div.sk-toggleable {background-color: white;}#sk-65ffa3d3-3cf8-409e-8fec-4432dbf9e602 label.sk-toggleable__label {cursor: pointer;display: block;width: 100%;margin-bottom: 0;padding: 0.3em;box-sizing: border-box;text-align: center;}#sk-65ffa3d3-3cf8-409e-8fec-4432dbf9e602 label.sk-toggleable__label-arrow:before {content: \"▸\";float: left;margin-right: 0.25em;color: #696969;}#sk-65ffa3d3-3cf8-409e-8fec-4432dbf9e602 label.sk-toggleable__label-arrow:hover:before {color: black;}#sk-65ffa3d3-3cf8-409e-8fec-4432dbf9e602 div.sk-estimator:hover label.sk-toggleable__label-arrow:before {color: black;}#sk-65ffa3d3-3cf8-409e-8fec-4432dbf9e602 div.sk-toggleable__content {max-height: 0;max-width: 0;overflow: hidden;text-align: left;background-color: #f0f8ff;}#sk-65ffa3d3-3cf8-409e-8fec-4432dbf9e602 div.sk-toggleable__content pre {margin: 0.2em;color: black;border-radius: 0.25em;background-color: #f0f8ff;}#sk-65ffa3d3-3cf8-409e-8fec-4432dbf9e602 input.sk-toggleable__control:checked~div.sk-toggleable__content {max-height: 200px;max-width: 100%;overflow: auto;}#sk-65ffa3d3-3cf8-409e-8fec-4432dbf9e602 input.sk-toggleable__control:checked~label.sk-toggleable__label-arrow:before {content: \"▾\";}#sk-65ffa3d3-3cf8-409e-8fec-4432dbf9e602 div.sk-estimator input.sk-toggleable__control:checked~label.sk-toggleable__label {background-color: #d4ebff;}#sk-65ffa3d3-3cf8-409e-8fec-4432dbf9e602 div.sk-label input.sk-toggleable__control:checked~label.sk-toggleable__label {background-color: #d4ebff;}#sk-65ffa3d3-3cf8-409e-8fec-4432dbf9e602 input.sk-hidden--visually {border: 0;clip: rect(1px 1px 1px 1px);clip: rect(1px, 1px, 1px, 1px);height: 1px;margin: -1px;overflow: hidden;padding: 0;position: absolute;width: 1px;}#sk-65ffa3d3-3cf8-409e-8fec-4432dbf9e602 div.sk-estimator {font-family: monospace;background-color: #f0f8ff;border: 1px dotted black;border-radius: 0.25em;box-sizing: border-box;margin-bottom: 0.5em;}#sk-65ffa3d3-3cf8-409e-8fec-4432dbf9e602 div.sk-estimator:hover {background-color: #d4ebff;}#sk-65ffa3d3-3cf8-409e-8fec-4432dbf9e602 div.sk-parallel-item::after {content: \"\";width: 100%;border-bottom: 1px solid gray;flex-grow: 1;}#sk-65ffa3d3-3cf8-409e-8fec-4432dbf9e602 div.sk-label:hover label.sk-toggleable__label {background-color: #d4ebff;}#sk-65ffa3d3-3cf8-409e-8fec-4432dbf9e602 div.sk-serial::before {content: \"\";position: absolute;border-left: 1px solid gray;box-sizing: border-box;top: 2em;bottom: 0;left: 50%;}#sk-65ffa3d3-3cf8-409e-8fec-4432dbf9e602 div.sk-serial {display: flex;flex-direction: column;align-items: center;background-color: white;padding-right: 0.2em;padding-left: 0.2em;}#sk-65ffa3d3-3cf8-409e-8fec-4432dbf9e602 div.sk-item {z-index: 1;}#sk-65ffa3d3-3cf8-409e-8fec-4432dbf9e602 div.sk-parallel {display: flex;align-items: stretch;justify-content: center;background-color: white;}#sk-65ffa3d3-3cf8-409e-8fec-4432dbf9e602 div.sk-parallel::before {content: \"\";position: absolute;border-left: 1px solid gray;box-sizing: border-box;top: 2em;bottom: 0;left: 50%;}#sk-65ffa3d3-3cf8-409e-8fec-4432dbf9e602 div.sk-parallel-item {display: flex;flex-direction: column;position: relative;background-color: white;}#sk-65ffa3d3-3cf8-409e-8fec-4432dbf9e602 div.sk-parallel-item:first-child::after {align-self: flex-end;width: 50%;}#sk-65ffa3d3-3cf8-409e-8fec-4432dbf9e602 div.sk-parallel-item:last-child::after {align-self: flex-start;width: 50%;}#sk-65ffa3d3-3cf8-409e-8fec-4432dbf9e602 div.sk-parallel-item:only-child::after {width: 0;}#sk-65ffa3d3-3cf8-409e-8fec-4432dbf9e602 div.sk-dashed-wrapped {border: 1px dashed gray;margin: 0 0.4em 0.5em 0.4em;box-sizing: border-box;padding-bottom: 0.4em;background-color: white;position: relative;}#sk-65ffa3d3-3cf8-409e-8fec-4432dbf9e602 div.sk-label label {font-family: monospace;font-weight: bold;background-color: white;display: inline-block;line-height: 1.2em;}#sk-65ffa3d3-3cf8-409e-8fec-4432dbf9e602 div.sk-label-container {position: relative;z-index: 2;text-align: center;}#sk-65ffa3d3-3cf8-409e-8fec-4432dbf9e602 div.sk-container {/* jupyter's `normalize.less` sets `[hidden] { display: none; }` but bootstrap.min.css set `[hidden] { display: none !important; }` so we also need the `!important` here to be able to override the default hidden behavior on the sphinx rendered scikit-learn.org. See: https://github.com/scikit-learn/scikit-learn/issues/21755 */display: inline-block !important;position: relative;}#sk-65ffa3d3-3cf8-409e-8fec-4432dbf9e602 div.sk-text-repr-fallback {display: none;}</style><div id=\"sk-65ffa3d3-3cf8-409e-8fec-4432dbf9e602\" class=\"sk-top-container\"><div class=\"sk-text-repr-fallback\"><pre>Pipeline(steps=[(&#x27;preprocess&#x27;,\n",
       "                 ColumnTransformer(transformers=[(&#x27;standardscaler&#x27;,\n",
       "                                                  StandardScaler(),\n",
       "                                                  [&#x27;age&#x27;, &#x27;fare&#x27;]),\n",
       "                                                 (&#x27;onehotencoder&#x27;,\n",
       "                                                  OneHotEncoder(), [&#x27;sex&#x27;])],\n",
       "                                   verbose_feature_names_out=False)),\n",
       "                (&#x27;dataframer&#x27;,\n",
       "                 FunctionTransformer(func=&lt;function get_dataframe at 0x00000161953C3670&gt;,\n",
       "                                     kw_args={&#x27;transformer&#x27;: ColumnTransformer(transformers=[(&#x27;standardscaler&#x27;,\n",
       "                                                                                              StandardScaler(),\n",
       "                                                                                              [&#x27;age&#x27;,\n",
       "                                                                                               &#x27;fare&#x27;]),\n",
       "                                                                                             (&#x27;onehotencoder&#x27;,\n",
       "                                                                                              OneHotEncoder(),\n",
       "                                                                                              [&#x27;sex&#x27;])],\n",
       "                                                                               verbose_feature_names_out=False)}))])</pre><b>Please rerun this cell to show the HTML repr or trust the notebook.</b></div><div class=\"sk-container\" hidden><div class=\"sk-item sk-dashed-wrapped\"><div class=\"sk-label-container\"><div class=\"sk-label sk-toggleable\"><input class=\"sk-toggleable__control sk-hidden--visually\" id=\"c1dd7b9c-8051-437c-a176-950e15eec6bc\" type=\"checkbox\" ><label for=\"c1dd7b9c-8051-437c-a176-950e15eec6bc\" class=\"sk-toggleable__label sk-toggleable__label-arrow\">Pipeline</label><div class=\"sk-toggleable__content\"><pre>Pipeline(steps=[(&#x27;preprocess&#x27;,\n",
       "                 ColumnTransformer(transformers=[(&#x27;standardscaler&#x27;,\n",
       "                                                  StandardScaler(),\n",
       "                                                  [&#x27;age&#x27;, &#x27;fare&#x27;]),\n",
       "                                                 (&#x27;onehotencoder&#x27;,\n",
       "                                                  OneHotEncoder(), [&#x27;sex&#x27;])],\n",
       "                                   verbose_feature_names_out=False)),\n",
       "                (&#x27;dataframer&#x27;,\n",
       "                 FunctionTransformer(func=&lt;function get_dataframe at 0x00000161953C3670&gt;,\n",
       "                                     kw_args={&#x27;transformer&#x27;: ColumnTransformer(transformers=[(&#x27;standardscaler&#x27;,\n",
       "                                                                                              StandardScaler(),\n",
       "                                                                                              [&#x27;age&#x27;,\n",
       "                                                                                               &#x27;fare&#x27;]),\n",
       "                                                                                             (&#x27;onehotencoder&#x27;,\n",
       "                                                                                              OneHotEncoder(),\n",
       "                                                                                              [&#x27;sex&#x27;])],\n",
       "                                                                               verbose_feature_names_out=False)}))])</pre></div></div></div><div class=\"sk-serial\"><div class=\"sk-item sk-dashed-wrapped\"><div class=\"sk-label-container\"><div class=\"sk-label sk-toggleable\"><input class=\"sk-toggleable__control sk-hidden--visually\" id=\"73b087ba-e430-4766-a778-60104e03bc77\" type=\"checkbox\" ><label for=\"73b087ba-e430-4766-a778-60104e03bc77\" class=\"sk-toggleable__label sk-toggleable__label-arrow\">preprocess: ColumnTransformer</label><div class=\"sk-toggleable__content\"><pre>ColumnTransformer(transformers=[(&#x27;standardscaler&#x27;, StandardScaler(),\n",
       "                                 [&#x27;age&#x27;, &#x27;fare&#x27;]),\n",
       "                                (&#x27;onehotencoder&#x27;, OneHotEncoder(), [&#x27;sex&#x27;])],\n",
       "                  verbose_feature_names_out=False)</pre></div></div></div><div class=\"sk-parallel\"><div class=\"sk-parallel-item\"><div class=\"sk-item\"><div class=\"sk-label-container\"><div class=\"sk-label sk-toggleable\"><input class=\"sk-toggleable__control sk-hidden--visually\" id=\"69d75b34-10a2-4774-ac52-f5e9afb59db4\" type=\"checkbox\" ><label for=\"69d75b34-10a2-4774-ac52-f5e9afb59db4\" class=\"sk-toggleable__label sk-toggleable__label-arrow\">standardscaler</label><div class=\"sk-toggleable__content\"><pre>[&#x27;age&#x27;, &#x27;fare&#x27;]</pre></div></div></div><div class=\"sk-serial\"><div class=\"sk-item\"><div class=\"sk-estimator sk-toggleable\"><input class=\"sk-toggleable__control sk-hidden--visually\" id=\"d33f4bc8-d8f4-401a-a7ad-925058469130\" type=\"checkbox\" ><label for=\"d33f4bc8-d8f4-401a-a7ad-925058469130\" class=\"sk-toggleable__label sk-toggleable__label-arrow\">StandardScaler</label><div class=\"sk-toggleable__content\"><pre>StandardScaler()</pre></div></div></div></div></div></div><div class=\"sk-parallel-item\"><div class=\"sk-item\"><div class=\"sk-label-container\"><div class=\"sk-label sk-toggleable\"><input class=\"sk-toggleable__control sk-hidden--visually\" id=\"a15bdd72-d5d0-4c65-bccd-96270b7cfbfd\" type=\"checkbox\" ><label for=\"a15bdd72-d5d0-4c65-bccd-96270b7cfbfd\" class=\"sk-toggleable__label sk-toggleable__label-arrow\">onehotencoder</label><div class=\"sk-toggleable__content\"><pre>[&#x27;sex&#x27;]</pre></div></div></div><div class=\"sk-serial\"><div class=\"sk-item\"><div class=\"sk-estimator sk-toggleable\"><input class=\"sk-toggleable__control sk-hidden--visually\" id=\"93342583-a2e7-4912-a003-5c407b1dadfe\" type=\"checkbox\" ><label for=\"93342583-a2e7-4912-a003-5c407b1dadfe\" class=\"sk-toggleable__label sk-toggleable__label-arrow\">OneHotEncoder</label><div class=\"sk-toggleable__content\"><pre>OneHotEncoder()</pre></div></div></div></div></div></div></div></div><div class=\"sk-item\"><div class=\"sk-estimator sk-toggleable\"><input class=\"sk-toggleable__control sk-hidden--visually\" id=\"8a9f3153-55f2-4f14-a771-4371c8673e32\" type=\"checkbox\" ><label for=\"8a9f3153-55f2-4f14-a771-4371c8673e32\" class=\"sk-toggleable__label sk-toggleable__label-arrow\">FunctionTransformer</label><div class=\"sk-toggleable__content\"><pre>FunctionTransformer(func=&lt;function get_dataframe at 0x00000161953C3670&gt;,\n",
       "                    kw_args={&#x27;transformer&#x27;: ColumnTransformer(transformers=[(&#x27;standardscaler&#x27;,\n",
       "                                                                             StandardScaler(),\n",
       "                                                                             [&#x27;age&#x27;,\n",
       "                                                                              &#x27;fare&#x27;]),\n",
       "                                                                            (&#x27;onehotencoder&#x27;,\n",
       "                                                                             OneHotEncoder(),\n",
       "                                                                             [&#x27;sex&#x27;])],\n",
       "                                                              verbose_feature_names_out=False)})</pre></div></div></div></div></div></div></div>"
      ],
      "text/plain": [
       "Pipeline(steps=[('preprocess',\n",
       "                 ColumnTransformer(transformers=[('standardscaler',\n",
       "                                                  StandardScaler(),\n",
       "                                                  ['age', 'fare']),\n",
       "                                                 ('onehotencoder',\n",
       "                                                  OneHotEncoder(), ['sex'])],\n",
       "                                   verbose_feature_names_out=False)),\n",
       "                ('dataframer',\n",
       "                 FunctionTransformer(func=<function get_dataframe at 0x00000161953C3670>,\n",
       "                                     kw_args={'transformer': ColumnTransformer(transformers=[('standardscaler',\n",
       "                                                                                              StandardScaler(),\n",
       "                                                                                              ['age',\n",
       "                                                                                               'fare']),\n",
       "                                                                                             ('onehotencoder',\n",
       "                                                                                              OneHotEncoder(),\n",
       "                                                                                              ['sex'])],\n",
       "                                                                               verbose_feature_names_out=False)}))])"
      ]
     },
     "execution_count": 27,
     "metadata": {},
     "output_type": "execute_result"
    }
   ],
   "source": [
    "def get_dataframe(X, transformer):\n",
    "    \"\"\" \n",
    "    x: an nd-array\n",
    "    transformer: fitted transformer\n",
    "    \"\"\"\n",
    "    col_names = transformer.get_feature_names_out()\n",
    "    output = pd.DataFrame(X.T, col_names).T\n",
    "    return output\n",
    "\n",
    "preprocessor = make_column_transformer(\n",
    "    (StandardScaler(), ['age', 'fare']),\n",
    "    (OneHotEncoder(), ['sex'] ),\n",
    "    verbose_feature_names_out=False\n",
    ")\n",
    "\n",
    "dataframer = FunctionTransformer(func=get_dataframe, kw_args={\"transformer\": preprocessor})\n",
    "\n",
    "pipe = Pipeline([\n",
    "                    (\"preprocess\", preprocessor),\n",
    "                    (\"dataframer\", dataframer)\n",
    "                ])\n",
    "\n",
    "set_config(display=\"diagram\")\n",
    "pipe"
   ]
  },
  {
   "cell_type": "markdown",
   "metadata": {},
   "source": [
    "Notice the arguments for FunctionTransformer in the above code.\n",
    "* first argument is the function to be called\n",
    "* second argument are the parameters to be passed to our function\n",
    "\n",
    "The sequence of arguments for the callable function will be\n",
    "* first argument will be the output from any previous step in the pipeline (if there is any). In our case, it is nd-array coming from ColumnTransformer. It will be mapped to `X`. We don't have to do anything about it.\n",
    "* second argument (if any) we want to pass to function. In our case we need it to be the fitted transformer from the previous step so we have explicitly passed it using `kw_args` as key-value pair. Where key name is the same as callable method argument name ('transformer' in our case). \n",
    "\n",
    "Now let's do our pickle test one more time."
   ]
  },
  {
   "cell_type": "code",
   "execution_count": 28,
   "metadata": {},
   "outputs": [
    {
     "data": {
      "text/html": [
       "<style>#sk-631ddde1-16ef-4a3c-b047-bad8f33b6f59 {color: black;background-color: white;}#sk-631ddde1-16ef-4a3c-b047-bad8f33b6f59 pre{padding: 0;}#sk-631ddde1-16ef-4a3c-b047-bad8f33b6f59 div.sk-toggleable {background-color: white;}#sk-631ddde1-16ef-4a3c-b047-bad8f33b6f59 label.sk-toggleable__label {cursor: pointer;display: block;width: 100%;margin-bottom: 0;padding: 0.3em;box-sizing: border-box;text-align: center;}#sk-631ddde1-16ef-4a3c-b047-bad8f33b6f59 label.sk-toggleable__label-arrow:before {content: \"▸\";float: left;margin-right: 0.25em;color: #696969;}#sk-631ddde1-16ef-4a3c-b047-bad8f33b6f59 label.sk-toggleable__label-arrow:hover:before {color: black;}#sk-631ddde1-16ef-4a3c-b047-bad8f33b6f59 div.sk-estimator:hover label.sk-toggleable__label-arrow:before {color: black;}#sk-631ddde1-16ef-4a3c-b047-bad8f33b6f59 div.sk-toggleable__content {max-height: 0;max-width: 0;overflow: hidden;text-align: left;background-color: #f0f8ff;}#sk-631ddde1-16ef-4a3c-b047-bad8f33b6f59 div.sk-toggleable__content pre {margin: 0.2em;color: black;border-radius: 0.25em;background-color: #f0f8ff;}#sk-631ddde1-16ef-4a3c-b047-bad8f33b6f59 input.sk-toggleable__control:checked~div.sk-toggleable__content {max-height: 200px;max-width: 100%;overflow: auto;}#sk-631ddde1-16ef-4a3c-b047-bad8f33b6f59 input.sk-toggleable__control:checked~label.sk-toggleable__label-arrow:before {content: \"▾\";}#sk-631ddde1-16ef-4a3c-b047-bad8f33b6f59 div.sk-estimator input.sk-toggleable__control:checked~label.sk-toggleable__label {background-color: #d4ebff;}#sk-631ddde1-16ef-4a3c-b047-bad8f33b6f59 div.sk-label input.sk-toggleable__control:checked~label.sk-toggleable__label {background-color: #d4ebff;}#sk-631ddde1-16ef-4a3c-b047-bad8f33b6f59 input.sk-hidden--visually {border: 0;clip: rect(1px 1px 1px 1px);clip: rect(1px, 1px, 1px, 1px);height: 1px;margin: -1px;overflow: hidden;padding: 0;position: absolute;width: 1px;}#sk-631ddde1-16ef-4a3c-b047-bad8f33b6f59 div.sk-estimator {font-family: monospace;background-color: #f0f8ff;border: 1px dotted black;border-radius: 0.25em;box-sizing: border-box;margin-bottom: 0.5em;}#sk-631ddde1-16ef-4a3c-b047-bad8f33b6f59 div.sk-estimator:hover {background-color: #d4ebff;}#sk-631ddde1-16ef-4a3c-b047-bad8f33b6f59 div.sk-parallel-item::after {content: \"\";width: 100%;border-bottom: 1px solid gray;flex-grow: 1;}#sk-631ddde1-16ef-4a3c-b047-bad8f33b6f59 div.sk-label:hover label.sk-toggleable__label {background-color: #d4ebff;}#sk-631ddde1-16ef-4a3c-b047-bad8f33b6f59 div.sk-serial::before {content: \"\";position: absolute;border-left: 1px solid gray;box-sizing: border-box;top: 2em;bottom: 0;left: 50%;}#sk-631ddde1-16ef-4a3c-b047-bad8f33b6f59 div.sk-serial {display: flex;flex-direction: column;align-items: center;background-color: white;padding-right: 0.2em;padding-left: 0.2em;}#sk-631ddde1-16ef-4a3c-b047-bad8f33b6f59 div.sk-item {z-index: 1;}#sk-631ddde1-16ef-4a3c-b047-bad8f33b6f59 div.sk-parallel {display: flex;align-items: stretch;justify-content: center;background-color: white;}#sk-631ddde1-16ef-4a3c-b047-bad8f33b6f59 div.sk-parallel::before {content: \"\";position: absolute;border-left: 1px solid gray;box-sizing: border-box;top: 2em;bottom: 0;left: 50%;}#sk-631ddde1-16ef-4a3c-b047-bad8f33b6f59 div.sk-parallel-item {display: flex;flex-direction: column;position: relative;background-color: white;}#sk-631ddde1-16ef-4a3c-b047-bad8f33b6f59 div.sk-parallel-item:first-child::after {align-self: flex-end;width: 50%;}#sk-631ddde1-16ef-4a3c-b047-bad8f33b6f59 div.sk-parallel-item:last-child::after {align-self: flex-start;width: 50%;}#sk-631ddde1-16ef-4a3c-b047-bad8f33b6f59 div.sk-parallel-item:only-child::after {width: 0;}#sk-631ddde1-16ef-4a3c-b047-bad8f33b6f59 div.sk-dashed-wrapped {border: 1px dashed gray;margin: 0 0.4em 0.5em 0.4em;box-sizing: border-box;padding-bottom: 0.4em;background-color: white;position: relative;}#sk-631ddde1-16ef-4a3c-b047-bad8f33b6f59 div.sk-label label {font-family: monospace;font-weight: bold;background-color: white;display: inline-block;line-height: 1.2em;}#sk-631ddde1-16ef-4a3c-b047-bad8f33b6f59 div.sk-label-container {position: relative;z-index: 2;text-align: center;}#sk-631ddde1-16ef-4a3c-b047-bad8f33b6f59 div.sk-container {/* jupyter's `normalize.less` sets `[hidden] { display: none; }` but bootstrap.min.css set `[hidden] { display: none !important; }` so we also need the `!important` here to be able to override the default hidden behavior on the sphinx rendered scikit-learn.org. See: https://github.com/scikit-learn/scikit-learn/issues/21755 */display: inline-block !important;position: relative;}#sk-631ddde1-16ef-4a3c-b047-bad8f33b6f59 div.sk-text-repr-fallback {display: none;}</style><div id=\"sk-631ddde1-16ef-4a3c-b047-bad8f33b6f59\" class=\"sk-top-container\"><div class=\"sk-text-repr-fallback\"><pre>Pipeline(steps=[(&#x27;preprocess&#x27;,\n",
       "                 ColumnTransformer(transformers=[(&#x27;standardscaler&#x27;,\n",
       "                                                  StandardScaler(),\n",
       "                                                  [&#x27;age&#x27;, &#x27;fare&#x27;]),\n",
       "                                                 (&#x27;onehotencoder&#x27;,\n",
       "                                                  OneHotEncoder(), [&#x27;sex&#x27;])],\n",
       "                                   verbose_feature_names_out=False)),\n",
       "                (&#x27;dataframer&#x27;,\n",
       "                 FunctionTransformer(func=&lt;function get_dataframe at 0x00000161953C3670&gt;,\n",
       "                                     kw_args={&#x27;transformer&#x27;: ColumnTransformer(transformers=[(&#x27;standardscaler&#x27;,\n",
       "                                                                                              StandardScaler(),\n",
       "                                                                                              [&#x27;age&#x27;,\n",
       "                                                                                               &#x27;fare&#x27;]),\n",
       "                                                                                             (&#x27;onehotencoder&#x27;,\n",
       "                                                                                              OneHotEncoder(),\n",
       "                                                                                              [&#x27;sex&#x27;])],\n",
       "                                                                               verbose_feature_names_out=False)}))])</pre><b>Please rerun this cell to show the HTML repr or trust the notebook.</b></div><div class=\"sk-container\" hidden><div class=\"sk-item sk-dashed-wrapped\"><div class=\"sk-label-container\"><div class=\"sk-label sk-toggleable\"><input class=\"sk-toggleable__control sk-hidden--visually\" id=\"ec9bb235-5034-4154-8f6b-e8ab4b383581\" type=\"checkbox\" ><label for=\"ec9bb235-5034-4154-8f6b-e8ab4b383581\" class=\"sk-toggleable__label sk-toggleable__label-arrow\">Pipeline</label><div class=\"sk-toggleable__content\"><pre>Pipeline(steps=[(&#x27;preprocess&#x27;,\n",
       "                 ColumnTransformer(transformers=[(&#x27;standardscaler&#x27;,\n",
       "                                                  StandardScaler(),\n",
       "                                                  [&#x27;age&#x27;, &#x27;fare&#x27;]),\n",
       "                                                 (&#x27;onehotencoder&#x27;,\n",
       "                                                  OneHotEncoder(), [&#x27;sex&#x27;])],\n",
       "                                   verbose_feature_names_out=False)),\n",
       "                (&#x27;dataframer&#x27;,\n",
       "                 FunctionTransformer(func=&lt;function get_dataframe at 0x00000161953C3670&gt;,\n",
       "                                     kw_args={&#x27;transformer&#x27;: ColumnTransformer(transformers=[(&#x27;standardscaler&#x27;,\n",
       "                                                                                              StandardScaler(),\n",
       "                                                                                              [&#x27;age&#x27;,\n",
       "                                                                                               &#x27;fare&#x27;]),\n",
       "                                                                                             (&#x27;onehotencoder&#x27;,\n",
       "                                                                                              OneHotEncoder(),\n",
       "                                                                                              [&#x27;sex&#x27;])],\n",
       "                                                                               verbose_feature_names_out=False)}))])</pre></div></div></div><div class=\"sk-serial\"><div class=\"sk-item sk-dashed-wrapped\"><div class=\"sk-label-container\"><div class=\"sk-label sk-toggleable\"><input class=\"sk-toggleable__control sk-hidden--visually\" id=\"bb60241a-02b2-4fae-ae5e-e587f5fcb569\" type=\"checkbox\" ><label for=\"bb60241a-02b2-4fae-ae5e-e587f5fcb569\" class=\"sk-toggleable__label sk-toggleable__label-arrow\">preprocess: ColumnTransformer</label><div class=\"sk-toggleable__content\"><pre>ColumnTransformer(transformers=[(&#x27;standardscaler&#x27;, StandardScaler(),\n",
       "                                 [&#x27;age&#x27;, &#x27;fare&#x27;]),\n",
       "                                (&#x27;onehotencoder&#x27;, OneHotEncoder(), [&#x27;sex&#x27;])],\n",
       "                  verbose_feature_names_out=False)</pre></div></div></div><div class=\"sk-parallel\"><div class=\"sk-parallel-item\"><div class=\"sk-item\"><div class=\"sk-label-container\"><div class=\"sk-label sk-toggleable\"><input class=\"sk-toggleable__control sk-hidden--visually\" id=\"4ef00a54-ef13-4006-b1e0-febf19c07340\" type=\"checkbox\" ><label for=\"4ef00a54-ef13-4006-b1e0-febf19c07340\" class=\"sk-toggleable__label sk-toggleable__label-arrow\">standardscaler</label><div class=\"sk-toggleable__content\"><pre>[&#x27;age&#x27;, &#x27;fare&#x27;]</pre></div></div></div><div class=\"sk-serial\"><div class=\"sk-item\"><div class=\"sk-estimator sk-toggleable\"><input class=\"sk-toggleable__control sk-hidden--visually\" id=\"1d5d96ff-c056-40fb-a65d-7daa33aa6951\" type=\"checkbox\" ><label for=\"1d5d96ff-c056-40fb-a65d-7daa33aa6951\" class=\"sk-toggleable__label sk-toggleable__label-arrow\">StandardScaler</label><div class=\"sk-toggleable__content\"><pre>StandardScaler()</pre></div></div></div></div></div></div><div class=\"sk-parallel-item\"><div class=\"sk-item\"><div class=\"sk-label-container\"><div class=\"sk-label sk-toggleable\"><input class=\"sk-toggleable__control sk-hidden--visually\" id=\"44041671-e734-4d47-b00c-81d699a7b28a\" type=\"checkbox\" ><label for=\"44041671-e734-4d47-b00c-81d699a7b28a\" class=\"sk-toggleable__label sk-toggleable__label-arrow\">onehotencoder</label><div class=\"sk-toggleable__content\"><pre>[&#x27;sex&#x27;]</pre></div></div></div><div class=\"sk-serial\"><div class=\"sk-item\"><div class=\"sk-estimator sk-toggleable\"><input class=\"sk-toggleable__control sk-hidden--visually\" id=\"a8fd907f-d663-419e-bd03-d35a0b28a057\" type=\"checkbox\" ><label for=\"a8fd907f-d663-419e-bd03-d35a0b28a057\" class=\"sk-toggleable__label sk-toggleable__label-arrow\">OneHotEncoder</label><div class=\"sk-toggleable__content\"><pre>OneHotEncoder()</pre></div></div></div></div></div></div></div></div><div class=\"sk-item\"><div class=\"sk-estimator sk-toggleable\"><input class=\"sk-toggleable__control sk-hidden--visually\" id=\"e32941e4-8a75-49d1-ba1d-0bd1869df507\" type=\"checkbox\" ><label for=\"e32941e4-8a75-49d1-ba1d-0bd1869df507\" class=\"sk-toggleable__label sk-toggleable__label-arrow\">FunctionTransformer</label><div class=\"sk-toggleable__content\"><pre>FunctionTransformer(func=&lt;function get_dataframe at 0x00000161953C3670&gt;,\n",
       "                    kw_args={&#x27;transformer&#x27;: ColumnTransformer(transformers=[(&#x27;standardscaler&#x27;,\n",
       "                                                                             StandardScaler(),\n",
       "                                                                             [&#x27;age&#x27;,\n",
       "                                                                              &#x27;fare&#x27;]),\n",
       "                                                                            (&#x27;onehotencoder&#x27;,\n",
       "                                                                             OneHotEncoder(),\n",
       "                                                                             [&#x27;sex&#x27;])],\n",
       "                                                              verbose_feature_names_out=False)})</pre></div></div></div></div></div></div></div>"
      ],
      "text/plain": [
       "Pipeline(steps=[('preprocess',\n",
       "                 ColumnTransformer(transformers=[('standardscaler',\n",
       "                                                  StandardScaler(),\n",
       "                                                  ['age', 'fare']),\n",
       "                                                 ('onehotencoder',\n",
       "                                                  OneHotEncoder(), ['sex'])],\n",
       "                                   verbose_feature_names_out=False)),\n",
       "                ('dataframer',\n",
       "                 FunctionTransformer(func=<function get_dataframe at 0x00000161953C3670>,\n",
       "                                     kw_args={'transformer': ColumnTransformer(transformers=[('standardscaler',\n",
       "                                                                                              StandardScaler(),\n",
       "                                                                                              ['age',\n",
       "                                                                                               'fare']),\n",
       "                                                                                             ('onehotencoder',\n",
       "                                                                                              OneHotEncoder(),\n",
       "                                                                                              ['sex'])],\n",
       "                                                                               verbose_feature_names_out=False)}))])"
      ]
     },
     "execution_count": 28,
     "metadata": {},
     "output_type": "execute_result"
    }
   ],
   "source": [
    "##\n",
    "# save our pipeline\n",
    "s1 = pickle.dumps(pipe)\n",
    "\n",
    "# reload it\n",
    "s2 = pickle.loads(s1)\n",
    "s2"
   ]
  },
  {
   "cell_type": "markdown",
   "metadata": {},
   "source": [
    "Alright, no more issues so let's proceed to our next question."
   ]
  },
  {
   "cell_type": "markdown",
   "metadata": {},
   "source": [
    "### Where are the rest of the columns?\n",
    "By default, only the specified columns in transformers are transformed and combined in the output, and the non-specified columns are dropped. (default of `remainder='drop'`). By specifying `remainder='passthrough'`, all remaining columns that were not specified in transformers will be automatically passed through. This subset of columns is concatenated with the output of the transformers.\n",
    "\n",
    "Let's see it in action."
   ]
  },
  {
   "cell_type": "code",
   "execution_count": 29,
   "metadata": {},
   "outputs": [
    {
     "data": {
      "text/html": [
       "<div>\n",
       "<style scoped>\n",
       "    .dataframe tbody tr th:only-of-type {\n",
       "        vertical-align: middle;\n",
       "    }\n",
       "\n",
       "    .dataframe tbody tr th {\n",
       "        vertical-align: top;\n",
       "    }\n",
       "\n",
       "    .dataframe thead th {\n",
       "        text-align: right;\n",
       "    }\n",
       "</style>\n",
       "<table border=\"1\" class=\"dataframe\">\n",
       "  <thead>\n",
       "    <tr style=\"text-align: right;\">\n",
       "      <th></th>\n",
       "      <th>age</th>\n",
       "      <th>fare</th>\n",
       "      <th>sex_female</th>\n",
       "      <th>sex_male</th>\n",
       "      <th>pclass</th>\n",
       "      <th>name</th>\n",
       "      <th>sibsp</th>\n",
       "      <th>parch</th>\n",
       "      <th>ticket</th>\n",
       "      <th>embarked</th>\n",
       "    </tr>\n",
       "  </thead>\n",
       "  <tbody>\n",
       "    <tr>\n",
       "      <th>0</th>\n",
       "      <td>NaN</td>\n",
       "      <td>-0.499399</td>\n",
       "      <td>1.0</td>\n",
       "      <td>0.0</td>\n",
       "      <td>3.0</td>\n",
       "      <td>McCarthy, Miss. Catherine 'Katie'</td>\n",
       "      <td>0.0</td>\n",
       "      <td>0.0</td>\n",
       "      <td>383123</td>\n",
       "      <td>Q</td>\n",
       "    </tr>\n",
       "    <tr>\n",
       "      <th>1</th>\n",
       "      <td>-0.390431</td>\n",
       "      <td>-0.090935</td>\n",
       "      <td>1.0</td>\n",
       "      <td>0.0</td>\n",
       "      <td>2.0</td>\n",
       "      <td>del Carlo, Mrs. Sebastiano (Argenia Genovesi)</td>\n",
       "      <td>1.0</td>\n",
       "      <td>0.0</td>\n",
       "      <td>SC/PARIS 2167</td>\n",
       "      <td>C</td>\n",
       "    </tr>\n",
       "    <tr>\n",
       "      <th>2</th>\n",
       "      <td>-1.296092</td>\n",
       "      <td>-0.018241</td>\n",
       "      <td>1.0</td>\n",
       "      <td>0.0</td>\n",
       "      <td>3.0</td>\n",
       "      <td>Andersson, Miss. Sigrid Elisabeth</td>\n",
       "      <td>4.0</td>\n",
       "      <td>2.0</td>\n",
       "      <td>347082</td>\n",
       "      <td>S</td>\n",
       "    </tr>\n",
       "    <tr>\n",
       "      <th>3</th>\n",
       "      <td>-0.320765</td>\n",
       "      <td>-0.510137</td>\n",
       "      <td>0.0</td>\n",
       "      <td>1.0</td>\n",
       "      <td>3.0</td>\n",
       "      <td>Saad, Mr. Khalil</td>\n",
       "      <td>0.0</td>\n",
       "      <td>0.0</td>\n",
       "      <td>2672</td>\n",
       "      <td>C</td>\n",
       "    </tr>\n",
       "    <tr>\n",
       "      <th>4</th>\n",
       "      <td>-0.947761</td>\n",
       "      <td>-0.501444</td>\n",
       "      <td>1.0</td>\n",
       "      <td>0.0</td>\n",
       "      <td>3.0</td>\n",
       "      <td>Abelseth, Miss. Karen Marie</td>\n",
       "      <td>0.0</td>\n",
       "      <td>0.0</td>\n",
       "      <td>348125</td>\n",
       "      <td>S</td>\n",
       "    </tr>\n",
       "  </tbody>\n",
       "</table>\n",
       "</div>"
      ],
      "text/plain": [
       "        age      fare sex_female sex_male pclass  \\\n",
       "0       NaN -0.499399        1.0      0.0    3.0   \n",
       "1 -0.390431 -0.090935        1.0      0.0    2.0   \n",
       "2 -1.296092 -0.018241        1.0      0.0    3.0   \n",
       "3 -0.320765 -0.510137        0.0      1.0    3.0   \n",
       "4 -0.947761 -0.501444        1.0      0.0    3.0   \n",
       "\n",
       "                                            name sibsp parch         ticket  \\\n",
       "0              McCarthy, Miss. Catherine 'Katie'   0.0   0.0         383123   \n",
       "1  del Carlo, Mrs. Sebastiano (Argenia Genovesi)   1.0   0.0  SC/PARIS 2167   \n",
       "2              Andersson, Miss. Sigrid Elisabeth   4.0   2.0         347082   \n",
       "3                               Saad, Mr. Khalil   0.0   0.0           2672   \n",
       "4                    Abelseth, Miss. Karen Marie   0.0   0.0         348125   \n",
       "\n",
       "  embarked  \n",
       "0        Q  \n",
       "1        C  \n",
       "2        S  \n",
       "3        C  \n",
       "4        S  "
      ]
     },
     "execution_count": 29,
     "metadata": {},
     "output_type": "execute_result"
    }
   ],
   "source": [
    "preprocessor = make_column_transformer(\n",
    "    (StandardScaler(), ['age', 'fare']),\n",
    "    (OneHotEncoder(), ['sex'] ),\n",
    "    verbose_feature_names_out=False,\n",
    "    remainder='passthrough'\n",
    ")\n",
    "\n",
    "# get_dataframe is already defined in last section. Intentionally omitted here. \n",
    "dataframer = FunctionTransformer(func=get_dataframe, kw_args={\"transformer\": preprocessor})\n",
    "\n",
    "pipe = Pipeline([\n",
    "                    (\"preprocess\", preprocessor),\n",
    "                    (\"dataframer\", dataframer)\n",
    "                ])\n",
    "\n",
    "temp = pipe.fit_transform(X_train, y_train)\n",
    "temp.head()"
   ]
  },
  {
   "cell_type": "markdown",
   "metadata": {},
   "source": [
    "We have our remaining features back now, so let's proceed to our next question.\n",
    "\n",
    "### What happens if I change the sequence in ColumnTranformer?\n",
    "It is better to make some changes and then see the results. I am making two changes in ColumnTransformer\n",
    "1. Changed the order of transformers (OHE before scaling)\n",
    "2. Changed the order of features inside the transformer ('fare' before 'age')"
   ]
  },
  {
   "cell_type": "code",
   "execution_count": 30,
   "metadata": {},
   "outputs": [
    {
     "data": {
      "text/html": [
       "<div>\n",
       "<style scoped>\n",
       "    .dataframe tbody tr th:only-of-type {\n",
       "        vertical-align: middle;\n",
       "    }\n",
       "\n",
       "    .dataframe tbody tr th {\n",
       "        vertical-align: top;\n",
       "    }\n",
       "\n",
       "    .dataframe thead th {\n",
       "        text-align: right;\n",
       "    }\n",
       "</style>\n",
       "<table border=\"1\" class=\"dataframe\">\n",
       "  <thead>\n",
       "    <tr style=\"text-align: right;\">\n",
       "      <th></th>\n",
       "      <th>sex_female</th>\n",
       "      <th>sex_male</th>\n",
       "      <th>fare</th>\n",
       "      <th>age</th>\n",
       "      <th>pclass</th>\n",
       "      <th>name</th>\n",
       "      <th>sibsp</th>\n",
       "      <th>parch</th>\n",
       "      <th>ticket</th>\n",
       "      <th>embarked</th>\n",
       "    </tr>\n",
       "  </thead>\n",
       "  <tbody>\n",
       "    <tr>\n",
       "      <th>0</th>\n",
       "      <td>1.0</td>\n",
       "      <td>0.0</td>\n",
       "      <td>-0.499399</td>\n",
       "      <td>NaN</td>\n",
       "      <td>3.0</td>\n",
       "      <td>McCarthy, Miss. Catherine 'Katie'</td>\n",
       "      <td>0.0</td>\n",
       "      <td>0.0</td>\n",
       "      <td>383123</td>\n",
       "      <td>Q</td>\n",
       "    </tr>\n",
       "    <tr>\n",
       "      <th>1</th>\n",
       "      <td>1.0</td>\n",
       "      <td>0.0</td>\n",
       "      <td>-0.090935</td>\n",
       "      <td>-0.390431</td>\n",
       "      <td>2.0</td>\n",
       "      <td>del Carlo, Mrs. Sebastiano (Argenia Genovesi)</td>\n",
       "      <td>1.0</td>\n",
       "      <td>0.0</td>\n",
       "      <td>SC/PARIS 2167</td>\n",
       "      <td>C</td>\n",
       "    </tr>\n",
       "    <tr>\n",
       "      <th>2</th>\n",
       "      <td>1.0</td>\n",
       "      <td>0.0</td>\n",
       "      <td>-0.018241</td>\n",
       "      <td>-1.296092</td>\n",
       "      <td>3.0</td>\n",
       "      <td>Andersson, Miss. Sigrid Elisabeth</td>\n",
       "      <td>4.0</td>\n",
       "      <td>2.0</td>\n",
       "      <td>347082</td>\n",
       "      <td>S</td>\n",
       "    </tr>\n",
       "    <tr>\n",
       "      <th>3</th>\n",
       "      <td>0.0</td>\n",
       "      <td>1.0</td>\n",
       "      <td>-0.510137</td>\n",
       "      <td>-0.320765</td>\n",
       "      <td>3.0</td>\n",
       "      <td>Saad, Mr. Khalil</td>\n",
       "      <td>0.0</td>\n",
       "      <td>0.0</td>\n",
       "      <td>2672</td>\n",
       "      <td>C</td>\n",
       "    </tr>\n",
       "    <tr>\n",
       "      <th>4</th>\n",
       "      <td>1.0</td>\n",
       "      <td>0.0</td>\n",
       "      <td>-0.501444</td>\n",
       "      <td>-0.947761</td>\n",
       "      <td>3.0</td>\n",
       "      <td>Abelseth, Miss. Karen Marie</td>\n",
       "      <td>0.0</td>\n",
       "      <td>0.0</td>\n",
       "      <td>348125</td>\n",
       "      <td>S</td>\n",
       "    </tr>\n",
       "  </tbody>\n",
       "</table>\n",
       "</div>"
      ],
      "text/plain": [
       "  sex_female sex_male      fare       age pclass  \\\n",
       "0        1.0      0.0 -0.499399       NaN    3.0   \n",
       "1        1.0      0.0 -0.090935 -0.390431    2.0   \n",
       "2        1.0      0.0 -0.018241 -1.296092    3.0   \n",
       "3        0.0      1.0 -0.510137 -0.320765    3.0   \n",
       "4        1.0      0.0 -0.501444 -0.947761    3.0   \n",
       "\n",
       "                                            name sibsp parch         ticket  \\\n",
       "0              McCarthy, Miss. Catherine 'Katie'   0.0   0.0         383123   \n",
       "1  del Carlo, Mrs. Sebastiano (Argenia Genovesi)   1.0   0.0  SC/PARIS 2167   \n",
       "2              Andersson, Miss. Sigrid Elisabeth   4.0   2.0         347082   \n",
       "3                               Saad, Mr. Khalil   0.0   0.0           2672   \n",
       "4                    Abelseth, Miss. Karen Marie   0.0   0.0         348125   \n",
       "\n",
       "  embarked  \n",
       "0        Q  \n",
       "1        C  \n",
       "2        S  \n",
       "3        C  \n",
       "4        S  "
      ]
     },
     "execution_count": 30,
     "metadata": {},
     "output_type": "execute_result"
    }
   ],
   "source": [
    "preprocessor = make_column_transformer(\n",
    "    (OneHotEncoder(), ['sex'] ),\n",
    "    (StandardScaler(), ['fare', 'age']),\n",
    "    verbose_feature_names_out=False,\n",
    "    remainder='passthrough'\n",
    ")\n",
    "\n",
    "# get_dataframe is already defined in last section. Intentionally omitted here. \n",
    "dataframer = FunctionTransformer(func=get_dataframe, kw_args={\"transformer\": preprocessor})\n",
    "\n",
    "pipe = Pipeline([\n",
    "                    (\"preprocess\", preprocessor),\n",
    "                    (\"dataframer\", dataframer)\n",
    "                ])\n",
    "\n",
    "temp = pipe.fit_transform(X_train, y_train)\n",
    "temp.head()"
   ]
  },
  {
   "cell_type": "markdown",
   "metadata": {},
   "source": [
    "We can see that changing the sequence in ColumnTransformer does change the output. Also note\n",
    "* Specified columns in transformers are transformed and combined in the output\n",
    "* Transformers sequence in ColumnTransformer also represents the columns sequence in the output\n",
    "* When `remainder=passthrough` is used then remaining columns will be appended at the end. Remainder columns sequence will be same as in the input."
   ]
  },
  {
   "cell_type": "markdown",
   "metadata": {},
   "source": [
    "## Pipeline inside ColumnTransformer\n",
    "Let's assume we have more requirements this time. I want\n",
    "* for numerical features (age, fare): impute the missing values first, and then scale them\n",
    "* for categorical features (sex): one hot encode them\n",
    "\n",
    "Our pipeline will look like this."
   ]
  },
  {
   "cell_type": "code",
   "execution_count": 31,
   "metadata": {},
   "outputs": [
    {
     "ename": "AttributeError",
     "evalue": "Estimator imputer does not provide get_feature_names_out. Did you mean to call pipeline[:-1].get_feature_names_out()?",
     "output_type": "error",
     "traceback": [
      "\u001b[1;31m---------------------------------------------------------------------------\u001b[0m",
      "\u001b[1;31mAttributeError\u001b[0m                            Traceback (most recent call last)",
      "Input \u001b[1;32mIn [31]\u001b[0m, in \u001b[0;36m<module>\u001b[1;34m\u001b[0m\n\u001b[0;32m     18\u001b[0m dataframer \u001b[38;5;241m=\u001b[39m FunctionTransformer(func\u001b[38;5;241m=\u001b[39mget_dataframe, kw_args\u001b[38;5;241m=\u001b[39m{\u001b[38;5;124m\"\u001b[39m\u001b[38;5;124mtransformer\u001b[39m\u001b[38;5;124m\"\u001b[39m: preprocessor})\n\u001b[0;32m     19\u001b[0m pipe \u001b[38;5;241m=\u001b[39m Pipeline([\n\u001b[0;32m     20\u001b[0m                     (\u001b[38;5;124m\"\u001b[39m\u001b[38;5;124mpreprocess\u001b[39m\u001b[38;5;124m\"\u001b[39m, preprocessor),\n\u001b[0;32m     21\u001b[0m                     (\u001b[38;5;124m\"\u001b[39m\u001b[38;5;124mdataframer\u001b[39m\u001b[38;5;124m\"\u001b[39m, dataframer)\n\u001b[0;32m     22\u001b[0m                 ])\n\u001b[1;32m---> 24\u001b[0m temp \u001b[38;5;241m=\u001b[39m \u001b[43mpipe\u001b[49m\u001b[38;5;241;43m.\u001b[39;49m\u001b[43mfit_transform\u001b[49m\u001b[43m(\u001b[49m\u001b[43mX_train\u001b[49m\u001b[43m,\u001b[49m\u001b[43m \u001b[49m\u001b[43my_train\u001b[49m\u001b[43m)\u001b[49m\n\u001b[0;32m     25\u001b[0m temp\u001b[38;5;241m.\u001b[39mhead()\n",
      "File \u001b[1;32m~\\anaconda3\\envs\\sc_mlflow\\lib\\site-packages\\sklearn\\pipeline.py:434\u001b[0m, in \u001b[0;36mPipeline.fit_transform\u001b[1;34m(self, X, y, **fit_params)\u001b[0m\n\u001b[0;32m    432\u001b[0m fit_params_last_step \u001b[38;5;241m=\u001b[39m fit_params_steps[\u001b[38;5;28mself\u001b[39m\u001b[38;5;241m.\u001b[39msteps[\u001b[38;5;241m-\u001b[39m\u001b[38;5;241m1\u001b[39m][\u001b[38;5;241m0\u001b[39m]]\n\u001b[0;32m    433\u001b[0m \u001b[38;5;28;01mif\u001b[39;00m \u001b[38;5;28mhasattr\u001b[39m(last_step, \u001b[38;5;124m\"\u001b[39m\u001b[38;5;124mfit_transform\u001b[39m\u001b[38;5;124m\"\u001b[39m):\n\u001b[1;32m--> 434\u001b[0m     \u001b[38;5;28;01mreturn\u001b[39;00m \u001b[43mlast_step\u001b[49m\u001b[38;5;241;43m.\u001b[39;49m\u001b[43mfit_transform\u001b[49m\u001b[43m(\u001b[49m\u001b[43mXt\u001b[49m\u001b[43m,\u001b[49m\u001b[43m \u001b[49m\u001b[43my\u001b[49m\u001b[43m,\u001b[49m\u001b[43m \u001b[49m\u001b[38;5;241;43m*\u001b[39;49m\u001b[38;5;241;43m*\u001b[39;49m\u001b[43mfit_params_last_step\u001b[49m\u001b[43m)\u001b[49m\n\u001b[0;32m    435\u001b[0m \u001b[38;5;28;01melse\u001b[39;00m:\n\u001b[0;32m    436\u001b[0m     \u001b[38;5;28;01mreturn\u001b[39;00m last_step\u001b[38;5;241m.\u001b[39mfit(Xt, y, \u001b[38;5;241m*\u001b[39m\u001b[38;5;241m*\u001b[39mfit_params_last_step)\u001b[38;5;241m.\u001b[39mtransform(Xt)\n",
      "File \u001b[1;32m~\\anaconda3\\envs\\sc_mlflow\\lib\\site-packages\\sklearn\\base.py:855\u001b[0m, in \u001b[0;36mTransformerMixin.fit_transform\u001b[1;34m(self, X, y, **fit_params)\u001b[0m\n\u001b[0;32m    852\u001b[0m     \u001b[38;5;28;01mreturn\u001b[39;00m \u001b[38;5;28mself\u001b[39m\u001b[38;5;241m.\u001b[39mfit(X, \u001b[38;5;241m*\u001b[39m\u001b[38;5;241m*\u001b[39mfit_params)\u001b[38;5;241m.\u001b[39mtransform(X)\n\u001b[0;32m    853\u001b[0m \u001b[38;5;28;01melse\u001b[39;00m:\n\u001b[0;32m    854\u001b[0m     \u001b[38;5;66;03m# fit method of arity 2 (supervised transformation)\u001b[39;00m\n\u001b[1;32m--> 855\u001b[0m     \u001b[38;5;28;01mreturn\u001b[39;00m \u001b[38;5;28;43mself\u001b[39;49m\u001b[38;5;241;43m.\u001b[39;49m\u001b[43mfit\u001b[49m\u001b[43m(\u001b[49m\u001b[43mX\u001b[49m\u001b[43m,\u001b[49m\u001b[43m \u001b[49m\u001b[43my\u001b[49m\u001b[43m,\u001b[49m\u001b[43m \u001b[49m\u001b[38;5;241;43m*\u001b[39;49m\u001b[38;5;241;43m*\u001b[39;49m\u001b[43mfit_params\u001b[49m\u001b[43m)\u001b[49m\u001b[38;5;241;43m.\u001b[39;49m\u001b[43mtransform\u001b[49m\u001b[43m(\u001b[49m\u001b[43mX\u001b[49m\u001b[43m)\u001b[49m\n",
      "File \u001b[1;32m~\\anaconda3\\envs\\sc_mlflow\\lib\\site-packages\\sklearn\\preprocessing\\_function_transformer.py:182\u001b[0m, in \u001b[0;36mFunctionTransformer.transform\u001b[1;34m(self, X)\u001b[0m\n\u001b[0;32m    169\u001b[0m \u001b[38;5;124;03m\"\"\"Transform X using the forward function.\u001b[39;00m\n\u001b[0;32m    170\u001b[0m \n\u001b[0;32m    171\u001b[0m \u001b[38;5;124;03mParameters\u001b[39;00m\n\u001b[1;32m   (...)\u001b[0m\n\u001b[0;32m    179\u001b[0m \u001b[38;5;124;03m    Transformed input.\u001b[39;00m\n\u001b[0;32m    180\u001b[0m \u001b[38;5;124;03m\"\"\"\u001b[39;00m\n\u001b[0;32m    181\u001b[0m X \u001b[38;5;241m=\u001b[39m \u001b[38;5;28mself\u001b[39m\u001b[38;5;241m.\u001b[39m_check_input(X, reset\u001b[38;5;241m=\u001b[39m\u001b[38;5;28;01mFalse\u001b[39;00m)\n\u001b[1;32m--> 182\u001b[0m \u001b[38;5;28;01mreturn\u001b[39;00m \u001b[38;5;28;43mself\u001b[39;49m\u001b[38;5;241;43m.\u001b[39;49m\u001b[43m_transform\u001b[49m\u001b[43m(\u001b[49m\u001b[43mX\u001b[49m\u001b[43m,\u001b[49m\u001b[43m \u001b[49m\u001b[43mfunc\u001b[49m\u001b[38;5;241;43m=\u001b[39;49m\u001b[38;5;28;43mself\u001b[39;49m\u001b[38;5;241;43m.\u001b[39;49m\u001b[43mfunc\u001b[49m\u001b[43m,\u001b[49m\u001b[43m \u001b[49m\u001b[43mkw_args\u001b[49m\u001b[38;5;241;43m=\u001b[39;49m\u001b[38;5;28;43mself\u001b[39;49m\u001b[38;5;241;43m.\u001b[39;49m\u001b[43mkw_args\u001b[49m\u001b[43m)\u001b[49m\n",
      "File \u001b[1;32m~\\anaconda3\\envs\\sc_mlflow\\lib\\site-packages\\sklearn\\preprocessing\\_function_transformer.py:205\u001b[0m, in \u001b[0;36mFunctionTransformer._transform\u001b[1;34m(self, X, func, kw_args)\u001b[0m\n\u001b[0;32m    202\u001b[0m \u001b[38;5;28;01mif\u001b[39;00m func \u001b[38;5;129;01mis\u001b[39;00m \u001b[38;5;28;01mNone\u001b[39;00m:\n\u001b[0;32m    203\u001b[0m     func \u001b[38;5;241m=\u001b[39m _identity\n\u001b[1;32m--> 205\u001b[0m \u001b[38;5;28;01mreturn\u001b[39;00m \u001b[43mfunc\u001b[49m\u001b[43m(\u001b[49m\u001b[43mX\u001b[49m\u001b[43m,\u001b[49m\u001b[43m \u001b[49m\u001b[38;5;241;43m*\u001b[39;49m\u001b[38;5;241;43m*\u001b[39;49m\u001b[43m(\u001b[49m\u001b[43mkw_args\u001b[49m\u001b[43m \u001b[49m\u001b[38;5;28;43;01mif\u001b[39;49;00m\u001b[43m \u001b[49m\u001b[43mkw_args\u001b[49m\u001b[43m \u001b[49m\u001b[38;5;28;43;01melse\u001b[39;49;00m\u001b[43m \u001b[49m\u001b[43m{\u001b[49m\u001b[43m}\u001b[49m\u001b[43m)\u001b[49m\u001b[43m)\u001b[49m\n",
      "Input \u001b[1;32mIn [27]\u001b[0m, in \u001b[0;36mget_dataframe\u001b[1;34m(X, transformer)\u001b[0m\n\u001b[0;32m      1\u001b[0m \u001b[38;5;28;01mdef\u001b[39;00m \u001b[38;5;21mget_dataframe\u001b[39m(X, transformer):\n\u001b[0;32m      2\u001b[0m     \u001b[38;5;124;03m\"\"\" \u001b[39;00m\n\u001b[0;32m      3\u001b[0m \u001b[38;5;124;03m    x: an nd-array\u001b[39;00m\n\u001b[0;32m      4\u001b[0m \u001b[38;5;124;03m    transformer: fitted transformer\u001b[39;00m\n\u001b[0;32m      5\u001b[0m \u001b[38;5;124;03m    \"\"\"\u001b[39;00m\n\u001b[1;32m----> 6\u001b[0m     col_names \u001b[38;5;241m=\u001b[39m \u001b[43mtransformer\u001b[49m\u001b[38;5;241;43m.\u001b[39;49m\u001b[43mget_feature_names_out\u001b[49m\u001b[43m(\u001b[49m\u001b[43m)\u001b[49m\n\u001b[0;32m      7\u001b[0m     output \u001b[38;5;241m=\u001b[39m pd\u001b[38;5;241m.\u001b[39mDataFrame(X\u001b[38;5;241m.\u001b[39mT, col_names)\u001b[38;5;241m.\u001b[39mT\n\u001b[0;32m      8\u001b[0m     \u001b[38;5;28;01mreturn\u001b[39;00m output\n",
      "File \u001b[1;32m~\\anaconda3\\envs\\sc_mlflow\\lib\\site-packages\\sklearn\\compose\\_column_transformer.py:481\u001b[0m, in \u001b[0;36mColumnTransformer.get_feature_names_out\u001b[1;34m(self, input_features)\u001b[0m\n\u001b[0;32m    479\u001b[0m transformer_with_feature_names_out \u001b[38;5;241m=\u001b[39m []\n\u001b[0;32m    480\u001b[0m \u001b[38;5;28;01mfor\u001b[39;00m name, trans, column, _ \u001b[38;5;129;01min\u001b[39;00m \u001b[38;5;28mself\u001b[39m\u001b[38;5;241m.\u001b[39m_iter(fitted\u001b[38;5;241m=\u001b[39m\u001b[38;5;28;01mTrue\u001b[39;00m):\n\u001b[1;32m--> 481\u001b[0m     feature_names_out \u001b[38;5;241m=\u001b[39m \u001b[38;5;28;43mself\u001b[39;49m\u001b[38;5;241;43m.\u001b[39;49m\u001b[43m_get_feature_name_out_for_transformer\u001b[49m\u001b[43m(\u001b[49m\n\u001b[0;32m    482\u001b[0m \u001b[43m        \u001b[49m\u001b[43mname\u001b[49m\u001b[43m,\u001b[49m\u001b[43m \u001b[49m\u001b[43mtrans\u001b[49m\u001b[43m,\u001b[49m\u001b[43m \u001b[49m\u001b[43mcolumn\u001b[49m\u001b[43m,\u001b[49m\u001b[43m \u001b[49m\u001b[43minput_features\u001b[49m\n\u001b[0;32m    483\u001b[0m \u001b[43m    \u001b[49m\u001b[43m)\u001b[49m\n\u001b[0;32m    484\u001b[0m     \u001b[38;5;28;01mif\u001b[39;00m feature_names_out \u001b[38;5;129;01mis\u001b[39;00m \u001b[38;5;28;01mNone\u001b[39;00m:\n\u001b[0;32m    485\u001b[0m         \u001b[38;5;28;01mcontinue\u001b[39;00m\n",
      "File \u001b[1;32m~\\anaconda3\\envs\\sc_mlflow\\lib\\site-packages\\sklearn\\compose\\_column_transformer.py:454\u001b[0m, in \u001b[0;36mColumnTransformer._get_feature_name_out_for_transformer\u001b[1;34m(self, name, trans, column, feature_names_in)\u001b[0m\n\u001b[0;32m    450\u001b[0m \u001b[38;5;28;01mif\u001b[39;00m \u001b[38;5;28misinstance\u001b[39m(column, Iterable) \u001b[38;5;129;01mand\u001b[39;00m \u001b[38;5;129;01mnot\u001b[39;00m \u001b[38;5;28mall\u001b[39m(\n\u001b[0;32m    451\u001b[0m     \u001b[38;5;28misinstance\u001b[39m(col, \u001b[38;5;28mstr\u001b[39m) \u001b[38;5;28;01mfor\u001b[39;00m col \u001b[38;5;129;01min\u001b[39;00m column\n\u001b[0;32m    452\u001b[0m ):\n\u001b[0;32m    453\u001b[0m     column \u001b[38;5;241m=\u001b[39m _safe_indexing(feature_names_in, column)\n\u001b[1;32m--> 454\u001b[0m \u001b[38;5;28;01mreturn\u001b[39;00m \u001b[43mtrans\u001b[49m\u001b[38;5;241;43m.\u001b[39;49m\u001b[43mget_feature_names_out\u001b[49m\u001b[43m(\u001b[49m\u001b[43mcolumn\u001b[49m\u001b[43m)\u001b[49m\n",
      "File \u001b[1;32m~\\anaconda3\\envs\\sc_mlflow\\lib\\site-packages\\sklearn\\pipeline.py:751\u001b[0m, in \u001b[0;36mPipeline.get_feature_names_out\u001b[1;34m(self, input_features)\u001b[0m\n\u001b[0;32m    749\u001b[0m \u001b[38;5;28;01mfor\u001b[39;00m _, name, transform \u001b[38;5;129;01min\u001b[39;00m \u001b[38;5;28mself\u001b[39m\u001b[38;5;241m.\u001b[39m_iter():\n\u001b[0;32m    750\u001b[0m     \u001b[38;5;28;01mif\u001b[39;00m \u001b[38;5;129;01mnot\u001b[39;00m \u001b[38;5;28mhasattr\u001b[39m(transform, \u001b[38;5;124m\"\u001b[39m\u001b[38;5;124mget_feature_names_out\u001b[39m\u001b[38;5;124m\"\u001b[39m):\n\u001b[1;32m--> 751\u001b[0m         \u001b[38;5;28;01mraise\u001b[39;00m \u001b[38;5;167;01mAttributeError\u001b[39;00m(\n\u001b[0;32m    752\u001b[0m             \u001b[38;5;124m\"\u001b[39m\u001b[38;5;124mEstimator \u001b[39m\u001b[38;5;132;01m{}\u001b[39;00m\u001b[38;5;124m does not provide get_feature_names_out. \u001b[39m\u001b[38;5;124m\"\u001b[39m\n\u001b[0;32m    753\u001b[0m             \u001b[38;5;124m\"\u001b[39m\u001b[38;5;124mDid you mean to call pipeline[:-1].get_feature_names_out\u001b[39m\u001b[38;5;124m\"\u001b[39m\n\u001b[0;32m    754\u001b[0m             \u001b[38;5;124m\"\u001b[39m\u001b[38;5;124m()?\u001b[39m\u001b[38;5;124m\"\u001b[39m\u001b[38;5;241m.\u001b[39mformat(name)\n\u001b[0;32m    755\u001b[0m         )\n\u001b[0;32m    756\u001b[0m     feature_names_out \u001b[38;5;241m=\u001b[39m transform\u001b[38;5;241m.\u001b[39mget_feature_names_out(feature_names_out)\n\u001b[0;32m    757\u001b[0m \u001b[38;5;28;01mreturn\u001b[39;00m feature_names_out\n",
      "\u001b[1;31mAttributeError\u001b[0m: Estimator imputer does not provide get_feature_names_out. Did you mean to call pipeline[:-1].get_feature_names_out()?"
     ]
    }
   ],
   "source": [
    "#collapse-output\n",
    "numeric_features = [\"age\", \"fare\"]\n",
    "numeric_transformer = Pipeline(\n",
    "    steps=[\n",
    "        (\"imputer\", SimpleImputer(strategy=\"median\")),\n",
    "        (\"scaler\", StandardScaler())\n",
    "        ])\n",
    "\n",
    "categorical_features = [\"sex\"]\n",
    "categorical_transformer = OneHotEncoder(handle_unknown=\"ignore\")\n",
    "\n",
    "preprocessor = make_column_transformer(\n",
    "        (numeric_transformer, numeric_features), # note \"numeric_transformer\" is a pipeline this time\n",
    "        (categorical_transformer, categorical_features),\n",
    "        remainder='passthrough',\n",
    "        verbose_feature_names_out=False\n",
    ")\n",
    "\n",
    "dataframer = FunctionTransformer(func=get_dataframe, kw_args={\"transformer\": preprocessor})\n",
    "pipe = Pipeline([\n",
    "                    (\"preprocess\", preprocessor),\n",
    "                    (\"dataframer\", dataframer)\n",
    "                ])\n",
    "\n",
    "temp = pipe.fit_transform(X_train, y_train)\n",
    "temp.head()"
   ]
  },
  {
   "cell_type": "markdown",
   "metadata": {},
   "source": [
    "Oh geez! What went wrong this time. The error message says\n",
    "```\n",
    "AttributeError: Estimator imputer does not provide get_feature_names_out. Did you mean to call pipeline[:-1].get_feature_names_out()?\n",
    "```\n",
    "From the error message I am getting that\n",
    "> Estimator imputer does not provide get_feature_names_out\n",
    "\n",
    "Hmmm, this is strange. Why is this estimator missing a very useful function? Let's check the docs first on [SimpleImputer](https://scikit-learn.org/stable/modules/generated/sklearn.impute.SimpleImputer.html). For the docs I indeed could not find this method `get_feature_names_out()` for this transformer. A little googling lead me to this Sklearn Github issue page [Implement get_feature_names_out for all estimators](https://github.com/scikit-learn/scikit-learn/issues/21308). Developers are actively adding `get_feature_names_out()` to all estimators and transformers, and it looks like this feature has not been implemented for `SimpleImputer` till Sklearn version==1.0.2. \n",
    "\n",
    "But no worries we can overcome this limitation, and implement this feature ourselves through a custom transformer. "
   ]
  },
  {
   "cell_type": "markdown",
   "metadata": {},
   "source": [
    "## [Custom Transformer](https://scikit-learn.org/stable/developers/develop.html#rolling-your-own-estimator)"
   ]
  },
  {
   "cell_type": "markdown",
   "metadata": {},
   "source": [
    "We can create a custom transformer or an estimator simply by inheriting a class from `BaseEstimator` and optionally the mixin classes in `sklearn.base`. Sklean provides a template that we can use to create our custom transformer. Template link is here: https://github.com/scikit-learn-contrib/project-template/blob/master/skltemplate/_template.py#L146\n",
    "\n",
    "Let us use the same pipeline as in last cell but replace `SimpleImputer` with a custom one."
   ]
  },
  {
   "cell_type": "code",
   "execution_count": 32,
   "metadata": {},
   "outputs": [
    {
     "data": {
      "text/html": [
       "<div>\n",
       "<style scoped>\n",
       "    .dataframe tbody tr th:only-of-type {\n",
       "        vertical-align: middle;\n",
       "    }\n",
       "\n",
       "    .dataframe tbody tr th {\n",
       "        vertical-align: top;\n",
       "    }\n",
       "\n",
       "    .dataframe thead th {\n",
       "        text-align: right;\n",
       "    }\n",
       "</style>\n",
       "<table border=\"1\" class=\"dataframe\">\n",
       "  <thead>\n",
       "    <tr style=\"text-align: right;\">\n",
       "      <th></th>\n",
       "      <th>age</th>\n",
       "      <th>fare</th>\n",
       "      <th>sex_female</th>\n",
       "      <th>sex_male</th>\n",
       "      <th>pclass</th>\n",
       "      <th>name</th>\n",
       "      <th>sibsp</th>\n",
       "      <th>parch</th>\n",
       "      <th>ticket</th>\n",
       "      <th>embarked</th>\n",
       "    </tr>\n",
       "  </thead>\n",
       "  <tbody>\n",
       "    <tr>\n",
       "      <th>0</th>\n",
       "      <td>0.0</td>\n",
       "      <td>-0.499638</td>\n",
       "      <td>1.0</td>\n",
       "      <td>0.0</td>\n",
       "      <td>3.0</td>\n",
       "      <td>McCarthy, Miss. Catherine 'Katie'</td>\n",
       "      <td>0.0</td>\n",
       "      <td>0.0</td>\n",
       "      <td>383123</td>\n",
       "      <td>Q</td>\n",
       "    </tr>\n",
       "    <tr>\n",
       "      <th>1</th>\n",
       "      <td>-0.436411</td>\n",
       "      <td>-0.090979</td>\n",
       "      <td>1.0</td>\n",
       "      <td>0.0</td>\n",
       "      <td>2.0</td>\n",
       "      <td>del Carlo, Mrs. Sebastiano (Argenia Genovesi)</td>\n",
       "      <td>1.0</td>\n",
       "      <td>0.0</td>\n",
       "      <td>SC/PARIS 2167</td>\n",
       "      <td>C</td>\n",
       "    </tr>\n",
       "    <tr>\n",
       "      <th>2</th>\n",
       "      <td>-1.448729</td>\n",
       "      <td>-0.01825</td>\n",
       "      <td>1.0</td>\n",
       "      <td>0.0</td>\n",
       "      <td>3.0</td>\n",
       "      <td>Andersson, Miss. Sigrid Elisabeth</td>\n",
       "      <td>4.0</td>\n",
       "      <td>2.0</td>\n",
       "      <td>347082</td>\n",
       "      <td>S</td>\n",
       "    </tr>\n",
       "    <tr>\n",
       "      <th>3</th>\n",
       "      <td>-0.358541</td>\n",
       "      <td>-0.510381</td>\n",
       "      <td>0.0</td>\n",
       "      <td>1.0</td>\n",
       "      <td>3.0</td>\n",
       "      <td>Saad, Mr. Khalil</td>\n",
       "      <td>0.0</td>\n",
       "      <td>0.0</td>\n",
       "      <td>2672</td>\n",
       "      <td>C</td>\n",
       "    </tr>\n",
       "    <tr>\n",
       "      <th>4</th>\n",
       "      <td>-1.059376</td>\n",
       "      <td>-0.501684</td>\n",
       "      <td>1.0</td>\n",
       "      <td>0.0</td>\n",
       "      <td>3.0</td>\n",
       "      <td>Abelseth, Miss. Karen Marie</td>\n",
       "      <td>0.0</td>\n",
       "      <td>0.0</td>\n",
       "      <td>348125</td>\n",
       "      <td>S</td>\n",
       "    </tr>\n",
       "  </tbody>\n",
       "</table>\n",
       "</div>"
      ],
      "text/plain": [
       "        age      fare sex_female sex_male pclass  \\\n",
       "0       0.0 -0.499638        1.0      0.0    3.0   \n",
       "1 -0.436411 -0.090979        1.0      0.0    2.0   \n",
       "2 -1.448729  -0.01825        1.0      0.0    3.0   \n",
       "3 -0.358541 -0.510381        0.0      1.0    3.0   \n",
       "4 -1.059376 -0.501684        1.0      0.0    3.0   \n",
       "\n",
       "                                            name sibsp parch         ticket  \\\n",
       "0              McCarthy, Miss. Catherine 'Katie'   0.0   0.0         383123   \n",
       "1  del Carlo, Mrs. Sebastiano (Argenia Genovesi)   1.0   0.0  SC/PARIS 2167   \n",
       "2              Andersson, Miss. Sigrid Elisabeth   4.0   2.0         347082   \n",
       "3                               Saad, Mr. Khalil   0.0   0.0           2672   \n",
       "4                    Abelseth, Miss. Karen Marie   0.0   0.0         348125   \n",
       "\n",
       "  embarked  \n",
       "0        Q  \n",
       "1        C  \n",
       "2        S  \n",
       "3        C  \n",
       "4        S  "
      ]
     },
     "execution_count": 32,
     "metadata": {},
     "output_type": "execute_result"
    }
   ],
   "source": [
    "from sklearn.base import BaseEstimator, TransformerMixin\n",
    "\n",
    "class SimpleImputerCustom(BaseEstimator, TransformerMixin):\n",
    "    def __init__(self, strategy='mean'):\n",
    "        self.strategy = strategy\n",
    "        self.imputer = SimpleImputer(strategy=self.strategy)\n",
    "       \n",
    "        \n",
    "    def fit(self, X, y):\n",
    "        self.imputer.fit(X, y)\n",
    "        return self\n",
    "    \n",
    "    def transform(self, X):\n",
    "        return self.imputer.transform(X)\n",
    "    \n",
    "    def get_feature_names_out(self, input_features=None):\n",
    "        # we have returned the input features name as out features will have the same name\n",
    "        return input_features\n",
    "\n",
    "\n",
    "numeric_features = [\"age\", \"fare\"]\n",
    "numeric_transformer = Pipeline(\n",
    "    steps=[\n",
    "            (\"imputer\", SimpleImputerCustom(strategy='mean')),\n",
    "            (\"scaler\", StandardScaler())\n",
    "             ]\n",
    ")\n",
    "\n",
    "\n",
    "categorical_features = [\"sex\"]\n",
    "categorical_transformer = OneHotEncoder(handle_unknown=\"ignore\")\n",
    "\n",
    "preprocessor = make_column_transformer(\n",
    "        (numeric_transformer, numeric_features), # note \"numeric_transformer\" is a pipeline\n",
    "        (categorical_transformer, categorical_features),\n",
    "        remainder='passthrough',\n",
    "    verbose_feature_names_out=False\n",
    ")\n",
    "\n",
    "dataframer = FunctionTransformer(func=get_dataframe, kw_args={\"transformer\": preprocessor})\n",
    "pipe = Pipeline([\n",
    "                    (\"preprocess\", preprocessor),\n",
    "                    (\"dataframer\", dataframer)\n",
    "                ])\n",
    "\n",
    "temp = pipe.fit_transform(X_train, y_train)\n",
    "temp.head()"
   ]
  },
  {
   "cell_type": "markdown",
   "metadata": {},
   "source": [
    "## Feature Engineering with Custom Transformer"
   ]
  },
  {
   "cell_type": "markdown",
   "metadata": {},
   "source": [
    "So far, so good! Let's assume that we have another requirement and it is about feature engineering. We have to combine 'sibsp' and 'parch' into two new features: family_size and is_alone.\n",
    "\n",
    "Let's implement this now."
   ]
  },
  {
   "cell_type": "code",
   "execution_count": 33,
   "metadata": {},
   "outputs": [
    {
     "data": {
      "text/html": [
       "<div>\n",
       "<style scoped>\n",
       "    .dataframe tbody tr th:only-of-type {\n",
       "        vertical-align: middle;\n",
       "    }\n",
       "\n",
       "    .dataframe tbody tr th {\n",
       "        vertical-align: top;\n",
       "    }\n",
       "\n",
       "    .dataframe thead th {\n",
       "        text-align: right;\n",
       "    }\n",
       "</style>\n",
       "<table border=\"1\" class=\"dataframe\">\n",
       "  <thead>\n",
       "    <tr style=\"text-align: right;\">\n",
       "      <th></th>\n",
       "      <th>age</th>\n",
       "      <th>fare</th>\n",
       "      <th>sex_female</th>\n",
       "      <th>sex_male</th>\n",
       "      <th>family_size</th>\n",
       "      <th>is_alone</th>\n",
       "    </tr>\n",
       "  </thead>\n",
       "  <tbody>\n",
       "    <tr>\n",
       "      <th>0</th>\n",
       "      <td>0.000000</td>\n",
       "      <td>-0.499638</td>\n",
       "      <td>1.0</td>\n",
       "      <td>0.0</td>\n",
       "      <td>0.0</td>\n",
       "      <td>1.0</td>\n",
       "    </tr>\n",
       "    <tr>\n",
       "      <th>1</th>\n",
       "      <td>-0.436411</td>\n",
       "      <td>-0.090979</td>\n",
       "      <td>1.0</td>\n",
       "      <td>0.0</td>\n",
       "      <td>1.0</td>\n",
       "      <td>1.0</td>\n",
       "    </tr>\n",
       "    <tr>\n",
       "      <th>2</th>\n",
       "      <td>-1.448729</td>\n",
       "      <td>-0.018250</td>\n",
       "      <td>1.0</td>\n",
       "      <td>0.0</td>\n",
       "      <td>6.0</td>\n",
       "      <td>0.0</td>\n",
       "    </tr>\n",
       "    <tr>\n",
       "      <th>3</th>\n",
       "      <td>-0.358541</td>\n",
       "      <td>-0.510381</td>\n",
       "      <td>0.0</td>\n",
       "      <td>1.0</td>\n",
       "      <td>0.0</td>\n",
       "      <td>1.0</td>\n",
       "    </tr>\n",
       "    <tr>\n",
       "      <th>4</th>\n",
       "      <td>-1.059376</td>\n",
       "      <td>-0.501684</td>\n",
       "      <td>1.0</td>\n",
       "      <td>0.0</td>\n",
       "      <td>0.0</td>\n",
       "      <td>1.0</td>\n",
       "    </tr>\n",
       "  </tbody>\n",
       "</table>\n",
       "</div>"
      ],
      "text/plain": [
       "        age      fare  sex_female  sex_male  family_size  is_alone\n",
       "0  0.000000 -0.499638         1.0       0.0          0.0       1.0\n",
       "1 -0.436411 -0.090979         1.0       0.0          1.0       1.0\n",
       "2 -1.448729 -0.018250         1.0       0.0          6.0       0.0\n",
       "3 -0.358541 -0.510381         0.0       1.0          0.0       1.0\n",
       "4 -1.059376 -0.501684         1.0       0.0          0.0       1.0"
      ]
     },
     "execution_count": 33,
     "metadata": {},
     "output_type": "execute_result"
    }
   ],
   "source": [
    "class FamilyFeatureTransformer(BaseEstimator, TransformerMixin):\n",
    "    def __init__(self):\n",
    "        pass\n",
    "       \n",
    "    def fit(self, X, y):\n",
    "        return self\n",
    "    \n",
    "    def transform(self, X):\n",
    "        X['family_size'] = X['parch'] + X['sibsp']\n",
    "        X.drop(['parch', 'sibsp'], axis=1, inplace=True) # we can drop this feature now\n",
    "        X['is_alone'] = 1\n",
    "        X.loc[X['family_size'] > 1, 'is_alone'] = 0\n",
    "        return X\n",
    "    \n",
    "    def get_feature_names_out(self, input_features=None):\n",
    "        # this time we have created new features. Their names are different from input features.\n",
    "        # so we have explicitly mentioned them here.\n",
    "        return ['family_size', 'is_alone']\n",
    "\n",
    "numeric_features = [\"age\", \"fare\"]\n",
    "numeric_transformer = Pipeline(\n",
    "    steps=[\n",
    "            (\"imputer\", SimpleImputerCustom(strategy='mean')),\n",
    "            (\"scaler\", StandardScaler())\n",
    "             ]\n",
    ")\n",
    "\n",
    "categorical_features = [\"sex\"]\n",
    "categorical_transformer = OneHotEncoder(handle_unknown=\"ignore\")\n",
    "\n",
    "family_features = [\"parch\", \"sibsp\"]\n",
    "family_transformer = FamilyFeatureTransformer()\n",
    "\n",
    "preprocessor = make_column_transformer(\n",
    "        (numeric_transformer, numeric_features), \n",
    "        (categorical_transformer, categorical_features),\n",
    "        (family_transformer, family_features),\n",
    "        remainder='drop', # let's drop extra features this time\n",
    "    verbose_feature_names_out=False\n",
    ")\n",
    "\n",
    "dataframer = FunctionTransformer(func=get_dataframe, kw_args={\"transformer\": preprocessor})\n",
    "pipe = Pipeline([\n",
    "                    (\"preprocess\", preprocessor),\n",
    "                    (\"dataframer\", dataframer)\n",
    "                ])\n",
    "\n",
    "temp = pipe.fit_transform(X_train, y_train)\n",
    "temp.head()"
   ]
  },
  {
   "cell_type": "markdown",
   "metadata": {},
   "source": [
    "## Sklean Pipeline with Feature Importance"
   ]
  },
  {
   "cell_type": "markdown",
   "metadata": {},
   "source": [
    "Alright, we have our required features ready and we can now pass them to a classifier. Let's use RandomForrest as our classifier and run our pipeline with it."
   ]
  },
  {
   "cell_type": "code",
   "execution_count": 34,
   "metadata": {},
   "outputs": [
    {
     "ename": "AttributeError",
     "evalue": "'RandomForestClassifier' object has no attribute 'transform'",
     "output_type": "error",
     "traceback": [
      "\u001b[1;31m---------------------------------------------------------------------------\u001b[0m",
      "\u001b[1;31mAttributeError\u001b[0m                            Traceback (most recent call last)",
      "Input \u001b[1;32mIn [34]\u001b[0m, in \u001b[0;36m<module>\u001b[1;34m\u001b[0m\n\u001b[0;32m      4\u001b[0m \u001b[38;5;66;03m# 'preprocessor' and 'dataframer' are already declared in last section, and intentionally omitted here.\u001b[39;00m\n\u001b[0;32m      5\u001b[0m pipe \u001b[38;5;241m=\u001b[39m Pipeline([\n\u001b[0;32m      6\u001b[0m                     (\u001b[38;5;124m\"\u001b[39m\u001b[38;5;124mpreprocess\u001b[39m\u001b[38;5;124m\"\u001b[39m, preprocessor),\n\u001b[0;32m      7\u001b[0m                     (\u001b[38;5;124m\"\u001b[39m\u001b[38;5;124mdataframer\u001b[39m\u001b[38;5;124m\"\u001b[39m, dataframer),\n\u001b[0;32m      8\u001b[0m                     (\u001b[38;5;124m'\u001b[39m\u001b[38;5;124mrf_estimator\u001b[39m\u001b[38;5;124m'\u001b[39m, RandomForestClassifier())\n\u001b[0;32m      9\u001b[0m \n\u001b[0;32m     10\u001b[0m                 ])\n\u001b[1;32m---> 12\u001b[0m temp \u001b[38;5;241m=\u001b[39m \u001b[43mpipe\u001b[49m\u001b[38;5;241;43m.\u001b[39;49m\u001b[43mfit_transform\u001b[49m\u001b[43m(\u001b[49m\u001b[43mX_train\u001b[49m\u001b[43m,\u001b[49m\u001b[43m \u001b[49m\u001b[43my_train\u001b[49m\u001b[43m)\u001b[49m\n\u001b[0;32m     13\u001b[0m temp\u001b[38;5;241m.\u001b[39mhead()\n",
      "File \u001b[1;32m~\\anaconda3\\envs\\sc_mlflow\\lib\\site-packages\\sklearn\\pipeline.py:436\u001b[0m, in \u001b[0;36mPipeline.fit_transform\u001b[1;34m(self, X, y, **fit_params)\u001b[0m\n\u001b[0;32m    434\u001b[0m     \u001b[38;5;28;01mreturn\u001b[39;00m last_step\u001b[38;5;241m.\u001b[39mfit_transform(Xt, y, \u001b[38;5;241m*\u001b[39m\u001b[38;5;241m*\u001b[39mfit_params_last_step)\n\u001b[0;32m    435\u001b[0m \u001b[38;5;28;01melse\u001b[39;00m:\n\u001b[1;32m--> 436\u001b[0m     \u001b[38;5;28;01mreturn\u001b[39;00m \u001b[43mlast_step\u001b[49m\u001b[38;5;241;43m.\u001b[39;49m\u001b[43mfit\u001b[49m\u001b[43m(\u001b[49m\u001b[43mXt\u001b[49m\u001b[43m,\u001b[49m\u001b[43m \u001b[49m\u001b[43my\u001b[49m\u001b[43m,\u001b[49m\u001b[43m \u001b[49m\u001b[38;5;241;43m*\u001b[39;49m\u001b[38;5;241;43m*\u001b[39;49m\u001b[43mfit_params_last_step\u001b[49m\u001b[43m)\u001b[49m\u001b[38;5;241;43m.\u001b[39;49m\u001b[43mtransform\u001b[49m(Xt)\n",
      "\u001b[1;31mAttributeError\u001b[0m: 'RandomForestClassifier' object has no attribute 'transform'"
     ]
    }
   ],
   "source": [
    "from sklearn.ensemble import RandomForestClassifier\n",
    "from sklearn.metrics import accuracy_score\n",
    "\n",
    "# 'preprocessor' and 'dataframer' are already declared in last section, and intentionally omitted here.\n",
    "pipe = Pipeline([\n",
    "                    (\"preprocess\", preprocessor),\n",
    "                    (\"dataframer\", dataframer),\n",
    "                    ('rf_estimator', RandomForestClassifier())\n",
    "\n",
    "                ])\n",
    "\n",
    "temp = pipe.fit_transform(X_train, y_train)\n",
    "temp.head()"
   ]
  },
  {
   "cell_type": "markdown",
   "metadata": {},
   "source": [
    "Okay, looks like we have made a mistake here. Error message is saying\n",
    "```\n",
    "AttributeError: 'RandomForestClassifier' object has no attribute 'transform'\n",
    "```\n",
    "I get that. In our pipeline we have an estimator that does not have a `transform` method defined for it. We should use `predict` method instead.\n",
    "\n",
    "Note:\n",
    "* Estimators implement predict method ([Template reference Estimator](https://github.com/scikit-learn-contrib/project-template/blob/master/skltemplate/_template.py#L11), [Template reference Classifier](https://github.com/scikit-learn-contrib/project-template/blob/master/skltemplate/_template.py#L74))\n",
    "* Transformers implement transform method ([Template reference Transformer](https://github.com/scikit-learn-contrib/project-template/blob/master/skltemplate/_template.py#L146))\n",
    "* `fit_transform` is same calling `fit` and then `transform`\n",
    "\n",
    "Let us fix the error and run our pipeline again."
   ]
  },
  {
   "cell_type": "code",
   "execution_count": 35,
   "metadata": {},
   "outputs": [
    {
     "data": {
      "text/plain": [
       "0.7862595419847328"
      ]
     },
     "execution_count": 35,
     "metadata": {},
     "output_type": "execute_result"
    }
   ],
   "source": [
    "##\n",
    "# pipeline created in last section and intentionally omitted here.\n",
    "pipe.fit(X_train, y_train)\n",
    "y_pred = pipe.predict(X_test)\n",
    "accuracy_score(y_test, y_pred)"
   ]
  },
  {
   "cell_type": "markdown",
   "metadata": {},
   "source": [
    "Let's see how our final pipeline looks visually."
   ]
  },
  {
   "cell_type": "code",
   "execution_count": 36,
   "metadata": {},
   "outputs": [
    {
     "data": {
      "text/html": [
       "<style>#sk-094f6b23-72e9-4895-8e98-607e2a1a464e {color: black;background-color: white;}#sk-094f6b23-72e9-4895-8e98-607e2a1a464e pre{padding: 0;}#sk-094f6b23-72e9-4895-8e98-607e2a1a464e div.sk-toggleable {background-color: white;}#sk-094f6b23-72e9-4895-8e98-607e2a1a464e label.sk-toggleable__label {cursor: pointer;display: block;width: 100%;margin-bottom: 0;padding: 0.3em;box-sizing: border-box;text-align: center;}#sk-094f6b23-72e9-4895-8e98-607e2a1a464e label.sk-toggleable__label-arrow:before {content: \"▸\";float: left;margin-right: 0.25em;color: #696969;}#sk-094f6b23-72e9-4895-8e98-607e2a1a464e label.sk-toggleable__label-arrow:hover:before {color: black;}#sk-094f6b23-72e9-4895-8e98-607e2a1a464e div.sk-estimator:hover label.sk-toggleable__label-arrow:before {color: black;}#sk-094f6b23-72e9-4895-8e98-607e2a1a464e div.sk-toggleable__content {max-height: 0;max-width: 0;overflow: hidden;text-align: left;background-color: #f0f8ff;}#sk-094f6b23-72e9-4895-8e98-607e2a1a464e div.sk-toggleable__content pre {margin: 0.2em;color: black;border-radius: 0.25em;background-color: #f0f8ff;}#sk-094f6b23-72e9-4895-8e98-607e2a1a464e input.sk-toggleable__control:checked~div.sk-toggleable__content {max-height: 200px;max-width: 100%;overflow: auto;}#sk-094f6b23-72e9-4895-8e98-607e2a1a464e input.sk-toggleable__control:checked~label.sk-toggleable__label-arrow:before {content: \"▾\";}#sk-094f6b23-72e9-4895-8e98-607e2a1a464e div.sk-estimator input.sk-toggleable__control:checked~label.sk-toggleable__label {background-color: #d4ebff;}#sk-094f6b23-72e9-4895-8e98-607e2a1a464e div.sk-label input.sk-toggleable__control:checked~label.sk-toggleable__label {background-color: #d4ebff;}#sk-094f6b23-72e9-4895-8e98-607e2a1a464e input.sk-hidden--visually {border: 0;clip: rect(1px 1px 1px 1px);clip: rect(1px, 1px, 1px, 1px);height: 1px;margin: -1px;overflow: hidden;padding: 0;position: absolute;width: 1px;}#sk-094f6b23-72e9-4895-8e98-607e2a1a464e div.sk-estimator {font-family: monospace;background-color: #f0f8ff;border: 1px dotted black;border-radius: 0.25em;box-sizing: border-box;margin-bottom: 0.5em;}#sk-094f6b23-72e9-4895-8e98-607e2a1a464e div.sk-estimator:hover {background-color: #d4ebff;}#sk-094f6b23-72e9-4895-8e98-607e2a1a464e div.sk-parallel-item::after {content: \"\";width: 100%;border-bottom: 1px solid gray;flex-grow: 1;}#sk-094f6b23-72e9-4895-8e98-607e2a1a464e div.sk-label:hover label.sk-toggleable__label {background-color: #d4ebff;}#sk-094f6b23-72e9-4895-8e98-607e2a1a464e div.sk-serial::before {content: \"\";position: absolute;border-left: 1px solid gray;box-sizing: border-box;top: 2em;bottom: 0;left: 50%;}#sk-094f6b23-72e9-4895-8e98-607e2a1a464e div.sk-serial {display: flex;flex-direction: column;align-items: center;background-color: white;padding-right: 0.2em;padding-left: 0.2em;}#sk-094f6b23-72e9-4895-8e98-607e2a1a464e div.sk-item {z-index: 1;}#sk-094f6b23-72e9-4895-8e98-607e2a1a464e div.sk-parallel {display: flex;align-items: stretch;justify-content: center;background-color: white;}#sk-094f6b23-72e9-4895-8e98-607e2a1a464e div.sk-parallel::before {content: \"\";position: absolute;border-left: 1px solid gray;box-sizing: border-box;top: 2em;bottom: 0;left: 50%;}#sk-094f6b23-72e9-4895-8e98-607e2a1a464e div.sk-parallel-item {display: flex;flex-direction: column;position: relative;background-color: white;}#sk-094f6b23-72e9-4895-8e98-607e2a1a464e div.sk-parallel-item:first-child::after {align-self: flex-end;width: 50%;}#sk-094f6b23-72e9-4895-8e98-607e2a1a464e div.sk-parallel-item:last-child::after {align-self: flex-start;width: 50%;}#sk-094f6b23-72e9-4895-8e98-607e2a1a464e div.sk-parallel-item:only-child::after {width: 0;}#sk-094f6b23-72e9-4895-8e98-607e2a1a464e div.sk-dashed-wrapped {border: 1px dashed gray;margin: 0 0.4em 0.5em 0.4em;box-sizing: border-box;padding-bottom: 0.4em;background-color: white;position: relative;}#sk-094f6b23-72e9-4895-8e98-607e2a1a464e div.sk-label label {font-family: monospace;font-weight: bold;background-color: white;display: inline-block;line-height: 1.2em;}#sk-094f6b23-72e9-4895-8e98-607e2a1a464e div.sk-label-container {position: relative;z-index: 2;text-align: center;}#sk-094f6b23-72e9-4895-8e98-607e2a1a464e div.sk-container {/* jupyter's `normalize.less` sets `[hidden] { display: none; }` but bootstrap.min.css set `[hidden] { display: none !important; }` so we also need the `!important` here to be able to override the default hidden behavior on the sphinx rendered scikit-learn.org. See: https://github.com/scikit-learn/scikit-learn/issues/21755 */display: inline-block !important;position: relative;}#sk-094f6b23-72e9-4895-8e98-607e2a1a464e div.sk-text-repr-fallback {display: none;}</style><div id=\"sk-094f6b23-72e9-4895-8e98-607e2a1a464e\" class=\"sk-top-container\"><div class=\"sk-text-repr-fallback\"><pre>Pipeline(steps=[(&#x27;preprocess&#x27;,\n",
       "                 ColumnTransformer(transformers=[(&#x27;pipeline&#x27;,\n",
       "                                                  Pipeline(steps=[(&#x27;imputer&#x27;,\n",
       "                                                                   SimpleImputerCustom()),\n",
       "                                                                  (&#x27;scaler&#x27;,\n",
       "                                                                   StandardScaler())]),\n",
       "                                                  [&#x27;age&#x27;, &#x27;fare&#x27;]),\n",
       "                                                 (&#x27;onehotencoder&#x27;,\n",
       "                                                  OneHotEncoder(handle_unknown=&#x27;ignore&#x27;),\n",
       "                                                  [&#x27;sex&#x27;]),\n",
       "                                                 (&#x27;familyfeaturetransformer&#x27;,\n",
       "                                                  FamilyFeatureTransformer(),\n",
       "                                                  [&#x27;parch&#x27;, &#x27;sibsp&#x27;])],\n",
       "                                   verbose_feature_names_out=False)),\n",
       "                (&#x27;data...\n",
       "                                     kw_args={&#x27;transformer&#x27;: ColumnTransformer(transformers=[(&#x27;pipeline&#x27;,\n",
       "                                                                                              Pipeline(steps=[(&#x27;imputer&#x27;,\n",
       "                                                                                                               SimpleImputerCustom()),\n",
       "                                                                                                              (&#x27;scaler&#x27;,\n",
       "                                                                                                               StandardScaler())]),\n",
       "                                                                                              [&#x27;age&#x27;,\n",
       "                                                                                               &#x27;fare&#x27;]),\n",
       "                                                                                             (&#x27;onehotencoder&#x27;,\n",
       "                                                                                              OneHotEncoder(handle_unknown=&#x27;ignore&#x27;),\n",
       "                                                                                              [&#x27;sex&#x27;]),\n",
       "                                                                                             (&#x27;familyfeaturetransformer&#x27;,\n",
       "                                                                                              FamilyFeatureTransformer(),\n",
       "                                                                                              [&#x27;parch&#x27;,\n",
       "                                                                                               &#x27;sibsp&#x27;])],\n",
       "                                                                               verbose_feature_names_out=False)})),\n",
       "                (&#x27;rf_estimator&#x27;, RandomForestClassifier())])</pre><b>Please rerun this cell to show the HTML repr or trust the notebook.</b></div><div class=\"sk-container\" hidden><div class=\"sk-item sk-dashed-wrapped\"><div class=\"sk-label-container\"><div class=\"sk-label sk-toggleable\"><input class=\"sk-toggleable__control sk-hidden--visually\" id=\"ca76dfde-00f2-4057-a29c-a8116207019d\" type=\"checkbox\" ><label for=\"ca76dfde-00f2-4057-a29c-a8116207019d\" class=\"sk-toggleable__label sk-toggleable__label-arrow\">Pipeline</label><div class=\"sk-toggleable__content\"><pre>Pipeline(steps=[(&#x27;preprocess&#x27;,\n",
       "                 ColumnTransformer(transformers=[(&#x27;pipeline&#x27;,\n",
       "                                                  Pipeline(steps=[(&#x27;imputer&#x27;,\n",
       "                                                                   SimpleImputerCustom()),\n",
       "                                                                  (&#x27;scaler&#x27;,\n",
       "                                                                   StandardScaler())]),\n",
       "                                                  [&#x27;age&#x27;, &#x27;fare&#x27;]),\n",
       "                                                 (&#x27;onehotencoder&#x27;,\n",
       "                                                  OneHotEncoder(handle_unknown=&#x27;ignore&#x27;),\n",
       "                                                  [&#x27;sex&#x27;]),\n",
       "                                                 (&#x27;familyfeaturetransformer&#x27;,\n",
       "                                                  FamilyFeatureTransformer(),\n",
       "                                                  [&#x27;parch&#x27;, &#x27;sibsp&#x27;])],\n",
       "                                   verbose_feature_names_out=False)),\n",
       "                (&#x27;data...\n",
       "                                     kw_args={&#x27;transformer&#x27;: ColumnTransformer(transformers=[(&#x27;pipeline&#x27;,\n",
       "                                                                                              Pipeline(steps=[(&#x27;imputer&#x27;,\n",
       "                                                                                                               SimpleImputerCustom()),\n",
       "                                                                                                              (&#x27;scaler&#x27;,\n",
       "                                                                                                               StandardScaler())]),\n",
       "                                                                                              [&#x27;age&#x27;,\n",
       "                                                                                               &#x27;fare&#x27;]),\n",
       "                                                                                             (&#x27;onehotencoder&#x27;,\n",
       "                                                                                              OneHotEncoder(handle_unknown=&#x27;ignore&#x27;),\n",
       "                                                                                              [&#x27;sex&#x27;]),\n",
       "                                                                                             (&#x27;familyfeaturetransformer&#x27;,\n",
       "                                                                                              FamilyFeatureTransformer(),\n",
       "                                                                                              [&#x27;parch&#x27;,\n",
       "                                                                                               &#x27;sibsp&#x27;])],\n",
       "                                                                               verbose_feature_names_out=False)})),\n",
       "                (&#x27;rf_estimator&#x27;, RandomForestClassifier())])</pre></div></div></div><div class=\"sk-serial\"><div class=\"sk-item sk-dashed-wrapped\"><div class=\"sk-label-container\"><div class=\"sk-label sk-toggleable\"><input class=\"sk-toggleable__control sk-hidden--visually\" id=\"4e3834d5-ce09-4677-875a-61109d70af6a\" type=\"checkbox\" ><label for=\"4e3834d5-ce09-4677-875a-61109d70af6a\" class=\"sk-toggleable__label sk-toggleable__label-arrow\">preprocess: ColumnTransformer</label><div class=\"sk-toggleable__content\"><pre>ColumnTransformer(transformers=[(&#x27;pipeline&#x27;,\n",
       "                                 Pipeline(steps=[(&#x27;imputer&#x27;,\n",
       "                                                  SimpleImputerCustom()),\n",
       "                                                 (&#x27;scaler&#x27;, StandardScaler())]),\n",
       "                                 [&#x27;age&#x27;, &#x27;fare&#x27;]),\n",
       "                                (&#x27;onehotencoder&#x27;,\n",
       "                                 OneHotEncoder(handle_unknown=&#x27;ignore&#x27;),\n",
       "                                 [&#x27;sex&#x27;]),\n",
       "                                (&#x27;familyfeaturetransformer&#x27;,\n",
       "                                 FamilyFeatureTransformer(),\n",
       "                                 [&#x27;parch&#x27;, &#x27;sibsp&#x27;])],\n",
       "                  verbose_feature_names_out=False)</pre></div></div></div><div class=\"sk-parallel\"><div class=\"sk-parallel-item\"><div class=\"sk-item\"><div class=\"sk-label-container\"><div class=\"sk-label sk-toggleable\"><input class=\"sk-toggleable__control sk-hidden--visually\" id=\"f25f2e93-bb80-4e54-bfff-b7263183cbd3\" type=\"checkbox\" ><label for=\"f25f2e93-bb80-4e54-bfff-b7263183cbd3\" class=\"sk-toggleable__label sk-toggleable__label-arrow\">pipeline</label><div class=\"sk-toggleable__content\"><pre>[&#x27;age&#x27;, &#x27;fare&#x27;]</pre></div></div></div><div class=\"sk-serial\"><div class=\"sk-item\"><div class=\"sk-serial\"><div class=\"sk-item\"><div class=\"sk-estimator sk-toggleable\"><input class=\"sk-toggleable__control sk-hidden--visually\" id=\"108a879c-a560-40ae-a624-db3e332efe26\" type=\"checkbox\" ><label for=\"108a879c-a560-40ae-a624-db3e332efe26\" class=\"sk-toggleable__label sk-toggleable__label-arrow\">SimpleImputerCustom</label><div class=\"sk-toggleable__content\"><pre>SimpleImputerCustom()</pre></div></div></div><div class=\"sk-item\"><div class=\"sk-estimator sk-toggleable\"><input class=\"sk-toggleable__control sk-hidden--visually\" id=\"39c8a3a9-d36f-42c3-ab7c-86e69958a54f\" type=\"checkbox\" ><label for=\"39c8a3a9-d36f-42c3-ab7c-86e69958a54f\" class=\"sk-toggleable__label sk-toggleable__label-arrow\">StandardScaler</label><div class=\"sk-toggleable__content\"><pre>StandardScaler()</pre></div></div></div></div></div></div></div></div><div class=\"sk-parallel-item\"><div class=\"sk-item\"><div class=\"sk-label-container\"><div class=\"sk-label sk-toggleable\"><input class=\"sk-toggleable__control sk-hidden--visually\" id=\"484841a9-3d3d-4e15-9c6e-4f41d0b4e65e\" type=\"checkbox\" ><label for=\"484841a9-3d3d-4e15-9c6e-4f41d0b4e65e\" class=\"sk-toggleable__label sk-toggleable__label-arrow\">onehotencoder</label><div class=\"sk-toggleable__content\"><pre>[&#x27;sex&#x27;]</pre></div></div></div><div class=\"sk-serial\"><div class=\"sk-item\"><div class=\"sk-estimator sk-toggleable\"><input class=\"sk-toggleable__control sk-hidden--visually\" id=\"f9bd1712-adee-4275-b38c-903a02139b82\" type=\"checkbox\" ><label for=\"f9bd1712-adee-4275-b38c-903a02139b82\" class=\"sk-toggleable__label sk-toggleable__label-arrow\">OneHotEncoder</label><div class=\"sk-toggleable__content\"><pre>OneHotEncoder(handle_unknown=&#x27;ignore&#x27;)</pre></div></div></div></div></div></div><div class=\"sk-parallel-item\"><div class=\"sk-item\"><div class=\"sk-label-container\"><div class=\"sk-label sk-toggleable\"><input class=\"sk-toggleable__control sk-hidden--visually\" id=\"09a0f69d-bb27-405a-87df-bae3d2aeda22\" type=\"checkbox\" ><label for=\"09a0f69d-bb27-405a-87df-bae3d2aeda22\" class=\"sk-toggleable__label sk-toggleable__label-arrow\">familyfeaturetransformer</label><div class=\"sk-toggleable__content\"><pre>[&#x27;parch&#x27;, &#x27;sibsp&#x27;]</pre></div></div></div><div class=\"sk-serial\"><div class=\"sk-item\"><div class=\"sk-estimator sk-toggleable\"><input class=\"sk-toggleable__control sk-hidden--visually\" id=\"09ebfae6-ee32-43db-a2eb-0bb75605ff87\" type=\"checkbox\" ><label for=\"09ebfae6-ee32-43db-a2eb-0bb75605ff87\" class=\"sk-toggleable__label sk-toggleable__label-arrow\">FamilyFeatureTransformer</label><div class=\"sk-toggleable__content\"><pre>FamilyFeatureTransformer()</pre></div></div></div></div></div></div></div></div><div class=\"sk-item\"><div class=\"sk-estimator sk-toggleable\"><input class=\"sk-toggleable__control sk-hidden--visually\" id=\"173bb70a-3517-42e8-abbb-67fabd971aae\" type=\"checkbox\" ><label for=\"173bb70a-3517-42e8-abbb-67fabd971aae\" class=\"sk-toggleable__label sk-toggleable__label-arrow\">FunctionTransformer</label><div class=\"sk-toggleable__content\"><pre>FunctionTransformer(func=&lt;function get_dataframe at 0x00000161953C3670&gt;,\n",
       "                    kw_args={&#x27;transformer&#x27;: ColumnTransformer(transformers=[(&#x27;pipeline&#x27;,\n",
       "                                                                             Pipeline(steps=[(&#x27;imputer&#x27;,\n",
       "                                                                                              SimpleImputerCustom()),\n",
       "                                                                                             (&#x27;scaler&#x27;,\n",
       "                                                                                              StandardScaler())]),\n",
       "                                                                             [&#x27;age&#x27;,\n",
       "                                                                              &#x27;fare&#x27;]),\n",
       "                                                                            (&#x27;onehotencoder&#x27;,\n",
       "                                                                             OneHotEncoder(handle_unknown=&#x27;ignore&#x27;),\n",
       "                                                                             [&#x27;sex&#x27;]),\n",
       "                                                                            (&#x27;familyfeaturetransformer&#x27;,\n",
       "                                                                             FamilyFeatureTransformer(),\n",
       "                                                                             [&#x27;parch&#x27;,\n",
       "                                                                              &#x27;sibsp&#x27;])],\n",
       "                                                              verbose_feature_names_out=False)})</pre></div></div></div><div class=\"sk-item\"><div class=\"sk-estimator sk-toggleable\"><input class=\"sk-toggleable__control sk-hidden--visually\" id=\"2d648296-9d3f-453c-92f0-23fd7bb38a06\" type=\"checkbox\" ><label for=\"2d648296-9d3f-453c-92f0-23fd7bb38a06\" class=\"sk-toggleable__label sk-toggleable__label-arrow\">RandomForestClassifier</label><div class=\"sk-toggleable__content\"><pre>RandomForestClassifier()</pre></div></div></div></div></div></div></div>"
      ],
      "text/plain": [
       "Pipeline(steps=[('preprocess',\n",
       "                 ColumnTransformer(transformers=[('pipeline',\n",
       "                                                  Pipeline(steps=[('imputer',\n",
       "                                                                   SimpleImputerCustom()),\n",
       "                                                                  ('scaler',\n",
       "                                                                   StandardScaler())]),\n",
       "                                                  ['age', 'fare']),\n",
       "                                                 ('onehotencoder',\n",
       "                                                  OneHotEncoder(handle_unknown='ignore'),\n",
       "                                                  ['sex']),\n",
       "                                                 ('familyfeaturetransformer',\n",
       "                                                  FamilyFeatureTransformer(),\n",
       "                                                  ['parch', 'sibsp'])],\n",
       "                                   verbose_feature_names_out=False)),\n",
       "                ('data...\n",
       "                                     kw_args={'transformer': ColumnTransformer(transformers=[('pipeline',\n",
       "                                                                                              Pipeline(steps=[('imputer',\n",
       "                                                                                                               SimpleImputerCustom()),\n",
       "                                                                                                              ('scaler',\n",
       "                                                                                                               StandardScaler())]),\n",
       "                                                                                              ['age',\n",
       "                                                                                               'fare']),\n",
       "                                                                                             ('onehotencoder',\n",
       "                                                                                              OneHotEncoder(handle_unknown='ignore'),\n",
       "                                                                                              ['sex']),\n",
       "                                                                                             ('familyfeaturetransformer',\n",
       "                                                                                              FamilyFeatureTransformer(),\n",
       "                                                                                              ['parch',\n",
       "                                                                                               'sibsp'])],\n",
       "                                                                               verbose_feature_names_out=False)})),\n",
       "                ('rf_estimator', RandomForestClassifier())])"
      ]
     },
     "execution_count": 36,
     "metadata": {},
     "output_type": "execute_result"
    }
   ],
   "source": [
    "##\n",
    "# set_config(display='text')\n",
    "pipe"
   ]
  },
  {
   "cell_type": "markdown",
   "metadata": {},
   "source": [
    "We can also get the importance of features in our dataset from RandomForrest classifier."
   ]
  },
  {
   "cell_type": "code",
   "execution_count": 37,
   "metadata": {},
   "outputs": [
    {
     "data": {
      "image/png": "[encoded data removed]",
      "text/plain": [
       "<Figure size 432x288 with 1 Axes>"
      ]
     },
     "metadata": {
      "needs_background": "light"
     },
     "output_type": "display_data"
    }
   ],
   "source": [
    "import matplotlib.pyplot as plt\n",
    "\n",
    "clf = pipe[-1] # last estimator is the RF classifier\n",
    "importances = clf.feature_importances_\n",
    "features = clf.feature_names_in_\n",
    "\n",
    "indices = np.argsort(importances)\n",
    "\n",
    "plt.title('Feature Importances')\n",
    "plt.barh(range(len(indices)), importances[indices], color='b', align='center')\n",
    "plt.yticks(range(len(indices)), [features[i] for i in indices])\n",
    "plt.xlabel('Relative Importance')\n",
    "plt.show()"
   ]
  },
  {
   "cell_type": "markdown",
   "metadata": {},
   "source": [
    "Note that all the feature names were passed to the RF Classifier and that is why we were able to get them back using its attribute `feature_names_in_`. This can be super useful when you have many model deployed in the environment, and you can just use the model object to get information about the features it was trained on.\n",
    "\n",
    "For a moment let's also remove the feature names from our pipeline and see how it will effect our feature importance plot."
   ]
  },
  {
   "cell_type": "code",
   "execution_count": 38,
   "metadata": {},
   "outputs": [
    {
     "ename": "AttributeError",
     "evalue": "'RandomForestClassifier' object has no attribute 'feature_names_in_'",
     "output_type": "error",
     "traceback": [
      "\u001b[1;31m---------------------------------------------------------------------------\u001b[0m",
      "\u001b[1;31mAttributeError\u001b[0m                            Traceback (most recent call last)",
      "Input \u001b[1;32mIn [38]\u001b[0m, in \u001b[0;36m<module>\u001b[1;34m\u001b[0m\n\u001b[0;32m     12\u001b[0m clf \u001b[38;5;241m=\u001b[39m pipe[\u001b[38;5;241m-\u001b[39m\u001b[38;5;241m1\u001b[39m]\n\u001b[0;32m     13\u001b[0m importances \u001b[38;5;241m=\u001b[39m clf\u001b[38;5;241m.\u001b[39mfeature_importances_\n\u001b[1;32m---> 14\u001b[0m features \u001b[38;5;241m=\u001b[39m \u001b[43mclf\u001b[49m\u001b[38;5;241;43m.\u001b[39;49m\u001b[43mfeature_names_in_\u001b[49m\n\u001b[0;32m     16\u001b[0m indices \u001b[38;5;241m=\u001b[39m np\u001b[38;5;241m.\u001b[39margsort(importances)\n\u001b[0;32m     18\u001b[0m plt\u001b[38;5;241m.\u001b[39mtitle(\u001b[38;5;124m'\u001b[39m\u001b[38;5;124mFeature Importances\u001b[39m\u001b[38;5;124m'\u001b[39m)\n",
      "\u001b[1;31mAttributeError\u001b[0m: 'RandomForestClassifier' object has no attribute 'feature_names_in_'"
     ]
    }
   ],
   "source": [
    "pipe = Pipeline([\n",
    "                    (\"preprocess\", preprocessor),\n",
    "                    # (\"dataframer\", dataframer),\n",
    "                    ('rf_estimator', RandomForestClassifier())\n",
    "\n",
    "                ])\n",
    "\n",
    "# fit the pipeline\n",
    "pipe.fit(X_train, y_train)\n",
    "\n",
    "# get the feature importance plot\n",
    "clf = pipe[-1]\n",
    "importances = clf.feature_importances_\n",
    "features = clf.feature_names_in_\n",
    "\n",
    "indices = np.argsort(importances)\n",
    "\n",
    "plt.title('Feature Importances')\n",
    "plt.barh(range(len(indices)), importances[indices], color='b', align='center')\n",
    "plt.yticks(range(len(indices)), [features[i] for i in indices])\n",
    "plt.xlabel('Relative Importance')\n",
    "plt.show()"
   ]
  },
  {
   "cell_type": "markdown",
   "metadata": {},
   "source": [
    "No feature names were passed to our classifier this time and it is missing `feature_names_in_` attribute. We can circumvent this and still get feature importance plot."
   ]
  },
  {
   "cell_type": "code",
   "execution_count": 39,
   "metadata": {},
   "outputs": [
    {
     "data": {
      "image/png": "[encoded data removed]",
      "text/plain": [
       "<Figure size 432x288 with 1 Axes>"
      ]
     },
     "metadata": {
      "needs_background": "light"
     },
     "output_type": "display_data"
    }
   ],
   "source": [
    "pipe = Pipeline([\n",
    "                    (\"preprocess\", preprocessor),\n",
    "                    # (\"dataframer\", dataframer),\n",
    "                    ('rf_estimator', RandomForestClassifier())\n",
    "\n",
    "                ])\n",
    "\n",
    "# fit the pipeline\n",
    "pipe.fit(X_train, y_train)\n",
    "\n",
    "# get the feature importance plot\n",
    "clf = pipe[-1]\n",
    "importances = clf.feature_importances_\n",
    "# features = clf.feature_names_in_\n",
    "\n",
    "indices = np.argsort(importances)\n",
    "\n",
    "plt.title('Feature Importances')\n",
    "plt.barh(range(len(indices)), importances[indices], color='b', align='center')\n",
    "plt.yticks(range(len(indices)), [i for i in indices])\n",
    "plt.xlabel('Relative Importance')\n",
    "plt.show()"
   ]
  },
  {
   "cell_type": "markdown",
   "metadata": {},
   "source": [
    "This time we get the same plot but not withOUT feature names, and it is not useful anymore. So definitely we need to keep the feature names with the final estimator. Feature names can help us a lot in interpreting the model."
   ]
  },
  {
   "cell_type": "markdown",
   "metadata": {},
   "source": [
    "## The complete Pipeline"
   ]
  },
  {
   "cell_type": "markdown",
   "metadata": {},
   "source": [
    "For an easy reference, let's put the whole pipeline in one place.\n",
    "### Load Data"
   ]
  },
  {
   "cell_type": "code",
   "execution_count": 40,
   "metadata": {},
   "outputs": [
    {
     "data": {
      "text/html": [
       "<div>\n",
       "<style scoped>\n",
       "    .dataframe tbody tr th:only-of-type {\n",
       "        vertical-align: middle;\n",
       "    }\n",
       "\n",
       "    .dataframe tbody tr th {\n",
       "        vertical-align: top;\n",
       "    }\n",
       "\n",
       "    .dataframe thead th {\n",
       "        text-align: right;\n",
       "    }\n",
       "</style>\n",
       "<table border=\"1\" class=\"dataframe\">\n",
       "  <thead>\n",
       "    <tr style=\"text-align: right;\">\n",
       "      <th></th>\n",
       "      <th>pclass</th>\n",
       "      <th>name</th>\n",
       "      <th>sex</th>\n",
       "      <th>age</th>\n",
       "      <th>sibsp</th>\n",
       "      <th>parch</th>\n",
       "      <th>ticket</th>\n",
       "      <th>fare</th>\n",
       "      <th>embarked</th>\n",
       "    </tr>\n",
       "  </thead>\n",
       "  <tbody>\n",
       "    <tr>\n",
       "      <th>999</th>\n",
       "      <td>3.0</td>\n",
       "      <td>McCarthy, Miss. Catherine 'Katie'</td>\n",
       "      <td>female</td>\n",
       "      <td>NaN</td>\n",
       "      <td>0.0</td>\n",
       "      <td>0.0</td>\n",
       "      <td>383123</td>\n",
       "      <td>7.7500</td>\n",
       "      <td>Q</td>\n",
       "    </tr>\n",
       "    <tr>\n",
       "      <th>392</th>\n",
       "      <td>2.0</td>\n",
       "      <td>del Carlo, Mrs. Sebastiano (Argenia Genovesi)</td>\n",
       "      <td>female</td>\n",
       "      <td>24.0</td>\n",
       "      <td>1.0</td>\n",
       "      <td>0.0</td>\n",
       "      <td>SC/PARIS 2167</td>\n",
       "      <td>27.7208</td>\n",
       "      <td>C</td>\n",
       "    </tr>\n",
       "    <tr>\n",
       "      <th>628</th>\n",
       "      <td>3.0</td>\n",
       "      <td>Andersson, Miss. Sigrid Elisabeth</td>\n",
       "      <td>female</td>\n",
       "      <td>11.0</td>\n",
       "      <td>4.0</td>\n",
       "      <td>2.0</td>\n",
       "      <td>347082</td>\n",
       "      <td>31.2750</td>\n",
       "      <td>S</td>\n",
       "    </tr>\n",
       "    <tr>\n",
       "      <th>1165</th>\n",
       "      <td>3.0</td>\n",
       "      <td>Saad, Mr. Khalil</td>\n",
       "      <td>male</td>\n",
       "      <td>25.0</td>\n",
       "      <td>0.0</td>\n",
       "      <td>0.0</td>\n",
       "      <td>2672</td>\n",
       "      <td>7.2250</td>\n",
       "      <td>C</td>\n",
       "    </tr>\n",
       "    <tr>\n",
       "      <th>604</th>\n",
       "      <td>3.0</td>\n",
       "      <td>Abelseth, Miss. Karen Marie</td>\n",
       "      <td>female</td>\n",
       "      <td>16.0</td>\n",
       "      <td>0.0</td>\n",
       "      <td>0.0</td>\n",
       "      <td>348125</td>\n",
       "      <td>7.6500</td>\n",
       "      <td>S</td>\n",
       "    </tr>\n",
       "  </tbody>\n",
       "</table>\n",
       "</div>"
      ],
      "text/plain": [
       "      pclass                                           name     sex   age  \\\n",
       "999      3.0              McCarthy, Miss. Catherine 'Katie'  female   NaN   \n",
       "392      2.0  del Carlo, Mrs. Sebastiano (Argenia Genovesi)  female  24.0   \n",
       "628      3.0              Andersson, Miss. Sigrid Elisabeth  female  11.0   \n",
       "1165     3.0                               Saad, Mr. Khalil    male  25.0   \n",
       "604      3.0                    Abelseth, Miss. Karen Marie  female  16.0   \n",
       "\n",
       "      sibsp  parch         ticket     fare embarked  \n",
       "999     0.0    0.0         383123   7.7500        Q  \n",
       "392     1.0    0.0  SC/PARIS 2167  27.7208        C  \n",
       "628     4.0    2.0         347082  31.2750        S  \n",
       "1165    0.0    0.0           2672   7.2250        C  \n",
       "604     0.0    0.0         348125   7.6500        S  "
      ]
     },
     "execution_count": 40,
     "metadata": {},
     "output_type": "execute_result"
    }
   ],
   "source": [
    "from sklearn.datasets import fetch_openml\n",
    "from sklearn.model_selection import train_test_split\n",
    "import pandas as pd\n",
    "import numpy as np\n",
    "\n",
    "np.random.seed(42) # for consistency\n",
    "\n",
    "X, y = fetch_openml(\"titanic\", version=1, as_frame=True, return_X_y=True)\n",
    "\n",
    "X.drop(['body', 'cabin', 'boat', 'home.dest'], axis=1, inplace=True)\n",
    "X_train, X_test, y_train, y_test = train_test_split(X, y, stratify=y, test_size=0.2)\n",
    "X_train.head()"
   ]
  },
  {
   "cell_type": "markdown",
   "metadata": {},
   "source": [
    "### Train Model"
   ]
  },
  {
   "cell_type": "code",
   "execution_count": 41,
   "metadata": {},
   "outputs": [
    {
     "data": {
      "text/plain": [
       "0.8015267175572519"
      ]
     },
     "execution_count": 41,
     "metadata": {},
     "output_type": "execute_result"
    }
   ],
   "source": [
    "from sklearn.pipeline import Pipeline\n",
    "from sklearn.preprocessing import OneHotEncoder, FunctionTransformer, StandardScaler\n",
    "from sklearn.base import BaseEstimator, TransformerMixin\n",
    "from sklearn.compose import make_column_transformer\n",
    "from sklearn.ensemble import RandomForestClassifier\n",
    "from sklearn.metrics import accuracy_score\n",
    "from sklearn.impute import SimpleImputer\n",
    "\n",
    "class FamilyFeatureTransformer(BaseEstimator, TransformerMixin):\n",
    "    def __init__(self):\n",
    "        pass\n",
    "       \n",
    "    def fit(self, X, y):\n",
    "        return self\n",
    "    \n",
    "    def transform(self, X):\n",
    "        X['family_size'] = X['parch'] + X['sibsp']\n",
    "        X.drop(['parch', 'sibsp'], axis=1, inplace=True) # we can drop this feature now\n",
    "        X['is_alone'] = 1\n",
    "        X.loc[X['family_size'] > 1, 'is_alone'] = 0\n",
    "        return X\n",
    "    \n",
    "    def get_feature_names_out(self, input_features=None):\n",
    "        # this time we have created new features. Their names are different from input features.\n",
    "        # so we have explicitly mentioned them here.\n",
    "        return ['family_size', 'is_alone']\n",
    "\n",
    "class SimpleImputerCustom(BaseEstimator, TransformerMixin):\n",
    "    def __init__(self, strategy='mean'):\n",
    "        self.strategy = strategy\n",
    "        self.imputer = SimpleImputer(strategy=self.strategy)\n",
    "       \n",
    "        \n",
    "    def fit(self, X, y):\n",
    "        self.imputer.fit(X, y)\n",
    "        return self\n",
    "    \n",
    "    def transform(self, X):\n",
    "        return self.imputer.transform(X)\n",
    "    \n",
    "    def get_feature_names_out(self, input_features=None):\n",
    "        # we have returned the input features name as out features will have the same name\n",
    "        return input_features\n",
    "\n",
    "def get_dataframe(X, transformer):\n",
    "    \"\"\" \n",
    "    x: an nd-array\n",
    "    transformer: fitted transformer\n",
    "    \"\"\"\n",
    "    col_names = transformer.get_feature_names_out()\n",
    "    output = pd.DataFrame(X.T, col_names).T\n",
    "    return output\n",
    "    \n",
    "numeric_features = [\"age\", \"fare\"]\n",
    "numeric_transformer = Pipeline(\n",
    "    steps=[\n",
    "            (\"imputer\", SimpleImputerCustom(strategy='mean')),\n",
    "            (\"scaler\", StandardScaler())\n",
    "             ]\n",
    ")\n",
    "\n",
    "categorical_features = [\"sex\"]\n",
    "categorical_transformer = OneHotEncoder(handle_unknown=\"ignore\")\n",
    "\n",
    "family_features = [\"parch\", \"sibsp\"]\n",
    "family_transformer = FamilyFeatureTransformer()\n",
    "\n",
    "preprocessor = make_column_transformer(\n",
    "        (numeric_transformer, numeric_features), \n",
    "        (categorical_transformer, categorical_features),\n",
    "        (family_transformer, family_features),\n",
    "        remainder='drop', # let's drop extra features this time\n",
    "    verbose_feature_names_out=False\n",
    ")\n",
    "\n",
    "dataframer = FunctionTransformer(func=get_dataframe, kw_args={\"transformer\": preprocessor})\n",
    "pipe = Pipeline([\n",
    "                    (\"preprocess\", preprocessor),\n",
    "                    (\"dataframer\", dataframer),\n",
    "                    ('rf_estimator', RandomForestClassifier())\n",
    "\n",
    "                ])\n",
    "\n",
    "pipe.fit(X_train, y_train)\n",
    "y_pred = pipe.predict(X_test)\n",
    "accuracy_score(y_test, y_pred)"
   ]
  },
  {
   "cell_type": "markdown",
   "metadata": {},
   "source": [
    "### Plot Feature Importance"
   ]
  },
  {
   "cell_type": "code",
   "execution_count": 42,
   "metadata": {},
   "outputs": [
    {
     "data": {
      "image/png": "[encoded data removed]",
      "text/plain": [
       "<Figure size 432x288 with 1 Axes>"
      ]
     },
     "metadata": {
      "needs_background": "light"
     },
     "output_type": "display_data"
    }
   ],
   "source": [
    "import matplotlib.pyplot as plt\n",
    "\n",
    "clf = pipe[-1] # last estimator is the RF classifier\n",
    "importances = clf.feature_importances_\n",
    "features = clf.feature_names_in_\n",
    "\n",
    "indices = np.argsort(importances)\n",
    "\n",
    "plt.title('Feature Importances')\n",
    "plt.barh(range(len(indices)), importances[indices], color='b', align='center')\n",
    "plt.yticks(range(len(indices)), [features[i] for i in indices])\n",
    "plt.xlabel('Relative Importance')\n",
    "plt.show()"
   ]
  },
  {
   "cell_type": "markdown",
   "metadata": {},
   "source": [
    "### Pickle Test"
   ]
  },
  {
   "cell_type": "code",
   "execution_count": 43,
   "metadata": {},
   "outputs": [
    {
     "data": {
      "text/html": [
       "<style>#sk-561aebda-eb81-4234-8134-ac945ae0df01 {color: black;background-color: white;}#sk-561aebda-eb81-4234-8134-ac945ae0df01 pre{padding: 0;}#sk-561aebda-eb81-4234-8134-ac945ae0df01 div.sk-toggleable {background-color: white;}#sk-561aebda-eb81-4234-8134-ac945ae0df01 label.sk-toggleable__label {cursor: pointer;display: block;width: 100%;margin-bottom: 0;padding: 0.3em;box-sizing: border-box;text-align: center;}#sk-561aebda-eb81-4234-8134-ac945ae0df01 label.sk-toggleable__label-arrow:before {content: \"▸\";float: left;margin-right: 0.25em;color: #696969;}#sk-561aebda-eb81-4234-8134-ac945ae0df01 label.sk-toggleable__label-arrow:hover:before {color: black;}#sk-561aebda-eb81-4234-8134-ac945ae0df01 div.sk-estimator:hover label.sk-toggleable__label-arrow:before {color: black;}#sk-561aebda-eb81-4234-8134-ac945ae0df01 div.sk-toggleable__content {max-height: 0;max-width: 0;overflow: hidden;text-align: left;background-color: #f0f8ff;}#sk-561aebda-eb81-4234-8134-ac945ae0df01 div.sk-toggleable__content pre {margin: 0.2em;color: black;border-radius: 0.25em;background-color: #f0f8ff;}#sk-561aebda-eb81-4234-8134-ac945ae0df01 input.sk-toggleable__control:checked~div.sk-toggleable__content {max-height: 200px;max-width: 100%;overflow: auto;}#sk-561aebda-eb81-4234-8134-ac945ae0df01 input.sk-toggleable__control:checked~label.sk-toggleable__label-arrow:before {content: \"▾\";}#sk-561aebda-eb81-4234-8134-ac945ae0df01 div.sk-estimator input.sk-toggleable__control:checked~label.sk-toggleable__label {background-color: #d4ebff;}#sk-561aebda-eb81-4234-8134-ac945ae0df01 div.sk-label input.sk-toggleable__control:checked~label.sk-toggleable__label {background-color: #d4ebff;}#sk-561aebda-eb81-4234-8134-ac945ae0df01 input.sk-hidden--visually {border: 0;clip: rect(1px 1px 1px 1px);clip: rect(1px, 1px, 1px, 1px);height: 1px;margin: -1px;overflow: hidden;padding: 0;position: absolute;width: 1px;}#sk-561aebda-eb81-4234-8134-ac945ae0df01 div.sk-estimator {font-family: monospace;background-color: #f0f8ff;border: 1px dotted black;border-radius: 0.25em;box-sizing: border-box;margin-bottom: 0.5em;}#sk-561aebda-eb81-4234-8134-ac945ae0df01 div.sk-estimator:hover {background-color: #d4ebff;}#sk-561aebda-eb81-4234-8134-ac945ae0df01 div.sk-parallel-item::after {content: \"\";width: 100%;border-bottom: 1px solid gray;flex-grow: 1;}#sk-561aebda-eb81-4234-8134-ac945ae0df01 div.sk-label:hover label.sk-toggleable__label {background-color: #d4ebff;}#sk-561aebda-eb81-4234-8134-ac945ae0df01 div.sk-serial::before {content: \"\";position: absolute;border-left: 1px solid gray;box-sizing: border-box;top: 2em;bottom: 0;left: 50%;}#sk-561aebda-eb81-4234-8134-ac945ae0df01 div.sk-serial {display: flex;flex-direction: column;align-items: center;background-color: white;padding-right: 0.2em;padding-left: 0.2em;}#sk-561aebda-eb81-4234-8134-ac945ae0df01 div.sk-item {z-index: 1;}#sk-561aebda-eb81-4234-8134-ac945ae0df01 div.sk-parallel {display: flex;align-items: stretch;justify-content: center;background-color: white;}#sk-561aebda-eb81-4234-8134-ac945ae0df01 div.sk-parallel::before {content: \"\";position: absolute;border-left: 1px solid gray;box-sizing: border-box;top: 2em;bottom: 0;left: 50%;}#sk-561aebda-eb81-4234-8134-ac945ae0df01 div.sk-parallel-item {display: flex;flex-direction: column;position: relative;background-color: white;}#sk-561aebda-eb81-4234-8134-ac945ae0df01 div.sk-parallel-item:first-child::after {align-self: flex-end;width: 50%;}#sk-561aebda-eb81-4234-8134-ac945ae0df01 div.sk-parallel-item:last-child::after {align-self: flex-start;width: 50%;}#sk-561aebda-eb81-4234-8134-ac945ae0df01 div.sk-parallel-item:only-child::after {width: 0;}#sk-561aebda-eb81-4234-8134-ac945ae0df01 div.sk-dashed-wrapped {border: 1px dashed gray;margin: 0 0.4em 0.5em 0.4em;box-sizing: border-box;padding-bottom: 0.4em;background-color: white;position: relative;}#sk-561aebda-eb81-4234-8134-ac945ae0df01 div.sk-label label {font-family: monospace;font-weight: bold;background-color: white;display: inline-block;line-height: 1.2em;}#sk-561aebda-eb81-4234-8134-ac945ae0df01 div.sk-label-container {position: relative;z-index: 2;text-align: center;}#sk-561aebda-eb81-4234-8134-ac945ae0df01 div.sk-container {/* jupyter's `normalize.less` sets `[hidden] { display: none; }` but bootstrap.min.css set `[hidden] { display: none !important; }` so we also need the `!important` here to be able to override the default hidden behavior on the sphinx rendered scikit-learn.org. See: https://github.com/scikit-learn/scikit-learn/issues/21755 */display: inline-block !important;position: relative;}#sk-561aebda-eb81-4234-8134-ac945ae0df01 div.sk-text-repr-fallback {display: none;}</style><div id=\"sk-561aebda-eb81-4234-8134-ac945ae0df01\" class=\"sk-top-container\"><div class=\"sk-text-repr-fallback\"><pre>Pipeline(steps=[(&#x27;preprocess&#x27;,\n",
       "                 ColumnTransformer(transformers=[(&#x27;pipeline&#x27;,\n",
       "                                                  Pipeline(steps=[(&#x27;imputer&#x27;,\n",
       "                                                                   SimpleImputerCustom()),\n",
       "                                                                  (&#x27;scaler&#x27;,\n",
       "                                                                   StandardScaler())]),\n",
       "                                                  [&#x27;age&#x27;, &#x27;fare&#x27;]),\n",
       "                                                 (&#x27;onehotencoder&#x27;,\n",
       "                                                  OneHotEncoder(handle_unknown=&#x27;ignore&#x27;),\n",
       "                                                  [&#x27;sex&#x27;]),\n",
       "                                                 (&#x27;familyfeaturetransformer&#x27;,\n",
       "                                                  FamilyFeatureTransformer(),\n",
       "                                                  [&#x27;parch&#x27;, &#x27;sibsp&#x27;])],\n",
       "                                   verbose_feature_names_out=False)),\n",
       "                (&#x27;data...\n",
       "                                     kw_args={&#x27;transformer&#x27;: ColumnTransformer(transformers=[(&#x27;pipeline&#x27;,\n",
       "                                                                                              Pipeline(steps=[(&#x27;imputer&#x27;,\n",
       "                                                                                                               SimpleImputerCustom()),\n",
       "                                                                                                              (&#x27;scaler&#x27;,\n",
       "                                                                                                               StandardScaler())]),\n",
       "                                                                                              [&#x27;age&#x27;,\n",
       "                                                                                               &#x27;fare&#x27;]),\n",
       "                                                                                             (&#x27;onehotencoder&#x27;,\n",
       "                                                                                              OneHotEncoder(handle_unknown=&#x27;ignore&#x27;),\n",
       "                                                                                              [&#x27;sex&#x27;]),\n",
       "                                                                                             (&#x27;familyfeaturetransformer&#x27;,\n",
       "                                                                                              FamilyFeatureTransformer(),\n",
       "                                                                                              [&#x27;parch&#x27;,\n",
       "                                                                                               &#x27;sibsp&#x27;])],\n",
       "                                                                               verbose_feature_names_out=False)})),\n",
       "                (&#x27;rf_estimator&#x27;, RandomForestClassifier())])</pre><b>Please rerun this cell to show the HTML repr or trust the notebook.</b></div><div class=\"sk-container\" hidden><div class=\"sk-item sk-dashed-wrapped\"><div class=\"sk-label-container\"><div class=\"sk-label sk-toggleable\"><input class=\"sk-toggleable__control sk-hidden--visually\" id=\"ce161ee7-57d7-4081-bf25-e6fc94b1e0d0\" type=\"checkbox\" ><label for=\"ce161ee7-57d7-4081-bf25-e6fc94b1e0d0\" class=\"sk-toggleable__label sk-toggleable__label-arrow\">Pipeline</label><div class=\"sk-toggleable__content\"><pre>Pipeline(steps=[(&#x27;preprocess&#x27;,\n",
       "                 ColumnTransformer(transformers=[(&#x27;pipeline&#x27;,\n",
       "                                                  Pipeline(steps=[(&#x27;imputer&#x27;,\n",
       "                                                                   SimpleImputerCustom()),\n",
       "                                                                  (&#x27;scaler&#x27;,\n",
       "                                                                   StandardScaler())]),\n",
       "                                                  [&#x27;age&#x27;, &#x27;fare&#x27;]),\n",
       "                                                 (&#x27;onehotencoder&#x27;,\n",
       "                                                  OneHotEncoder(handle_unknown=&#x27;ignore&#x27;),\n",
       "                                                  [&#x27;sex&#x27;]),\n",
       "                                                 (&#x27;familyfeaturetransformer&#x27;,\n",
       "                                                  FamilyFeatureTransformer(),\n",
       "                                                  [&#x27;parch&#x27;, &#x27;sibsp&#x27;])],\n",
       "                                   verbose_feature_names_out=False)),\n",
       "                (&#x27;data...\n",
       "                                     kw_args={&#x27;transformer&#x27;: ColumnTransformer(transformers=[(&#x27;pipeline&#x27;,\n",
       "                                                                                              Pipeline(steps=[(&#x27;imputer&#x27;,\n",
       "                                                                                                               SimpleImputerCustom()),\n",
       "                                                                                                              (&#x27;scaler&#x27;,\n",
       "                                                                                                               StandardScaler())]),\n",
       "                                                                                              [&#x27;age&#x27;,\n",
       "                                                                                               &#x27;fare&#x27;]),\n",
       "                                                                                             (&#x27;onehotencoder&#x27;,\n",
       "                                                                                              OneHotEncoder(handle_unknown=&#x27;ignore&#x27;),\n",
       "                                                                                              [&#x27;sex&#x27;]),\n",
       "                                                                                             (&#x27;familyfeaturetransformer&#x27;,\n",
       "                                                                                              FamilyFeatureTransformer(),\n",
       "                                                                                              [&#x27;parch&#x27;,\n",
       "                                                                                               &#x27;sibsp&#x27;])],\n",
       "                                                                               verbose_feature_names_out=False)})),\n",
       "                (&#x27;rf_estimator&#x27;, RandomForestClassifier())])</pre></div></div></div><div class=\"sk-serial\"><div class=\"sk-item sk-dashed-wrapped\"><div class=\"sk-label-container\"><div class=\"sk-label sk-toggleable\"><input class=\"sk-toggleable__control sk-hidden--visually\" id=\"7113a6a8-63db-403d-8c92-759f9c794fce\" type=\"checkbox\" ><label for=\"7113a6a8-63db-403d-8c92-759f9c794fce\" class=\"sk-toggleable__label sk-toggleable__label-arrow\">preprocess: ColumnTransformer</label><div class=\"sk-toggleable__content\"><pre>ColumnTransformer(transformers=[(&#x27;pipeline&#x27;,\n",
       "                                 Pipeline(steps=[(&#x27;imputer&#x27;,\n",
       "                                                  SimpleImputerCustom()),\n",
       "                                                 (&#x27;scaler&#x27;, StandardScaler())]),\n",
       "                                 [&#x27;age&#x27;, &#x27;fare&#x27;]),\n",
       "                                (&#x27;onehotencoder&#x27;,\n",
       "                                 OneHotEncoder(handle_unknown=&#x27;ignore&#x27;),\n",
       "                                 [&#x27;sex&#x27;]),\n",
       "                                (&#x27;familyfeaturetransformer&#x27;,\n",
       "                                 FamilyFeatureTransformer(),\n",
       "                                 [&#x27;parch&#x27;, &#x27;sibsp&#x27;])],\n",
       "                  verbose_feature_names_out=False)</pre></div></div></div><div class=\"sk-parallel\"><div class=\"sk-parallel-item\"><div class=\"sk-item\"><div class=\"sk-label-container\"><div class=\"sk-label sk-toggleable\"><input class=\"sk-toggleable__control sk-hidden--visually\" id=\"5920ba7f-d5c9-4979-8dda-eb0ae3c2db59\" type=\"checkbox\" ><label for=\"5920ba7f-d5c9-4979-8dda-eb0ae3c2db59\" class=\"sk-toggleable__label sk-toggleable__label-arrow\">pipeline</label><div class=\"sk-toggleable__content\"><pre>[&#x27;age&#x27;, &#x27;fare&#x27;]</pre></div></div></div><div class=\"sk-serial\"><div class=\"sk-item\"><div class=\"sk-serial\"><div class=\"sk-item\"><div class=\"sk-estimator sk-toggleable\"><input class=\"sk-toggleable__control sk-hidden--visually\" id=\"7e025bdd-c9ff-49d9-bee8-cc643b14d053\" type=\"checkbox\" ><label for=\"7e025bdd-c9ff-49d9-bee8-cc643b14d053\" class=\"sk-toggleable__label sk-toggleable__label-arrow\">SimpleImputerCustom</label><div class=\"sk-toggleable__content\"><pre>SimpleImputerCustom()</pre></div></div></div><div class=\"sk-item\"><div class=\"sk-estimator sk-toggleable\"><input class=\"sk-toggleable__control sk-hidden--visually\" id=\"ac2cc19d-8e5b-4005-b3d4-2d9972dd075c\" type=\"checkbox\" ><label for=\"ac2cc19d-8e5b-4005-b3d4-2d9972dd075c\" class=\"sk-toggleable__label sk-toggleable__label-arrow\">StandardScaler</label><div class=\"sk-toggleable__content\"><pre>StandardScaler()</pre></div></div></div></div></div></div></div></div><div class=\"sk-parallel-item\"><div class=\"sk-item\"><div class=\"sk-label-container\"><div class=\"sk-label sk-toggleable\"><input class=\"sk-toggleable__control sk-hidden--visually\" id=\"302e430e-5d2f-44e2-a797-7c92d40a6f84\" type=\"checkbox\" ><label for=\"302e430e-5d2f-44e2-a797-7c92d40a6f84\" class=\"sk-toggleable__label sk-toggleable__label-arrow\">onehotencoder</label><div class=\"sk-toggleable__content\"><pre>[&#x27;sex&#x27;]</pre></div></div></div><div class=\"sk-serial\"><div class=\"sk-item\"><div class=\"sk-estimator sk-toggleable\"><input class=\"sk-toggleable__control sk-hidden--visually\" id=\"e1eef113-4e5f-4f60-8b2d-f2698e9a0f6d\" type=\"checkbox\" ><label for=\"e1eef113-4e5f-4f60-8b2d-f2698e9a0f6d\" class=\"sk-toggleable__label sk-toggleable__label-arrow\">OneHotEncoder</label><div class=\"sk-toggleable__content\"><pre>OneHotEncoder(handle_unknown=&#x27;ignore&#x27;)</pre></div></div></div></div></div></div><div class=\"sk-parallel-item\"><div class=\"sk-item\"><div class=\"sk-label-container\"><div class=\"sk-label sk-toggleable\"><input class=\"sk-toggleable__control sk-hidden--visually\" id=\"fedcce1a-e1b1-497e-826a-e23991cd9301\" type=\"checkbox\" ><label for=\"fedcce1a-e1b1-497e-826a-e23991cd9301\" class=\"sk-toggleable__label sk-toggleable__label-arrow\">familyfeaturetransformer</label><div class=\"sk-toggleable__content\"><pre>[&#x27;parch&#x27;, &#x27;sibsp&#x27;]</pre></div></div></div><div class=\"sk-serial\"><div class=\"sk-item\"><div class=\"sk-estimator sk-toggleable\"><input class=\"sk-toggleable__control sk-hidden--visually\" id=\"394e3193-4df5-4f05-8acd-f0e5fccd524e\" type=\"checkbox\" ><label for=\"394e3193-4df5-4f05-8acd-f0e5fccd524e\" class=\"sk-toggleable__label sk-toggleable__label-arrow\">FamilyFeatureTransformer</label><div class=\"sk-toggleable__content\"><pre>FamilyFeatureTransformer()</pre></div></div></div></div></div></div></div></div><div class=\"sk-item\"><div class=\"sk-estimator sk-toggleable\"><input class=\"sk-toggleable__control sk-hidden--visually\" id=\"57a500e9-b6cc-4e50-b227-45c7f27b2b54\" type=\"checkbox\" ><label for=\"57a500e9-b6cc-4e50-b227-45c7f27b2b54\" class=\"sk-toggleable__label sk-toggleable__label-arrow\">FunctionTransformer</label><div class=\"sk-toggleable__content\"><pre>FunctionTransformer(func=&lt;function get_dataframe at 0x00000161997DF3A0&gt;,\n",
       "                    kw_args={&#x27;transformer&#x27;: ColumnTransformer(transformers=[(&#x27;pipeline&#x27;,\n",
       "                                                                             Pipeline(steps=[(&#x27;imputer&#x27;,\n",
       "                                                                                              SimpleImputerCustom()),\n",
       "                                                                                             (&#x27;scaler&#x27;,\n",
       "                                                                                              StandardScaler())]),\n",
       "                                                                             [&#x27;age&#x27;,\n",
       "                                                                              &#x27;fare&#x27;]),\n",
       "                                                                            (&#x27;onehotencoder&#x27;,\n",
       "                                                                             OneHotEncoder(handle_unknown=&#x27;ignore&#x27;),\n",
       "                                                                             [&#x27;sex&#x27;]),\n",
       "                                                                            (&#x27;familyfeaturetransformer&#x27;,\n",
       "                                                                             FamilyFeatureTransformer(),\n",
       "                                                                             [&#x27;parch&#x27;,\n",
       "                                                                              &#x27;sibsp&#x27;])],\n",
       "                                                              verbose_feature_names_out=False)})</pre></div></div></div><div class=\"sk-item\"><div class=\"sk-estimator sk-toggleable\"><input class=\"sk-toggleable__control sk-hidden--visually\" id=\"91e95626-95a2-491b-97e1-526e185c50b4\" type=\"checkbox\" ><label for=\"91e95626-95a2-491b-97e1-526e185c50b4\" class=\"sk-toggleable__label sk-toggleable__label-arrow\">RandomForestClassifier</label><div class=\"sk-toggleable__content\"><pre>RandomForestClassifier()</pre></div></div></div></div></div></div></div>"
      ],
      "text/plain": [
       "Pipeline(steps=[('preprocess',\n",
       "                 ColumnTransformer(transformers=[('pipeline',\n",
       "                                                  Pipeline(steps=[('imputer',\n",
       "                                                                   SimpleImputerCustom()),\n",
       "                                                                  ('scaler',\n",
       "                                                                   StandardScaler())]),\n",
       "                                                  ['age', 'fare']),\n",
       "                                                 ('onehotencoder',\n",
       "                                                  OneHotEncoder(handle_unknown='ignore'),\n",
       "                                                  ['sex']),\n",
       "                                                 ('familyfeaturetransformer',\n",
       "                                                  FamilyFeatureTransformer(),\n",
       "                                                  ['parch', 'sibsp'])],\n",
       "                                   verbose_feature_names_out=False)),\n",
       "                ('data...\n",
       "                                     kw_args={'transformer': ColumnTransformer(transformers=[('pipeline',\n",
       "                                                                                              Pipeline(steps=[('imputer',\n",
       "                                                                                                               SimpleImputerCustom()),\n",
       "                                                                                                              ('scaler',\n",
       "                                                                                                               StandardScaler())]),\n",
       "                                                                                              ['age',\n",
       "                                                                                               'fare']),\n",
       "                                                                                             ('onehotencoder',\n",
       "                                                                                              OneHotEncoder(handle_unknown='ignore'),\n",
       "                                                                                              ['sex']),\n",
       "                                                                                             ('familyfeaturetransformer',\n",
       "                                                                                              FamilyFeatureTransformer(),\n",
       "                                                                                              ['parch',\n",
       "                                                                                               'sibsp'])],\n",
       "                                                                               verbose_feature_names_out=False)})),\n",
       "                ('rf_estimator', RandomForestClassifier())])"
      ]
     },
     "execution_count": 43,
     "metadata": {},
     "output_type": "execute_result"
    }
   ],
   "source": [
    "from sklearn import set_config\n",
    "set_config(display=\"diagram\")\n",
    "\n",
    "import pickle\n",
    "\n",
    "# save our pipeline\n",
    "s1 = pickle.dumps(pipe)\n",
    "\n",
    "# reload it\n",
    "s2 = pickle.loads(s1)\n",
    "s2"
   ]
  },
  {
   "cell_type": "code",
   "execution_count": null,
   "metadata": {},
   "outputs": [],
   "source": []
  }
 ],
 "metadata": {
  "interpreter": {
   "hash": "592d70e68660334c1e2b3db2d131a28b3e4c5aef0ad9ff036ec5b5af6e985aa1"
  },
  "kernelspec": {
   "display_name": "Python 3 (ipykernel)",
   "language": "python",
   "name": "python3"
  },
  "language_info": {
   "codemirror_mode": {
    "name": "ipython",
    "version": 3
   },
   "file_extension": ".py",
   "mimetype": "text/x-python",
   "name": "python",
   "nbconvert_exporter": "python",
   "pygments_lexer": "ipython3",
   "version": "3.8.8"
  }
 },
 "nbformat": 4,
 "nbformat_minor": 2
}
