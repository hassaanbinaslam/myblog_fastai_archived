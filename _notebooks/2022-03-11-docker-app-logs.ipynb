{
 "cells": [
  {
   "cell_type": "markdown",
   "metadata": {},
   "source": [
    "# Docker - Accessing Python Application Logs\n",
    "> A tutorial on getting Python application logs running on Docker inside WSL2.\n",
    "\n",
    "- toc: true \n",
    "- badges: false\n",
    "- comments: true\n",
    "- categories: [docker, python]\n",
    "- keywords: [docker, python, logs, wsl2, windows 10]"
   ]
  },
  {
   "cell_type": "markdown",
   "metadata": {},
   "source": [
    "# About\n",
    "This post is about the challenges on accessing Python application logs running on a Docker container inside WSL2 linux environment."
   ]
  },
  {
   "cell_type": "markdown",
   "metadata": {},
   "source": [
    "# Environment Details"
   ]
  },
  {
   "cell_type": "markdown",
   "metadata": {},
   "source": [
    "* Python = 3.8.x\n",
    "* WSL version = 2\n",
    "* WSL Ubuntu version = 20.04\n",
    "* Docker Engine version = 20.10.12\n",
    "* Docker Desktop version = 4.4.4\n",
    "* Host OS = Windows 10"
   ]
  },
  {
   "cell_type": "markdown",
   "metadata": {},
   "source": [
    "## Sample Application"
   ]
  },
  {
   "cell_type": "markdown",
   "metadata": {},
   "source": [
    "Let us create a simple hello world application that will print \"hello world\" message to stdout, and also logs them in a logfile. After each message the application sleeps for 5 seconds, and keeps on doing this for 5 mins (300 sec). After this the program exists.\n",
    "\n",
    "Project structure of this application is\n",
    "\n",
    "```\n",
    "app/\n",
    "└── src/\n",
    "    ├── commons/\n",
    "    │   └── logger.py\n",
    "    └── hello.py\n",
    "```\n",
    "\n",
    "Where\n",
    "* `app/` is the project root folder\n",
    "* `src/` folder contain the python application code\n",
    "* `src/commons/logger.py` is the logging module\n",
    "* `src/hello.py` is the main application"
   ]
  },
  {
   "cell_type": "markdown",
   "metadata": {},
   "source": [
    "Code files are provided below"
   ]
  },
  {
   "cell_type": "code",
   "execution_count": null,
   "metadata": {},
   "outputs": [],
   "source": [
    "##\n",
    "# app/src/commons/logger.py\n",
    "\n",
    "import logging\n",
    "import os\n",
    "\n",
    "logformat = \"%(levelname)s %(asctime)s - %(message)s\"\n",
    "filename = \"logfile.log\"\n",
    "\n",
    "# Setting the config of the log object\n",
    "logging.basicConfig(\n",
    "    format=logformat,\n",
    "    filename=filename,\n",
    "    level=logging.INFO,\n",
    ")"
   ]
  },
  {
   "cell_type": "code",
   "execution_count": null,
   "metadata": {},
   "outputs": [],
   "source": [
    "##\n",
    "# app/src/hello.py\n",
    "\n",
    "from datetime import datetime\n",
    "import time\n",
    "import commons.logger as logger\n",
    "\n",
    "\n",
    "def main():\n",
    "    # run for about 5 min: 300 sec\n",
    "    for i in range(60):\n",
    "        now = datetime.now()\n",
    "        dt_string = now.strftime(\"%d/%m/%Y %H:%M:%S\")\n",
    "\n",
    "        # prepare message\n",
    "        msg = f\"hello world at {dt_string}\"\n",
    "\n",
    "        # put message to stdout and logs\n",
    "        print(msg)\n",
    "        logger.logging.info(msg)\n",
    "\n",
    "        # sleep for some seconds\n",
    "        time.sleep(5)\n",
    "\n",
    "\n",
    "if __name__ == \"__main__\":\n",
    "    main()"
   ]
  },
  {
   "cell_type": "markdown",
   "metadata": {},
   "source": [
    "When I run the hello.py file I get the output on the termial with hello world messages like this.\n",
    "\n",
    "![helloworld_output](images/2022-03-11-docker/helloworld_output.png)"
   ]
  },
  {
   "cell_type": "markdown",
   "metadata": {},
   "source": [
    "When we run the application a \"logfile.log\" will also appear in the project directory containing the logged messages. \n",
    "```\n",
    ".\n",
    "├── app/\n",
    "│   └── src/\n",
    "│       ├── commons/\n",
    "│       │   └── logger.py\n",
    "│       └── hello.py\n",
    "└── **logfile.log**\n",
    "```\n",
    "Contents of \"logfile.log\" file will look like this\n",
    "```\n",
    "INFO 2022-03-11 13:01:56,451 - hello world at 11/03/2022 13:01:56\n",
    "INFO 2022-03-11 13:02:01,464 - hello world at 11/03/2022 13:02:01\n",
    "INFO 2022-03-11 13:02:06,466 - hello world at 11/03/2022 13:02:06\n",
    "INFO 2022-03-11 13:02:11,480 - hello world at 11/03/2022 13:02:11\n",
    "INFO 2022-03-11 13:02:16,496 - hello world at 11/03/2022 13:02:16\n",
    "```"
   ]
  },
  {
   "cell_type": "markdown",
   "metadata": {},
   "source": [
    "All the code till this point can be found at GitHub repository https://github.com/hassaanbinaslam/snapshots-docker-post-11032022\n",
    "* [Project code files](https://github.com/hassaanbinaslam/snapshots-docker-post-11032022/tree/10ee2d24f410dc38f40bdffb1285acbe5dd59d81)\n",
    "* [Project zip file](https://github.com/hassaanbinaslam/snapshots-docker-post-11032022/releases/tag/snapshot-01)"
   ]
  },
  {
   "cell_type": "markdown",
   "metadata": {},
   "source": [
    "# Dockerize the application"
   ]
  },
  {
   "cell_type": "markdown",
   "metadata": {},
   "source": [
    "Our hello-world application is ready now, and we can put it inside a docker container. For this let's create a `Dockerfile` and place it in `app/` folder."
   ]
  },
  {
   "cell_type": "code",
   "execution_count": null,
   "metadata": {},
   "outputs": [],
   "source": [
    "##\n",
    "# app/Dockerfile\n",
    "\n",
    "FROM python:3.8-slim-buster\n",
    "\n",
    "# set the working directory in the container\n",
    "WORKDIR /app\n",
    "\n",
    "# copy the content of the local src directory to the working directory\n",
    "COPY src/ .\n",
    "\n",
    "# command to run on container start\n",
    "CMD [ \"python3\", \"./hello.py\"]"
   ]
  },
  {
   "cell_type": "markdown",
   "metadata": {},
   "source": [
    "We can build our docker image by running the command from terminal at folder `app/`\n",
    "```\n",
    "docker build --tag python-docker .\n",
    "```\n",
    "Output of this command will look like this\n",
    "![docker-build-cmd](images/2022-03-11-docker/docker-build-cmd.png)\n",
    "\n",
    "We can check the created docker image using command from terminal\n",
    "```\n",
    "docker images\n",
    "```\n",
    "Output of this command will look like this\n",
    "![docker-images-cmd](images/2022-03-11-docker/docker-image.png)\n",
    "\n",
    "So our docker image is ready, we can now run it using command\n",
    "```\n",
    "docker run --name helloworld python-docker\n",
    "```\n",
    "\n",
    "After running this command you will observe that there is no output on the terminal. Even though we have run our image in an attached mode but still there is no output. We know that the container is running as control on terminal has not return back to us. We can also verify that the container is running by running command `docker ps` in a separate terminal. \n",
    "Output from this command will look like this\n",
    "\n",
    "![docker-running-ps](images/2022-03-11-docker/docker-running-ps.png)\n",
    "\n",
    "We can also verify that the container is running from `Docker Desktop` container apps menu. Running container instance will appear like this\n",
    "\n",
    "![docker-running-desktop](images/2022-03-11-docker/docker-running-desktop.png)\n",
    "\n",
    "The reason for logs not appearing on the terminal is because they are being buffered by docker internally. You will get all of them once docker container has finished execution and stopped. You can read more about docker buffereing the output from these StackOverflow posts\n",
    "* [disable-output-buffering](https://stackoverflow.com/questions/107705/disable-output-buffering)\n",
    "* [python-app-does-not-print-anything-when-running-detached-in-docker](https://stackoverflow.com/questions/29663459/python-app-does-not-print-anything-when-running-detached-in-docker)\n",
    "\n",
    "To disable the output buffering we need to change the CMD in our docker file as\n",
    "```\n",
    "CMD [ \"python3\", \"-u\", \"./hello.py\"]\n",
    "```"
   ]
  },
  {
   "cell_type": "code",
   "execution_count": null,
   "metadata": {},
   "outputs": [],
   "source": [
    "##\n",
    "# app/Dockerfile\n",
    "\n",
    "FROM python:3.8-slim-buster\n",
    "\n",
    "# set the working directory in the container\n",
    "WORKDIR /app\n",
    "\n",
    "# copy the content of the local src directory to the working directory\n",
    "COPY src/ .\n",
    "\n",
    "# command to run on container start\n",
    "CMD [ \"python3\", \"-u\", \"./hello.py\"]"
   ]
  },
  {
   "cell_type": "markdown",
   "metadata": {},
   "source": [
    "We need to rebuild our docker image and then run it. Let's do that will the following commands\n",
    "```\n",
    "docker build --tag python-docker .\n",
    "docker run --name helloworld python-docker\n",
    "```\n",
    "this time you can see the output directly on the terminal\n",
    "![docker-run-output](images/2022-03-11-docker/docker-run-output.png)\n"
   ]
  },
  {
   "cell_type": "markdown",
   "metadata": {},
   "source": [
    "We don't have to run the docker container in an attached mode, and can still get the logs from a running container using `docker logs` command. Let's do that then\n",
    "\n",
    "first run the docker image in a detached mode\n",
    "```\n",
    "docker run -d --name helloworld python-docker\n",
    "```\n",
    "this command will give the running container ID which will look something like this `06918cf824210c015b08ef072feed01768be30ee569e5dbc0eef8d3cd855ab47`. We can pass this ID to our next command to view the logs stream from a running container. Use this command \n",
    "```\n",
    "docker logs -f 06918cf824210c015b08ef072feed01768be30ee569e5dbc0eef8d3cd855ab47\n",
    "```\n",
    "\n",
    "Also note that we don't need to provide the full container id, and can can also provide the first 2 or 3 digits of the ID that can uniquely identify the running container. So following command will also work\n",
    "```\n",
    "docker logs -f 069\n",
    "```\n",
    "\n",
    "Output on the terminal will look like this\n",
    "![docker-run-detached](images/2022-03-11-docker/docker-run-detached.png)"
   ]
  },
  {
   "cell_type": "markdown",
   "metadata": {},
   "source": [
    "All the project files till this point can be found at\n",
    "* [project code files](https://github.com/hassaanbinaslam/snapshots-docker-post-11032022/tree/8805832aa0a0a2102f97eeb7f40070284eeac152)"
   ]
  },
  {
   "cell_type": "markdown",
   "metadata": {},
   "source": [
    "# Log Files Physical Location"
   ]
  },
  {
   "cell_type": "markdown",
   "metadata": {},
   "source": [
    "Docker STDOUT / STDERR logs are also stored on host system as JSON files.\n",
    "\n",
    "**On linux** You can find them at\n",
    "```\n",
    "/var/lib/docker/containers/<container-id>/<container-id>-json.log\n",
    "```\n",
    "\n",
    "**On Windows** You can find them at\n",
    "```\n",
    "\\\\wsl$\\docker-desktop-data\\version-pack-data\\community\\docker\\containers\\<container-id>/<container-id>-json.log\n",
    "```\n",
    "\n",
    "In the above paths replace `<container-id>` with your full cotaniner ID. Also note that on Windows 10 you can open the folder location by directly pasting the path in folder explorer search bar.\n",
    "\n",
    "You can read more about them in the following StackOverflow post\n",
    "* [windows-10-and-docker-container-logs-docker-logging-driver](https://stackoverflow.com/questions/56518032/windows-10-and-docker-container-logs-docker-logging-driver)"
   ]
  },
  {
   "cell_type": "markdown",
   "metadata": {},
   "source": [
    "# Application Log Files"
   ]
  },
  {
   "cell_type": "markdown",
   "metadata": {},
   "source": [
    "So far we have talked about the docker logs that were generated by application feed to STDOUT or STDERR. But now we are interested in app logs generated by logging module like the one we saw in our first example \"logfile.log\". For this let's first connect to running docker container and see where is this file located inside the docker running instance.\n",
    "\n",
    "Run a new docker container again using command\n",
    "```\n",
    "docker run -d --name helloworld python-docker\n",
    "```\n",
    "If container already exists you can just start it using command\n",
    "```\n",
    "docker start <container-id>\n",
    "```\n",
    "Or you can also use the docker desktop to start existing container by click the play button over it.\n",
    "\n",
    "![docker-start-container](images/2022-03-11-docker/docker-start-container.png)\n",
    "\n",
    "Once the docker container is running, you can connect to it by either using the CLI from docker desktop\n",
    "\n",
    "![docker-desktop-cli](images/2022-03-11-docker/docker-desktop-cli.png)\n",
    "\n",
    "or from the command below\n",
    "```\n",
    "docker exec -it <cotainer-id> /bin/bash\n",
    "```\n",
    "\n",
    "Remember that container-id of a running container can be obtained by command `docker ps`. Output from the above command will look like this\n",
    "\n",
    "![docker-command-cli](images/2022-03-11-docker/docker-command-cli.png)\n",
    "\n",
    "Note that the location of \"logfile.log\" is under `app/` folder"
   ]
  },
  {
   "cell_type": "markdown",
   "metadata": {},
   "source": [
    "# Docker Volume"
   ]
  },
  {
   "cell_type": "markdown",
   "metadata": {},
   "source": [
    "We have seen the application logs by connecting to the docker container, but we would like to have these logs readily available outside the docker container so they can be consumed in real time for debugging. Fot this docker recommends using [volume](https://docs.docker.com/storage/volumes/). Let's create a volume and then mount our application logs to it.\n",
    "\n",
    "To create a volume use command\n",
    "```\n",
    "docker volume create applogs\n",
    "```\n",
    "\n",
    "To remove a volume use command\n",
    "```\n",
    "docker rm create applogs\n",
    "```\n",
    "\n",
    "To inspect a created volume use command\n",
    "```\n",
    "docker volume inspect applogs\n",
    "```\n",
    "Output of this command will be like this where Mountpoint is the location of logs on host system.\n",
    "```\n",
    "[\n",
    "    {\n",
    "        \"CreatedAt\": \"2022-03-11T13:12:57Z\",\n",
    "        \"Driver\": \"local\",\n",
    "        \"Labels\": {},\n",
    "        \"Mountpoint\": \"/var/lib/docker/volumes/applogs/_data\",\n",
    "        \"Name\": \"applogs\",\n",
    "        \"Options\": {},\n",
    "        \"Scope\": \"local\"\n",
    "    }\n",
    "]\n",
    "```\n",
    "\n",
    "On Windows 10 you can find the location of these volumes at\n",
    "```\n",
    "\\\\wsl$\\docker-desktop-data\\version-pack-data\\community\\docker\\volumes\\applogs\\_data\n",
    "```\n",
    "\n",
    "Now let's run our docker container with this volume mounted to it. Command for this is\n",
    "```\n",
    "docker run -d --name helloworld -v applogs:/app python-docker\n",
    "```\n",
    "\n",
    "Docker container will run as before, but if we check the volume on our host we will find that this time all the files and folders available in `app/` folder from inside the docker container are available. And they will persist on the host OS even if the container is stopped.\n",
    "\n",
    "![docker-volume-mounted](images/2022-03-11-docker/docker-volume-mounted.png)\n",
    "\n",
    "Note that the log file 'logfile.log' is also available outside the container, and we can poll it for debugging. But having all the contents of `app/` folder exposed can be a security issue, as they can contain secrets and passwords. We should only mount the `logfile.log` file on the volume as a best practice. So let's do that next."
   ]
  },
  {
   "cell_type": "markdown",
   "metadata": {},
   "source": [
    "# Application log files from the docker container"
   ]
  },
  {
   "cell_type": "markdown",
   "metadata": {},
   "source": [
    "To do this we need to slightly update our application, and create the `logfile.log` file in a designated `log/` folder inside the `app/`. This way we can only mount `app/log/` folder on the volume. In our application we will update the logging module as"
   ]
  },
  {
   "cell_type": "code",
   "execution_count": null,
   "metadata": {},
   "outputs": [],
   "source": [
    "##\n",
    "# app/src/commons/logger.py\n",
    "\n",
    "import logging\n",
    "import os\n",
    "\n",
    "\n",
    "if not os.path.exists(\"logs\"):\n",
    "    os.makedirs(\"logs\")\n",
    "\n",
    "logformat = \"%(levelname)s %(asctime)s - %(message)s\"\n",
    "filename = \"logs/logfile.log\"\n",
    "\n",
    "\n",
    "# Setting the config of the log object\n",
    "logging.basicConfig(\n",
    "    format=logformat,\n",
    "    filename=filename,\n",
    "    level=logging.INFO,\n",
    ")\n"
   ]
  },
  {
   "cell_type": "markdown",
   "metadata": {},
   "source": [
    "This is all we need to change in our application. To cleanup the volume we can either remove the old one and recreate a new one. Or we can directly delete all the files & folders from the host OS from the directory\n",
    "```\n",
    "\\\\wsl$\\docker-desktop-data\\version-pack-data\\community\\docker\\volumes\\applogs\\_data\n",
    "```\n",
    "\n",
    "Since we have updated the application code we need to rebuild our docker image. Then create a new docker container, and this time only mount the `logs/` folder on the volume. Command for this is\n",
    "```python\n",
    "# delete the old volume\n",
    "docker volume rm applogs\n",
    "\n",
    "# create a new volume\n",
    "docker volume create applogs\n",
    "\n",
    "# build the docker image\n",
    "docker build --tag python-docker .\n",
    "\n",
    "# run the docker container and mount a specific folder on volume\n",
    "docker run -d --name helloworld -v applogs:/app/logs python-docker\n",
    "```\n",
    "\n",
    "If we check the mounted volume, this time only `logfile.log` is exposed.\n",
    "\n",
    "![docker-logs-mounted](images/2022-03-11-docker/docker-logs-mounted.png)"
   ]
  },
  {
   "cell_type": "markdown",
   "metadata": {},
   "source": [
    "All the code for this post can be found at GitHub repository https://github.com/hassaanbinaslam/snapshots-docker-post-11032022\n",
    "* [Project code files](https://github.com/hassaanbinaslam/snapshots-docker-post-11032022/tree/94051e7efbdeac0eafcf17b3b99f8116ddc856a3)\n",
    "* [Project zip file](https://github.com/hassaanbinaslam/snapshots-docker-post-11032022/releases/tag/snapshot-02)"
   ]
  }
 ],
 "metadata": {
  "interpreter": {
   "hash": "592d70e68660334c1e2b3db2d131a28b3e4c5aef0ad9ff036ec5b5af6e985aa1"
  },
  "kernelspec": {
   "display_name": "Python 3.8.8 ('sc_mlflow')",
   "language": "python",
   "name": "python3"
  },
  "language_info": {
   "codemirror_mode": {
    "name": "ipython",
    "version": 3
   },
   "file_extension": ".py",
   "mimetype": "text/x-python",
   "name": "python",
   "nbconvert_exporter": "python",
   "pygments_lexer": "ipython3",
   "version": "3.8.8"
  },
  "orig_nbformat": 4
 },
 "nbformat": 4,
 "nbformat_minor": 2
}
