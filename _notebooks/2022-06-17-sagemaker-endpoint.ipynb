{
 "cells": [
  {
   "cell_type": "markdown",
   "metadata": {},
   "source": [
    "# Serverless Inference with SageMaker Serverless Endpoints\n",
    "> How to call an ML model endpoint hosted by SageMaker using serverless technology.\n",
    "\n",
    "- toc: true \n",
    "- badges: true\n",
    "- comments: true\n",
    "- categories: [aws, ml, sagemaker]\n",
    "- keyword: [aws, ml, sagemaker]\n",
    "- image: images/copied_from_nb/images/2022-06-17-sagemaker-endpoint.jpeg"
   ]
  },
  {
   "cell_type": "markdown",
   "metadata": {},
   "source": [
    "![](images/2022-06-17-sagemaker-endpoint.jpeg)"
   ]
  },
  {
   "cell_type": "markdown",
   "metadata": {},
   "source": [
    "# About\n",
    "\n",
    "You have trained an deployed a model using Amazon SageMaker. You have an endpoint and now you are wondering \"After I deploy an endpoint, where do I go from there?\" Your concerns are valid because SageMaker endpoints are not public but are scoped to an individual account. In this post we will learn how to make them public using AWS serverless technologies: AWS Lambda and Function URL. We will also make our endpoints serverless so ML inference solution is serverless end-to-end.\n",
    "\n",
    "# Introduction\n",
    "\n",
    "The following diagram shows how a model is called using serverless architecture.\n",
    "<br><br>\n",
    "![serverless-architecture](images/2022-06-17-sagemaker-endpoint/serverless-architecture.png)\n",
    "\n",
    "Starting from the client, a client application calls the AWS Lambda Function URL and passes parameter values. The Lambda function parses the request and passes it SageMaker model endpoint. This endpoint can be host on an EC2 instance or you have the option to make it serverless. Serverless endpoints behave similar to Lambda functions. Once request is received by the endpoint it will perform the prediction and return the predicted values back to Lambda. The Lambda function parses the returned values and send the final response back to client.\n",
    "\n",
    "To train a model using Amazon SageMaker you can follow my other post [Demystifying Amazon SageMaker Training for scikit-learn Lovers](https://hassaanbinaslam.github.io/myblog/aws/ml/sagemaker/2022/06/08/sagemaker-training-overview.html). There I have trained SageMaker Linear Learner model on Boston housing dataset. \n",
    "\n",
    "`Note that this post assumes that you have already trained a model and is available in SageMaker model repository.`\n",
    "\n",
    "# Deploying SageMaker Serverless Endpoint\n",
    "\n",
    "Let's visit SageMaker model repository to find our Linear Learner model. You can find the repository in **SageMaker Inference / Model** page.\n",
    "\n",
    "![model-repo](images/2022-06-17-sagemaker-endpoint/model-repo.png)\n",
    "\n",
    "Note the mode name `linear-learner-2022-06-16-09-10-17-207` as will need in later steps.\n",
    "\n",
    "Click on the *model name* and then **Create endpoint**\n",
    "\n",
    "![create-endpoint](images/2022-06-17-sagemaker-endpoint/create-endpoint.png)\n",
    "\n",
    "This will take you to **configure endpoint page**. Here do the following configurations.\n",
    "* Set **Endpoint name** to `2022-06-17-sagemaker-endpoint-serverless`. You may use anyother unique string here.\n",
    "* From **Attach endpoint configuration** select `create a new endpoint configuration`\n",
    "* From **New endpoint configuration / Endpoint configuration** set\n",
    "  * **Endpoint configuration name** to `config-2022-06-17-sagemaker-endpoint-serverless`. You may use anyother name here.\n",
    "  * **Type of endpoint** to `Serverless`\n",
    "  * From **Production variants** click on **Add Model** and then select the model name we want to deploy. In our case it is `linear-learner-2022-06-16-09-10-17-207`. Click **Save**. \n",
    "\n",
    "![add-model](images/2022-06-17-sagemaker-endpoint/add-model.png)\n",
    "\n",
    "* Then Edit the **Max Concurrency** and set it to 5.\n",
    "\n",
    "![max-concurrency](images/2022-06-17-sagemaker-endpoint/max-concurrency.png)\n",
    "\n",
    "* Click **Create endpoint configuration**\n",
    "\n",
    "![new-endpoint-config](images/2022-06-17-sagemaker-endpoint/new-endpoint-config.png)\n",
    "\n",
    "* Click **Create endpoint**\n",
    "\n",
    "![endpoint-created](images/2022-06-17-sagemaker-endpoint/endpoint-created.png)\n",
    "\n",
    "It will take a minute for the created endpoint to become in service.\n",
    "cold start issues and timeout.\n",
    "logs : /aws/sagemaker/Endpoints/2022-06-17-sagemaker-endpoint-serverless\n",
    "logs, docker container, gunicorn server, input iterators."
   ]
  },
  {
   "cell_type": "code",
   "execution_count": 1,
   "metadata": {},
   "outputs": [
    {
     "ename": "ModuleNotFoundError",
     "evalue": "No module named 'sagemaker'",
     "output_type": "error",
     "traceback": [
      "\u001b[1;31m---------------------------------------------------------------------------\u001b[0m",
      "\u001b[1;31mModuleNotFoundError\u001b[0m                       Traceback (most recent call last)",
      "\u001b[1;32mc:\\MyWorkspace\\gitrepos\\myblog\\myblog\\_notebooks\\2022-06-17-sagemaker-endpoint.ipynb Cell 4'\u001b[0m in \u001b[0;36m<module>\u001b[1;34m\u001b[0m\n\u001b[1;32m----> <a href='vscode-notebook-cell:/c%3A/MyWorkspace/gitrepos/myblog/myblog/_notebooks/2022-06-17-sagemaker-endpoint.ipynb#ch0000058?line=0'>1</a>\u001b[0m \u001b[39mimport\u001b[39;00m \u001b[39msagemaker\u001b[39;00m\n",
      "\u001b[1;31mModuleNotFoundError\u001b[0m: No module named 'sagemaker'"
     ]
    }
   ],
   "source": [
    "import sagemaker"
   ]
  },
  {
   "cell_type": "code",
   "execution_count": null,
   "metadata": {},
   "outputs": [],
   "source": []
  }
 ],
 "metadata": {
  "interpreter": {
   "hash": "bbac80ad2bfd54975e0c0f7ddf300156d5b24b5126f35dc262fa887f22fb28f1"
  },
  "kernelspec": {
   "display_name": "Python 3.8.8 ('myblog')",
   "language": "python",
   "name": "python3"
  },
  "language_info": {
   "codemirror_mode": {
    "name": "ipython",
    "version": 3
   },
   "file_extension": ".py",
   "mimetype": "text/x-python",
   "name": "python",
   "nbconvert_exporter": "python",
   "pygments_lexer": "ipython3",
   "version": "3.8.8"
  },
  "varInspector": {
   "cols": {
    "lenName": 16,
    "lenType": 16,
    "lenVar": 40
   },
   "kernels_config": {
    "python": {
     "delete_cmd_postfix": "",
     "delete_cmd_prefix": "del ",
     "library": "var_list.py",
     "varRefreshCmd": "print(var_dic_list())"
    },
    "r": {
     "delete_cmd_postfix": ") ",
     "delete_cmd_prefix": "rm(",
     "library": "var_list.r",
     "varRefreshCmd": "cat(var_dic_list()) "
    }
   },
   "types_to_exclude": [
    "module",
    "function",
    "builtin_function_or_method",
    "instance",
    "_Feature"
   ],
   "window_display": false
  }
 },
 "nbformat": 4,
 "nbformat_minor": 4
}
