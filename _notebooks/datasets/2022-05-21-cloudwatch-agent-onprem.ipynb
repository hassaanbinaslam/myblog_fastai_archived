{
 "cells": [
  {
   "cell_type": "markdown",
   "metadata": {},
   "source": [
    "# Fastpages Notebook Blog Post\n",
    "> A tutorial of fastpages for Jupyter notebooks.\n",
    "\n",
    "- toc: true \n",
    "- badges: true\n",
    "- comments: true\n",
    "- categories: [jupyter]\n",
    "- image: images/chart-preview.png"
   ]
  },
  {
   "cell_type": "markdown",
   "metadata": {},
   "source": [
    "<!-- ![](images/2022-05-21-cloudwatch-agent-onprem.jpeg)  -->"
   ]
  },
  {
   "cell_type": "markdown",
   "metadata": {},
   "source": [
    "<!-- # About\n",
    "This post is a detailed guide on using [AWS CloudWatch](https://docs.aws.amazon.com/AmazonCloudWatch/latest/monitoring/WhatIsCloudWatch.html) Agent to collect logs and metrics from on-premises Ubuntu server. \n",
    "* The CloudWatch agent is open-source tool under the MIT license, and is hosted on GitHub [amazon-cloudwatch-agent](https://github.com/aws/amazon-cloudwatch-agent/)\n",
    "* With this agent you can collect more system-level metrics from Amazon EC2 instances or onprem servers across operating systems. You can retrieve custom metrics from your applications or services using the StatsD and collectd protocols. StatsD is supported on both Linux servers and servers running Windows Server. collectd is supported only on Linux servers\n",
    "* For the list of metrics that can be collected by CloudWatch agent follow this link [metrics-collected-by-CloudWatch-agent](https://docs.aws.amazon.com/AmazonCloudWatch/latest/monitoring/metrics-collected-by-CloudWatch-agent.html) -->"
   ]
  },
  {
   "cell_type": "markdown",
   "metadata": {},
   "source": [
    "# Environment Details"
   ]
  },
  {
   "cell_type": "markdown",
   "metadata": {},
   "source": [
    "<!-- For on-premises Ubuntu server we will use an EC2 machine with Ubuntu OS. Enable Auto-assign public IP and keep all the default settings. Once instance is in running state use SSH Key to connect to it.\n",
    "\n",
    "If you are using Windows OS and while connecting to Ubuntu machine you are getting \"Permissions for 'ssh-key.pem' are too open.\" then take help from this post to resolve it [windows-ssh-permissions-for-private-key-are-too-open](https://superuser.com/questions/1296024/windows-ssh-permissions-for-private-key-are-too-open)\n",
    "\n",
    "![windows-ssh-permissions-for-private-key-are-too-open](images/2022-05-21-cloudwatch-agent-onprem/windows-ssh-permissions-for-private-key-are-too-open.png)\n",
    "\n",
    "Once you are successfully connected to EC2 Ubuntu machine you will get the following message on the terminal.\n",
    "![ubuntu-ec2-ssh-connect](images/2022-05-21-cloudwatch-agent-onprem/ubuntu-ec2-ssh-connect.png) -->"
   ]
  },
  {
   "cell_type": "markdown",
   "metadata": {},
   "source": [
    "# CloudWatch Agent Installation and Configuration Steps"
   ]
  },
  {
   "cell_type": "markdown",
   "metadata": {},
   "source": [
    "<!-- ## Create IAM roles and users for use with CloudWatch agent\n",
    "Access to AWS resources requires permissions. You create an IAM role, an IAM user, or both to grant permissions that the CloudWatch agent needs to write metrics to CloudWatch. \n",
    "* If you're going to use the agent on Amazon EC2 instances, you should create an IAM role. I\n",
    "* f you're going to use the agent on on-premises servers, you should create an IAM user.\n",
    "\n",
    "Since we want to use EC2 machine as an on-premises machine so we will create an IAM user.\n",
    "\n",
    "**To create the IAM user necessary for the CloudWatch agent to run on on-premises servers follow these steps**\n",
    "1. Sign in to the AWS Management Console and open the IAM console at https://console.aws.amazon.com/iam/.\n",
    "2. In the navigation pane on the left, choose **Users** and then **Add users**.\n",
    "3. Enter the user name for the new user.\n",
    "4. Select **Access key - Programmatic access** and choose **Next: Permissions**.\n",
    "5. Choose **Attach existing policies directly**.\n",
    "6. In the list of policies, select the check box next to **CloudWatchAgentServerPolicy**. If necessary, use the search box to find the policy.\n",
    "7. Choose **Next: Tags**.\n",
    "8. Optionally create tags for the new IAM user, and then choose **Next:Review**.\n",
    "9. Confirm that the correct policy is listed, and choose **Create user**.\n",
    "10. Next to the name of the new user, choose **Show**. Copy the access key and secret key to a file so that you can use them when installing the agent. Choose **Close**. -->"
   ]
  },
  {
   "cell_type": "markdown",
   "metadata": {},
   "source": [
    "<!-- \n",
    "## Install and configure AWS CLI on Ubuntu server\n",
    "Connect to the Ubuntu server using any SSH client. We need to first download and install AWS CLI. Follow the below commands to download and install it.\n",
    "\n",
    "**1. Download AWS CLI package**\n",
    "```\n",
    "curl \"https://awscli.amazonaws.com/awscli-exe-linux-x86_64.zip\" -o \"awscliv2.zip\"\n",
    "```\n",
    "**2. Install UNZIP package**\n",
    "```\n",
    "sudo apt install unzip\n",
    "```\n",
    "**3. Unzip AWSCLI Package**\n",
    "```\n",
    "unzip awscliv2.zip\n",
    "```\n",
    "**4. Install AWS CLI**\n",
    "```\n",
    "sudo ./aws/install\n",
    "```\n",
    "**5. Verify AWS CLI Installation**\n",
    "```\n",
    "aws --version\n",
    "```\n",
    "![aws-cli-installation-complete](images/2022-05-21-cloudwatch-agent-onprem/aws-cli-installation-complete.png)\n",
    "**6. Configure AWS CLI**\n",
    "```\n",
    "aws configure --profile AmazonCloudWatchAgent\n",
    "```\n",
    "![]()\n",
    "**7. Verify credentials in User home directory**\n",
    "```\n",
    "cat /home/ubuntu/.aws/credentials\n",
    "``` -->"
   ]
  },
  {
   "cell_type": "markdown",
   "metadata": {},
   "source": [
    "<!-- ## Install and run the CloudWatch agent on Ubuntu server\n",
    "\n",
    "**1. Download the agent**\n",
    "```\n",
    "wget https://s3.amazonaws.com/amazoncloudwatch-agent/ubuntu/amd64/latest/amazon-cloudwatch-agent.deb\n",
    "```\n",
    "\n",
    "**2. Install the agent**\n",
    "```\n",
    "sudo dpkg -i -E ./amazon-cloudwatch-agent.deb\n",
    "```\n",
    "\n",
    "**3. Prepare agent configuration file**\n",
    "Prepare agent configuration file. One such sample is provided below. \n",
    "**config-cloudwatchagent.json** -->"
   ]
  },
  {
   "cell_type": "code",
   "execution_count": null,
   "metadata": {
    "vscode": {
     "languageId": "json"
    }
   },
   "outputs": [],
   "source": []
  },
  {
   "cell_type": "markdown",
   "metadata": {},
   "source": [
    "<!-- **4. Update shared configuration file**\n",
    "```\n",
    "sudo vim /opt/aws/amazon-cloudwatch-agent/etc/common-config.toml\n",
    "```\n",
    "![agent-shared-config](images/2022-05-21-cloudwatch-agent-onprem/agent-shared-config.png)\n",
    "\n",
    "**5. Run the agent**\n",
    "```\n",
    "sudo /opt/aws/amazon-cloudwatch-agent/bin/amazon-cloudwatch-agent-ctl -a fetch-config -m onPremise -s -c file:/home/ubuntu/config-cloudwatchagent.json\n",
    "```\n",
    "![run-agent-success](images/2022-05-21-cloudwatch-agent-onprem/run-agent-success.png)\n",
    "\n",
    "**6. Check agent status**\n",
    "```\n",
    "sudo /opt/aws/amazon-cloudwatch-agent/bin/amazon-cloudwatch-agent-ctl -m ec2 -a status\n",
    "```\n",
    "![check-agent-status](images/2022-05-21-cloudwatch-agent-onprem/check-agent-status.png)\n",
    "\n",
    "**7. Check agent logs**\n",
    "```\n",
    "sudo tail -f /var/log/amazon/amazon-cloudwatch-agent/amazon-cloudwatch-agent.log\n",
    "```\n",
    "![agent-log-group](images/2022-05-21-cloudwatch-agent-onprem/agent-log-group.png) -->"
   ]
  }
 ],
 "metadata": {
  "interpreter": {
   "hash": "592d70e68660334c1e2b3db2d131a28b3e4c5aef0ad9ff036ec5b5af6e985aa1"
  },
  "kernelspec": {
   "display_name": "Python 3.8.8 ('sc_mlflow')",
   "language": "python",
   "name": "python3"
  },
  "language_info": {
   "codemirror_mode": {
    "name": "ipython",
    "version": 3
   },
   "file_extension": ".py",
   "mimetype": "text/x-python",
   "name": "python",
   "nbconvert_exporter": "python",
   "pygments_lexer": "ipython3",
   "version": "3.8.8"
  },
  "orig_nbformat": 4
 },
 "nbformat": 4,
 "nbformat_minor": 2
}
