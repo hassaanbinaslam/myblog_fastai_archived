{
  "cells": [
    {
      "cell_type": "markdown",
      "metadata": {
        "id": "auS4LXzau0x1"
      },
      "source": [
        "# Two Class (Binary) Logistic Regression in Pytorch\n",
        "> This is a practice notebook for implementing a two class logistic regression model in PyTorch. We will start by generating some synthetic data and then build an end-to-end pipeline to train a model. We will also see two ways to implement logistic regression models.\n",
        "\n",
        "- toc: true \n",
        "- badges: true\n",
        "- comments: true\n",
        "- categories: [pytorch]\n",
        "- keyword: [ml, dl, logistic, regression, pytorch]\n",
        "- image: images/copied_from_nb/images/2022-10-11-pytorch-two-class-logistic-regression.jpeg"
      ]
    },
    {
      "cell_type": "markdown",
      "metadata": {
        "id": "u2O8j6ezu0x9"
      },
      "source": [
        "![](images/2022-10-11-pytorch-two-class-logistic-regression.jpeg)"
      ]
    },
    {
      "cell_type": "markdown",
      "metadata": {
        "id": "5J4Ci40Wu0x-"
      },
      "source": [
        "## Introduction\n",
        "\n",
        "In this notebook, we will train a logistic regression model using PyTorch. Given below is the summary of the steps followed in this notebook.\n",
        "* Create a synthetic binary class dataset\n",
        "* Split the data into `Train` and `Validation` datasets. Then convert them into mini-batches using PyTorch `DataLoader` class\n",
        "* Create a Neural Net model configuration, an SGD optimizer, and a loss function\n",
        "* Create a pipeline that will train the model on given data and update the weights based on the loss \n",
        "* Compare the results with scikit-learn logistic regression model"
      ]
    },
    {
      "cell_type": "markdown",
      "metadata": {
        "id": "wtohdezgu0x_"
      },
      "source": [
        "## Environment\n",
        "This notebook is prepared with Google Colab."
      ]
    },
    {
      "cell_type": "code",
      "execution_count": 19,
      "metadata": {
        "colab": {
          "base_uri": "https://localhost:8080/"
        },
        "id": "E9kZUBv9DobO",
        "outputId": "c13a2607-e015-4484-d363-edc7ad386397"
      },
      "outputs": [
        {
          "name": "stdout",
          "output_type": "stream",
          "text": [
            "python==3.7.14\n",
            "sklearn==1.0.2\n",
            "numpy==1.21.6\n",
            "torch==1.12.1+cu113\n",
            "matplotlib==3.2.2\n"
          ]
        }
      ],
      "source": [
        "#collapse\n",
        "from platform import python_version\n",
        "import sklearn, numpy, matplotlib, pandas\n",
        "\n",
        "print(\"python==\" + python_version())\n",
        "print(\"sklearn==\" + sklearn.__version__)\n",
        "print(\"numpy==\" + numpy.__version__)\n",
        "print(\"torch==\" + torch.__version__)\n",
        "print(\"matplotlib==\" + matplotlib.__version__)"
      ]
    },
    {
      "cell_type": "markdown",
      "metadata": {
        "id": "xsza7iAIu0x_"
      },
      "source": [
        "## Credits\n",
        "This notebook takes inspiration from the book \"Deep Learning with PyTorch Step-by-Step\" by \"Daniel Voigt Godoy\". You can get the book from its website: [pytorchstepbystep](https://pytorchstepbystep.com/). The GitHub repository for this book has valuable notebooks and can be used independently: [github.com/dvgodoy/PyTorchStepByStep](https://github.com/dvgodoy/PyTorchStepByStep). Parts of the code you see in this notebook are taken [chapter 3 notebook](https://colab.research.google.com/github/dvgodoy/PyTorchStepByStep/blob/master/Chapter03.ipynb) of the same book."
      ]
    },
    {
      "cell_type": "markdown",
      "metadata": {
        "id": "bb14e269u0yA"
      },
      "source": [
        "## Generate synthetic data\n",
        "\n",
        "In this section, we will generate some data representing two interleaving half-circles using [sklearn.datasets.make_moons](https://scikit-learn.org/stable/modules/generated/sklearn.datasets.make_moons.html). The purpose of this function is defined as\n",
        "\n",
        "> Make two interleaving half circles. A simple toy dataset to visualize clustering and classification algorithms ... It generate 2d binary classification datasets that are challenging to certain algorithms (e.g. centroid-based clustering or linear classification), including optional Gaussian noise."
      ]
    },
    {
      "cell_type": "code",
      "execution_count": 2,
      "metadata": {
        "id": "HfAPRknIu0yB"
      },
      "outputs": [],
      "source": [
        "# data generation\n",
        "from sklearn.datasets import make_moons\n",
        "from sklearn.preprocessing import StandardScaler\n",
        "from sklearn.model_selection import train_test_split\n",
        "\n",
        "X, y = make_moons(n_samples=100, noise=0.3, random_state=0)\n",
        "# split data\n",
        "X_train, X_val, y_train, y_val = train_test_split(X, y, test_size=.2, random_state=13)\n",
        "\n",
        "# standardize data\n",
        "sc = StandardScaler()\n",
        "sc.fit(X_train)\n",
        "\n",
        "X_train = sc.transform(X_train)\n",
        "X_val = sc.transform(X_val)"
      ]
    },
    {
      "cell_type": "markdown",
      "metadata": {},
      "source": [
        "Let's view the generated data."
      ]
    },
    {
      "cell_type": "code",
      "execution_count": null,
      "metadata": {},
      "outputs": [],
      "source": [
        "X_train[:10], y_train[:10]"
      ]
    },
    {
      "cell_type": "markdown",
      "metadata": {
        "id": "N-nAL3jPKyHc"
      },
      "source": [
        "Let's plot our generated data to see how it looks."
      ]
    },
    {
      "cell_type": "code",
      "execution_count": 3,
      "metadata": {
        "colab": {
          "base_uri": "https://localhost:8080/",
          "height": 404
        },
        "id": "jrzdN0Dhu0yD",
        "outputId": "10282722-bfaa-4cb1-d5c4-9770223ac50e"
      },
      "outputs": [
        {
          "data": {
            "image/png": "[encoded data removed]",
            "text/plain": [
              "<Figure size 432x432 with 1 Axes>"
            ]
          },
          "metadata": {
            "needs_background": "light"
          },
          "output_type": "display_data"
        }
      ],
      "source": [
        "import matplotlib.pyplot as plt\n",
        "\n",
        "figure, axes = plt.subplots(1, 3, figsize=(15,5))\n",
        "figure.suptitle('Train and Validation Dataset')\n",
        "\n",
        "axes[0].set_title('Training Data')\n",
        "axes[0].scatter(X_train[:, 0], X_train[:, 1], c=y_train)\n",
        "\n",
        "axes[1].set_title('Validation Data')\n",
        "axes[1].scatter(X_val[:, 0], X_val[:, 1], c=y_val)\n",
        "\n",
        "axes[2].set_title('Combined Data')\n",
        "axes[2].scatter(X_train[:, 0], X_train[:, 1], c=y_train)\n",
        "axes[2].scatter(X_val[:, 0], X_val[:, 1], c=y_val)\n",
        "plt.show()"
      ]
    },
    {
      "cell_type": "markdown",
      "metadata": {
        "id": "OAIqiWOiLFR-"
      },
      "source": [
        "## Load generated data into PyTorch Dataset and DataLoader class\n",
        "\n",
        "In this section, we will load our data in PyTorch helper classes Dataset and DataLoader. PyTorch documentation defines them as: [see [basics/data_tutorial](https://pytorch.org/tutorials/beginner/basics/data_tutorial.html)]\n",
        "\n",
        "> Code for processing data samples can get messy and hard to maintain; we ideally want our dataset code to be decoupled from our model training code for better readability and modularity. PyTorch provides two data primitives: `torch.utils.data.DataLoader` and `torch.utils.data.Dataset` that allow you to use pre-loaded datasets as well as your own data. Dataset stores the samples and their corresponding labels, and DataLoader wraps an iterable around the Dataset to enable easy access to the samples.\n",
        "\n",
        "\n",
        "For this, we first need to convert NumPy data arrays to PyTorch tensors."
      ]
    },
    {
      "cell_type": "code",
      "execution_count": 4,
      "metadata": {
        "id": "p-EEMQZeu0yF"
      },
      "outputs": [],
      "source": [
        "# data preparation\n",
        "\n",
        "import torch\n",
        "\n",
        "# Builds tensors from numpy arrays\n",
        "x_train_tensor = torch.as_tensor(X_train).float()\n",
        "y_train_tensor = torch.as_tensor(y_train.reshape(-1, 1)).float()\n",
        "\n",
        "x_val_tensor = torch.as_tensor(X_val).float()\n",
        "y_val_tensor = torch.as_tensor(y_val.reshape(-1, 1)).float()"
      ]
    },
    {
      "cell_type": "markdown",
      "metadata": {
        "id": "PPIRD_mATHu8"
      },
      "source": [
        "Now load the tensors into Dataset and DataLoader class. PyTorch Datasets are helper classes that contain data and labels as a list of tuples. DataLoader is another helper class to create batches from Dataset tuples. `batch_size` means the number of tuples we want in a single batch. We have used 16 here since our data is small. So each fetch from DataLoader will give us a list of 16 tuples."
      ]
    },
    {
      "cell_type": "code",
      "execution_count": 5,
      "metadata": {
        "id": "oNWTRbAzu0yG"
      },
      "outputs": [],
      "source": [
        "## \n",
        "# Load tensors into Dataset and DataLoader\n",
        "from torch.utils.data import DataLoader, TensorDataset\n",
        "\n",
        "# Builds dataset containing ALL data points\n",
        "train_dataset = TensorDataset(x_train_tensor, y_train_tensor)\n",
        "val_dataset = TensorDataset(x_val_tensor, y_val_tensor)\n",
        "\n",
        "# Builds a loader of each set\n",
        "train_loader = DataLoader(dataset=train_dataset, batch_size=16, shuffle=True)\n",
        "val_loader = DataLoader(dataset=val_dataset, batch_size=16)"
      ]
    },
    {
      "cell_type": "code",
      "execution_count": null,
      "metadata": {},
      "outputs": [],
      "source": [
        "# pipeline\n",
        "import numpy as np\n",
        "import datetime\n",
        "from torch.utils.tensorboard import SummaryWriter\n",
        "\n",
        "class DeepLearningPipeline(object):\n",
        "    def __init__(self, model, loss_fn, optimizer):\n",
        "        # Here we define the attributes of our class\n",
        "        \n",
        "        # We start by storing the arguments as attributes \n",
        "        # to use them later\n",
        "        self.model = model\n",
        "        self.loss_fn = loss_fn\n",
        "        self.optimizer = optimizer\n",
        "        self.device = 'cuda' if torch.cuda.is_available() else 'cpu'\n",
        "        # Let's send the model to the specified device right away\n",
        "        self.model.to(self.device)\n",
        "\n",
        "        # These attributes are defined here, but since they are\n",
        "        # not informed at the moment of creation, we keep them None\n",
        "        self.train_loader = None\n",
        "        self.val_loader = None\n",
        "        self.writer = None\n",
        "        \n",
        "        # These attributes are going to be computed internally\n",
        "        self.losses = []\n",
        "        self.val_losses = []\n",
        "        self.total_epochs = 0\n",
        "\n",
        "        # Creates the train_step function for our model, \n",
        "        # loss function and optimizer\n",
        "        # Note: there are NO ARGS there! It makes use of the class\n",
        "        # attributes directly\n",
        "        self.train_step_fn = self._make_train_step_fn()\n",
        "        # Creates the val_step function for our model and loss\n",
        "        self.val_step_fn = self._make_val_step_fn()\n",
        "\n",
        "    def set_loaders(self, train_loader, val_loader=None):\n",
        "        # This method allows the user to define which train_loader (and val_loader, optionally) to use\n",
        "        # Both loaders are then assigned to attributes of the class\n",
        "        # So they can be referred to later\n",
        "        self.train_loader = train_loader\n",
        "        self.val_loader = val_loader\n",
        "\n",
        "    def _make_train_step_fn(self):\n",
        "        # This method does not need ARGS... it can refer to\n",
        "        # the attributes: self.model, self.loss_fn and self.optimizer\n",
        "        \n",
        "        # Builds function that performs a step in the train loop\n",
        "        def perform_train_step_fn(x, y):\n",
        "            # Sets model to TRAIN mode\n",
        "            self.model.train()\n",
        "\n",
        "            # Step 1 - Computes our model's predicted output - forward pass\n",
        "            yhat = self.model(x)\n",
        "            # Step 2 - Computes the loss\n",
        "            loss = self.loss_fn(yhat, y)\n",
        "            # Step 3 - Computes gradients for both \"a\" and \"b\" parameters\n",
        "            loss.backward()\n",
        "            # Step 4 - Updates parameters using gradients and the learning rate\n",
        "            self.optimizer.step()\n",
        "            self.optimizer.zero_grad()\n",
        "\n",
        "            # Returns the loss\n",
        "            return loss.item()\n",
        "\n",
        "        # Returns the function that will be called inside the train loop\n",
        "        return perform_train_step_fn\n",
        "    \n",
        "    def _make_val_step_fn(self):\n",
        "        # Builds function that performs a step in the validation loop\n",
        "        def perform_val_step_fn(x, y):\n",
        "            # Sets model to EVAL mode\n",
        "            self.model.eval()\n",
        "\n",
        "            # Step 1 - Computes our model's predicted output - forward pass\n",
        "            yhat = self.model(x)\n",
        "            # Step 2 - Computes the loss\n",
        "            loss = self.loss_fn(yhat, y)\n",
        "            # There is no need to compute Steps 3 and 4, \n",
        "            # since we don't update parameters during evaluation\n",
        "            return loss.item()\n",
        "\n",
        "        return perform_val_step_fn\n",
        "            \n",
        "    def _mini_batch(self, validation=False):\n",
        "        # The mini-batch can be used with both loaders\n",
        "        # The argument `validation`defines which loader and \n",
        "        # corresponding step function is going to be used\n",
        "        if validation:\n",
        "            data_loader = self.val_loader\n",
        "            step_fn = self.val_step_fn\n",
        "        else:\n",
        "            data_loader = self.train_loader\n",
        "            step_fn = self.train_step_fn\n",
        "\n",
        "        if data_loader is None:\n",
        "            return None\n",
        "            \n",
        "        # Once the data loader and step function, this is the \n",
        "        # same mini-batch loop we had before\n",
        "        mini_batch_losses = []\n",
        "        for x_batch, y_batch in data_loader:\n",
        "            x_batch = x_batch.to(self.device)\n",
        "            y_batch = y_batch.to(self.device)\n",
        "\n",
        "            mini_batch_loss = step_fn(x_batch, y_batch)\n",
        "            mini_batch_losses.append(mini_batch_loss)\n",
        "\n",
        "        loss = np.mean(mini_batch_losses)\n",
        "        return loss\n",
        "\n",
        "    def set_seed(self, seed=42):\n",
        "        torch.backends.cudnn.deterministic = True\n",
        "        torch.backends.cudnn.benchmark = False    \n",
        "        torch.manual_seed(seed)\n",
        "        np.random.seed(seed)\n",
        "    \n",
        "    def train(self, n_epochs, seed=42):\n",
        "        # To ensure reproducibility of the training process\n",
        "        self.set_seed(seed)\n",
        "\n",
        "        for epoch in range(n_epochs):\n",
        "            # Keeps track of the numbers of epochs\n",
        "            # by updating the corresponding attribute\n",
        "            self.total_epochs += 1\n",
        "\n",
        "            # inner loop\n",
        "            # Performs training using mini-batches\n",
        "            loss = self._mini_batch(validation=False)\n",
        "            self.losses.append(loss)\n",
        "\n",
        "            # VALIDATION\n",
        "            # no gradients in validation!\n",
        "            with torch.no_grad():\n",
        "                # Performs evaluation using mini-batches\n",
        "                val_loss = self._mini_batch(validation=True)\n",
        "                self.val_losses.append(val_loss)\n",
        "\n",
        "            # If a SummaryWriter has been set...\n",
        "            if self.writer:\n",
        "                scalars = {'training': loss}\n",
        "                if val_loss is not None:\n",
        "                    scalars.update({'validation': val_loss})\n",
        "                # Records both losses for each epoch under the main tag \"loss\"\n",
        "                self.writer.add_scalars(main_tag='loss',\n",
        "                                        tag_scalar_dict=scalars,\n",
        "                                        global_step=epoch)\n",
        "\n",
        "        if self.writer:\n",
        "            # Closes the writer\n",
        "            self.writer.close()\n",
        "\n",
        "    def predict(self, x):\n",
        "        # Set is to evaluation mode for predictions\n",
        "        self.model.eval() \n",
        "        # Takes aNumpy input and make it a float tensor\n",
        "        x_tensor = torch.as_tensor(x).float()\n",
        "        # Send input to device and uses model for prediction\n",
        "        y_hat_tensor = self.model(x_tensor.to(self.device))\n",
        "        # Set it back to train mode\n",
        "        self.model.train()\n",
        "        # Detaches it, brings it to CPU and back to Numpy\n",
        "        return y_hat_tensor.detach().cpu().numpy()\n",
        "\n",
        "    def plot_losses(self):\n",
        "        fig = plt.figure(figsize=(10, 4))\n",
        "        plt.plot(self.losses, label='Training Loss', c='b')\n",
        "        plt.plot(self.val_losses, label='Validation Loss', c='r')\n",
        "        plt.yscale('log')\n",
        "        plt.xlabel('Epochs')\n",
        "        plt.ylabel('Loss')\n",
        "        plt.legend()\n",
        "        plt.tight_layout()\n",
        "        return fig"
      ]
    },
    {
      "cell_type": "code",
      "execution_count": null,
      "metadata": {},
      "outputs": [],
      "source": [
        "# configure model\n",
        "import torch.nn as nn\n",
        "import torch.optim as optim\n",
        "\n",
        "lr = 0.1\n",
        "\n",
        "torch.manual_seed(42)\n",
        "model_1 = nn.Sequential()\n",
        "model_1.add_module('linear', nn.Linear(2, 1))\n",
        "\n",
        "# Defines a SGD optimizer to update the parameters\n",
        "optimizer_1 = optim.SGD(model_1.parameters(), lr=lr)\n",
        "\n",
        "# Defines a BCE loss function\n",
        "loss_fn_1 = nn.BCEWithLogitsLoss()"
      ]
    },
    {
      "cell_type": "code",
      "execution_count": null,
      "metadata": {},
      "outputs": [],
      "source": [
        "n_epochs = 100\n",
        "\n",
        "dlp_1 = DeepLearningPipeline(model_1, loss_fn_1, optimizer_1)\n",
        "dlp_1.set_loaders(train_loader, val_loader)\n",
        "dlp_1.train(n_epochs)"
      ]
    },
    {
      "cell_type": "code",
      "execution_count": null,
      "metadata": {},
      "outputs": [],
      "source": [
        "fig = dlp_1.plot_losses()"
      ]
    },
    {
      "cell_type": "code",
      "execution_count": null,
      "metadata": {},
      "outputs": [],
      "source": [
        "print(model_1.state_dict())"
      ]
    },
    {
      "cell_type": "code",
      "execution_count": null,
      "metadata": {},
      "outputs": [],
      "source": [
        "from sklearn.metrics import confusion_matrix\n",
        "\n",
        "logits_val = dlp_1.predict(X_val)\n",
        "logits_val_tensor = torch.from_numpy(logits_val)\n",
        "probabilities_val = torch.sigmoid(logits_val_tensor).squeeze()\n",
        "cm_thresh50 = confusion_matrix(y_val, (probabilities_val >= 0.5))\n",
        "cm_thresh50"
      ]
    },
    {
      "cell_type": "code",
      "execution_count": null,
      "metadata": {},
      "outputs": [],
      "source": [
        "model_2 = nn.Sequential()\n",
        "model_2.add_module('linear', nn.Linear(2, 1))\n",
        "model_2.add_module('sigmoid', nn.Sigmoid())\n",
        "\n",
        "# Defines a SGD optimizer to update the parameters\n",
        "optimizer_2 = optim.SGD(model_2.parameters(), lr=lr)\n",
        "\n",
        "# Defines a BCE loss function\n",
        "loss_fn_2 = nn.BCELoss(reduction='mean')"
      ]
    },
    {
      "cell_type": "code",
      "execution_count": null,
      "metadata": {},
      "outputs": [],
      "source": [
        "n_epochs = 100\n",
        "\n",
        "dlp_2 = DeepLearningPipeline(model_2, loss_fn_2, optimizer_2)\n",
        "dlp_2.set_loaders(train_loader, val_loader)\n",
        "dlp_2.train(n_epochs)"
      ]
    },
    {
      "cell_type": "code",
      "execution_count": null,
      "metadata": {},
      "outputs": [],
      "source": [
        "fig = dlp_2.plot_losses()"
      ]
    },
    {
      "cell_type": "code",
      "execution_count": null,
      "metadata": {},
      "outputs": [],
      "source": [
        "print(model_2.state_dict())"
      ]
    },
    {
      "cell_type": "code",
      "execution_count": null,
      "metadata": {},
      "outputs": [],
      "source": [
        "from sklearn.metrics import confusion_matrix\n",
        "\n",
        "probabilities_val = dlp_2.predict(X_val).squeeze()\n",
        "cm_thresh50 = confusion_matrix(y_val, (probabilities_val >= 0.5))\n",
        "cm_thresh50"
      ]
    },
    {
      "cell_type": "code",
      "execution_count": null,
      "metadata": {},
      "outputs": [],
      "source": [
        "# comparison with sklearn logistic regression\n",
        "\n",
        "from sklearn.linear_model import LogisticRegression\n",
        "logreg = LogisticRegression()\n",
        "logreg.fit(X_train, y_train)"
      ]
    },
    {
      "cell_type": "code",
      "execution_count": null,
      "metadata": {},
      "outputs": [],
      "source": [
        "probabilities_val = logreg.predict(X_val)\n",
        "cm_thresh50 = confusion_matrix(y_val, (probabilities_val >= 0.5))\n",
        "cm_thresh50"
      ]
    }
  ],
  "metadata": {
    "colab": {
      "collapsed_sections": [],
      "provenance": []
    },
    "instance_type": "ml.t3.medium",
    "kernelspec": {
      "display_name": "Python 3.8.8 ('myblog')",
      "language": "python",
      "name": "python3"
    },
    "language_info": {
      "codemirror_mode": {
        "name": "ipython",
        "version": 3
      },
      "file_extension": ".py",
      "mimetype": "text/x-python",
      "name": "python",
      "nbconvert_exporter": "python",
      "pygments_lexer": "ipython3",
      "version": "3.8.8"
    },
    "varInspector": {
      "cols": {
        "lenName": 16,
        "lenType": 16,
        "lenVar": 40
      },
      "kernels_config": {
        "python": {
          "delete_cmd_postfix": "",
          "delete_cmd_prefix": "del ",
          "library": "var_list.py",
          "varRefreshCmd": "print(var_dic_list())"
        },
        "r": {
          "delete_cmd_postfix": ") ",
          "delete_cmd_prefix": "rm(",
          "library": "var_list.r",
          "varRefreshCmd": "cat(var_dic_list()) "
        }
      },
      "types_to_exclude": [
        "module",
        "function",
        "builtin_function_or_method",
        "instance",
        "_Feature"
      ],
      "window_display": false
    },
    "vscode": {
      "interpreter": {
        "hash": "bbac80ad2bfd54975e0c0f7ddf300156d5b24b5126f35dc262fa887f22fb28f1"
      }
    }
  },
  "nbformat": 4,
  "nbformat_minor": 0
}
