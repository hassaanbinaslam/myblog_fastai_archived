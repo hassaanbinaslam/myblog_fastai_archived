{
 "cells": [
  {
   "cell_type": "markdown",
   "metadata": {},
   "source": [
    "# Demystifying AWS SageMaker Training for Sklearn Lovers \n",
    "> This post is about using AWS SageMaker to train and deploy models.\n",
    "\n",
    "- toc: true \n",
    "- badges: true\n",
    "- comments: true\n",
    "- categories: [aws, ml, sagemaker]\n",
    "- keyword: [aws, ml, sagemaker]\n",
    "- image: images/copied_from_nb/images/2022-06-08-sagemaker-training-overview.jpeg"
   ]
  },
  {
   "cell_type": "markdown",
   "metadata": {},
   "source": [
    "![](images/2022-06-08-sagemaker-training-overview.jpeg)"
   ]
  },
  {
   "cell_type": "markdown",
   "metadata": {},
   "source": [
    "# Enviornment\n",
    "\n",
    "This notebook is prepared with Amazon SageMaker Studio using `Python 3 (Data Science)` Kernel and `ml.t3.medium` instance."
   ]
  },
  {
   "cell_type": "markdown",
   "metadata": {},
   "source": [
    "# About\n",
    "\n",
    "This post is about understanding the end-to-end machine learning workflow for AWS SageMaker. We will apply SageMaker builtin [Linear Learner](https://docs.aws.amazon.com/sagemaker/latest/dg/linear-learner.html) on [Kaggle Boston Housing dataset](https://www.kaggle.com/c/boston-housing). Our goal will be to understand all the steps involved in training a model with SageMaker.\n",
    "\n",
    "# Introduction\n",
    "\n",
    "A typical SageMaker machine learning flow has the following steps. If we have a good understanding of them then we can use this approach to train any model with SageMaker.\n",
    "1. **Put Data on S3 Bucket**\n",
    "    In most of the use cases, you will keep your training data on S3 bucket. You may also need to preprocess your data and for this, you can use [SageMaker Data Wrangler](https://hassaanbinaslam.github.io/myblog/aws/ml/sagemaker/2022/05/17/aws-sagemaker-wrangler-p1.html). In this post, we will consider that data has already been processed and is ready for training.\n",
    "2. **Configure the Training Job**\n",
    "   While configuring a training job you need to take care of the following requirements\n",
    "   a. select the algorithm you want to use for training\n",
    "   b. set the hyperparameters (if any)\n",
    "   c. define the infrastructure requirements like how many CPUs or GPUs you want to throw at your training run\n",
    "3. **Launch Training Job**\n",
    "   Tell you training job where the input data is located, and once training is complete where should the output artifacts be stored. Once input and output are configured you can then start the training run. Once a run is started SageMaker will automatically create and provide the required infrastructure, and once the training is complete it will be terminated, and you will be only billed for what you have used.\n",
    "4. **Deploy model and make predictions**\n",
    "   Deploy the model to make real-time HTTPS predictions. Again, you need to define the infrastructure requirements where you want your model to be deployed.\n",
    "5. Clean Up (Optional)\n",
    "   If you are experimenting, you may want to terminate the machine on which you have deployed your model for testing purposes to avoid unnecessary charges."
   ]
  },
  {
   "cell_type": "markdown",
   "metadata": {},
   "source": [
    "# Put Data on S3 Bucket"
   ]
  }
 ],
 "metadata": {
  "instance_type": "ml.t3.medium",
  "interpreter": {
   "hash": "dc07d24e2f18896857f0b2a651fe84ba40ce7b297e58d8804a308c8039f752a6"
  },
  "kernelspec": {
   "display_name": "Python 3.9.7 ('base')",
   "language": "python",
   "name": "python3"
  },
  "language_info": {
   "codemirror_mode": {
    "name": "ipython",
    "version": 3
   },
   "file_extension": ".py",
   "mimetype": "text/x-python",
   "name": "python",
   "nbconvert_exporter": "python",
   "pygments_lexer": "ipython3",
   "version": "3.9.7"
  },
  "varInspector": {
   "cols": {
    "lenName": 16,
    "lenType": 16,
    "lenVar": 40
   },
   "kernels_config": {
    "python": {
     "delete_cmd_postfix": "",
     "delete_cmd_prefix": "del ",
     "library": "var_list.py",
     "varRefreshCmd": "print(var_dic_list())"
    },
    "r": {
     "delete_cmd_postfix": ") ",
     "delete_cmd_prefix": "rm(",
     "library": "var_list.r",
     "varRefreshCmd": "cat(var_dic_list()) "
    }
   },
   "types_to_exclude": [
    "module",
    "function",
    "builtin_function_or_method",
    "instance",
    "_Feature"
   ],
   "window_display": false
  }
 },
 "nbformat": 4,
 "nbformat_minor": 4
}
