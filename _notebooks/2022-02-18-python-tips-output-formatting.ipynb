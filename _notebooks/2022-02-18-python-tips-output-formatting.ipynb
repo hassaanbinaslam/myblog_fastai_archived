{
 "cells": [
  {
   "cell_type": "markdown",
   "metadata": {},
   "source": [
    "# Python - A collection of output formatting tips\n",
    "> Some handy Python output tips\n",
    "\n",
    "- toc: true \n",
    "- badges: true\n",
    "- comments: true\n",
    "- categories: [python, tips]\n",
    "- show_tags: true"
   ]
  },
  {
   "cell_type": "markdown",
   "metadata": {},
   "source": [
    "## About\n",
    "This notebook is a collection of useful tips to format Python string literals and output."
   ]
  },
  {
   "cell_type": "markdown",
   "metadata": {},
   "source": [
    "## Environment"
   ]
  },
  {
   "cell_type": "code",
   "execution_count": 1,
   "metadata": {},
   "outputs": [
    {
     "name": "stdout",
     "output_type": "stream",
     "text": [
      "python==3.8.5\n"
     ]
    }
   ],
   "source": [
    "#collapse-hide\n",
    "from platform import python_version\n",
    "\n",
    "print(\"python==\" + python_version())"
   ]
  },
  {
   "cell_type": "markdown",
   "metadata": {},
   "source": [
    "## f-string: Expressions inside a string"
   ]
  },
  {
   "cell_type": "code",
   "execution_count": 2,
   "metadata": {},
   "outputs": [
    {
     "data": {
      "text/plain": [
       "'Stop = red, Go = green'"
      ]
     },
     "execution_count": 2,
     "metadata": {},
     "output_type": "execute_result"
    }
   ],
   "source": [
    "r = 'red'\n",
    "g = 'green'\n",
    "b = 1001\n",
    "\n",
    "# f-string has a simple syntax. Put 'f' at the start of string, and put expressions in {}\n",
    "f\"Stop = {r}, Go = {g}\""
   ]
  },
  {
   "cell_type": "code",
   "execution_count": 3,
   "metadata": {},
   "outputs": [
    {
     "data": {
      "text/plain": [
       "'binary = 1001. If you need value in brackets {1001}'"
      ]
     },
     "execution_count": 3,
     "metadata": {},
     "output_type": "execute_result"
    }
   ],
   "source": [
    "##\n",
    "# 'F' can also be used to start an f-string\n",
    "F\"binary = {b}. If you need value in brackets {{{b}}}\""
   ]
  },
  {
   "cell_type": "code",
   "execution_count": 4,
   "metadata": {},
   "outputs": [
    {
     "data": {
      "text/plain": [
       "'red or green'"
      ]
     },
     "execution_count": 4,
     "metadata": {},
     "output_type": "execute_result"
    }
   ],
   "source": [
    "##\n",
    "# f-string can also be started with \"\"\" quotes\n",
    "f\"\"\"{r} or {g}\"\"\""
   ]
  },
  {
   "cell_type": "code",
   "execution_count": 5,
   "metadata": {},
   "outputs": [
    {
     "data": {
      "text/plain": [
       "'red or green'"
      ]
     },
     "execution_count": 5,
     "metadata": {},
     "output_type": "execute_result"
    }
   ],
   "source": [
    "##\n",
    "# f-string on multiple lines. \n",
    "# 1. Use \"\"\" with backslash \\\n",
    "f\"\"\"{r}\\\n",
    " or \\\n",
    "{g}\"\"\""
   ]
  },
  {
   "cell_type": "code",
   "execution_count": 6,
   "metadata": {},
   "outputs": [
    {
     "data": {
      "text/plain": [
       "'red or green'"
      ]
     },
     "execution_count": 6,
     "metadata": {},
     "output_type": "execute_result"
    }
   ],
   "source": [
    "##\n",
    "# f-string on multiple lines. \n",
    "# 2. Use only backslash \\\n",
    "f\"{r}\" \\\n",
    "\" or \" \\\n",
    "f\"{g}\""
   ]
  },
  {
   "cell_type": "code",
   "execution_count": 7,
   "metadata": {},
   "outputs": [
    {
     "data": {
      "text/plain": [
       "'red or green'"
      ]
     },
     "execution_count": 7,
     "metadata": {},
     "output_type": "execute_result"
    }
   ],
   "source": [
    "##\n",
    "# f-string on multiple lines. \n",
    "# 3. Use  brackets ()\n",
    "(f\"{r}\"\n",
    "\" or \"\n",
    "f\"{g}\")"
   ]
  },
  {
   "cell_type": "code",
   "execution_count": 8,
   "metadata": {},
   "outputs": [
    {
     "data": {
      "text/plain": [
       "'42'"
      ]
     },
     "execution_count": 8,
     "metadata": {},
     "output_type": "execute_result"
    }
   ],
   "source": [
    "##\n",
    "# you can also compute an expression in an f-string\n",
    "f\"{ 40 + 2}\""
   ]
  },
  {
   "cell_type": "code",
   "execution_count": 9,
   "metadata": {},
   "outputs": [
    {
     "data": {
      "text/plain": [
       "'This is in CAPS: RED'"
      ]
     },
     "execution_count": 9,
     "metadata": {},
     "output_type": "execute_result"
    }
   ],
   "source": [
    "##\n",
    "# functions can also be called from inside an f-string\n",
    "f\"This is in CAPS: { str.upper(r) }\"\n",
    "\n",
    "# same as above\n",
    "f\"This is in CAPS: { r.upper() }\""
   ]
  },
  {
   "cell_type": "markdown",
   "metadata": {},
   "source": [
    "### f-string: Padding the output"
   ]
  },
  {
   "cell_type": "code",
   "execution_count": 10,
   "metadata": {},
   "outputs": [
    {
     "name": "stdout",
     "output_type": "stream",
     "text": [
      "       100 ==> small               \n",
      "    100100 ==> medium              \n",
      " 100100100 ==> large               \n",
      "****************************************\n",
      "small      ==>                  100\n",
      "medium     ==>               100100\n",
      "large      ==>            100100100\n"
     ]
    }
   ],
   "source": [
    "##\n",
    "# Inside f-string, passing an integer after ':' will cause that field to be a minimum number of characters wide. \n",
    "# This is useful for making columns line up.\n",
    "\n",
    "groups = {\n",
    "    'small': 100,\n",
    "    'medium': 100100,\n",
    "    'large': 100100100\n",
    "}\n",
    "\n",
    "for group, value in groups.items():\n",
    "    print(f\"{value:10} ==> {group:20}\")\n",
    "\n",
    "print(f\"{'****'*10}\") # another nice trick\n",
    "\n",
    "for group, value in groups.items():\n",
    "    print(f\"{group:10} ==> {value:20}\")"
   ]
  },
  {
   "cell_type": "markdown",
   "metadata": {},
   "source": [
    "### f-string: Binary and hexadecimal format"
   ]
  },
  {
   "cell_type": "code",
   "execution_count": 11,
   "metadata": {},
   "outputs": [
    {
     "name": "stdout",
     "output_type": "stream",
     "text": [
      "5 in binary 101\n",
      "5 in hexadecimal 0b101\n"
     ]
    }
   ],
   "source": [
    "##\n",
    "# you can convert integers to binary and hexadecimal format\n",
    "print( f\"5 in binary {5:b}\" )\n",
    "\n",
    "print( f\"5 in hexadecimal {5:#b}\" )"
   ]
  },
  {
   "cell_type": "markdown",
   "metadata": {},
   "source": [
    "### f-string: Controlling the decimal places"
   ]
  },
  {
   "cell_type": "code",
   "execution_count": 12,
   "metadata": {},
   "outputs": [
    {
     "name": "stdout",
     "output_type": "stream",
     "text": [
      "The value of pi is approximately (no formatting) 3.141592653589793\n",
      "The value of pi is approximately 3.142\n"
     ]
    }
   ],
   "source": [
    "import math\n",
    "print(f'The value of pi is approximately (no formatting) {math.pi}')\n",
    "print(f'The value of pi is approximately {math.pi :.3f}')"
   ]
  },
  {
   "cell_type": "markdown",
   "metadata": {},
   "source": [
    "### f-string: Putting commas in numerical output"
   ]
  },
  {
   "cell_type": "code",
   "execution_count": 13,
   "metadata": {},
   "outputs": [
    {
     "data": {
      "text/plain": [
       "'3,214,298,342.234'"
      ]
     },
     "execution_count": 13,
     "metadata": {},
     "output_type": "execute_result"
    }
   ],
   "source": [
    "num = 3214298342.234\n",
    "f\"{num:,}\""
   ]
  },
  {
   "cell_type": "code",
   "execution_count": null,
   "metadata": {},
   "outputs": [],
   "source": []
  }
 ],
 "metadata": {
  "interpreter": {
   "hash": "1e915f0a29dc84041eaeb02b7b1a21c440e37a87b61d44d5e84a515737dc82bc"
  },
  "kernelspec": {
   "display_name": "Python 3",
   "language": "python",
   "name": "python3"
  },
  "language_info": {
   "codemirror_mode": {
    "name": "ipython",
    "version": 3
   },
   "file_extension": ".py",
   "mimetype": "text/x-python",
   "name": "python",
   "nbconvert_exporter": "python",
   "pygments_lexer": "ipython3",
   "version": "3.8.5"
  }
 },
 "nbformat": 4,
 "nbformat_minor": 2
}
