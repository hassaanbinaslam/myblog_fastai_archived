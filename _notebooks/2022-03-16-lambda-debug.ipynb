{
 "cells": [
  {
   "cell_type": "markdown",
   "metadata": {},
   "source": [
    "# AWS Lambda - Test and Debug Locally in Visual Studio Code\n",
    "> A tutorial on testing and debugging AWS Lambda function from Visual Studio Code.\n",
    "\n",
    "- toc: true \n",
    "- badges: false\n",
    "- comments: true\n",
    "- categories: [aws, lambda, docker]\n",
    "- keywords: [aws, lambda, docker, python, wsl2, windows 10, debug, remote container, vscode]"
   ]
  },
  {
   "cell_type": "markdown",
   "metadata": {},
   "source": [
    "# About\n",
    "This post is about running, and debugging [AWS Lambda](https://aws.amazon.com/lambda/) function locally from [Visual Studio Code](https://code.visualstudio.com/) environment and it extensions [AWS Toolkit](https://marketplace.visualstudio.com/items?itemName=AmazonWebServices.AWSToolkitforVisualStudio2022)."
   ]
  },
  {
   "cell_type": "markdown",
   "metadata": {},
   "source": [
    "# Environment Details"
   ]
  },
  {
   "cell_type": "markdown",
   "metadata": {},
   "source": [
    "* Python = 3.8.x\n",
    "* WSL version = 2\n",
    "* WSL Ubuntu version = 20.04\n",
    "* Docker Engine version = 20.10.12\n",
    "* Docker Desktop version = 4.4.4\n",
    "* Host OS = Windows 10\n",
    "* VSCode version =  1.65\n",
    "* SAM CLI version = 1.40.1 "
   ]
  },
  {
   "cell_type": "markdown",
   "metadata": {},
   "source": [
    "## Sample Application"
   ]
  },
  {
   "cell_type": "markdown",
   "metadata": {},
   "source": [
    "For this post we will use a simple hello world application as our focus is on debugging. We will use AWS SAM CLI to create our application. You can follow the steps provided in tutorial [AWS SAM Developer Guide>Getting started with AWS SAM](https://docs.aws.amazon.com/serverless-application-model/latest/developerguide/serverless-getting-started.html) to create this application. \n",
    "\n",
    "From the provided link (SAM Developer Guide): \n",
    "This application implements a basic API backend. It consists of an Amazon API Gateway endpoint and an AWS Lambda function. When you send a GET request to the API Gateway endpoint, the Lambda function is invoked. This function returns a hello world message.\n",
    "\n",
    "The following diagram shows the components of this application:\n",
    "\n",
    "![sam-getting-started-hello-world](images/2022-03-16-lambda-debug/sam-getting-started-hello-world.png)"
   ]
  },
  {
   "cell_type": "markdown",
   "metadata": {},
   "source": [
    "To initialize a serverless app use command\n",
    "```\n",
    "sam init\n",
    "```\n",
    "\n",
    "Complete the SAM initialization setup steps\n",
    "\n",
    "\n",
    "```powershell\n",
    "PS C:\\MyWorkspace\\gitrepos\\2022-03-16-lambda-debug> sam init\n",
    "\n",
    "You can preselect a particular runtime or package type when using the `sam init` experience.\n",
    "Call `sam init --help` to learn more.\n",
    "\n",
    "Which template source would you like to use?\n",
    "        1 - AWS Quick Start Templates\n",
    "        2 - Custom Template Location\n",
    "Choice: 1\n",
    "\n",
    "Choose an AWS Quick Start application template\n",
    "        1 - Hello World Example\n",
    "        2 - Multi-step workflow\n",
    "        3 - Serverless API\n",
    "        4 - Scheduled task\n",
    "        5 - Standalone function\n",
    "        6 - Data processing\n",
    "        7 - Infrastructure event management\n",
    "        8 - Machine Learning\n",
    "Template: 1\n",
    "\n",
    " Use the most popular runtime and package type? (Python and zip) [y/N]: y\n",
    "\n",
    "Project name [sam-app]:\n",
    "\n",
    "Cloning from https://github.com/aws/aws-sam-cli-app-templates (process may take a moment)\n",
    "\n",
    "    -----------------------\n",
    "    Generating application:\n",
    "    -----------------------\n",
    "    Name: sam-app\n",
    "    Runtime: python3.9\n",
    "    Architectures: x86_64\n",
    "    Dependency Manager: pip\n",
    "    Application Template: hello-world\n",
    "    Output Directory: .\n",
    "\n",
    "    Next steps can be found in the README file at ./sam-app/README.md\n",
    "\n",
    "\n",
    "    Commands you can use next\n",
    "    =========================\n",
    "    [*] Create pipeline: cd sam-app && sam pipeline init --bootstrap\n",
    "    [*] Test Function in the Cloud: sam sync --stack-name {stack-name} --watch\n",
    "\n",
    "```"
   ]
  },
  {
   "cell_type": "markdown",
   "metadata": {},
   "source": [
    "Once the application is initialized the project structure will look like this\n",
    "\n",
    "```\n",
    "sam-app/\n",
    "   ├── README.md\n",
    "   ├── events/\n",
    "   │   └── event.json\n",
    "   ├── hello_world/\n",
    "   │   ├── __init__.py\n",
    "   │   ├── app.py            #Contains your AWS Lambda handler logic.\n",
    "   │   └── requirements.txt  #Contains any Python dependencies the application requires, used for sam build\n",
    "   ├── template.yaml         #Contains the AWS SAM template defining your application's AWS resources.\n",
    "   └── tests/\n",
    "       └── unit/\n",
    "           ├── __init__.py\n",
    "           └── test_handler.py\n",
    "```\n",
    "\n",
    "There are three especially important files:\n",
    "\n",
    "* `template.yaml`: Contains the AWS SAM template that defines your application's AWS resources.\n",
    "* `hello_world/app.py`: Contains your actual Lambda handler logic.\n",
    "* `hello_world/requirements.txt`: Contains any Python dependencies that the application requires, and is used for sam build.\n",
    "\n",
    "Follow the instructions from the tutorial to build, test, and deploy the application.\n",
    "\n",
    "All the code used for this post can be obtained from the GitHub repository [hassaanbinaslam/2022-03-16-lambda-debug](https://github.com/hassaanbinaslam/2022-03-16-lambda-debug)\n",
    "\n",
    "* [Project code files](https://github.com/hassaanbinaslam/2022-03-16-lambda-debug/tree/fdbbf7a208fe8a89ba94ce71b948d1ad6054939a)\n",
    "* [Project zip file](https://github.com/hassaanbinaslam/2022-03-16-lambda-debug/releases/tag/snapshot-01)"
   ]
  },
  {
   "cell_type": "markdown",
   "metadata": {},
   "source": [
    "# SAM Project Directory\n",
    "* SAM CLI\n",
    "  * After project initialization from `sam init` make sure that you move to project root folder\n",
    "  * Project root folder is the one that contain `template.yaml` defining application AWS resources. In this app case project root folder is `sam-app/`\n",
    "  * All the subsequest commands including project `sam build`, `sam deploy`, invoke and test lambda should be done from project root folder\n",
    "* VSCode\n",
    "  * When you open the project make sure that your project root directory is pointing to `sam-app/` folder as shown in image below\n",
    "\n",
    "![vscode-project-root](images/2022-03-16-lambda-debug/vscode-project-root.png)"
   ]
  },
  {
   "cell_type": "markdown",
   "metadata": {},
   "source": [
    "# Run Lambda Locally"
   ]
  },
  {
   "cell_type": "markdown",
   "metadata": {},
   "source": [
    "To invoke lambda function locally use SAM CLI command\n",
    "```\n",
    "sam local invoke\n",
    "```\n",
    "\n",
    "```powershell\n",
    "PS C:\\MyWorkspace\\gitrepos\\2022-03-16-lambda-debug\\sam-app> sam local invoke\n",
    "Invoking app.lambda_handler (python3.9)\n",
    "Skip pulling image and use local one: public.ecr.aws/sam/emulation-python3.9:rapid-1.40.1-x86_64.\n",
    "\n",
    "Mounting C:\\MyWorkspace\\gitrepos\\2022-03-16-lambda-debug\\sam-app\\hello_world as /var/task:ro,delegated inside runtime container\n",
    "START RequestId: 1d4e45de-38be-4b91-8e9f-4d3c7da8788a Version: $LATEST\n",
    "END RequestId: 1d4e45de-38be-4b91-8e9f-4d3c7da8788a\n",
    "REPORT RequestId: 1d4e45de-38be-4b91-8e9f-4d3c7da8788a  Init Duration: 1.40 ms  Duration: 990.84 ms     Billed Duration: 991 ms Memory Size: 128 MB  Max Memory Used: 128 MB\n",
    "{\"statusCode\": 200, \"body\": \"{\\\"message\\\": \\\"hello world\\\"}\"}\n",
    "```\n",
    "\n",
    "If you have multiple lambda functions in the app, you can invoke a specific lambda function by using it's name in invoke command as\n",
    "```\n",
    "sam local invoke \"HelloWorldFunction\"\n",
    "```\n",
    "\n"
   ]
  },
  {
   "cell_type": "markdown",
   "metadata": {},
   "source": [
    "# Run API Gateway Locally\n",
    "\n",
    "You can run API Gateway locally to test HTTP request response functionality using command\n",
    "```\n",
    "sam local start-api\n",
    "```\n",
    "\n",
    "This command will start a local instance of API Gateway and provide you with a URL that you can use to send a request using CURL commmand\n",
    "```powershell\n",
    "PS C:\\MyWorkspace\\gitrepos\\2022-03-16-lambda-debug\\sam-app> sam local start-api\n",
    "Mounting HelloWorldFunction at http://127.0.0.1:3000/hello [GET]\n",
    "You can now browse to the above endpoints to invoke your functions. You do not need to restart/reload SAM CLI while working on your functions, changes will be reflected instantly/automatically. You only need to restart SAM CLI if you update your AWS SAM template\n",
    "2022-03-17 11:41:55  * Running on http://127.0.0.1:3000/ (Press CTRL+C to quit)\n",
    "```\n",
    "\n",
    "From terminal output you can find tha `HelloWorldFunction` is mounted at `http://127.0.0.1:3000/hello`. From another terminal we can call this URL\n",
    "\n",
    "```powershell\n",
    "PS C:\\MyWorkspace\\gitrepos\\2022-03-16-lambda-debug\\sam-app> curl http://127.0.0.1:3000/hello\n",
    "\n",
    "\n",
    "StatusCode        : 200\n",
    "StatusDescription : OK\n",
    "Content           : {\"message\": \"hello world\"}\n",
    "RawContent        : HTTP/1.0 200 OK\n",
    "                    Content-Length: 26\n",
    "                    Content-Type: application/json\n",
    "                    Date: Thu, 17 Mar 2022 06:43:08 GMT\n",
    "                    Server: Werkzeug/1.0.1 Python/3.8.8\n",
    "\n",
    "                    {\"message\": \"hello world\"}\n",
    "Forms             : {}\n",
    "Headers           : {[Content-Length, 26], [Content-Type, application/json], [Date, Thu, 17 Mar 2022 06:43:08 GMT], [Server,\n",
    "                    Werkzeug/1.0.1 Python/3.8.8]}\n",
    "Images            : {}\n",
    "InputFields       : {}\n",
    "Links             : {}\n",
    "ParsedHtml        : mshtml.HTMLDocumentClass\n",
    "RawContentLength  : 26\n",
    "```"
   ]
  },
  {
   "cell_type": "markdown",
   "metadata": {},
   "source": [
    "# Debug Lambda Application Locally\n",
    "To debug a lambda function we have following options\n",
    "\n",
    "## Option 1: Debug through SAM template\n",
    "From VSCode open `template.yaml`, and go to the resources section of the template that defines serverless resources. Click on the lambda function resource, which in our case is `HelloWorldFunction`. A tooltip will appear over it saying `AWS: Add Debug Configuration`. Click it as shown below.\n",
    "\n",
    "![sam-template-add-debug-config](images/2022-03-16-lambda-debug/sam-template-add-debug-config.png)\n",
    "\n",
    "This will create a new folder in the project with debug launch configuration `launch.json`.\n",
    "\n",
    "![debug-launch-config](images/2022-03-16-lambda-debug/debug-launch-config.png)\n",
    "\n",
    "Let's add a breakpoint in our lambda handler code `hello_world/app.py`, and start debugging by clicking the green \"play\" button in the **RUN** view. When the debugging sessions starts, the DEBUG CONSOLE panel shows debugging output and displays any values returned by the Lambda function.\n",
    "\n",
    "![lambda-debug-template](images/2022-03-16-lambda-debug/lambda-debug-template.png)\n"
   ]
  },
  {
   "cell_type": "markdown",
   "metadata": {},
   "source": [
    "## Option 2: Debug Lambda Directly from Code\n",
    "\n",
    "From VSCode open lambda handler code `sam-app/hello_world/app.py`. A tooltip will appear above the `lambda_handler` function with options\n",
    "* AWS: Add Debug Configuration\n",
    "* AWS: Edit Debug Configuration\n",
    "\n",
    "![lambda-debug-tooltip](images/2022-03-16-lambda-debug/lambda-debug-tooltip.png)\n",
    "\n",
    "Click on `AWS: Add Debug Configuration` and it will show two further options\n",
    "* template.yaml:HelloWorldFunction (to debug only the lambda function)\n",
    "* template.yaml:HelloWorldFunction (API Event: HelloWorld) (to debug lambda function along with API gateway)\n",
    "\n",
    "![lambda-debug-options](images/2022-03-16-lambda-debug/lambda-debug-options.png)\n",
    "\n",
    "Let's select API option this time. It will again create a launch configuration, and now we can debug our code. Click on the green \"play\" button again to start the debug session with request request coming from API Gateway to Lambda function. \n",
    "\n",
    "You can also edit the debug config visually by selecting the `AWS: Edit Debug Configuration`, and a side pane will appear from where we can easily edit and update our debug configuration.\n",
    "\n",
    "![edit-debug-config](images/2022-03-16-lambda-debug/edit-debug-config.png)"
   ]
  },
  {
   "cell_type": "markdown",
   "metadata": {},
   "source": [
    "All the code used for this post can be obtained from the GitHub repository [hassaanbinaslam/2022-03-16-lambda-debug](https://github.com/hassaanbinaslam/2022-03-16-lambda-debug)\n",
    "\n",
    "* [Project code files](https://github.com/hassaanbinaslam//tree/76b73cd24757709edd56e5e3bbbe38e0f4e4cb74)\n",
    "* [Project zip file](https://github.com/hassaanbinaslam/2022-03-16-lambda-debug/releases/tag/snapshot-02)"
   ]
  }
 ],
 "metadata": {
  "interpreter": {
   "hash": "592d70e68660334c1e2b3db2d131a28b3e4c5aef0ad9ff036ec5b5af6e985aa1"
  },
  "kernelspec": {
   "display_name": "Python 3.8.8 ('sc_mlflow')",
   "language": "python",
   "name": "python3"
  },
  "language_info": {
   "codemirror_mode": {
    "name": "ipython",
    "version": 3
   },
   "file_extension": ".py",
   "mimetype": "text/x-python",
   "name": "python",
   "nbconvert_exporter": "python",
   "pygments_lexer": "ipython3",
   "version": "3.8.8"
  },
  "orig_nbformat": 4
 },
 "nbformat": 4,
 "nbformat_minor": 2
}
